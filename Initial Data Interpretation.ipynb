{
 "cells": [
  {
   "cell_type": "markdown",
   "metadata": {},
   "source": [
    "# INITIAL DATA INTERPRETATION WITH A CHUNK OF DATA"
   ]
  },
  {
   "cell_type": "markdown",
   "metadata": {},
   "source": [
    "### The purpose of this notebook is to make a first data interpretation. I want to understand, treate and modified a chunk of data (3 months) in order to apply later all these changes in the whole dataset"
   ]
  },
  {
   "cell_type": "code",
   "execution_count": 1,
   "metadata": {
    "colab": {},
    "colab_type": "code",
    "executionInfo": {
     "elapsed": 1029,
     "status": "ok",
     "timestamp": 1595534378724,
     "user": {
      "displayName": "Ruben Fernandez",
      "photoUrl": "",
      "userId": "11711339126431872890"
     },
     "user_tz": -120
    },
    "id": "C9YLJ_vrP6ut"
   },
   "outputs": [],
   "source": [
    "import pandas as pd\n",
    "import numpy as np\n",
    "import matplotlib.pyplot as plt\n",
    "import seaborn as sns"
   ]
  },
  {
   "cell_type": "code",
   "execution_count": 17,
   "metadata": {
    "colab": {},
    "colab_type": "code",
    "executionInfo": {
     "elapsed": 1823,
     "status": "ok",
     "timestamp": 1595534386810,
     "user": {
      "displayName": "Ruben Fernandez",
      "photoUrl": "",
      "userId": "11711339126431872890"
     },
     "user_tz": -120
    },
    "id": "37LAuCgZQBWn"
   },
   "outputs": [],
   "source": [
    "report= pd.read_csv('Data From Jan to April 2020.csv',thousands='.',parse_dates=['Time'])\n"
   ]
  },
  {
   "cell_type": "code",
   "execution_count": 5,
   "metadata": {
    "colab": {
     "base_uri": "https://localhost:8080/",
     "height": 343
    },
    "colab_type": "code",
    "executionInfo": {
     "elapsed": 683,
     "status": "ok",
     "timestamp": 1595525050186,
     "user": {
      "displayName": "Ruben Fernandez",
      "photoUrl": "",
      "userId": "11711339126431872890"
     },
     "user_tz": -120
    },
    "id": "NEy04kpyVhqW",
    "outputId": "618874e4-4f93-4f40-9134-f4665af36623"
   },
   "outputs": [
    {
     "data": {
      "text/html": [
       "<div>\n",
       "<style scoped>\n",
       "    .dataframe tbody tr th:only-of-type {\n",
       "        vertical-align: middle;\n",
       "    }\n",
       "\n",
       "    .dataframe tbody tr th {\n",
       "        vertical-align: top;\n",
       "    }\n",
       "\n",
       "    .dataframe thead th {\n",
       "        text-align: right;\n",
       "    }\n",
       "</style>\n",
       "<table border=\"1\" class=\"dataframe\">\n",
       "  <thead>\n",
       "    <tr style=\"text-align: right;\">\n",
       "      <th></th>\n",
       "      <th>Time</th>\n",
       "      <th>Domain</th>\n",
       "      <th>Opportunities</th>\n",
       "      <th>Format Loads</th>\n",
       "      <th>Format Fill Rate</th>\n",
       "      <th>Impressions</th>\n",
       "      <th>Viewable Impressions</th>\n",
       "      <th>Viewability Measured Impressions</th>\n",
       "      <th>Viewability Rate</th>\n",
       "      <th>Fill Rate</th>\n",
       "      <th>...</th>\n",
       "      <th>Cost</th>\n",
       "      <th>Profit</th>\n",
       "      <th>Revenue</th>\n",
       "      <th>Profit Margin</th>\n",
       "      <th>Clicks</th>\n",
       "      <th>CTR</th>\n",
       "      <th>25% View Rate</th>\n",
       "      <th>50% View Rate</th>\n",
       "      <th>75% View Rate</th>\n",
       "      <th>100% View Rate</th>\n",
       "    </tr>\n",
       "  </thead>\n",
       "  <tbody>\n",
       "    <tr>\n",
       "      <th>22745</th>\n",
       "      <td>2020-01-10</td>\n",
       "      <td>connexun.com</td>\n",
       "      <td>2</td>\n",
       "      <td>2</td>\n",
       "      <td>0.00%</td>\n",
       "      <td>0</td>\n",
       "      <td>0</td>\n",
       "      <td>0</td>\n",
       "      <td>NaN</td>\n",
       "      <td>0.00%</td>\n",
       "      <td>...</td>\n",
       "      <td>$0.00</td>\n",
       "      <td>$0.00</td>\n",
       "      <td>$0.00</td>\n",
       "      <td>0.00%</td>\n",
       "      <td>0</td>\n",
       "      <td>0.00%</td>\n",
       "      <td>0.00%</td>\n",
       "      <td>0.00%</td>\n",
       "      <td>0.00%</td>\n",
       "      <td>0.00%</td>\n",
       "    </tr>\n",
       "    <tr>\n",
       "      <th>108902</th>\n",
       "      <td>2020-02-16</td>\n",
       "      <td>sportnews.to</td>\n",
       "      <td>0</td>\n",
       "      <td>8</td>\n",
       "      <td>0.00%</td>\n",
       "      <td>0</td>\n",
       "      <td>0</td>\n",
       "      <td>0</td>\n",
       "      <td>NaN</td>\n",
       "      <td>0.00%</td>\n",
       "      <td>...</td>\n",
       "      <td>$0.00</td>\n",
       "      <td>$0.00</td>\n",
       "      <td>$0.00</td>\n",
       "      <td>0.00%</td>\n",
       "      <td>0</td>\n",
       "      <td>0.00%</td>\n",
       "      <td>0.00%</td>\n",
       "      <td>0.00%</td>\n",
       "      <td>0.00%</td>\n",
       "      <td>0.00%</td>\n",
       "    </tr>\n",
       "    <tr>\n",
       "      <th>218030</th>\n",
       "      <td>2020-03-31</td>\n",
       "      <td>prensa.com</td>\n",
       "      <td>4,799,963</td>\n",
       "      <td>734,399</td>\n",
       "      <td>54.69%</td>\n",
       "      <td>401,627</td>\n",
       "      <td>281,764</td>\n",
       "      <td>398,255</td>\n",
       "      <td>70.75%</td>\n",
       "      <td>8.37%</td>\n",
       "      <td>...</td>\n",
       "      <td>$242.55832</td>\n",
       "      <td>$363.83748</td>\n",
       "      <td>$606.3958</td>\n",
       "      <td>60.00%</td>\n",
       "      <td>1,676</td>\n",
       "      <td>0.42%</td>\n",
       "      <td>86.16%</td>\n",
       "      <td>79.36%</td>\n",
       "      <td>73.57%</td>\n",
       "      <td>68.30%</td>\n",
       "    </tr>\n",
       "    <tr>\n",
       "      <th>5411</th>\n",
       "      <td>2020-01-03</td>\n",
       "      <td>lespetitescroixdejuparo.fr</td>\n",
       "      <td>5</td>\n",
       "      <td>2</td>\n",
       "      <td>0.00%</td>\n",
       "      <td>0</td>\n",
       "      <td>0</td>\n",
       "      <td>0</td>\n",
       "      <td>NaN</td>\n",
       "      <td>0.00%</td>\n",
       "      <td>...</td>\n",
       "      <td>$0.00</td>\n",
       "      <td>$0.00</td>\n",
       "      <td>$0.00</td>\n",
       "      <td>0.00%</td>\n",
       "      <td>0</td>\n",
       "      <td>0.00%</td>\n",
       "      <td>0.00%</td>\n",
       "      <td>0.00%</td>\n",
       "      <td>0.00%</td>\n",
       "      <td>0.00%</td>\n",
       "    </tr>\n",
       "    <tr>\n",
       "      <th>2354</th>\n",
       "      <td>2020-01-02</td>\n",
       "      <td>noticiahoje.net</td>\n",
       "      <td>52,979</td>\n",
       "      <td>8,960</td>\n",
       "      <td>0.08%</td>\n",
       "      <td>7</td>\n",
       "      <td>6</td>\n",
       "      <td>7</td>\n",
       "      <td>85.71%</td>\n",
       "      <td>0.01%</td>\n",
       "      <td>...</td>\n",
       "      <td>$0.00504</td>\n",
       "      <td>$0.00756</td>\n",
       "      <td>$0.0126</td>\n",
       "      <td>60.00%</td>\n",
       "      <td>0</td>\n",
       "      <td>0.00%</td>\n",
       "      <td>71.43%</td>\n",
       "      <td>71.43%</td>\n",
       "      <td>71.43%</td>\n",
       "      <td>42.86%</td>\n",
       "    </tr>\n",
       "  </tbody>\n",
       "</table>\n",
       "<p>5 rows × 22 columns</p>\n",
       "</div>"
      ],
      "text/plain": [
       "             Time                      Domain Opportunities Format Loads  \\\n",
       "22745  2020-01-10                connexun.com             2            2   \n",
       "108902 2020-02-16                sportnews.to             0            8   \n",
       "218030 2020-03-31                  prensa.com     4,799,963      734,399   \n",
       "5411   2020-01-03  lespetitescroixdejuparo.fr             5            2   \n",
       "2354   2020-01-02             noticiahoje.net        52,979        8,960   \n",
       "\n",
       "       Format Fill Rate Impressions Viewable Impressions  \\\n",
       "22745             0.00%           0                    0   \n",
       "108902            0.00%           0                    0   \n",
       "218030           54.69%     401,627              281,764   \n",
       "5411              0.00%           0                    0   \n",
       "2354              0.08%           7                    6   \n",
       "\n",
       "       Viewability Measured Impressions Viewability Rate Fill Rate  ...  \\\n",
       "22745                                 0              NaN     0.00%  ...   \n",
       "108902                                0              NaN     0.00%  ...   \n",
       "218030                          398,255           70.75%     8.37%  ...   \n",
       "5411                                  0              NaN     0.00%  ...   \n",
       "2354                                  7           85.71%     0.01%  ...   \n",
       "\n",
       "              Cost      Profit    Revenue Profit Margin Clicks    CTR  \\\n",
       "22745        $0.00       $0.00      $0.00         0.00%      0  0.00%   \n",
       "108902       $0.00       $0.00      $0.00         0.00%      0  0.00%   \n",
       "218030  $242.55832  $363.83748  $606.3958        60.00%  1,676  0.42%   \n",
       "5411         $0.00       $0.00      $0.00         0.00%      0  0.00%   \n",
       "2354      $0.00504    $0.00756    $0.0126        60.00%      0  0.00%   \n",
       "\n",
       "       25% View Rate 50% View Rate 75% View Rate 100% View Rate  \n",
       "22745          0.00%         0.00%         0.00%          0.00%  \n",
       "108902         0.00%         0.00%         0.00%          0.00%  \n",
       "218030        86.16%        79.36%        73.57%         68.30%  \n",
       "5411           0.00%         0.00%         0.00%          0.00%  \n",
       "2354          71.43%        71.43%        71.43%         42.86%  \n",
       "\n",
       "[5 rows x 22 columns]"
      ]
     },
     "execution_count": 5,
     "metadata": {},
     "output_type": "execute_result"
    }
   ],
   "source": [
    "report.sample(5)"
   ]
  },
  {
   "cell_type": "code",
   "execution_count": 6,
   "metadata": {
    "colab": {
     "base_uri": "https://localhost:8080/",
     "height": 34
    },
    "colab_type": "code",
    "executionInfo": {
     "elapsed": 853,
     "status": "ok",
     "timestamp": 1595525053213,
     "user": {
      "displayName": "Ruben Fernandez",
      "photoUrl": "",
      "userId": "11711339126431872890"
     },
     "user_tz": -120
    },
    "id": "kWhbbWShZChC",
    "outputId": "b036b45b-e029-49b6-ccd9-d9d45f85b3f8"
   },
   "outputs": [
    {
     "data": {
      "text/plain": [
       "(222676, 22)"
      ]
     },
     "execution_count": 6,
     "metadata": {},
     "output_type": "execute_result"
    }
   ],
   "source": [
    "report.shape"
   ]
  },
  {
   "cell_type": "code",
   "execution_count": 7,
   "metadata": {
    "colab": {
     "base_uri": "https://localhost:8080/",
     "height": 510
    },
    "colab_type": "code",
    "executionInfo": {
     "elapsed": 1067,
     "status": "ok",
     "timestamp": 1595525055295,
     "user": {
      "displayName": "Ruben Fernandez",
      "photoUrl": "",
      "userId": "11711339126431872890"
     },
     "user_tz": -120
    },
    "id": "Z5PeqlEfZIDD",
    "outputId": "d1a5cf97-ca25-4b58-df01-938a68ae4c54"
   },
   "outputs": [
    {
     "name": "stdout",
     "output_type": "stream",
     "text": [
      "<class 'pandas.core.frame.DataFrame'>\n",
      "RangeIndex: 222676 entries, 0 to 222675\n",
      "Data columns (total 22 columns):\n",
      " #   Column                            Non-Null Count   Dtype         \n",
      "---  ------                            --------------   -----         \n",
      " 0   Time                              222676 non-null  datetime64[ns]\n",
      " 1   Domain                            222584 non-null  object        \n",
      " 2   Opportunities                     222676 non-null  object        \n",
      " 3   Format Loads                      216957 non-null  object        \n",
      " 4   Format Fill Rate                  216957 non-null  object        \n",
      " 5   Impressions                       222676 non-null  object        \n",
      " 6   Viewable Impressions              222676 non-null  object        \n",
      " 7   Viewability Measured Impressions  222676 non-null  object        \n",
      " 8   Viewability Rate                  107428 non-null  object        \n",
      " 9   Fill Rate                         222676 non-null  object        \n",
      " 10  Efficiency Rate                   222676 non-null  object        \n",
      " 11  CPM                               222676 non-null  object        \n",
      " 12  Cost                              222676 non-null  object        \n",
      " 13  Profit                            222676 non-null  object        \n",
      " 14  Revenue                           222676 non-null  object        \n",
      " 15  Profit Margin                     222676 non-null  object        \n",
      " 16  Clicks                            222676 non-null  object        \n",
      " 17  CTR                               222676 non-null  object        \n",
      " 18  25% View Rate                     222676 non-null  object        \n",
      " 19  50% View Rate                     222676 non-null  object        \n",
      " 20  75% View Rate                     222676 non-null  object        \n",
      " 21  100% View Rate                    222676 non-null  object        \n",
      "dtypes: datetime64[ns](1), object(21)\n",
      "memory usage: 37.4+ MB\n"
     ]
    }
   ],
   "source": [
    "report.info()"
   ]
  },
  {
   "cell_type": "markdown",
   "metadata": {},
   "source": [
    "- I´ll drop the following columns because they don´t add value to the advertisers. Some of them are important only from the point of view of the Publisher or the agent. "
   ]
  },
  {
   "cell_type": "code",
   "execution_count": 9,
   "metadata": {
    "colab": {},
    "colab_type": "code",
    "executionInfo": {
     "elapsed": 1013,
     "status": "ok",
     "timestamp": 1595534393240,
     "user": {
      "displayName": "Ruben Fernandez",
      "photoUrl": "",
      "userId": "11711339126431872890"
     },
     "user_tz": -120
    },
    "id": "09NG390Bf21E"
   },
   "outputs": [],
   "source": [
    "report.drop(['Opportunities','Viewable Impressions','Viewability Measured Impressions','Fill Rate','Cost','Profit','Revenue','Profit Margin'],axis=1, inplace=True)\n"
   ]
  },
  {
   "cell_type": "code",
   "execution_count": 10,
   "metadata": {
    "colab": {},
    "colab_type": "code",
    "executionInfo": {
     "elapsed": 802,
     "status": "ok",
     "timestamp": 1595534397024,
     "user": {
      "displayName": "Ruben Fernandez",
      "photoUrl": "",
      "userId": "11711339126431872890"
     },
     "user_tz": -120
    },
    "id": "YQt6w2y6aQOh"
   },
   "outputs": [],
   "source": [
    "# NANS values\n",
    "report = report.fillna(0)"
   ]
  },
  {
   "cell_type": "markdown",
   "metadata": {
    "colab_type": "text",
    "id": "_OSQTekQeYpe"
   },
   "source": [
    "Converting numeric columns with ' , ' into integers"
   ]
  },
  {
   "cell_type": "code",
   "execution_count": 11,
   "metadata": {
    "colab": {},
    "colab_type": "code",
    "executionInfo": {
     "elapsed": 1091,
     "status": "ok",
     "timestamp": 1595534401300,
     "user": {
      "displayName": "Ruben Fernandez",
      "photoUrl": "",
      "userId": "11711339126431872890"
     },
     "user_tz": -120
    },
    "id": "Adq4SmcWa8rw"
   },
   "outputs": [],
   "source": [
    "report['Format Loads'] = report['Format Loads'].str.replace(\",\", \"\").astype(float)\n",
    "report['Impressions'] = report['Impressions'].str.replace(\",\", \"\").astype(int)\n",
    "report['Clicks'] = report['Clicks'].str.replace(\",\", \"\").astype(int)\n"
   ]
  },
  {
   "cell_type": "markdown",
   "metadata": {
    "colab_type": "text",
    "id": "zTk0Be4dd8dW"
   },
   "source": [
    "Converting columns with '%' , '$' and ',' into floats"
   ]
  },
  {
   "cell_type": "code",
   "execution_count": 12,
   "metadata": {
    "colab": {},
    "colab_type": "code",
    "executionInfo": {
     "elapsed": 277,
     "status": "ok",
     "timestamp": 1595534475700,
     "user": {
      "displayName": "Ruben Fernandez",
      "photoUrl": "",
      "userId": "11711339126431872890"
     },
     "user_tz": -120
    },
    "id": "PJ_I6oSkMdGP"
   },
   "outputs": [],
   "source": [
    "report['Format Fill Rate'] = report['Format Fill Rate'].str.replace(\"%\", \"\").astype(float)\n",
    "report['Viewability Rate'] = report['Viewability Rate'].str.replace(\"%\", \"\").astype(float).fillna(0)\n",
    "report['Efficiency Rate'] = report['Efficiency Rate'].str.replace(\"%\", \"\").astype(float)\n",
    "report['CPM'] = report['CPM'].str.replace(\"$\", \"\").astype(float)\n",
    "report['CTR'] = report['CTR'].str.replace(\"%\", \"\").astype(float)\n",
    "report['25% View Rate'] = report['25% View Rate'].str.replace(\"%\", \"\").astype(float)\n",
    "report['50% View Rate'] = report['50% View Rate'].str.replace(\"%\", \"\").astype(float)\n",
    "report['75% View Rate'] = report['75% View Rate'].str.replace(\"%\", \"\").astype(float)\n",
    "report['100% View Rate'] = report['100% View Rate'].str.replace(\"%\", \"\").astype(float)"
   ]
  },
  {
   "cell_type": "markdown",
   "metadata": {},
   "source": [
    "These are the columns that I keep. \n",
    "- Time:\n",
    "- Domain: publisher´s website\n",
    "- Format Loads: domain´s traffic\n",
    "- Impressions: times that the ad appears in the Domain\n",
    "- Viewability Rate\n",
    "- Efficiency Rate\n",
    "- CPM: cost that the advertiser pay to the publisher per 1000 impressions\n",
    "- Clicks: number of clicks in the ad (over the impressions)\n",
    "- CTR: clicks / impressions\n",
    "- 25% View Rate\n",
    "- 50% View Rate\n",
    "- 75% View Rate\n",
    "- 100% View Rate"
   ]
  },
  {
   "cell_type": "code",
   "execution_count": 13,
   "metadata": {
    "colab": {
     "base_uri": "https://localhost:8080/",
     "height": 323
    },
    "colab_type": "code",
    "executionInfo": {
     "elapsed": 798,
     "status": "ok",
     "timestamp": 1595534497269,
     "user": {
      "displayName": "Ruben Fernandez",
      "photoUrl": "",
      "userId": "11711339126431872890"
     },
     "user_tz": -120
    },
    "id": "q-ofnKqGSgE1",
    "outputId": "2c7d2de6-ba01-4f71-dea8-488e7b719208"
   },
   "outputs": [
    {
     "data": {
      "text/html": [
       "<div>\n",
       "<style scoped>\n",
       "    .dataframe tbody tr th:only-of-type {\n",
       "        vertical-align: middle;\n",
       "    }\n",
       "\n",
       "    .dataframe tbody tr th {\n",
       "        vertical-align: top;\n",
       "    }\n",
       "\n",
       "    .dataframe thead th {\n",
       "        text-align: right;\n",
       "    }\n",
       "</style>\n",
       "<table border=\"1\" class=\"dataframe\">\n",
       "  <thead>\n",
       "    <tr style=\"text-align: right;\">\n",
       "      <th></th>\n",
       "      <th>Time</th>\n",
       "      <th>Domain</th>\n",
       "      <th>Format Loads</th>\n",
       "      <th>Format Fill Rate</th>\n",
       "      <th>Impressions</th>\n",
       "      <th>Viewability Rate</th>\n",
       "      <th>Efficiency Rate</th>\n",
       "      <th>CPM</th>\n",
       "      <th>Clicks</th>\n",
       "      <th>CTR</th>\n",
       "      <th>25% View Rate</th>\n",
       "      <th>50% View Rate</th>\n",
       "      <th>75% View Rate</th>\n",
       "      <th>100% View Rate</th>\n",
       "    </tr>\n",
       "  </thead>\n",
       "  <tbody>\n",
       "    <tr>\n",
       "      <th>0</th>\n",
       "      <td>2020-01-01</td>\n",
       "      <td>onlymyhealth.com</td>\n",
       "      <td>332.0</td>\n",
       "      <td>38.25</td>\n",
       "      <td>127</td>\n",
       "      <td>90.48</td>\n",
       "      <td>100.0</td>\n",
       "      <td>1.72</td>\n",
       "      <td>2</td>\n",
       "      <td>1.57</td>\n",
       "      <td>92.91</td>\n",
       "      <td>91.34</td>\n",
       "      <td>85.04</td>\n",
       "      <td>79.53</td>\n",
       "    </tr>\n",
       "    <tr>\n",
       "      <th>1</th>\n",
       "      <td>2020-01-01</td>\n",
       "      <td>naatly.se</td>\n",
       "      <td>234.0</td>\n",
       "      <td>0.43</td>\n",
       "      <td>1</td>\n",
       "      <td>100.00</td>\n",
       "      <td>100.0</td>\n",
       "      <td>1.50</td>\n",
       "      <td>0</td>\n",
       "      <td>0.00</td>\n",
       "      <td>100.00</td>\n",
       "      <td>100.00</td>\n",
       "      <td>100.00</td>\n",
       "      <td>100.00</td>\n",
       "    </tr>\n",
       "    <tr>\n",
       "      <th>2</th>\n",
       "      <td>2020-01-01</td>\n",
       "      <td>frokenrodlok.se</td>\n",
       "      <td>760.0</td>\n",
       "      <td>0.13</td>\n",
       "      <td>1</td>\n",
       "      <td>100.00</td>\n",
       "      <td>100.0</td>\n",
       "      <td>1.50</td>\n",
       "      <td>0</td>\n",
       "      <td>0.00</td>\n",
       "      <td>100.00</td>\n",
       "      <td>100.00</td>\n",
       "      <td>100.00</td>\n",
       "      <td>100.00</td>\n",
       "    </tr>\n",
       "    <tr>\n",
       "      <th>3</th>\n",
       "      <td>2020-01-01</td>\n",
       "      <td>merialek.dk</td>\n",
       "      <td>2.0</td>\n",
       "      <td>0.00</td>\n",
       "      <td>0</td>\n",
       "      <td>0.00</td>\n",
       "      <td>0.0</td>\n",
       "      <td>0.00</td>\n",
       "      <td>0</td>\n",
       "      <td>0.00</td>\n",
       "      <td>0.00</td>\n",
       "      <td>0.00</td>\n",
       "      <td>0.00</td>\n",
       "      <td>0.00</td>\n",
       "    </tr>\n",
       "    <tr>\n",
       "      <th>4</th>\n",
       "      <td>2020-01-01</td>\n",
       "      <td>bugetul.ro</td>\n",
       "      <td>3.0</td>\n",
       "      <td>0.00</td>\n",
       "      <td>0</td>\n",
       "      <td>0.00</td>\n",
       "      <td>0.0</td>\n",
       "      <td>0.00</td>\n",
       "      <td>0</td>\n",
       "      <td>0.00</td>\n",
       "      <td>0.00</td>\n",
       "      <td>0.00</td>\n",
       "      <td>0.00</td>\n",
       "      <td>0.00</td>\n",
       "    </tr>\n",
       "  </tbody>\n",
       "</table>\n",
       "</div>"
      ],
      "text/plain": [
       "        Time            Domain  Format Loads  Format Fill Rate  Impressions  \\\n",
       "0 2020-01-01  onlymyhealth.com         332.0             38.25          127   \n",
       "1 2020-01-01         naatly.se         234.0              0.43            1   \n",
       "2 2020-01-01   frokenrodlok.se         760.0              0.13            1   \n",
       "3 2020-01-01       merialek.dk           2.0              0.00            0   \n",
       "4 2020-01-01        bugetul.ro           3.0              0.00            0   \n",
       "\n",
       "   Viewability Rate  Efficiency Rate   CPM  Clicks   CTR  25% View Rate  \\\n",
       "0             90.48            100.0  1.72       2  1.57          92.91   \n",
       "1            100.00            100.0  1.50       0  0.00         100.00   \n",
       "2            100.00            100.0  1.50       0  0.00         100.00   \n",
       "3              0.00              0.0  0.00       0  0.00           0.00   \n",
       "4              0.00              0.0  0.00       0  0.00           0.00   \n",
       "\n",
       "   50% View Rate  75% View Rate  100% View Rate  \n",
       "0          91.34          85.04           79.53  \n",
       "1         100.00         100.00          100.00  \n",
       "2         100.00         100.00          100.00  \n",
       "3           0.00           0.00            0.00  \n",
       "4           0.00           0.00            0.00  "
      ]
     },
     "execution_count": 13,
     "metadata": {},
     "output_type": "execute_result"
    }
   ],
   "source": [
    "report.head(5)"
   ]
  },
  {
   "cell_type": "code",
   "execution_count": 14,
   "metadata": {
    "colab": {
     "base_uri": "https://localhost:8080/",
     "height": 334
    },
    "colab_type": "code",
    "executionInfo": {
     "elapsed": 1024,
     "status": "ok",
     "timestamp": 1595534506731,
     "user": {
      "displayName": "Ruben Fernandez",
      "photoUrl": "",
      "userId": "11711339126431872890"
     },
     "user_tz": -120
    },
    "id": "XJ1TebvCX6i7",
    "outputId": "a04a32c2-a03d-4a74-f24f-4987d4dba292"
   },
   "outputs": [
    {
     "data": {
      "text/html": [
       "<div>\n",
       "<style scoped>\n",
       "    .dataframe tbody tr th:only-of-type {\n",
       "        vertical-align: middle;\n",
       "    }\n",
       "\n",
       "    .dataframe tbody tr th {\n",
       "        vertical-align: top;\n",
       "    }\n",
       "\n",
       "    .dataframe thead th {\n",
       "        text-align: right;\n",
       "    }\n",
       "</style>\n",
       "<table border=\"1\" class=\"dataframe\">\n",
       "  <thead>\n",
       "    <tr style=\"text-align: right;\">\n",
       "      <th></th>\n",
       "      <th>Format Loads</th>\n",
       "      <th>Format Fill Rate</th>\n",
       "      <th>Impressions</th>\n",
       "      <th>Viewability Rate</th>\n",
       "      <th>Efficiency Rate</th>\n",
       "      <th>CPM</th>\n",
       "      <th>Clicks</th>\n",
       "      <th>CTR</th>\n",
       "      <th>25% View Rate</th>\n",
       "      <th>50% View Rate</th>\n",
       "      <th>75% View Rate</th>\n",
       "      <th>100% View Rate</th>\n",
       "    </tr>\n",
       "  </thead>\n",
       "  <tbody>\n",
       "    <tr>\n",
       "      <th>count</th>\n",
       "      <td>2.169570e+05</td>\n",
       "      <td>216957.000000</td>\n",
       "      <td>222676.000000</td>\n",
       "      <td>222676.000000</td>\n",
       "      <td>222676.000000</td>\n",
       "      <td>222676.000000</td>\n",
       "      <td>222676.000000</td>\n",
       "      <td>222676.000000</td>\n",
       "      <td>222676.000000</td>\n",
       "      <td>222676.000000</td>\n",
       "      <td>222676.00000</td>\n",
       "      <td>222676.000000</td>\n",
       "    </tr>\n",
       "    <tr>\n",
       "      <th>mean</th>\n",
       "      <td>2.947660e+04</td>\n",
       "      <td>4.452541</td>\n",
       "      <td>2589.812548</td>\n",
       "      <td>39.891261</td>\n",
       "      <td>47.122817</td>\n",
       "      <td>0.822851</td>\n",
       "      <td>17.019005</td>\n",
       "      <td>0.342390</td>\n",
       "      <td>39.447679</td>\n",
       "      <td>35.101179</td>\n",
       "      <td>32.07321</td>\n",
       "      <td>29.396116</td>\n",
       "    </tr>\n",
       "    <tr>\n",
       "      <th>std</th>\n",
       "      <td>1.132093e+05</td>\n",
       "      <td>11.530268</td>\n",
       "      <td>15684.254702</td>\n",
       "      <td>42.950422</td>\n",
       "      <td>48.974091</td>\n",
       "      <td>0.884118</td>\n",
       "      <td>118.375589</td>\n",
       "      <td>2.079652</td>\n",
       "      <td>42.432710</td>\n",
       "      <td>38.794994</td>\n",
       "      <td>36.18952</td>\n",
       "      <td>33.824863</td>\n",
       "    </tr>\n",
       "    <tr>\n",
       "      <th>min</th>\n",
       "      <td>1.000000e+00</td>\n",
       "      <td>0.000000</td>\n",
       "      <td>0.000000</td>\n",
       "      <td>0.000000</td>\n",
       "      <td>0.000000</td>\n",
       "      <td>0.000000</td>\n",
       "      <td>0.000000</td>\n",
       "      <td>0.000000</td>\n",
       "      <td>0.000000</td>\n",
       "      <td>0.000000</td>\n",
       "      <td>0.00000</td>\n",
       "      <td>0.000000</td>\n",
       "    </tr>\n",
       "    <tr>\n",
       "      <th>25%</th>\n",
       "      <td>6.000000e+00</td>\n",
       "      <td>0.000000</td>\n",
       "      <td>0.000000</td>\n",
       "      <td>0.000000</td>\n",
       "      <td>0.000000</td>\n",
       "      <td>0.000000</td>\n",
       "      <td>0.000000</td>\n",
       "      <td>0.000000</td>\n",
       "      <td>0.000000</td>\n",
       "      <td>0.000000</td>\n",
       "      <td>0.00000</td>\n",
       "      <td>0.000000</td>\n",
       "    </tr>\n",
       "    <tr>\n",
       "      <th>50%</th>\n",
       "      <td>1.350000e+02</td>\n",
       "      <td>0.000000</td>\n",
       "      <td>0.000000</td>\n",
       "      <td>0.000000</td>\n",
       "      <td>0.000000</td>\n",
       "      <td>0.000000</td>\n",
       "      <td>0.000000</td>\n",
       "      <td>0.000000</td>\n",
       "      <td>0.000000</td>\n",
       "      <td>0.000000</td>\n",
       "      <td>0.00000</td>\n",
       "      <td>0.000000</td>\n",
       "    </tr>\n",
       "    <tr>\n",
       "      <th>75%</th>\n",
       "      <td>9.257000e+03</td>\n",
       "      <td>4.090000</td>\n",
       "      <td>256.000000</td>\n",
       "      <td>85.710000</td>\n",
       "      <td>99.800000</td>\n",
       "      <td>1.600000</td>\n",
       "      <td>1.000000</td>\n",
       "      <td>0.210000</td>\n",
       "      <td>84.560000</td>\n",
       "      <td>75.640000</td>\n",
       "      <td>69.19000</td>\n",
       "      <td>63.332500</td>\n",
       "    </tr>\n",
       "    <tr>\n",
       "      <th>max</th>\n",
       "      <td>6.223321e+06</td>\n",
       "      <td>1000.000000</td>\n",
       "      <td>899241.000000</td>\n",
       "      <td>100.000000</td>\n",
       "      <td>100.000000</td>\n",
       "      <td>7.650000</td>\n",
       "      <td>9704.000000</td>\n",
       "      <td>100.000000</td>\n",
       "      <td>100.000000</td>\n",
       "      <td>100.000000</td>\n",
       "      <td>100.00000</td>\n",
       "      <td>100.000000</td>\n",
       "    </tr>\n",
       "  </tbody>\n",
       "</table>\n",
       "</div>"
      ],
      "text/plain": [
       "       Format Loads  Format Fill Rate    Impressions  Viewability Rate  \\\n",
       "count  2.169570e+05     216957.000000  222676.000000     222676.000000   \n",
       "mean   2.947660e+04          4.452541    2589.812548         39.891261   \n",
       "std    1.132093e+05         11.530268   15684.254702         42.950422   \n",
       "min    1.000000e+00          0.000000       0.000000          0.000000   \n",
       "25%    6.000000e+00          0.000000       0.000000          0.000000   \n",
       "50%    1.350000e+02          0.000000       0.000000          0.000000   \n",
       "75%    9.257000e+03          4.090000     256.000000         85.710000   \n",
       "max    6.223321e+06       1000.000000  899241.000000        100.000000   \n",
       "\n",
       "       Efficiency Rate            CPM         Clicks            CTR  \\\n",
       "count    222676.000000  222676.000000  222676.000000  222676.000000   \n",
       "mean         47.122817       0.822851      17.019005       0.342390   \n",
       "std          48.974091       0.884118     118.375589       2.079652   \n",
       "min           0.000000       0.000000       0.000000       0.000000   \n",
       "25%           0.000000       0.000000       0.000000       0.000000   \n",
       "50%           0.000000       0.000000       0.000000       0.000000   \n",
       "75%          99.800000       1.600000       1.000000       0.210000   \n",
       "max         100.000000       7.650000    9704.000000     100.000000   \n",
       "\n",
       "       25% View Rate  50% View Rate  75% View Rate  100% View Rate  \n",
       "count  222676.000000  222676.000000   222676.00000   222676.000000  \n",
       "mean       39.447679      35.101179       32.07321       29.396116  \n",
       "std        42.432710      38.794994       36.18952       33.824863  \n",
       "min         0.000000       0.000000        0.00000        0.000000  \n",
       "25%         0.000000       0.000000        0.00000        0.000000  \n",
       "50%         0.000000       0.000000        0.00000        0.000000  \n",
       "75%        84.560000      75.640000       69.19000       63.332500  \n",
       "max       100.000000     100.000000      100.00000      100.000000  "
      ]
     },
     "execution_count": 14,
     "metadata": {},
     "output_type": "execute_result"
    }
   ],
   "source": [
    "report.describe()"
   ]
  },
  {
   "cell_type": "code",
   "execution_count": 15,
   "metadata": {
    "colab": {
     "base_uri": "https://localhost:8080/",
     "height": 391
    },
    "colab_type": "code",
    "executionInfo": {
     "elapsed": 776,
     "status": "ok",
     "timestamp": 1595534511041,
     "user": {
      "displayName": "Ruben Fernandez",
      "photoUrl": "",
      "userId": "11711339126431872890"
     },
     "user_tz": -120
    },
    "id": "kwKFBCg6fcgX",
    "outputId": "19ae6683-f542-4913-f9b3-010db7ddfc2f"
   },
   "outputs": [
    {
     "name": "stdout",
     "output_type": "stream",
     "text": [
      "<class 'pandas.core.frame.DataFrame'>\n",
      "RangeIndex: 222676 entries, 0 to 222675\n",
      "Data columns (total 14 columns):\n",
      " #   Column            Non-Null Count   Dtype         \n",
      "---  ------            --------------   -----         \n",
      " 0   Time              222676 non-null  datetime64[ns]\n",
      " 1   Domain            222676 non-null  object        \n",
      " 2   Format Loads      216957 non-null  float64       \n",
      " 3   Format Fill Rate  216957 non-null  float64       \n",
      " 4   Impressions       222676 non-null  int32         \n",
      " 5   Viewability Rate  222676 non-null  float64       \n",
      " 6   Efficiency Rate   222676 non-null  float64       \n",
      " 7   CPM               222676 non-null  float64       \n",
      " 8   Clicks            222676 non-null  int32         \n",
      " 9   CTR               222676 non-null  float64       \n",
      " 10  25% View Rate     222676 non-null  float64       \n",
      " 11  50% View Rate     222676 non-null  float64       \n",
      " 12  75% View Rate     222676 non-null  float64       \n",
      " 13  100% View Rate    222676 non-null  float64       \n",
      "dtypes: datetime64[ns](1), float64(10), int32(2), object(1)\n",
      "memory usage: 22.1+ MB\n"
     ]
    }
   ],
   "source": [
    "report.info()"
   ]
  },
  {
   "cell_type": "markdown",
   "metadata": {
    "colab_type": "text",
    "id": "FTd7PzOmtv8U"
   },
   "source": [
    "- Delete the NANs of the Format Loads"
   ]
  },
  {
   "cell_type": "code",
   "execution_count": 16,
   "metadata": {
    "colab": {
     "base_uri": "https://localhost:8080/",
     "height": 391
    },
    "colab_type": "code",
    "executionInfo": {
     "elapsed": 800,
     "status": "ok",
     "timestamp": 1595534513955,
     "user": {
      "displayName": "Ruben Fernandez",
      "photoUrl": "",
      "userId": "11711339126431872890"
     },
     "user_tz": -120
    },
    "id": "QeY-14OlenGn",
    "outputId": "46da9394-9609-4093-a7f8-8e7e2f596a6e"
   },
   "outputs": [
    {
     "name": "stdout",
     "output_type": "stream",
     "text": [
      "<class 'pandas.core.frame.DataFrame'>\n",
      "Int64Index: 216957 entries, 0 to 222675\n",
      "Data columns (total 14 columns):\n",
      " #   Column            Non-Null Count   Dtype         \n",
      "---  ------            --------------   -----         \n",
      " 0   Time              216957 non-null  datetime64[ns]\n",
      " 1   Domain            216957 non-null  object        \n",
      " 2   Format Loads      216957 non-null  float64       \n",
      " 3   Format Fill Rate  216957 non-null  float64       \n",
      " 4   Impressions       216957 non-null  int32         \n",
      " 5   Viewability Rate  216957 non-null  float64       \n",
      " 6   Efficiency Rate   216957 non-null  float64       \n",
      " 7   CPM               216957 non-null  float64       \n",
      " 8   Clicks            216957 non-null  int32         \n",
      " 9   CTR               216957 non-null  float64       \n",
      " 10  25% View Rate     216957 non-null  float64       \n",
      " 11  50% View Rate     216957 non-null  float64       \n",
      " 12  75% View Rate     216957 non-null  float64       \n",
      " 13  100% View Rate    216957 non-null  float64       \n",
      "dtypes: datetime64[ns](1), float64(10), int32(2), object(1)\n",
      "memory usage: 23.2+ MB\n"
     ]
    }
   ],
   "source": [
    "report.dropna(inplace=True)\n",
    "report.info()"
   ]
  },
  {
   "cell_type": "code",
   "execution_count": 17,
   "metadata": {
    "colab": {
     "base_uri": "https://localhost:8080/",
     "height": 51
    },
    "colab_type": "code",
    "executionInfo": {
     "elapsed": 758,
     "status": "ok",
     "timestamp": 1595534517632,
     "user": {
      "displayName": "Ruben Fernandez",
      "photoUrl": "",
      "userId": "11711339126431872890"
     },
     "user_tz": -120
    },
    "id": "_ft6Zh_MmSPY",
    "outputId": "69a654df-ac6d-43ea-f940-b2c08dbccb60"
   },
   "outputs": [
    {
     "name": "stdout",
     "output_type": "stream",
     "text": [
      "8767\n",
      "(216957, 14)\n"
     ]
    }
   ],
   "source": [
    "print(len(report['Domain'].unique()))\n",
    "print(report.shape)"
   ]
  },
  {
   "cell_type": "markdown",
   "metadata": {
    "colab_type": "text",
    "id": "bBxsLY20AqJb"
   },
   "source": [
    "- Delete the rows with less than 70000 Format Loads in one day, I do not consider this domains representative\n"
   ]
  },
  {
   "cell_type": "code",
   "execution_count": 18,
   "metadata": {
    "colab": {
     "base_uri": "https://localhost:8080/",
     "height": 51
    },
    "colab_type": "code",
    "executionInfo": {
     "elapsed": 1838,
     "status": "ok",
     "timestamp": 1595534521732,
     "user": {
      "displayName": "Ruben Fernandez",
      "photoUrl": "",
      "userId": "11711339126431872890"
     },
     "user_tz": -120
    },
    "id": "xURcgt_ZAc1b",
    "outputId": "5224c123-527f-4889-a1e3-ab1d07fe9451"
   },
   "outputs": [
    {
     "name": "stdout",
     "output_type": "stream",
     "text": [
      "540\n",
      "(21383, 14)\n"
     ]
    }
   ],
   "source": [
    "report = report[report['Format Loads']>70000]\n",
    "print(len(report['Domain'].unique()))\n",
    "print(report.shape)"
   ]
  },
  {
   "cell_type": "markdown",
   "metadata": {},
   "source": [
    "After this filtering we have 540 unique Domains"
   ]
  },
  {
   "cell_type": "code",
   "execution_count": 19,
   "metadata": {
    "colab": {
     "base_uri": "https://localhost:8080/",
     "height": 607
    },
    "colab_type": "code",
    "executionInfo": {
     "elapsed": 2796,
     "status": "ok",
     "timestamp": 1595534526097,
     "user": {
      "displayName": "Ruben Fernandez",
      "photoUrl": "",
      "userId": "11711339126431872890"
     },
     "user_tz": -120
    },
    "id": "sucIRI6HEizu",
    "outputId": "5e200575-d320-49b5-e582-cd6395904e3f"
   },
   "outputs": [
    {
     "data": {
      "image/png": "[encoded data removed]",
      "text/plain": [
       "<Figure size 720x720 with 12 Axes>"
      ]
     },
     "metadata": {
      "needs_background": "light"
     },
     "output_type": "display_data"
    }
   ],
   "source": [
    "plt.rcParams['figure.figsize']=(10,10)\n",
    "report.hist();"
   ]
  },
  {
   "cell_type": "markdown",
   "metadata": {
    "colab_type": "text",
    "id": "FqNtpXc1D2pb"
   },
   "source": [
    "Reordering of the table grouping by Domain, ordered by the number of Format Loads"
   ]
  },
  {
   "cell_type": "code",
   "execution_count": 21,
   "metadata": {
    "colab": {
     "base_uri": "https://localhost:8080/",
     "height": 740
    },
    "colab_type": "code",
    "executionInfo": {
     "elapsed": 755,
     "status": "ok",
     "timestamp": 1595534530944,
     "user": {
      "displayName": "Ruben Fernandez",
      "photoUrl": "",
      "userId": "11711339126431872890"
     },
     "user_tz": -120
    },
    "id": "czFfS4tTAGPt",
    "outputId": "9296aadd-4988-43fd-f1f1-39356d2451cb"
   },
   "outputs": [
    {
     "name": "stdout",
     "output_type": "stream",
     "text": [
      "(540, 13)\n"
     ]
    },
    {
     "data": {
      "text/html": [
       "<div>\n",
       "<style scoped>\n",
       "    .dataframe tbody tr th:only-of-type {\n",
       "        vertical-align: middle;\n",
       "    }\n",
       "\n",
       "    .dataframe tbody tr th {\n",
       "        vertical-align: top;\n",
       "    }\n",
       "\n",
       "    .dataframe thead th {\n",
       "        text-align: right;\n",
       "    }\n",
       "</style>\n",
       "<table border=\"1\" class=\"dataframe\">\n",
       "  <thead>\n",
       "    <tr style=\"text-align: right;\">\n",
       "      <th></th>\n",
       "      <th>Domain</th>\n",
       "      <th>Format Loads</th>\n",
       "      <th>Impressions</th>\n",
       "      <th>Format Fill Rate</th>\n",
       "      <th>Viewability Rate</th>\n",
       "      <th>Efficiency Rate</th>\n",
       "      <th>CPM</th>\n",
       "      <th>Clicks</th>\n",
       "      <th>CTR</th>\n",
       "      <th>25% View Rate</th>\n",
       "      <th>50% View Rate</th>\n",
       "      <th>75% View Rate</th>\n",
       "      <th>100% View Rate</th>\n",
       "    </tr>\n",
       "  </thead>\n",
       "  <tbody>\n",
       "    <tr>\n",
       "      <th>0</th>\n",
       "      <td>rediff.com</td>\n",
       "      <td>97496012.0</td>\n",
       "      <td>9816423</td>\n",
       "      <td>11.468696</td>\n",
       "      <td>76.979457</td>\n",
       "      <td>98.149565</td>\n",
       "      <td>1.674130</td>\n",
       "      <td>36582</td>\n",
       "      <td>36.37</td>\n",
       "      <td>71.908587</td>\n",
       "      <td>59.999565</td>\n",
       "      <td>52.975000</td>\n",
       "      <td>47.585761</td>\n",
       "    </tr>\n",
       "    <tr>\n",
       "      <th>1</th>\n",
       "      <td>missyusa.com</td>\n",
       "      <td>97473418.0</td>\n",
       "      <td>6128716</td>\n",
       "      <td>7.545385</td>\n",
       "      <td>75.436538</td>\n",
       "      <td>95.649231</td>\n",
       "      <td>1.621923</td>\n",
       "      <td>5167</td>\n",
       "      <td>2.32</td>\n",
       "      <td>73.578462</td>\n",
       "      <td>60.050769</td>\n",
       "      <td>50.964615</td>\n",
       "      <td>43.687308</td>\n",
       "    </tr>\n",
       "    <tr>\n",
       "      <th>2</th>\n",
       "      <td>mundopositivo.com.br</td>\n",
       "      <td>94053928.0</td>\n",
       "      <td>2171544</td>\n",
       "      <td>2.446739</td>\n",
       "      <td>69.167391</td>\n",
       "      <td>99.418261</td>\n",
       "      <td>1.812391</td>\n",
       "      <td>352</td>\n",
       "      <td>2.09</td>\n",
       "      <td>84.740978</td>\n",
       "      <td>87.405652</td>\n",
       "      <td>85.409674</td>\n",
       "      <td>81.476522</td>\n",
       "    </tr>\n",
       "    <tr>\n",
       "      <th>3</th>\n",
       "      <td>chinatimes.com</td>\n",
       "      <td>87913744.0</td>\n",
       "      <td>17022099</td>\n",
       "      <td>19.283913</td>\n",
       "      <td>88.242065</td>\n",
       "      <td>99.628478</td>\n",
       "      <td>1.762065</td>\n",
       "      <td>160360</td>\n",
       "      <td>83.92</td>\n",
       "      <td>79.241304</td>\n",
       "      <td>69.383478</td>\n",
       "      <td>62.438043</td>\n",
       "      <td>56.185978</td>\n",
       "    </tr>\n",
       "    <tr>\n",
       "      <th>4</th>\n",
       "      <td>correiobraziliense.com.br</td>\n",
       "      <td>77352838.0</td>\n",
       "      <td>12626361</td>\n",
       "      <td>17.077391</td>\n",
       "      <td>77.046196</td>\n",
       "      <td>99.761630</td>\n",
       "      <td>1.659674</td>\n",
       "      <td>54502</td>\n",
       "      <td>45.22</td>\n",
       "      <td>83.972065</td>\n",
       "      <td>78.116957</td>\n",
       "      <td>73.168913</td>\n",
       "      <td>67.466413</td>\n",
       "    </tr>\n",
       "    <tr>\n",
       "      <th>5</th>\n",
       "      <td>record.com.mx</td>\n",
       "      <td>77032297.0</td>\n",
       "      <td>2597030</td>\n",
       "      <td>3.459130</td>\n",
       "      <td>78.972717</td>\n",
       "      <td>98.311630</td>\n",
       "      <td>1.673913</td>\n",
       "      <td>14461</td>\n",
       "      <td>50.68</td>\n",
       "      <td>81.940761</td>\n",
       "      <td>72.612826</td>\n",
       "      <td>66.146957</td>\n",
       "      <td>60.511196</td>\n",
       "    </tr>\n",
       "    <tr>\n",
       "      <th>6</th>\n",
       "      <td>minuto30.com</td>\n",
       "      <td>74392564.0</td>\n",
       "      <td>2723644</td>\n",
       "      <td>3.812065</td>\n",
       "      <td>88.295217</td>\n",
       "      <td>97.986957</td>\n",
       "      <td>1.884022</td>\n",
       "      <td>21763</td>\n",
       "      <td>74.37</td>\n",
       "      <td>86.686413</td>\n",
       "      <td>80.279565</td>\n",
       "      <td>73.969891</td>\n",
       "      <td>67.519239</td>\n",
       "    </tr>\n",
       "    <tr>\n",
       "      <th>7</th>\n",
       "      <td>laverdadnoticias.com</td>\n",
       "      <td>72515627.0</td>\n",
       "      <td>14720666</td>\n",
       "      <td>20.368152</td>\n",
       "      <td>86.807391</td>\n",
       "      <td>98.802391</td>\n",
       "      <td>1.592065</td>\n",
       "      <td>258733</td>\n",
       "      <td>167.01</td>\n",
       "      <td>87.420543</td>\n",
       "      <td>82.891957</td>\n",
       "      <td>78.304565</td>\n",
       "      <td>73.296087</td>\n",
       "    </tr>\n",
       "    <tr>\n",
       "      <th>8</th>\n",
       "      <td>jugantor.com</td>\n",
       "      <td>67253114.0</td>\n",
       "      <td>1818818</td>\n",
       "      <td>2.800543</td>\n",
       "      <td>86.946957</td>\n",
       "      <td>98.541848</td>\n",
       "      <td>1.695435</td>\n",
       "      <td>6239</td>\n",
       "      <td>30.41</td>\n",
       "      <td>84.667065</td>\n",
       "      <td>76.732391</td>\n",
       "      <td>70.426522</td>\n",
       "      <td>64.551413</td>\n",
       "    </tr>\n",
       "    <tr>\n",
       "      <th>9</th>\n",
       "      <td>cooperativa.cl</td>\n",
       "      <td>63638868.0</td>\n",
       "      <td>2898818</td>\n",
       "      <td>4.795543</td>\n",
       "      <td>81.004891</td>\n",
       "      <td>98.348043</td>\n",
       "      <td>1.544783</td>\n",
       "      <td>32001</td>\n",
       "      <td>95.33</td>\n",
       "      <td>76.144674</td>\n",
       "      <td>65.132065</td>\n",
       "      <td>57.795217</td>\n",
       "      <td>51.657826</td>\n",
       "    </tr>\n",
       "  </tbody>\n",
       "</table>\n",
       "</div>"
      ],
      "text/plain": [
       "                      Domain  Format Loads  Impressions  Format Fill Rate  \\\n",
       "0                 rediff.com    97496012.0      9816423         11.468696   \n",
       "1               missyusa.com    97473418.0      6128716          7.545385   \n",
       "2       mundopositivo.com.br    94053928.0      2171544          2.446739   \n",
       "3             chinatimes.com    87913744.0     17022099         19.283913   \n",
       "4  correiobraziliense.com.br    77352838.0     12626361         17.077391   \n",
       "5              record.com.mx    77032297.0      2597030          3.459130   \n",
       "6               minuto30.com    74392564.0      2723644          3.812065   \n",
       "7       laverdadnoticias.com    72515627.0     14720666         20.368152   \n",
       "8               jugantor.com    67253114.0      1818818          2.800543   \n",
       "9             cooperativa.cl    63638868.0      2898818          4.795543   \n",
       "\n",
       "   Viewability Rate  Efficiency Rate       CPM  Clicks     CTR  25% View Rate  \\\n",
       "0         76.979457        98.149565  1.674130   36582   36.37      71.908587   \n",
       "1         75.436538        95.649231  1.621923    5167    2.32      73.578462   \n",
       "2         69.167391        99.418261  1.812391     352    2.09      84.740978   \n",
       "3         88.242065        99.628478  1.762065  160360   83.92      79.241304   \n",
       "4         77.046196        99.761630  1.659674   54502   45.22      83.972065   \n",
       "5         78.972717        98.311630  1.673913   14461   50.68      81.940761   \n",
       "6         88.295217        97.986957  1.884022   21763   74.37      86.686413   \n",
       "7         86.807391        98.802391  1.592065  258733  167.01      87.420543   \n",
       "8         86.946957        98.541848  1.695435    6239   30.41      84.667065   \n",
       "9         81.004891        98.348043  1.544783   32001   95.33      76.144674   \n",
       "\n",
       "   50% View Rate  75% View Rate  100% View Rate  \n",
       "0      59.999565      52.975000       47.585761  \n",
       "1      60.050769      50.964615       43.687308  \n",
       "2      87.405652      85.409674       81.476522  \n",
       "3      69.383478      62.438043       56.185978  \n",
       "4      78.116957      73.168913       67.466413  \n",
       "5      72.612826      66.146957       60.511196  \n",
       "6      80.279565      73.969891       67.519239  \n",
       "7      82.891957      78.304565       73.296087  \n",
       "8      76.732391      70.426522       64.551413  \n",
       "9      65.132065      57.795217       51.657826  "
      ]
     },
     "execution_count": 21,
     "metadata": {},
     "output_type": "execute_result"
    }
   ],
   "source": [
    "groupby_domains = report.groupby(['Domain']).agg({'Format Loads':np.sum,\n",
    "                                'Impressions':np.sum,\n",
    "                                'Format Fill Rate':np.mean,\n",
    "                                'Viewability Rate':np.mean,\n",
    "                                'Efficiency Rate':np.mean,\n",
    "                                'CPM':np.mean,\n",
    "                                'Clicks':np.sum,\n",
    "                                'CTR':np.mean,\n",
    "                                '25% View Rate':np.mean,\n",
    "                                '50% View Rate':np.mean,\n",
    "                                '75% View Rate':np.mean,\n",
    "                                '100% View Rate':np.mean\n",
    "                                }).sort_values( by= 'Format Loads',ascending=False).reset_index()\n",
    "print(groupby_domains.shape)\n",
    "groupby_domains.head(10)"
   ]
  },
  {
   "cell_type": "code",
   "execution_count": 22,
   "metadata": {
    "colab": {
     "base_uri": "https://localhost:8080/",
     "height": 703
    },
    "colab_type": "code",
    "executionInfo": {
     "elapsed": 1131,
     "status": "ok",
     "timestamp": 1595534536466,
     "user": {
      "displayName": "Ruben Fernandez",
      "photoUrl": "",
      "userId": "11711339126431872890"
     },
     "user_tz": -120
    },
    "id": "xGDcNPQ3OF41",
    "outputId": "917c38d6-3dcf-41ce-905d-4d74699bc40f"
   },
   "outputs": [
    {
     "data": {
      "text/html": [
       "<div>\n",
       "<style scoped>\n",
       "    .dataframe tbody tr th:only-of-type {\n",
       "        vertical-align: middle;\n",
       "    }\n",
       "\n",
       "    .dataframe tbody tr th {\n",
       "        vertical-align: top;\n",
       "    }\n",
       "\n",
       "    .dataframe thead th {\n",
       "        text-align: right;\n",
       "    }\n",
       "</style>\n",
       "<table border=\"1\" class=\"dataframe\">\n",
       "  <thead>\n",
       "    <tr style=\"text-align: right;\">\n",
       "      <th></th>\n",
       "      <th>Domain</th>\n",
       "      <th>Format Fill Rate</th>\n",
       "      <th>Format Loads</th>\n",
       "      <th>Impressions</th>\n",
       "      <th>Viewability Rate</th>\n",
       "      <th>Efficiency Rate</th>\n",
       "      <th>CPM</th>\n",
       "      <th>Clicks</th>\n",
       "      <th>CTR</th>\n",
       "      <th>25% View Rate</th>\n",
       "      <th>50% View Rate</th>\n",
       "      <th>75% View Rate</th>\n",
       "      <th>100% View Rate</th>\n",
       "    </tr>\n",
       "  </thead>\n",
       "  <tbody>\n",
       "    <tr>\n",
       "      <th>0</th>\n",
       "      <td>minhavida.com.br</td>\n",
       "      <td>78.904719</td>\n",
       "      <td>23052587.0</td>\n",
       "      <td>17784650</td>\n",
       "      <td>87.762360</td>\n",
       "      <td>99.960337</td>\n",
       "      <td>1.672584</td>\n",
       "      <td>94614</td>\n",
       "      <td>49.51</td>\n",
       "      <td>86.564607</td>\n",
       "      <td>80.878315</td>\n",
       "      <td>76.575056</td>\n",
       "      <td>71.737303</td>\n",
       "    </tr>\n",
       "    <tr>\n",
       "      <th>1</th>\n",
       "      <td>designyoutrust.com</td>\n",
       "      <td>66.183333</td>\n",
       "      <td>937363.0</td>\n",
       "      <td>630318</td>\n",
       "      <td>89.773333</td>\n",
       "      <td>95.750000</td>\n",
       "      <td>1.704444</td>\n",
       "      <td>3047</td>\n",
       "      <td>4.61</td>\n",
       "      <td>82.690000</td>\n",
       "      <td>74.924444</td>\n",
       "      <td>70.047778</td>\n",
       "      <td>66.112222</td>\n",
       "    </tr>\n",
       "    <tr>\n",
       "      <th>2</th>\n",
       "      <td>kino-teatr.ru</td>\n",
       "      <td>63.790000</td>\n",
       "      <td>128629.0</td>\n",
       "      <td>82049</td>\n",
       "      <td>88.800000</td>\n",
       "      <td>82.560000</td>\n",
       "      <td>0.100000</td>\n",
       "      <td>606</td>\n",
       "      <td>0.74</td>\n",
       "      <td>69.710000</td>\n",
       "      <td>54.470000</td>\n",
       "      <td>44.980000</td>\n",
       "      <td>38.050000</td>\n",
       "    </tr>\n",
       "    <tr>\n",
       "      <th>3</th>\n",
       "      <td>mundohispanico.com</td>\n",
       "      <td>63.057826</td>\n",
       "      <td>32670090.0</td>\n",
       "      <td>20907504</td>\n",
       "      <td>85.567609</td>\n",
       "      <td>99.251739</td>\n",
       "      <td>1.649022</td>\n",
       "      <td>143300</td>\n",
       "      <td>69.31</td>\n",
       "      <td>86.539457</td>\n",
       "      <td>79.436413</td>\n",
       "      <td>73.602500</td>\n",
       "      <td>68.429348</td>\n",
       "    </tr>\n",
       "    <tr>\n",
       "      <th>4</th>\n",
       "      <td>palmeirasonline.com</td>\n",
       "      <td>55.050000</td>\n",
       "      <td>377557.0</td>\n",
       "      <td>213202</td>\n",
       "      <td>84.434000</td>\n",
       "      <td>99.882000</td>\n",
       "      <td>1.578000</td>\n",
       "      <td>1585</td>\n",
       "      <td>3.27</td>\n",
       "      <td>90.210000</td>\n",
       "      <td>83.544000</td>\n",
       "      <td>77.698000</td>\n",
       "      <td>71.340000</td>\n",
       "    </tr>\n",
       "    <tr>\n",
       "      <th>5</th>\n",
       "      <td>finanzmarktwelt.de</td>\n",
       "      <td>52.748889</td>\n",
       "      <td>3470223.0</td>\n",
       "      <td>1853180</td>\n",
       "      <td>90.008333</td>\n",
       "      <td>98.741111</td>\n",
       "      <td>1.526389</td>\n",
       "      <td>9818</td>\n",
       "      <td>19.18</td>\n",
       "      <td>90.976667</td>\n",
       "      <td>84.915278</td>\n",
       "      <td>79.878611</td>\n",
       "      <td>74.590556</td>\n",
       "    </tr>\n",
       "    <tr>\n",
       "      <th>6</th>\n",
       "      <td>rd1.com.br</td>\n",
       "      <td>50.128372</td>\n",
       "      <td>5061358.0</td>\n",
       "      <td>2416369</td>\n",
       "      <td>87.640233</td>\n",
       "      <td>99.878372</td>\n",
       "      <td>1.565814</td>\n",
       "      <td>4154</td>\n",
       "      <td>8.99</td>\n",
       "      <td>88.243721</td>\n",
       "      <td>82.582791</td>\n",
       "      <td>77.779070</td>\n",
       "      <td>73.118837</td>\n",
       "    </tr>\n",
       "    <tr>\n",
       "      <th>7</th>\n",
       "      <td>ig.com.br</td>\n",
       "      <td>45.098913</td>\n",
       "      <td>31212625.0</td>\n",
       "      <td>8523511</td>\n",
       "      <td>75.011957</td>\n",
       "      <td>99.944891</td>\n",
       "      <td>2.000109</td>\n",
       "      <td>18875</td>\n",
       "      <td>22.02</td>\n",
       "      <td>91.181304</td>\n",
       "      <td>87.330000</td>\n",
       "      <td>83.106848</td>\n",
       "      <td>78.048043</td>\n",
       "    </tr>\n",
       "    <tr>\n",
       "      <th>8</th>\n",
       "      <td>tuvideopr.com</td>\n",
       "      <td>44.831364</td>\n",
       "      <td>2467038.0</td>\n",
       "      <td>1064504</td>\n",
       "      <td>96.413636</td>\n",
       "      <td>99.008636</td>\n",
       "      <td>1.589091</td>\n",
       "      <td>20887</td>\n",
       "      <td>44.81</td>\n",
       "      <td>90.841818</td>\n",
       "      <td>85.883636</td>\n",
       "      <td>80.882273</td>\n",
       "      <td>76.641818</td>\n",
       "    </tr>\n",
       "    <tr>\n",
       "      <th>9</th>\n",
       "      <td>letras.mus.br</td>\n",
       "      <td>44.543696</td>\n",
       "      <td>41288918.0</td>\n",
       "      <td>16482504</td>\n",
       "      <td>78.817500</td>\n",
       "      <td>99.807609</td>\n",
       "      <td>1.824891</td>\n",
       "      <td>31895</td>\n",
       "      <td>17.29</td>\n",
       "      <td>88.150543</td>\n",
       "      <td>83.631739</td>\n",
       "      <td>79.971957</td>\n",
       "      <td>76.031739</td>\n",
       "    </tr>\n",
       "  </tbody>\n",
       "</table>\n",
       "</div>"
      ],
      "text/plain": [
       "                Domain  Format Fill Rate  Format Loads  Impressions  \\\n",
       "0     minhavida.com.br         78.904719    23052587.0     17784650   \n",
       "1   designyoutrust.com         66.183333      937363.0       630318   \n",
       "2        kino-teatr.ru         63.790000      128629.0        82049   \n",
       "3   mundohispanico.com         63.057826    32670090.0     20907504   \n",
       "4  palmeirasonline.com         55.050000      377557.0       213202   \n",
       "5   finanzmarktwelt.de         52.748889     3470223.0      1853180   \n",
       "6           rd1.com.br         50.128372     5061358.0      2416369   \n",
       "7            ig.com.br         45.098913    31212625.0      8523511   \n",
       "8        tuvideopr.com         44.831364     2467038.0      1064504   \n",
       "9        letras.mus.br         44.543696    41288918.0     16482504   \n",
       "\n",
       "   Viewability Rate  Efficiency Rate       CPM  Clicks    CTR  25% View Rate  \\\n",
       "0         87.762360        99.960337  1.672584   94614  49.51      86.564607   \n",
       "1         89.773333        95.750000  1.704444    3047   4.61      82.690000   \n",
       "2         88.800000        82.560000  0.100000     606   0.74      69.710000   \n",
       "3         85.567609        99.251739  1.649022  143300  69.31      86.539457   \n",
       "4         84.434000        99.882000  1.578000    1585   3.27      90.210000   \n",
       "5         90.008333        98.741111  1.526389    9818  19.18      90.976667   \n",
       "6         87.640233        99.878372  1.565814    4154   8.99      88.243721   \n",
       "7         75.011957        99.944891  2.000109   18875  22.02      91.181304   \n",
       "8         96.413636        99.008636  1.589091   20887  44.81      90.841818   \n",
       "9         78.817500        99.807609  1.824891   31895  17.29      88.150543   \n",
       "\n",
       "   50% View Rate  75% View Rate  100% View Rate  \n",
       "0      80.878315      76.575056       71.737303  \n",
       "1      74.924444      70.047778       66.112222  \n",
       "2      54.470000      44.980000       38.050000  \n",
       "3      79.436413      73.602500       68.429348  \n",
       "4      83.544000      77.698000       71.340000  \n",
       "5      84.915278      79.878611       74.590556  \n",
       "6      82.582791      77.779070       73.118837  \n",
       "7      87.330000      83.106848       78.048043  \n",
       "8      85.883636      80.882273       76.641818  \n",
       "9      83.631739      79.971957       76.031739  "
      ]
     },
     "execution_count": 22,
     "metadata": {},
     "output_type": "execute_result"
    }
   ],
   "source": [
    "groupby_domains.groupby(['Domain','Format Fill Rate']).sum().sort_values( by= 'Format Fill Rate',ascending=False).reset_index().head(10)"
   ]
  },
  {
   "cell_type": "code",
   "execution_count": 23,
   "metadata": {
    "colab": {
     "base_uri": "https://localhost:8080/",
     "height": 677
    },
    "colab_type": "code",
    "executionInfo": {
     "elapsed": 2491,
     "status": "ok",
     "timestamp": 1595534542672,
     "user": {
      "displayName": "Ruben Fernandez",
      "photoUrl": "",
      "userId": "11711339126431872890"
     },
     "user_tz": -120
    },
    "id": "6wX2ALq4OzwC",
    "outputId": "7e90ca99-6a35-4390-d47b-d14efd251f7b"
   },
   "outputs": [
    {
     "data": {
      "text/plain": [
       "(array([349., 118.,  35.,  18.,   8.,   5.,   3.,   1.,   2.,   1.]),\n",
       " array([ 0.        ,  7.89047191, 15.78094382, 23.67141573, 31.56188764,\n",
       "        39.45235955, 47.34283146, 55.23330337, 63.12377528, 71.01424719,\n",
       "        78.9047191 ]),\n",
       " <a list of 10 Patch objects>)"
      ]
     },
     "execution_count": 23,
     "metadata": {},
     "output_type": "execute_result"
    },
    {
     "data": {
      "image/png": "[encoded data removed]",
      "text/plain": [
       "<Figure size 720x720 with 1 Axes>"
      ]
     },
     "metadata": {
      "needs_background": "light"
     },
     "output_type": "display_data"
    }
   ],
   "source": [
    "plt.hist(groupby_domains['Format Fill Rate'])"
   ]
  },
  {
   "cell_type": "markdown",
   "metadata": {
    "colab_type": "text",
    "id": "Auc4D-P6POfg"
   },
   "source": [
    "**We can see that around the 80% of the Domains have a Format Fill Rate percentage  between 0-15%**\n",
    "\n"
   ]
  },
  {
   "cell_type": "markdown",
   "metadata": {},
   "source": [
    "## ADDING THE CATEGORY OF THE DOMAIN THROUGH A NEW TABLE"
   ]
  },
  {
   "cell_type": "code",
   "execution_count": 24,
   "metadata": {},
   "outputs": [
    {
     "data": {
      "text/html": [
       "<div>\n",
       "<style scoped>\n",
       "    .dataframe tbody tr th:only-of-type {\n",
       "        vertical-align: middle;\n",
       "    }\n",
       "\n",
       "    .dataframe tbody tr th {\n",
       "        vertical-align: top;\n",
       "    }\n",
       "\n",
       "    .dataframe thead th {\n",
       "        text-align: right;\n",
       "    }\n",
       "</style>\n",
       "<table border=\"1\" class=\"dataframe\">\n",
       "  <thead>\n",
       "    <tr style=\"text-align: right;\">\n",
       "      <th></th>\n",
       "      <th>Unnamed: 0</th>\n",
       "      <th>Partner/Seller Name</th>\n",
       "      <th>Partner/Seller ID</th>\n",
       "      <th>Inventory Relationship\\n(select from dropdown)</th>\n",
       "      <th>Domain</th>\n",
       "      <th>Category</th>\n",
       "      <th>Monthly Volume</th>\n",
       "      <th>Ad Formats</th>\n",
       "      <th>Banner/Player Dimensions</th>\n",
       "    </tr>\n",
       "  </thead>\n",
       "  <tbody>\n",
       "    <tr>\n",
       "      <th>0</th>\n",
       "      <td>NaN</td>\n",
       "      <td>Grupo LaRepublica</td>\n",
       "      <td>57044</td>\n",
       "      <td>Direct (working with the owner of the domain)</td>\n",
       "      <td>larepublica.pe</td>\n",
       "      <td>News &amp; Portals &gt; Newspapers</td>\n",
       "      <td>73000000</td>\n",
       "      <td>Video</td>\n",
       "      <td>640x360, 400x225</td>\n",
       "    </tr>\n",
       "    <tr>\n",
       "      <th>1</th>\n",
       "      <td>NaN</td>\n",
       "      <td>Grupo RBS</td>\n",
       "      <td>53622</td>\n",
       "      <td>Direct (working with the owner of the domain)</td>\n",
       "      <td>clicrbs.com.br</td>\n",
       "      <td>News &amp; Portals &gt; Newspapers</td>\n",
       "      <td>70000000</td>\n",
       "      <td>Video</td>\n",
       "      <td>640x360, 400x225</td>\n",
       "    </tr>\n",
       "    <tr>\n",
       "      <th>2</th>\n",
       "      <td>NaN</td>\n",
       "      <td>BioBioChile</td>\n",
       "      <td>54601</td>\n",
       "      <td>Direct (working with the owner of the domain)</td>\n",
       "      <td>biobiochile.cl</td>\n",
       "      <td>News &amp; Portals &gt; Newspapers</td>\n",
       "      <td>69000000</td>\n",
       "      <td>Video</td>\n",
       "      <td>640x360, 400x225</td>\n",
       "    </tr>\n",
       "    <tr>\n",
       "      <th>3</th>\n",
       "      <td>NaN</td>\n",
       "      <td>Studiosol</td>\n",
       "      <td>53903</td>\n",
       "      <td>Direct (working with the owner of the domain)</td>\n",
       "      <td>cifraclub.com.br</td>\n",
       "      <td>Music &amp; Radio &gt; General</td>\n",
       "      <td>66000000</td>\n",
       "      <td>Video</td>\n",
       "      <td>640x360, 400x225</td>\n",
       "    </tr>\n",
       "    <tr>\n",
       "      <th>4</th>\n",
       "      <td>NaN</td>\n",
       "      <td>Webedia</td>\n",
       "      <td>47119</td>\n",
       "      <td>Direct (working with the owner of the domain)</td>\n",
       "      <td>purepeople.com.br</td>\n",
       "      <td>Glamour &gt; Beauty</td>\n",
       "      <td>60000000</td>\n",
       "      <td>Video</td>\n",
       "      <td>640x360, 400x225</td>\n",
       "    </tr>\n",
       "  </tbody>\n",
       "</table>\n",
       "</div>"
      ],
      "text/plain": [
       "   Unnamed: 0 Partner/Seller Name  Partner/Seller ID  \\\n",
       "0         NaN   Grupo LaRepublica              57044   \n",
       "1         NaN           Grupo RBS              53622   \n",
       "2         NaN         BioBioChile              54601   \n",
       "3         NaN           Studiosol              53903   \n",
       "4         NaN             Webedia              47119   \n",
       "\n",
       "  Inventory Relationship\\n(select from dropdown)             Domain  \\\n",
       "0  Direct (working with the owner of the domain)     larepublica.pe   \n",
       "1  Direct (working with the owner of the domain)     clicrbs.com.br   \n",
       "2  Direct (working with the owner of the domain)     biobiochile.cl   \n",
       "3  Direct (working with the owner of the domain)   cifraclub.com.br   \n",
       "4  Direct (working with the owner of the domain)  purepeople.com.br   \n",
       "\n",
       "                      Category  Monthly Volume Ad Formats  \\\n",
       "0  News & Portals > Newspapers        73000000      Video   \n",
       "1  News & Portals > Newspapers        70000000      Video   \n",
       "2  News & Portals > Newspapers        69000000      Video   \n",
       "3      Music & Radio > General        66000000      Video   \n",
       "4             Glamour > Beauty        60000000      Video   \n",
       "\n",
       "  Banner/Player Dimensions  \n",
       "0         640x360, 400x225  \n",
       "1         640x360, 400x225  \n",
       "2         640x360, 400x225  \n",
       "3         640x360, 400x225  \n",
       "4         640x360, 400x225  "
      ]
     },
     "execution_count": 24,
     "metadata": {},
     "output_type": "execute_result"
    }
   ],
   "source": [
    "categories = pd.read_csv('Index Exchange Quality Inventory Mapping - Existing Acccount-Reseller-Domains - Compliance (1).csv')\n",
    "categories.columns = ['Unnamed: 0', 'Partner/Seller Name', 'Partner/Seller ID',\n",
    "       'Inventory Relationship\\n(select from dropdown)', 'Domain',\n",
    "       'Category', 'Monthly Volume', 'Ad Formats',\n",
    "       'Banner/Player Dimensions']\n",
    "categories.head(5)"
   ]
  },
  {
   "cell_type": "code",
   "execution_count": 25,
   "metadata": {},
   "outputs": [
    {
     "data": {
      "text/plain": [
       "Index(['Unnamed: 0', 'Partner/Seller Name', 'Partner/Seller ID',\n",
       "       'Inventory Relationship\\n(select from dropdown)', 'Domain', 'Category',\n",
       "       'Monthly Volume', 'Ad Formats', 'Banner/Player Dimensions'],\n",
       "      dtype='object')"
      ]
     },
     "execution_count": 25,
     "metadata": {},
     "output_type": "execute_result"
    }
   ],
   "source": [
    "categories.columns"
   ]
  },
  {
   "cell_type": "code",
   "execution_count": 26,
   "metadata": {},
   "outputs": [
    {
     "name": "stdout",
     "output_type": "stream",
     "text": [
      "<class 'pandas.core.frame.DataFrame'>\n",
      "RangeIndex: 756 entries, 0 to 755\n",
      "Data columns (total 9 columns):\n",
      " #   Column                                         Non-Null Count  Dtype  \n",
      "---  ------                                         --------------  -----  \n",
      " 0   Unnamed: 0                                     0 non-null      float64\n",
      " 1   Partner/Seller Name                            756 non-null    object \n",
      " 2   Partner/Seller ID                              756 non-null    int64  \n",
      " 3   Inventory Relationship\n",
      "(select from dropdown)  756 non-null    object \n",
      " 4   Domain                                         756 non-null    object \n",
      " 5   Category                                       756 non-null    object \n",
      " 6   Monthly Volume                                 756 non-null    int64  \n",
      " 7   Ad Formats                                     756 non-null    object \n",
      " 8   Banner/Player Dimensions                       756 non-null    object \n",
      "dtypes: float64(1), int64(2), object(6)\n",
      "memory usage: 53.3+ KB\n"
     ]
    }
   ],
   "source": [
    "categories.info()"
   ]
  },
  {
   "cell_type": "code",
   "execution_count": 27,
   "metadata": {},
   "outputs": [
    {
     "data": {
      "text/plain": [
       "Index(['Unnamed: 0', 'Partner/Seller Name', 'Partner/Seller ID',\n",
       "       'Inventory Relationship\\n(select from dropdown)', 'Domain', 'Category',\n",
       "       'Monthly Volume', 'Ad Formats', 'Banner/Player Dimensions'],\n",
       "      dtype='object')"
      ]
     },
     "execution_count": 27,
     "metadata": {},
     "output_type": "execute_result"
    }
   ],
   "source": [
    "categories.columns"
   ]
  },
  {
   "cell_type": "code",
   "execution_count": 28,
   "metadata": {},
   "outputs": [
    {
     "name": "stdout",
     "output_type": "stream",
     "text": [
      "52 categories:\n"
     ]
    },
    {
     "data": {
      "text/plain": [
       "array(['News & Portals > Newspapers', 'Music & Radio > General',\n",
       "       'Glamour > Beauty', 'Food > Cooking & Baking',\n",
       "       'Sports > News & Scores', 'Music & Radio > Lyrics',\n",
       "       'Health & Wellness > Fitness', 'Community & Culture > General',\n",
       "       'News & Portals > Television Stations',\n",
       "       'Movies & Television > Television', 'Sports > Football',\n",
       "       'Glamour > Celebrities', 'Education & Careers > Careers & Jobs',\n",
       "       'Movies & Television > Movies', 'Health & Wellness > Reference',\n",
       "       'Money & Investing > Investing', 'B-to-B > Business News',\n",
       "       'Education & Careers > Science & Technology',\n",
       "       'Leisure > Astrology', 'Home > General',\n",
       "       'Community & Culture > Humor & Entertainment',\n",
       "       'Education & Careers > K-12', 'Tech & Gaming > Tech News',\n",
       "       'Tech & Gaming > Console Games', 'Glamour > Women',\n",
       "       'Family & Parenting > Parenting', 'Music & Radio > Songs & Videos',\n",
       "       'News & Portals > News & Commentary', 'Casual Games > Sweepstakes',\n",
       "       'Education & Careers > Literature', 'B-to-B > Business Resources',\n",
       "       'Community & Culture > Social Networking',\n",
       "       'Casual Games > Games & Puzzles',\n",
       "       'Money & Investing > Personal Finance', 'Sports > Boxing',\n",
       "       'Education & Careers > History & Reference',\n",
       "       'Education & Careers > Facts & Trivia',\n",
       "       'Tech & Gaming > Tech Resources', 'Family & Parenting > General',\n",
       "       'Travel > Destinations', 'Health & Wellness > Nutrition',\n",
       "       'Shopping > Shopping & Comparison', 'Travel > Transportation',\n",
       "       'Travel > General', 'Home > Pets',\n",
       "       'Shopping > Auctions & Classifieds',\n",
       "       'Music & Radio > Amateur Artists', 'Autos > General Interest',\n",
       "       'Sports > Hockey', 'Family & Parenting > Wedding',\n",
       "       'Home > Home Improvement', 'Shopping > Business Directories'],\n",
       "      dtype=object)"
      ]
     },
     "execution_count": 28,
     "metadata": {},
     "output_type": "execute_result"
    }
   ],
   "source": [
    "print(len(categories['Category'].unique()), 'categories:')\n",
    "categories['Category'].unique()\n"
   ]
  },
  {
   "cell_type": "markdown",
   "metadata": {},
   "source": [
    "- In order to reduce the number of categories, I´m going to keep the general category only, and not the specific one"
   ]
  },
  {
   "cell_type": "code",
   "execution_count": 29,
   "metadata": {},
   "outputs": [],
   "source": [
    "import re\n",
    "pattern = '>'\n",
    "renamed_categories = []\n",
    "for string in categories['Category']:\n",
    "    text = string\n",
    "    match = re.search(pattern, text)\n",
    "    s = match.start()\n",
    "    renamed_categories.append(string[:s])\n",
    "categories['Category'] = categories['Category'].replace(categories['Category'].values, renamed_categories )"
   ]
  },
  {
   "cell_type": "code",
   "execution_count": 30,
   "metadata": {},
   "outputs": [
    {
     "data": {
      "text/html": [
       "<div>\n",
       "<style scoped>\n",
       "    .dataframe tbody tr th:only-of-type {\n",
       "        vertical-align: middle;\n",
       "    }\n",
       "\n",
       "    .dataframe tbody tr th {\n",
       "        vertical-align: top;\n",
       "    }\n",
       "\n",
       "    .dataframe thead th {\n",
       "        text-align: right;\n",
       "    }\n",
       "</style>\n",
       "<table border=\"1\" class=\"dataframe\">\n",
       "  <thead>\n",
       "    <tr style=\"text-align: right;\">\n",
       "      <th></th>\n",
       "      <th>Unnamed: 0</th>\n",
       "      <th>Partner/Seller Name</th>\n",
       "      <th>Partner/Seller ID</th>\n",
       "      <th>Inventory Relationship\\n(select from dropdown)</th>\n",
       "      <th>Domain</th>\n",
       "      <th>Category</th>\n",
       "      <th>Monthly Volume</th>\n",
       "      <th>Ad Formats</th>\n",
       "      <th>Banner/Player Dimensions</th>\n",
       "    </tr>\n",
       "  </thead>\n",
       "  <tbody>\n",
       "    <tr>\n",
       "      <th>0</th>\n",
       "      <td>NaN</td>\n",
       "      <td>Grupo LaRepublica</td>\n",
       "      <td>57044</td>\n",
       "      <td>Direct (working with the owner of the domain)</td>\n",
       "      <td>larepublica.pe</td>\n",
       "      <td>News &amp; Portals</td>\n",
       "      <td>73000000</td>\n",
       "      <td>Video</td>\n",
       "      <td>640x360, 400x225</td>\n",
       "    </tr>\n",
       "    <tr>\n",
       "      <th>1</th>\n",
       "      <td>NaN</td>\n",
       "      <td>Grupo RBS</td>\n",
       "      <td>53622</td>\n",
       "      <td>Direct (working with the owner of the domain)</td>\n",
       "      <td>clicrbs.com.br</td>\n",
       "      <td>News &amp; Portals</td>\n",
       "      <td>70000000</td>\n",
       "      <td>Video</td>\n",
       "      <td>640x360, 400x225</td>\n",
       "    </tr>\n",
       "    <tr>\n",
       "      <th>2</th>\n",
       "      <td>NaN</td>\n",
       "      <td>BioBioChile</td>\n",
       "      <td>54601</td>\n",
       "      <td>Direct (working with the owner of the domain)</td>\n",
       "      <td>biobiochile.cl</td>\n",
       "      <td>News &amp; Portals</td>\n",
       "      <td>69000000</td>\n",
       "      <td>Video</td>\n",
       "      <td>640x360, 400x225</td>\n",
       "    </tr>\n",
       "    <tr>\n",
       "      <th>3</th>\n",
       "      <td>NaN</td>\n",
       "      <td>Studiosol</td>\n",
       "      <td>53903</td>\n",
       "      <td>Direct (working with the owner of the domain)</td>\n",
       "      <td>cifraclub.com.br</td>\n",
       "      <td>Music &amp; Radio</td>\n",
       "      <td>66000000</td>\n",
       "      <td>Video</td>\n",
       "      <td>640x360, 400x225</td>\n",
       "    </tr>\n",
       "    <tr>\n",
       "      <th>4</th>\n",
       "      <td>NaN</td>\n",
       "      <td>Webedia</td>\n",
       "      <td>47119</td>\n",
       "      <td>Direct (working with the owner of the domain)</td>\n",
       "      <td>purepeople.com.br</td>\n",
       "      <td>Glamour</td>\n",
       "      <td>60000000</td>\n",
       "      <td>Video</td>\n",
       "      <td>640x360, 400x225</td>\n",
       "    </tr>\n",
       "  </tbody>\n",
       "</table>\n",
       "</div>"
      ],
      "text/plain": [
       "   Unnamed: 0 Partner/Seller Name  Partner/Seller ID  \\\n",
       "0         NaN   Grupo LaRepublica              57044   \n",
       "1         NaN           Grupo RBS              53622   \n",
       "2         NaN         BioBioChile              54601   \n",
       "3         NaN           Studiosol              53903   \n",
       "4         NaN             Webedia              47119   \n",
       "\n",
       "  Inventory Relationship\\n(select from dropdown)             Domain  \\\n",
       "0  Direct (working with the owner of the domain)     larepublica.pe   \n",
       "1  Direct (working with the owner of the domain)     clicrbs.com.br   \n",
       "2  Direct (working with the owner of the domain)     biobiochile.cl   \n",
       "3  Direct (working with the owner of the domain)   cifraclub.com.br   \n",
       "4  Direct (working with the owner of the domain)  purepeople.com.br   \n",
       "\n",
       "          Category  Monthly Volume Ad Formats Banner/Player Dimensions  \n",
       "0  News & Portals         73000000      Video         640x360, 400x225  \n",
       "1  News & Portals         70000000      Video         640x360, 400x225  \n",
       "2  News & Portals         69000000      Video         640x360, 400x225  \n",
       "3   Music & Radio         66000000      Video         640x360, 400x225  \n",
       "4         Glamour         60000000      Video         640x360, 400x225  "
      ]
     },
     "execution_count": 30,
     "metadata": {},
     "output_type": "execute_result"
    }
   ],
   "source": [
    "categories.head(5)"
   ]
  },
  {
   "cell_type": "code",
   "execution_count": 31,
   "metadata": {},
   "outputs": [
    {
     "data": {
      "text/plain": [
       "19"
      ]
     },
     "execution_count": 31,
     "metadata": {},
     "output_type": "execute_result"
    }
   ],
   "source": [
    "len(categories['Category'].unique())"
   ]
  },
  {
   "cell_type": "code",
   "execution_count": 32,
   "metadata": {},
   "outputs": [
    {
     "data": {
      "text/plain": [
       "array(['News & Portals ', 'Music & Radio ', 'Glamour ', 'Food ',\n",
       "       'Sports ', 'Health & Wellness ', 'Community & Culture ',\n",
       "       'Movies & Television ', 'Education & Careers ',\n",
       "       'Money & Investing ', 'B-to-B ', 'Leisure ', 'Home ',\n",
       "       'Tech & Gaming ', 'Family & Parenting ', 'Casual Games ',\n",
       "       'Travel ', 'Shopping ', 'Autos '], dtype=object)"
      ]
     },
     "execution_count": 32,
     "metadata": {},
     "output_type": "execute_result"
    }
   ],
   "source": [
    "categories['Category'].unique()"
   ]
  },
  {
   "cell_type": "markdown",
   "metadata": {},
   "source": [
    "- Now we have 19 categories"
   ]
  },
  {
   "cell_type": "code",
   "execution_count": 33,
   "metadata": {},
   "outputs": [
    {
     "data": {
      "text/html": [
       "<div>\n",
       "<style scoped>\n",
       "    .dataframe tbody tr th:only-of-type {\n",
       "        vertical-align: middle;\n",
       "    }\n",
       "\n",
       "    .dataframe tbody tr th {\n",
       "        vertical-align: top;\n",
       "    }\n",
       "\n",
       "    .dataframe thead th {\n",
       "        text-align: right;\n",
       "    }\n",
       "</style>\n",
       "<table border=\"1\" class=\"dataframe\">\n",
       "  <thead>\n",
       "    <tr style=\"text-align: right;\">\n",
       "      <th></th>\n",
       "      <th>Category</th>\n",
       "      <th>Monthly Volume</th>\n",
       "      <th>Category importance</th>\n",
       "    </tr>\n",
       "  </thead>\n",
       "  <tbody>\n",
       "    <tr>\n",
       "      <th>0</th>\n",
       "      <td>News &amp; Portals</td>\n",
       "      <td>2366000000</td>\n",
       "      <td>0.586079</td>\n",
       "    </tr>\n",
       "    <tr>\n",
       "      <th>1</th>\n",
       "      <td>Sports</td>\n",
       "      <td>308000000</td>\n",
       "      <td>0.076294</td>\n",
       "    </tr>\n",
       "    <tr>\n",
       "      <th>2</th>\n",
       "      <td>Community &amp; Culture</td>\n",
       "      <td>267000000</td>\n",
       "      <td>0.066138</td>\n",
       "    </tr>\n",
       "    <tr>\n",
       "      <th>3</th>\n",
       "      <td>Music &amp; Radio</td>\n",
       "      <td>227000000</td>\n",
       "      <td>0.056230</td>\n",
       "    </tr>\n",
       "    <tr>\n",
       "      <th>4</th>\n",
       "      <td>Glamour</td>\n",
       "      <td>192000000</td>\n",
       "      <td>0.047560</td>\n",
       "    </tr>\n",
       "  </tbody>\n",
       "</table>\n",
       "</div>"
      ],
      "text/plain": [
       "               Category  Monthly Volume  Category importance\n",
       "0       News & Portals       2366000000             0.586079\n",
       "1               Sports        308000000             0.076294\n",
       "2  Community & Culture        267000000             0.066138\n",
       "3        Music & Radio        227000000             0.056230\n",
       "4              Glamour        192000000             0.047560"
      ]
     },
     "execution_count": 33,
     "metadata": {},
     "output_type": "execute_result"
    }
   ],
   "source": [
    "categories_importance = pd.DataFrame(categories.groupby('Category')['Monthly Volume'].sum().sort_values(ascending=False).reset_index())\n",
    "\n",
    "total_formatloads = categories_importance['Monthly Volume'].sum()\n",
    "categories_importance['Category importance'] = categories_importance['Monthly Volume'].apply(lambda x: x/total_formatloads)\n",
    "categories_importance.head(5)"
   ]
  },
  {
   "cell_type": "code",
   "execution_count": 34,
   "metadata": {},
   "outputs": [
    {
     "data": {
      "text/html": [
       "<div>\n",
       "<style scoped>\n",
       "    .dataframe tbody tr th:only-of-type {\n",
       "        vertical-align: middle;\n",
       "    }\n",
       "\n",
       "    .dataframe tbody tr th {\n",
       "        vertical-align: top;\n",
       "    }\n",
       "\n",
       "    .dataframe thead th {\n",
       "        text-align: right;\n",
       "    }\n",
       "</style>\n",
       "<table border=\"1\" class=\"dataframe\">\n",
       "  <thead>\n",
       "    <tr style=\"text-align: right;\">\n",
       "      <th></th>\n",
       "      <th>Domain</th>\n",
       "      <th>Category</th>\n",
       "      <th>Category importance</th>\n",
       "    </tr>\n",
       "  </thead>\n",
       "  <tbody>\n",
       "    <tr>\n",
       "      <th>0</th>\n",
       "      <td>larepublica.pe</td>\n",
       "      <td>News &amp; Portals</td>\n",
       "      <td>0.586079</td>\n",
       "    </tr>\n",
       "    <tr>\n",
       "      <th>1</th>\n",
       "      <td>clicrbs.com.br</td>\n",
       "      <td>News &amp; Portals</td>\n",
       "      <td>0.586079</td>\n",
       "    </tr>\n",
       "    <tr>\n",
       "      <th>2</th>\n",
       "      <td>biobiochile.cl</td>\n",
       "      <td>News &amp; Portals</td>\n",
       "      <td>0.586079</td>\n",
       "    </tr>\n",
       "    <tr>\n",
       "      <th>3</th>\n",
       "      <td>laverdadnoticias.com</td>\n",
       "      <td>News &amp; Portals</td>\n",
       "      <td>0.586079</td>\n",
       "    </tr>\n",
       "    <tr>\n",
       "      <th>4</th>\n",
       "      <td>cooperativa.cl</td>\n",
       "      <td>News &amp; Portals</td>\n",
       "      <td>0.586079</td>\n",
       "    </tr>\n",
       "  </tbody>\n",
       "</table>\n",
       "</div>"
      ],
      "text/plain": [
       "                 Domain         Category  Category importance\n",
       "0        larepublica.pe  News & Portals              0.586079\n",
       "1        clicrbs.com.br  News & Portals              0.586079\n",
       "2        biobiochile.cl  News & Portals              0.586079\n",
       "3  laverdadnoticias.com  News & Portals              0.586079\n",
       "4        cooperativa.cl  News & Portals              0.586079"
      ]
     },
     "execution_count": 34,
     "metadata": {},
     "output_type": "execute_result"
    }
   ],
   "source": [
    "domains_categories_importance = categories.merge(categories_importance, on='Category')\n",
    "domains_categories_importance = domains_categories_importance[['Domain','Category','Category importance']]\n",
    "domains_categories_importance.head(5) \n"
   ]
  },
  {
   "cell_type": "markdown",
   "metadata": {},
   "source": [
    "- Merging the categories with the main DataFrames"
   ]
  },
  {
   "cell_type": "code",
   "execution_count": 59,
   "metadata": {},
   "outputs": [
    {
     "data": {
      "text/html": [
       "<div>\n",
       "<style scoped>\n",
       "    .dataframe tbody tr th:only-of-type {\n",
       "        vertical-align: middle;\n",
       "    }\n",
       "\n",
       "    .dataframe tbody tr th {\n",
       "        vertical-align: top;\n",
       "    }\n",
       "\n",
       "    .dataframe thead th {\n",
       "        text-align: right;\n",
       "    }\n",
       "</style>\n",
       "<table border=\"1\" class=\"dataframe\">\n",
       "  <thead>\n",
       "    <tr style=\"text-align: right;\">\n",
       "      <th></th>\n",
       "      <th>Time</th>\n",
       "      <th>Domain</th>\n",
       "      <th>Format Loads</th>\n",
       "      <th>Format Fill Rate</th>\n",
       "      <th>Impressions</th>\n",
       "      <th>Viewability Rate</th>\n",
       "      <th>Efficiency Rate</th>\n",
       "      <th>CPM</th>\n",
       "      <th>Cost</th>\n",
       "      <th>Clicks</th>\n",
       "      <th>CTR</th>\n",
       "      <th>25% View Rate</th>\n",
       "      <th>50% View Rate</th>\n",
       "      <th>75% View Rate</th>\n",
       "      <th>100% View Rate</th>\n",
       "      <th>Category</th>\n",
       "      <th>Category importance</th>\n",
       "    </tr>\n",
       "  </thead>\n",
       "  <tbody>\n",
       "    <tr>\n",
       "      <th>0</th>\n",
       "      <td>2020-01-01</td>\n",
       "      <td>game24h.vn</td>\n",
       "      <td>514886.0</td>\n",
       "      <td>0.00</td>\n",
       "      <td>20</td>\n",
       "      <td>100.00</td>\n",
       "      <td>100.00</td>\n",
       "      <td>3.80</td>\n",
       "      <td>0.053130</td>\n",
       "      <td>0</td>\n",
       "      <td>0.00</td>\n",
       "      <td>65.00</td>\n",
       "      <td>60.00</td>\n",
       "      <td>50.00</td>\n",
       "      <td>45.00</td>\n",
       "      <td>NaN</td>\n",
       "      <td>NaN</td>\n",
       "    </tr>\n",
       "    <tr>\n",
       "      <th>1</th>\n",
       "      <td>2020-01-01</td>\n",
       "      <td>bestie.vn</td>\n",
       "      <td>87548.0</td>\n",
       "      <td>0.94</td>\n",
       "      <td>823</td>\n",
       "      <td>87.70</td>\n",
       "      <td>92.68</td>\n",
       "      <td>1.74</td>\n",
       "      <td>0.573932</td>\n",
       "      <td>0</td>\n",
       "      <td>0.00</td>\n",
       "      <td>92.10</td>\n",
       "      <td>87.97</td>\n",
       "      <td>84.45</td>\n",
       "      <td>82.26</td>\n",
       "      <td>Community &amp; Culture</td>\n",
       "      <td>0.066138</td>\n",
       "    </tr>\n",
       "    <tr>\n",
       "      <th>2</th>\n",
       "      <td>2020-01-01</td>\n",
       "      <td>behindwoods.com</td>\n",
       "      <td>221308.0</td>\n",
       "      <td>5.03</td>\n",
       "      <td>11138</td>\n",
       "      <td>83.07</td>\n",
       "      <td>98.63</td>\n",
       "      <td>1.55</td>\n",
       "      <td>8.607510</td>\n",
       "      <td>114</td>\n",
       "      <td>1.02</td>\n",
       "      <td>75.97</td>\n",
       "      <td>64.73</td>\n",
       "      <td>56.30</td>\n",
       "      <td>48.81</td>\n",
       "      <td>Community &amp; Culture</td>\n",
       "      <td>0.066138</td>\n",
       "    </tr>\n",
       "    <tr>\n",
       "      <th>3</th>\n",
       "      <td>2020-01-01</td>\n",
       "      <td>vanguardia.com</td>\n",
       "      <td>122442.0</td>\n",
       "      <td>2.09</td>\n",
       "      <td>2563</td>\n",
       "      <td>87.20</td>\n",
       "      <td>98.77</td>\n",
       "      <td>1.68</td>\n",
       "      <td>1.719096</td>\n",
       "      <td>22</td>\n",
       "      <td>0.86</td>\n",
       "      <td>85.02</td>\n",
       "      <td>76.79</td>\n",
       "      <td>69.76</td>\n",
       "      <td>64.49</td>\n",
       "      <td>News &amp; Portals</td>\n",
       "      <td>0.586079</td>\n",
       "    </tr>\n",
       "    <tr>\n",
       "      <th>4</th>\n",
       "      <td>2020-01-01</td>\n",
       "      <td>fmdos.cl</td>\n",
       "      <td>201116.0</td>\n",
       "      <td>5.23</td>\n",
       "      <td>10526</td>\n",
       "      <td>85.04</td>\n",
       "      <td>99.88</td>\n",
       "      <td>1.54</td>\n",
       "      <td>6.488323</td>\n",
       "      <td>239</td>\n",
       "      <td>2.27</td>\n",
       "      <td>80.17</td>\n",
       "      <td>68.21</td>\n",
       "      <td>60.04</td>\n",
       "      <td>55.01</td>\n",
       "      <td>Glamour</td>\n",
       "      <td>0.047560</td>\n",
       "    </tr>\n",
       "  </tbody>\n",
       "</table>\n",
       "</div>"
      ],
      "text/plain": [
       "        Time           Domain  Format Loads  Format Fill Rate  Impressions  \\\n",
       "0 2020-01-01       game24h.vn      514886.0              0.00           20   \n",
       "1 2020-01-01        bestie.vn       87548.0              0.94          823   \n",
       "2 2020-01-01  behindwoods.com      221308.0              5.03        11138   \n",
       "3 2020-01-01   vanguardia.com      122442.0              2.09         2563   \n",
       "4 2020-01-01         fmdos.cl      201116.0              5.23        10526   \n",
       "\n",
       "   Viewability Rate  Efficiency Rate   CPM      Cost  Clicks   CTR  \\\n",
       "0            100.00           100.00  3.80  0.053130       0  0.00   \n",
       "1             87.70            92.68  1.74  0.573932       0  0.00   \n",
       "2             83.07            98.63  1.55  8.607510     114  1.02   \n",
       "3             87.20            98.77  1.68  1.719096      22  0.86   \n",
       "4             85.04            99.88  1.54  6.488323     239  2.27   \n",
       "\n",
       "   25% View Rate  50% View Rate  75% View Rate  100% View Rate  \\\n",
       "0          65.00          60.00          50.00           45.00   \n",
       "1          92.10          87.97          84.45           82.26   \n",
       "2          75.97          64.73          56.30           48.81   \n",
       "3          85.02          76.79          69.76           64.49   \n",
       "4          80.17          68.21          60.04           55.01   \n",
       "\n",
       "               Category  Category importance  \n",
       "0                   NaN                  NaN  \n",
       "1  Community & Culture              0.066138  \n",
       "2  Community & Culture              0.066138  \n",
       "3       News & Portals              0.586079  \n",
       "4              Glamour              0.047560  "
      ]
     },
     "metadata": {},
     "output_type": "display_data"
    },
    {
     "data": {
      "text/plain": [
       "Time                      0\n",
       "Domain                    0\n",
       "Format Loads              0\n",
       "Format Fill Rate          0\n",
       "Impressions               0\n",
       "Viewability Rate          0\n",
       "Efficiency Rate           0\n",
       "CPM                       0\n",
       "Cost                      0\n",
       "Clicks                    0\n",
       "CTR                       0\n",
       "25% View Rate             0\n",
       "50% View Rate             0\n",
       "75% View Rate             0\n",
       "100% View Rate            0\n",
       "Category               4931\n",
       "Category importance    4931\n",
       "dtype: int64"
      ]
     },
     "execution_count": 59,
     "metadata": {},
     "output_type": "execute_result"
    }
   ],
   "source": [
    "report = report.merge(domains_categories_importance, on='Domain', how='left')\n",
    "display(report.head(5))\n",
    "report.isnull().sum()"
   ]
  },
  {
   "cell_type": "code",
   "execution_count": 60,
   "metadata": {},
   "outputs": [
    {
     "data": {
      "text/plain": [
       "(21567, 17)"
      ]
     },
     "execution_count": 60,
     "metadata": {},
     "output_type": "execute_result"
    }
   ],
   "source": [
    "report.shape"
   ]
  },
  {
   "cell_type": "code",
   "execution_count": 61,
   "metadata": {},
   "outputs": [
    {
     "data": {
      "text/html": [
       "<div>\n",
       "<style scoped>\n",
       "    .dataframe tbody tr th:only-of-type {\n",
       "        vertical-align: middle;\n",
       "    }\n",
       "\n",
       "    .dataframe tbody tr th {\n",
       "        vertical-align: top;\n",
       "    }\n",
       "\n",
       "    .dataframe thead th {\n",
       "        text-align: right;\n",
       "    }\n",
       "</style>\n",
       "<table border=\"1\" class=\"dataframe\">\n",
       "  <thead>\n",
       "    <tr style=\"text-align: right;\">\n",
       "      <th></th>\n",
       "      <th>Domain</th>\n",
       "      <th>Format Loads</th>\n",
       "      <th>Impressions</th>\n",
       "      <th>Format Fill Rate</th>\n",
       "      <th>Viewability Rate</th>\n",
       "      <th>Efficiency Rate</th>\n",
       "      <th>CPM</th>\n",
       "      <th>Cost</th>\n",
       "      <th>Clicks</th>\n",
       "      <th>CTR</th>\n",
       "      <th>25% View Rate</th>\n",
       "      <th>50% View Rate</th>\n",
       "      <th>75% View Rate</th>\n",
       "      <th>100% View Rate</th>\n",
       "      <th>Category</th>\n",
       "      <th>Category importance</th>\n",
       "    </tr>\n",
       "  </thead>\n",
       "  <tbody>\n",
       "    <tr>\n",
       "      <th>0</th>\n",
       "      <td>rediff.com</td>\n",
       "      <td>97496012.0</td>\n",
       "      <td>9816423</td>\n",
       "      <td>11.468696</td>\n",
       "      <td>76.979457</td>\n",
       "      <td>98.149565</td>\n",
       "      <td>1.674130</td>\n",
       "      <td>75.019861</td>\n",
       "      <td>36582</td>\n",
       "      <td>36.37</td>\n",
       "      <td>71.908587</td>\n",
       "      <td>59.999565</td>\n",
       "      <td>52.975000</td>\n",
       "      <td>47.585761</td>\n",
       "      <td>News &amp; Portals</td>\n",
       "      <td>0.586079</td>\n",
       "    </tr>\n",
       "    <tr>\n",
       "      <th>1</th>\n",
       "      <td>missyusa.com</td>\n",
       "      <td>97473418.0</td>\n",
       "      <td>6128716</td>\n",
       "      <td>7.545385</td>\n",
       "      <td>75.436538</td>\n",
       "      <td>95.649231</td>\n",
       "      <td>1.621923</td>\n",
       "      <td>348.312388</td>\n",
       "      <td>5167</td>\n",
       "      <td>2.32</td>\n",
       "      <td>73.578462</td>\n",
       "      <td>60.050769</td>\n",
       "      <td>50.964615</td>\n",
       "      <td>43.687308</td>\n",
       "      <td>News &amp; Portals</td>\n",
       "      <td>0.586079</td>\n",
       "    </tr>\n",
       "    <tr>\n",
       "      <th>2</th>\n",
       "      <td>mundopositivo.com.br</td>\n",
       "      <td>94053928.0</td>\n",
       "      <td>2171544</td>\n",
       "      <td>2.446739</td>\n",
       "      <td>69.167391</td>\n",
       "      <td>99.418261</td>\n",
       "      <td>1.812391</td>\n",
       "      <td>19.303819</td>\n",
       "      <td>352</td>\n",
       "      <td>2.09</td>\n",
       "      <td>84.740978</td>\n",
       "      <td>87.405652</td>\n",
       "      <td>85.409674</td>\n",
       "      <td>81.476522</td>\n",
       "      <td>Community &amp; Culture</td>\n",
       "      <td>0.066138</td>\n",
       "    </tr>\n",
       "    <tr>\n",
       "      <th>3</th>\n",
       "      <td>chinatimes.com</td>\n",
       "      <td>87913744.0</td>\n",
       "      <td>17022099</td>\n",
       "      <td>19.283913</td>\n",
       "      <td>88.242065</td>\n",
       "      <td>99.628478</td>\n",
       "      <td>1.762065</td>\n",
       "      <td>129.135660</td>\n",
       "      <td>160360</td>\n",
       "      <td>83.92</td>\n",
       "      <td>79.241304</td>\n",
       "      <td>69.383478</td>\n",
       "      <td>62.438043</td>\n",
       "      <td>56.185978</td>\n",
       "      <td>News &amp; Portals</td>\n",
       "      <td>0.586079</td>\n",
       "    </tr>\n",
       "    <tr>\n",
       "      <th>4</th>\n",
       "      <td>correiobraziliense.com.br</td>\n",
       "      <td>77352838.0</td>\n",
       "      <td>12626361</td>\n",
       "      <td>17.077391</td>\n",
       "      <td>77.046196</td>\n",
       "      <td>99.761630</td>\n",
       "      <td>1.659674</td>\n",
       "      <td>90.970322</td>\n",
       "      <td>54502</td>\n",
       "      <td>45.22</td>\n",
       "      <td>83.972065</td>\n",
       "      <td>78.116957</td>\n",
       "      <td>73.168913</td>\n",
       "      <td>67.466413</td>\n",
       "      <td>News &amp; Portals</td>\n",
       "      <td>0.586079</td>\n",
       "    </tr>\n",
       "  </tbody>\n",
       "</table>\n",
       "</div>"
      ],
      "text/plain": [
       "                      Domain  Format Loads  Impressions  Format Fill Rate  \\\n",
       "0                 rediff.com    97496012.0      9816423         11.468696   \n",
       "1               missyusa.com    97473418.0      6128716          7.545385   \n",
       "2       mundopositivo.com.br    94053928.0      2171544          2.446739   \n",
       "3             chinatimes.com    87913744.0     17022099         19.283913   \n",
       "4  correiobraziliense.com.br    77352838.0     12626361         17.077391   \n",
       "\n",
       "   Viewability Rate  Efficiency Rate       CPM        Cost  Clicks    CTR  \\\n",
       "0         76.979457        98.149565  1.674130   75.019861   36582  36.37   \n",
       "1         75.436538        95.649231  1.621923  348.312388    5167   2.32   \n",
       "2         69.167391        99.418261  1.812391   19.303819     352   2.09   \n",
       "3         88.242065        99.628478  1.762065  129.135660  160360  83.92   \n",
       "4         77.046196        99.761630  1.659674   90.970322   54502  45.22   \n",
       "\n",
       "   25% View Rate  50% View Rate  75% View Rate  100% View Rate  \\\n",
       "0      71.908587      59.999565      52.975000       47.585761   \n",
       "1      73.578462      60.050769      50.964615       43.687308   \n",
       "2      84.740978      87.405652      85.409674       81.476522   \n",
       "3      79.241304      69.383478      62.438043       56.185978   \n",
       "4      83.972065      78.116957      73.168913       67.466413   \n",
       "\n",
       "               Category  Category importance  \n",
       "0       News & Portals              0.586079  \n",
       "1       News & Portals              0.586079  \n",
       "2  Community & Culture              0.066138  \n",
       "3       News & Portals              0.586079  \n",
       "4       News & Portals              0.586079  "
      ]
     },
     "metadata": {},
     "output_type": "display_data"
    },
    {
     "data": {
      "text/plain": [
       "Domain                   0\n",
       "Format Loads             0\n",
       "Impressions              0\n",
       "Format Fill Rate         0\n",
       "Viewability Rate         0\n",
       "Efficiency Rate          0\n",
       "CPM                      0\n",
       "Cost                     0\n",
       "Clicks                   0\n",
       "CTR                      0\n",
       "25% View Rate            0\n",
       "50% View Rate            0\n",
       "75% View Rate            0\n",
       "100% View Rate           0\n",
       "Category               170\n",
       "Category importance    170\n",
       "dtype: int64"
      ]
     },
     "execution_count": 61,
     "metadata": {},
     "output_type": "execute_result"
    }
   ],
   "source": [
    "groupby_domains = groupby_domains.merge(domains_categories_importance, on='Domain', how ='left')\n",
    "display(groupby_domains.head(5))\n",
    "groupby_domains.isnull().sum()"
   ]
  },
  {
   "cell_type": "code",
   "execution_count": 62,
   "metadata": {},
   "outputs": [
    {
     "data": {
      "text/plain": [
       "(542, 16)"
      ]
     },
     "execution_count": 62,
     "metadata": {},
     "output_type": "execute_result"
    }
   ],
   "source": [
    "groupby_domains.shape"
   ]
  },
  {
   "cell_type": "code",
   "execution_count": 63,
   "metadata": {},
   "outputs": [
    {
     "data": {
      "text/plain": [
       "News & Portals          219\n",
       "Community & Culture      32\n",
       "Sports                   25\n",
       "Movies & Television      15\n",
       "Tech & Gaming            14\n",
       "Name: Category, dtype: int64"
      ]
     },
     "execution_count": 63,
     "metadata": {},
     "output_type": "execute_result"
    }
   ],
   "source": [
    "groupby_domains['Category'].value_counts().head(5)"
   ]
  },
  {
   "cell_type": "markdown",
   "metadata": {},
   "source": [
    "- We have to deal with the new NANS appeared with the merging oh the categories importance DataFrame. Let´s create a new DataFrame with only the rows with NAN category to analyze if this domains are relevant, and decide if we can drop them or we should keep them."
   ]
  },
  {
   "cell_type": "code",
   "execution_count": 64,
   "metadata": {},
   "outputs": [
    {
     "data": {
      "text/plain": [
       "(170, 16)"
      ]
     },
     "metadata": {},
     "output_type": "display_data"
    }
   ],
   "source": [
    "groupby_domains_NANs = groupby_domains[groupby_domains['Category'].isnull()]\n",
    "display(groupby_domains_NANs.shape)"
   ]
  },
  {
   "cell_type": "code",
   "execution_count": 67,
   "metadata": {},
   "outputs": [],
   "source": [
    "groupby_domains_NANs.to_csv('groupby_domains_170NANs.csv')"
   ]
  },
  {
   "cell_type": "markdown",
   "metadata": {},
   "source": [
    "### In effect, the Domains without the category are not necessarily irrelevant, around 50% of these Domains have more than 1 million of Format Loads, so I´m gonna manually complete the 170 Domains without category to have this column fill"
   ]
  },
  {
   "cell_type": "code",
   "execution_count": 35,
   "metadata": {},
   "outputs": [
    {
     "data": {
      "text/html": [
       "<div>\n",
       "<style scoped>\n",
       "    .dataframe tbody tr th:only-of-type {\n",
       "        vertical-align: middle;\n",
       "    }\n",
       "\n",
       "    .dataframe tbody tr th {\n",
       "        vertical-align: top;\n",
       "    }\n",
       "\n",
       "    .dataframe thead th {\n",
       "        text-align: right;\n",
       "    }\n",
       "</style>\n",
       "<table border=\"1\" class=\"dataframe\">\n",
       "  <thead>\n",
       "    <tr style=\"text-align: right;\">\n",
       "      <th></th>\n",
       "      <th>Unnamed: 0</th>\n",
       "      <th>Domain</th>\n",
       "      <th>Category</th>\n",
       "    </tr>\n",
       "  </thead>\n",
       "  <tbody>\n",
       "    <tr>\n",
       "      <th>0</th>\n",
       "      <td>0</td>\n",
       "      <td>jugantor.com</td>\n",
       "      <td>News &amp; Portals</td>\n",
       "    </tr>\n",
       "    <tr>\n",
       "      <th>1</th>\n",
       "      <td>1</td>\n",
       "      <td>ask.fm</td>\n",
       "      <td>News &amp; Portals</td>\n",
       "    </tr>\n",
       "    <tr>\n",
       "      <th>2</th>\n",
       "      <td>2</td>\n",
       "      <td>pikio.pl</td>\n",
       "      <td>News &amp; Portals</td>\n",
       "    </tr>\n",
       "    <tr>\n",
       "      <th>3</th>\n",
       "      <td>3</td>\n",
       "      <td>listindiario.com</td>\n",
       "      <td>News &amp; Portals</td>\n",
       "    </tr>\n",
       "    <tr>\n",
       "      <th>4</th>\n",
       "      <td>4</td>\n",
       "      <td>botasot.info</td>\n",
       "      <td>News &amp; Portals</td>\n",
       "    </tr>\n",
       "  </tbody>\n",
       "</table>\n",
       "</div>"
      ],
      "text/plain": [
       "   Unnamed: 0            Domain         Category\n",
       "0           0      jugantor.com  News & Portals \n",
       "1           1            ask.fm  News & Portals \n",
       "2           2          pikio.pl  News & Portals \n",
       "3           3  listindiario.com  News & Portals \n",
       "4           4      botasot.info  News & Portals "
      ]
     },
     "execution_count": 35,
     "metadata": {},
     "output_type": "execute_result"
    }
   ],
   "source": [
    "groupby_domains_NANs_corrected = pd.read_csv('groupby_domains_170NANs_corrected.csv')\n",
    "groupby_domains_NANs_corrected.head()"
   ]
  },
  {
   "cell_type": "code",
   "execution_count": 36,
   "metadata": {},
   "outputs": [
    {
     "data": {
      "text/html": [
       "<div>\n",
       "<style scoped>\n",
       "    .dataframe tbody tr th:only-of-type {\n",
       "        vertical-align: middle;\n",
       "    }\n",
       "\n",
       "    .dataframe tbody tr th {\n",
       "        vertical-align: top;\n",
       "    }\n",
       "\n",
       "    .dataframe thead th {\n",
       "        text-align: right;\n",
       "    }\n",
       "</style>\n",
       "<table border=\"1\" class=\"dataframe\">\n",
       "  <thead>\n",
       "    <tr style=\"text-align: right;\">\n",
       "      <th></th>\n",
       "      <th>Domain</th>\n",
       "      <th>Category</th>\n",
       "      <th>Category importance</th>\n",
       "    </tr>\n",
       "  </thead>\n",
       "  <tbody>\n",
       "    <tr>\n",
       "      <th>0</th>\n",
       "      <td>jugantor.com</td>\n",
       "      <td>News &amp; Portals</td>\n",
       "      <td>0.586079</td>\n",
       "    </tr>\n",
       "    <tr>\n",
       "      <th>1</th>\n",
       "      <td>ask.fm</td>\n",
       "      <td>News &amp; Portals</td>\n",
       "      <td>0.586079</td>\n",
       "    </tr>\n",
       "    <tr>\n",
       "      <th>2</th>\n",
       "      <td>pikio.pl</td>\n",
       "      <td>News &amp; Portals</td>\n",
       "      <td>0.586079</td>\n",
       "    </tr>\n",
       "    <tr>\n",
       "      <th>3</th>\n",
       "      <td>listindiario.com</td>\n",
       "      <td>News &amp; Portals</td>\n",
       "      <td>0.586079</td>\n",
       "    </tr>\n",
       "    <tr>\n",
       "      <th>4</th>\n",
       "      <td>botasot.info</td>\n",
       "      <td>News &amp; Portals</td>\n",
       "      <td>0.586079</td>\n",
       "    </tr>\n",
       "  </tbody>\n",
       "</table>\n",
       "</div>"
      ],
      "text/plain": [
       "             Domain         Category  Category importance\n",
       "0      jugantor.com  News & Portals              0.586079\n",
       "1            ask.fm  News & Portals              0.586079\n",
       "2          pikio.pl  News & Portals              0.586079\n",
       "3  listindiario.com  News & Portals              0.586079\n",
       "4      botasot.info  News & Portals              0.586079"
      ]
     },
     "execution_count": 36,
     "metadata": {},
     "output_type": "execute_result"
    }
   ],
   "source": [
    "groupby_domains_NANs_corrected = groupby_domains_NANs_corrected.merge(categories_importance, on='Category')\n",
    "groupby_domains_NANs_corrected = groupby_domains_NANs_corrected[['Domain','Category','Category importance']]\n",
    "groupby_domains_NANs_corrected.head(5) "
   ]
  },
  {
   "cell_type": "markdown",
   "metadata": {},
   "source": [
    "- Merging the groupby_domains_NANs_corrected dataframe with the domains_categories_importance in order to have all the domain correctly classified"
   ]
  },
  {
   "cell_type": "code",
   "execution_count": 37,
   "metadata": {},
   "outputs": [
    {
     "data": {
      "text/plain": [
       "(923, 3)"
      ]
     },
     "execution_count": 37,
     "metadata": {},
     "output_type": "execute_result"
    }
   ],
   "source": [
    "categories_by_importance_complete = pd.concat([domains_categories_importance, groupby_domains_NANs_corrected])\n",
    "categories_by_importance_complete.shape"
   ]
  },
  {
   "cell_type": "markdown",
   "metadata": {},
   "source": [
    "- Now I can merge the categories with the main dataframes, this time with all the domain ´s categories added"
   ]
  },
  {
   "cell_type": "code",
   "execution_count": 38,
   "metadata": {},
   "outputs": [
    {
     "data": {
      "text/html": [
       "<div>\n",
       "<style scoped>\n",
       "    .dataframe tbody tr th:only-of-type {\n",
       "        vertical-align: middle;\n",
       "    }\n",
       "\n",
       "    .dataframe tbody tr th {\n",
       "        vertical-align: top;\n",
       "    }\n",
       "\n",
       "    .dataframe thead th {\n",
       "        text-align: right;\n",
       "    }\n",
       "</style>\n",
       "<table border=\"1\" class=\"dataframe\">\n",
       "  <thead>\n",
       "    <tr style=\"text-align: right;\">\n",
       "      <th></th>\n",
       "      <th>Time</th>\n",
       "      <th>Domain</th>\n",
       "      <th>Format Loads</th>\n",
       "      <th>Format Fill Rate</th>\n",
       "      <th>Impressions</th>\n",
       "      <th>Viewability Rate</th>\n",
       "      <th>Efficiency Rate</th>\n",
       "      <th>CPM</th>\n",
       "      <th>Clicks</th>\n",
       "      <th>CTR</th>\n",
       "      <th>25% View Rate</th>\n",
       "      <th>50% View Rate</th>\n",
       "      <th>75% View Rate</th>\n",
       "      <th>100% View Rate</th>\n",
       "      <th>Category</th>\n",
       "      <th>Category importance</th>\n",
       "    </tr>\n",
       "  </thead>\n",
       "  <tbody>\n",
       "    <tr>\n",
       "      <th>0</th>\n",
       "      <td>2020-01-01</td>\n",
       "      <td>game24h.vn</td>\n",
       "      <td>514886.0</td>\n",
       "      <td>0.00</td>\n",
       "      <td>20</td>\n",
       "      <td>100.00</td>\n",
       "      <td>100.00</td>\n",
       "      <td>3.80</td>\n",
       "      <td>0</td>\n",
       "      <td>0.00</td>\n",
       "      <td>65.00</td>\n",
       "      <td>60.00</td>\n",
       "      <td>50.00</td>\n",
       "      <td>45.00</td>\n",
       "      <td>Tech &amp; Gaming</td>\n",
       "      <td>0.019817</td>\n",
       "    </tr>\n",
       "    <tr>\n",
       "      <th>1</th>\n",
       "      <td>2020-01-01</td>\n",
       "      <td>bestie.vn</td>\n",
       "      <td>87548.0</td>\n",
       "      <td>0.94</td>\n",
       "      <td>823</td>\n",
       "      <td>87.70</td>\n",
       "      <td>92.68</td>\n",
       "      <td>1.74</td>\n",
       "      <td>0</td>\n",
       "      <td>0.00</td>\n",
       "      <td>92.10</td>\n",
       "      <td>87.97</td>\n",
       "      <td>84.45</td>\n",
       "      <td>82.26</td>\n",
       "      <td>Community &amp; Culture</td>\n",
       "      <td>0.066138</td>\n",
       "    </tr>\n",
       "    <tr>\n",
       "      <th>2</th>\n",
       "      <td>2020-01-01</td>\n",
       "      <td>behindwoods.com</td>\n",
       "      <td>221308.0</td>\n",
       "      <td>5.03</td>\n",
       "      <td>11138</td>\n",
       "      <td>83.07</td>\n",
       "      <td>98.63</td>\n",
       "      <td>1.55</td>\n",
       "      <td>114</td>\n",
       "      <td>1.02</td>\n",
       "      <td>75.97</td>\n",
       "      <td>64.73</td>\n",
       "      <td>56.30</td>\n",
       "      <td>48.81</td>\n",
       "      <td>Community &amp; Culture</td>\n",
       "      <td>0.066138</td>\n",
       "    </tr>\n",
       "    <tr>\n",
       "      <th>3</th>\n",
       "      <td>2020-01-01</td>\n",
       "      <td>vanguardia.com</td>\n",
       "      <td>122442.0</td>\n",
       "      <td>2.09</td>\n",
       "      <td>2563</td>\n",
       "      <td>87.20</td>\n",
       "      <td>98.77</td>\n",
       "      <td>1.68</td>\n",
       "      <td>22</td>\n",
       "      <td>0.86</td>\n",
       "      <td>85.02</td>\n",
       "      <td>76.79</td>\n",
       "      <td>69.76</td>\n",
       "      <td>64.49</td>\n",
       "      <td>News &amp; Portals</td>\n",
       "      <td>0.586079</td>\n",
       "    </tr>\n",
       "    <tr>\n",
       "      <th>4</th>\n",
       "      <td>2020-01-01</td>\n",
       "      <td>fmdos.cl</td>\n",
       "      <td>201116.0</td>\n",
       "      <td>5.23</td>\n",
       "      <td>10526</td>\n",
       "      <td>85.04</td>\n",
       "      <td>99.88</td>\n",
       "      <td>1.54</td>\n",
       "      <td>239</td>\n",
       "      <td>2.27</td>\n",
       "      <td>80.17</td>\n",
       "      <td>68.21</td>\n",
       "      <td>60.04</td>\n",
       "      <td>55.01</td>\n",
       "      <td>Glamour</td>\n",
       "      <td>0.047560</td>\n",
       "    </tr>\n",
       "  </tbody>\n",
       "</table>\n",
       "</div>"
      ],
      "text/plain": [
       "        Time           Domain  Format Loads  Format Fill Rate  Impressions  \\\n",
       "0 2020-01-01       game24h.vn      514886.0              0.00           20   \n",
       "1 2020-01-01        bestie.vn       87548.0              0.94          823   \n",
       "2 2020-01-01  behindwoods.com      221308.0              5.03        11138   \n",
       "3 2020-01-01   vanguardia.com      122442.0              2.09         2563   \n",
       "4 2020-01-01         fmdos.cl      201116.0              5.23        10526   \n",
       "\n",
       "   Viewability Rate  Efficiency Rate   CPM  Clicks   CTR  25% View Rate  \\\n",
       "0            100.00           100.00  3.80       0  0.00          65.00   \n",
       "1             87.70            92.68  1.74       0  0.00          92.10   \n",
       "2             83.07            98.63  1.55     114  1.02          75.97   \n",
       "3             87.20            98.77  1.68      22  0.86          85.02   \n",
       "4             85.04            99.88  1.54     239  2.27          80.17   \n",
       "\n",
       "   50% View Rate  75% View Rate  100% View Rate              Category  \\\n",
       "0          60.00          50.00           45.00        Tech & Gaming    \n",
       "1          87.97          84.45           82.26  Community & Culture    \n",
       "2          64.73          56.30           48.81  Community & Culture    \n",
       "3          76.79          69.76           64.49       News & Portals    \n",
       "4          68.21          60.04           55.01              Glamour    \n",
       "\n",
       "   Category importance  \n",
       "0             0.019817  \n",
       "1             0.066138  \n",
       "2             0.066138  \n",
       "3             0.586079  \n",
       "4             0.047560  "
      ]
     },
     "metadata": {},
     "output_type": "display_data"
    },
    {
     "data": {
      "text/plain": [
       "Time                    0\n",
       "Domain                  0\n",
       "Format Loads            0\n",
       "Format Fill Rate        0\n",
       "Impressions             0\n",
       "Viewability Rate        0\n",
       "Efficiency Rate         0\n",
       "CPM                     0\n",
       "Clicks                  0\n",
       "CTR                     0\n",
       "25% View Rate           0\n",
       "50% View Rate           0\n",
       "75% View Rate           0\n",
       "100% View Rate          0\n",
       "Category               35\n",
       "Category importance    35\n",
       "dtype: int64"
      ]
     },
     "execution_count": 38,
     "metadata": {},
     "output_type": "execute_result"
    }
   ],
   "source": [
    "report = report.merge(categories_by_importance_complete, on='Domain', how='left')\n",
    "display(report.head(5))\n",
    "report.isnull().sum()"
   ]
  },
  {
   "cell_type": "code",
   "execution_count": 39,
   "metadata": {},
   "outputs": [
    {
     "data": {
      "text/html": [
       "<div>\n",
       "<style scoped>\n",
       "    .dataframe tbody tr th:only-of-type {\n",
       "        vertical-align: middle;\n",
       "    }\n",
       "\n",
       "    .dataframe tbody tr th {\n",
       "        vertical-align: top;\n",
       "    }\n",
       "\n",
       "    .dataframe thead th {\n",
       "        text-align: right;\n",
       "    }\n",
       "</style>\n",
       "<table border=\"1\" class=\"dataframe\">\n",
       "  <thead>\n",
       "    <tr style=\"text-align: right;\">\n",
       "      <th></th>\n",
       "      <th>Domain</th>\n",
       "      <th>Format Loads</th>\n",
       "      <th>Impressions</th>\n",
       "      <th>Format Fill Rate</th>\n",
       "      <th>Viewability Rate</th>\n",
       "      <th>Efficiency Rate</th>\n",
       "      <th>CPM</th>\n",
       "      <th>Clicks</th>\n",
       "      <th>CTR</th>\n",
       "      <th>25% View Rate</th>\n",
       "      <th>50% View Rate</th>\n",
       "      <th>75% View Rate</th>\n",
       "      <th>100% View Rate</th>\n",
       "      <th>Category</th>\n",
       "      <th>Category importance</th>\n",
       "    </tr>\n",
       "  </thead>\n",
       "  <tbody>\n",
       "    <tr>\n",
       "      <th>0</th>\n",
       "      <td>rediff.com</td>\n",
       "      <td>97496012.0</td>\n",
       "      <td>9816423</td>\n",
       "      <td>11.468696</td>\n",
       "      <td>76.979457</td>\n",
       "      <td>98.149565</td>\n",
       "      <td>1.674130</td>\n",
       "      <td>36582</td>\n",
       "      <td>36.37</td>\n",
       "      <td>71.908587</td>\n",
       "      <td>59.999565</td>\n",
       "      <td>52.975000</td>\n",
       "      <td>47.585761</td>\n",
       "      <td>News &amp; Portals</td>\n",
       "      <td>0.586079</td>\n",
       "    </tr>\n",
       "    <tr>\n",
       "      <th>1</th>\n",
       "      <td>missyusa.com</td>\n",
       "      <td>97473418.0</td>\n",
       "      <td>6128716</td>\n",
       "      <td>7.545385</td>\n",
       "      <td>75.436538</td>\n",
       "      <td>95.649231</td>\n",
       "      <td>1.621923</td>\n",
       "      <td>5167</td>\n",
       "      <td>2.32</td>\n",
       "      <td>73.578462</td>\n",
       "      <td>60.050769</td>\n",
       "      <td>50.964615</td>\n",
       "      <td>43.687308</td>\n",
       "      <td>News &amp; Portals</td>\n",
       "      <td>0.586079</td>\n",
       "    </tr>\n",
       "    <tr>\n",
       "      <th>2</th>\n",
       "      <td>mundopositivo.com.br</td>\n",
       "      <td>94053928.0</td>\n",
       "      <td>2171544</td>\n",
       "      <td>2.446739</td>\n",
       "      <td>69.167391</td>\n",
       "      <td>99.418261</td>\n",
       "      <td>1.812391</td>\n",
       "      <td>352</td>\n",
       "      <td>2.09</td>\n",
       "      <td>84.740978</td>\n",
       "      <td>87.405652</td>\n",
       "      <td>85.409674</td>\n",
       "      <td>81.476522</td>\n",
       "      <td>Community &amp; Culture</td>\n",
       "      <td>0.066138</td>\n",
       "    </tr>\n",
       "    <tr>\n",
       "      <th>3</th>\n",
       "      <td>chinatimes.com</td>\n",
       "      <td>87913744.0</td>\n",
       "      <td>17022099</td>\n",
       "      <td>19.283913</td>\n",
       "      <td>88.242065</td>\n",
       "      <td>99.628478</td>\n",
       "      <td>1.762065</td>\n",
       "      <td>160360</td>\n",
       "      <td>83.92</td>\n",
       "      <td>79.241304</td>\n",
       "      <td>69.383478</td>\n",
       "      <td>62.438043</td>\n",
       "      <td>56.185978</td>\n",
       "      <td>News &amp; Portals</td>\n",
       "      <td>0.586079</td>\n",
       "    </tr>\n",
       "    <tr>\n",
       "      <th>4</th>\n",
       "      <td>correiobraziliense.com.br</td>\n",
       "      <td>77352838.0</td>\n",
       "      <td>12626361</td>\n",
       "      <td>17.077391</td>\n",
       "      <td>77.046196</td>\n",
       "      <td>99.761630</td>\n",
       "      <td>1.659674</td>\n",
       "      <td>54502</td>\n",
       "      <td>45.22</td>\n",
       "      <td>83.972065</td>\n",
       "      <td>78.116957</td>\n",
       "      <td>73.168913</td>\n",
       "      <td>67.466413</td>\n",
       "      <td>News &amp; Portals</td>\n",
       "      <td>0.586079</td>\n",
       "    </tr>\n",
       "  </tbody>\n",
       "</table>\n",
       "</div>"
      ],
      "text/plain": [
       "                      Domain  Format Loads  Impressions  Format Fill Rate  \\\n",
       "0                 rediff.com    97496012.0      9816423         11.468696   \n",
       "1               missyusa.com    97473418.0      6128716          7.545385   \n",
       "2       mundopositivo.com.br    94053928.0      2171544          2.446739   \n",
       "3             chinatimes.com    87913744.0     17022099         19.283913   \n",
       "4  correiobraziliense.com.br    77352838.0     12626361         17.077391   \n",
       "\n",
       "   Viewability Rate  Efficiency Rate       CPM  Clicks    CTR  25% View Rate  \\\n",
       "0         76.979457        98.149565  1.674130   36582  36.37      71.908587   \n",
       "1         75.436538        95.649231  1.621923    5167   2.32      73.578462   \n",
       "2         69.167391        99.418261  1.812391     352   2.09      84.740978   \n",
       "3         88.242065        99.628478  1.762065  160360  83.92      79.241304   \n",
       "4         77.046196        99.761630  1.659674   54502  45.22      83.972065   \n",
       "\n",
       "   50% View Rate  75% View Rate  100% View Rate              Category  \\\n",
       "0      59.999565      52.975000       47.585761       News & Portals    \n",
       "1      60.050769      50.964615       43.687308       News & Portals    \n",
       "2      87.405652      85.409674       81.476522  Community & Culture    \n",
       "3      69.383478      62.438043       56.185978       News & Portals    \n",
       "4      78.116957      73.168913       67.466413       News & Portals    \n",
       "\n",
       "   Category importance  \n",
       "0             0.586079  \n",
       "1             0.586079  \n",
       "2             0.066138  \n",
       "3             0.586079  \n",
       "4             0.586079  "
      ]
     },
     "metadata": {},
     "output_type": "display_data"
    },
    {
     "data": {
      "text/plain": [
       "Domain                 0\n",
       "Format Loads           0\n",
       "Impressions            0\n",
       "Format Fill Rate       0\n",
       "Viewability Rate       0\n",
       "Efficiency Rate        0\n",
       "CPM                    0\n",
       "Clicks                 0\n",
       "CTR                    0\n",
       "25% View Rate          0\n",
       "50% View Rate          0\n",
       "75% View Rate          0\n",
       "100% View Rate         0\n",
       "Category               3\n",
       "Category importance    3\n",
       "dtype: int64"
      ]
     },
     "execution_count": 39,
     "metadata": {},
     "output_type": "execute_result"
    }
   ],
   "source": [
    "groupby_domains = groupby_domains.merge(categories_by_importance_complete, on='Domain', how ='left')\n",
    "display(groupby_domains.head(5))\n",
    "groupby_domains.isnull().sum()"
   ]
  },
  {
   "cell_type": "code",
   "execution_count": 40,
   "metadata": {},
   "outputs": [
    {
     "data": {
      "text/plain": [
       "elespanol.com                276\n",
       "correiobraziliense.com.br     92\n",
       "rediff.com                    92\n",
       "minuto30.com                  92\n",
       "diarioshow.com                92\n",
       "                            ... \n",
       "jornalcontabil.com.br          1\n",
       "kino-teatr.ru                  1\n",
       "alertabogota.com               1\n",
       "publimetro.com.mx              1\n",
       "cn7.com.br                     1\n",
       "Name: Domain, Length: 540, dtype: int64"
      ]
     },
     "execution_count": 40,
     "metadata": {},
     "output_type": "execute_result"
    }
   ],
   "source": [
    "report['Domain'].value_counts()"
   ]
  },
  {
   "cell_type": "markdown",
   "metadata": {},
   "source": [
    "- There are still 3 Domain with NaN Category, I added the categories for theses domains  but for some reason these categories haven´t been detected."
   ]
  },
  {
   "cell_type": "markdown",
   "metadata": {},
   "source": [
    "- For the moment I´m gonna save the 2 Dataframes modified in order to start working from this point"
   ]
  },
  {
   "cell_type": "code",
   "execution_count": 41,
   "metadata": {},
   "outputs": [],
   "source": [
    "report.to_csv('report_Jan_to_April.csv')\n",
    "groupby_domains.to_csv('groupby_domains_Jan_to_April.csv')"
   ]
  },
  {
   "cell_type": "markdown",
   "metadata": {},
   "source": [
    "# ADDING NEW VARIABLES"
   ]
  },
  {
   "cell_type": "code",
   "execution_count": 18,
   "metadata": {},
   "outputs": [],
   "source": [
    "report = pd.read_csv('report_Jan_to_April.csv',index_col =['Time'])\n",
    "groupby_domains = pd.read_csv('groupby_domains_Jan_to_April.csv')\n",
    "groupby_domains.drop('Unnamed: 0', 1, inplace = True)"
   ]
  },
  {
   "cell_type": "code",
   "execution_count": 19,
   "metadata": {},
   "outputs": [
    {
     "data": {
      "text/plain": [
       "Domain                  0\n",
       "Format Loads            0\n",
       "Impressions             0\n",
       "Format Fill Rate        3\n",
       "Viewability Rate        0\n",
       "Efficiency Rate         0\n",
       "CPM                     0\n",
       "Clicks                 13\n",
       "CTR                    13\n",
       "25% View Rate           0\n",
       "50% View Rate           0\n",
       "75% View Rate           0\n",
       "100% View Rate          0\n",
       "Category                0\n",
       "Category importance     0\n",
       "dtype: int64"
      ]
     },
     "execution_count": 19,
     "metadata": {},
     "output_type": "execute_result"
    }
   ],
   "source": [
    "groupby_domains.isin([0]).sum()"
   ]
  },
  {
   "cell_type": "code",
   "execution_count": 6,
   "metadata": {},
   "outputs": [
    {
     "data": {
      "text/html": [
       "<div>\n",
       "<style scoped>\n",
       "    .dataframe tbody tr th:only-of-type {\n",
       "        vertical-align: middle;\n",
       "    }\n",
       "\n",
       "    .dataframe tbody tr th {\n",
       "        vertical-align: top;\n",
       "    }\n",
       "\n",
       "    .dataframe thead th {\n",
       "        text-align: right;\n",
       "    }\n",
       "</style>\n",
       "<table border=\"1\" class=\"dataframe\">\n",
       "  <thead>\n",
       "    <tr style=\"text-align: right;\">\n",
       "      <th></th>\n",
       "      <th>Unnamed: 0</th>\n",
       "      <th>Domain</th>\n",
       "      <th>Format Loads</th>\n",
       "      <th>Format Fill Rate</th>\n",
       "      <th>Impressions</th>\n",
       "      <th>Viewability Rate</th>\n",
       "      <th>Efficiency Rate</th>\n",
       "      <th>CPM</th>\n",
       "      <th>Clicks</th>\n",
       "      <th>CTR</th>\n",
       "      <th>25% View Rate</th>\n",
       "      <th>50% View Rate</th>\n",
       "      <th>75% View Rate</th>\n",
       "      <th>100% View Rate</th>\n",
       "      <th>Category</th>\n",
       "      <th>Category importance</th>\n",
       "    </tr>\n",
       "    <tr>\n",
       "      <th>Time</th>\n",
       "      <th></th>\n",
       "      <th></th>\n",
       "      <th></th>\n",
       "      <th></th>\n",
       "      <th></th>\n",
       "      <th></th>\n",
       "      <th></th>\n",
       "      <th></th>\n",
       "      <th></th>\n",
       "      <th></th>\n",
       "      <th></th>\n",
       "      <th></th>\n",
       "      <th></th>\n",
       "      <th></th>\n",
       "      <th></th>\n",
       "      <th></th>\n",
       "    </tr>\n",
       "  </thead>\n",
       "  <tbody>\n",
       "    <tr>\n",
       "      <th>2020-01-01</th>\n",
       "      <td>0</td>\n",
       "      <td>game24h.vn</td>\n",
       "      <td>514886.0</td>\n",
       "      <td>0.00</td>\n",
       "      <td>20</td>\n",
       "      <td>100.00</td>\n",
       "      <td>100.00</td>\n",
       "      <td>3.80</td>\n",
       "      <td>0</td>\n",
       "      <td>0.00</td>\n",
       "      <td>65.00</td>\n",
       "      <td>60.00</td>\n",
       "      <td>50.00</td>\n",
       "      <td>45.00</td>\n",
       "      <td>Tech &amp; Gaming</td>\n",
       "      <td>0.019817</td>\n",
       "    </tr>\n",
       "    <tr>\n",
       "      <th>2020-01-01</th>\n",
       "      <td>1</td>\n",
       "      <td>bestie.vn</td>\n",
       "      <td>87548.0</td>\n",
       "      <td>0.94</td>\n",
       "      <td>823</td>\n",
       "      <td>87.70</td>\n",
       "      <td>92.68</td>\n",
       "      <td>1.74</td>\n",
       "      <td>0</td>\n",
       "      <td>0.00</td>\n",
       "      <td>92.10</td>\n",
       "      <td>87.97</td>\n",
       "      <td>84.45</td>\n",
       "      <td>82.26</td>\n",
       "      <td>Community &amp; Culture</td>\n",
       "      <td>0.066138</td>\n",
       "    </tr>\n",
       "    <tr>\n",
       "      <th>2020-01-01</th>\n",
       "      <td>2</td>\n",
       "      <td>behindwoods.com</td>\n",
       "      <td>221308.0</td>\n",
       "      <td>5.03</td>\n",
       "      <td>11138</td>\n",
       "      <td>83.07</td>\n",
       "      <td>98.63</td>\n",
       "      <td>1.55</td>\n",
       "      <td>114</td>\n",
       "      <td>1.02</td>\n",
       "      <td>75.97</td>\n",
       "      <td>64.73</td>\n",
       "      <td>56.30</td>\n",
       "      <td>48.81</td>\n",
       "      <td>Community &amp; Culture</td>\n",
       "      <td>0.066138</td>\n",
       "    </tr>\n",
       "    <tr>\n",
       "      <th>2020-01-01</th>\n",
       "      <td>3</td>\n",
       "      <td>vanguardia.com</td>\n",
       "      <td>122442.0</td>\n",
       "      <td>2.09</td>\n",
       "      <td>2563</td>\n",
       "      <td>87.20</td>\n",
       "      <td>98.77</td>\n",
       "      <td>1.68</td>\n",
       "      <td>22</td>\n",
       "      <td>0.86</td>\n",
       "      <td>85.02</td>\n",
       "      <td>76.79</td>\n",
       "      <td>69.76</td>\n",
       "      <td>64.49</td>\n",
       "      <td>News &amp; Portals</td>\n",
       "      <td>0.586079</td>\n",
       "    </tr>\n",
       "    <tr>\n",
       "      <th>2020-01-01</th>\n",
       "      <td>4</td>\n",
       "      <td>fmdos.cl</td>\n",
       "      <td>201116.0</td>\n",
       "      <td>5.23</td>\n",
       "      <td>10526</td>\n",
       "      <td>85.04</td>\n",
       "      <td>99.88</td>\n",
       "      <td>1.54</td>\n",
       "      <td>239</td>\n",
       "      <td>2.27</td>\n",
       "      <td>80.17</td>\n",
       "      <td>68.21</td>\n",
       "      <td>60.04</td>\n",
       "      <td>55.01</td>\n",
       "      <td>Glamour</td>\n",
       "      <td>0.047560</td>\n",
       "    </tr>\n",
       "  </tbody>\n",
       "</table>\n",
       "</div>"
      ],
      "text/plain": [
       "            Unnamed: 0           Domain  Format Loads  Format Fill Rate  \\\n",
       "Time                                                                      \n",
       "2020-01-01           0       game24h.vn      514886.0              0.00   \n",
       "2020-01-01           1        bestie.vn       87548.0              0.94   \n",
       "2020-01-01           2  behindwoods.com      221308.0              5.03   \n",
       "2020-01-01           3   vanguardia.com      122442.0              2.09   \n",
       "2020-01-01           4         fmdos.cl      201116.0              5.23   \n",
       "\n",
       "            Impressions  Viewability Rate  Efficiency Rate   CPM  Clicks  \\\n",
       "Time                                                                       \n",
       "2020-01-01           20            100.00           100.00  3.80       0   \n",
       "2020-01-01          823             87.70            92.68  1.74       0   \n",
       "2020-01-01        11138             83.07            98.63  1.55     114   \n",
       "2020-01-01         2563             87.20            98.77  1.68      22   \n",
       "2020-01-01        10526             85.04            99.88  1.54     239   \n",
       "\n",
       "             CTR  25% View Rate  50% View Rate  75% View Rate  100% View Rate  \\\n",
       "Time                                                                            \n",
       "2020-01-01  0.00          65.00          60.00          50.00           45.00   \n",
       "2020-01-01  0.00          92.10          87.97          84.45           82.26   \n",
       "2020-01-01  1.02          75.97          64.73          56.30           48.81   \n",
       "2020-01-01  0.86          85.02          76.79          69.76           64.49   \n",
       "2020-01-01  2.27          80.17          68.21          60.04           55.01   \n",
       "\n",
       "                        Category  Category importance  \n",
       "Time                                                   \n",
       "2020-01-01        Tech & Gaming              0.019817  \n",
       "2020-01-01  Community & Culture              0.066138  \n",
       "2020-01-01  Community & Culture              0.066138  \n",
       "2020-01-01       News & Portals              0.586079  \n",
       "2020-01-01              Glamour              0.047560  "
      ]
     },
     "metadata": {},
     "output_type": "display_data"
    },
    {
     "data": {
      "text/html": [
       "<div>\n",
       "<style scoped>\n",
       "    .dataframe tbody tr th:only-of-type {\n",
       "        vertical-align: middle;\n",
       "    }\n",
       "\n",
       "    .dataframe tbody tr th {\n",
       "        vertical-align: top;\n",
       "    }\n",
       "\n",
       "    .dataframe thead th {\n",
       "        text-align: right;\n",
       "    }\n",
       "</style>\n",
       "<table border=\"1\" class=\"dataframe\">\n",
       "  <thead>\n",
       "    <tr style=\"text-align: right;\">\n",
       "      <th></th>\n",
       "      <th>Domain</th>\n",
       "      <th>Format Loads</th>\n",
       "      <th>Impressions</th>\n",
       "      <th>Format Fill Rate</th>\n",
       "      <th>Viewability Rate</th>\n",
       "      <th>Efficiency Rate</th>\n",
       "      <th>CPM</th>\n",
       "      <th>Clicks</th>\n",
       "      <th>CTR</th>\n",
       "      <th>25% View Rate</th>\n",
       "      <th>50% View Rate</th>\n",
       "      <th>75% View Rate</th>\n",
       "      <th>100% View Rate</th>\n",
       "      <th>Category</th>\n",
       "      <th>Category importance</th>\n",
       "    </tr>\n",
       "  </thead>\n",
       "  <tbody>\n",
       "    <tr>\n",
       "      <th>0</th>\n",
       "      <td>rediff.com</td>\n",
       "      <td>97496012.0</td>\n",
       "      <td>9816423</td>\n",
       "      <td>11.468696</td>\n",
       "      <td>76.979457</td>\n",
       "      <td>98.149565</td>\n",
       "      <td>1.674130</td>\n",
       "      <td>36582</td>\n",
       "      <td>36.37</td>\n",
       "      <td>71.908587</td>\n",
       "      <td>59.999565</td>\n",
       "      <td>52.975000</td>\n",
       "      <td>47.585761</td>\n",
       "      <td>News &amp; Portals</td>\n",
       "      <td>0.586079</td>\n",
       "    </tr>\n",
       "    <tr>\n",
       "      <th>1</th>\n",
       "      <td>missyusa.com</td>\n",
       "      <td>97473418.0</td>\n",
       "      <td>6128716</td>\n",
       "      <td>7.545385</td>\n",
       "      <td>75.436538</td>\n",
       "      <td>95.649231</td>\n",
       "      <td>1.621923</td>\n",
       "      <td>5167</td>\n",
       "      <td>2.32</td>\n",
       "      <td>73.578462</td>\n",
       "      <td>60.050769</td>\n",
       "      <td>50.964615</td>\n",
       "      <td>43.687308</td>\n",
       "      <td>News &amp; Portals</td>\n",
       "      <td>0.586079</td>\n",
       "    </tr>\n",
       "    <tr>\n",
       "      <th>2</th>\n",
       "      <td>mundopositivo.com.br</td>\n",
       "      <td>94053928.0</td>\n",
       "      <td>2171544</td>\n",
       "      <td>2.446739</td>\n",
       "      <td>69.167391</td>\n",
       "      <td>99.418261</td>\n",
       "      <td>1.812391</td>\n",
       "      <td>352</td>\n",
       "      <td>2.09</td>\n",
       "      <td>84.740978</td>\n",
       "      <td>87.405652</td>\n",
       "      <td>85.409674</td>\n",
       "      <td>81.476522</td>\n",
       "      <td>Community &amp; Culture</td>\n",
       "      <td>0.066138</td>\n",
       "    </tr>\n",
       "    <tr>\n",
       "      <th>3</th>\n",
       "      <td>chinatimes.com</td>\n",
       "      <td>87913744.0</td>\n",
       "      <td>17022099</td>\n",
       "      <td>19.283913</td>\n",
       "      <td>88.242065</td>\n",
       "      <td>99.628478</td>\n",
       "      <td>1.762065</td>\n",
       "      <td>160360</td>\n",
       "      <td>83.92</td>\n",
       "      <td>79.241304</td>\n",
       "      <td>69.383478</td>\n",
       "      <td>62.438043</td>\n",
       "      <td>56.185978</td>\n",
       "      <td>News &amp; Portals</td>\n",
       "      <td>0.586079</td>\n",
       "    </tr>\n",
       "    <tr>\n",
       "      <th>4</th>\n",
       "      <td>correiobraziliense.com.br</td>\n",
       "      <td>77352838.0</td>\n",
       "      <td>12626361</td>\n",
       "      <td>17.077391</td>\n",
       "      <td>77.046196</td>\n",
       "      <td>99.761630</td>\n",
       "      <td>1.659674</td>\n",
       "      <td>54502</td>\n",
       "      <td>45.22</td>\n",
       "      <td>83.972065</td>\n",
       "      <td>78.116957</td>\n",
       "      <td>73.168913</td>\n",
       "      <td>67.466413</td>\n",
       "      <td>News &amp; Portals</td>\n",
       "      <td>0.586079</td>\n",
       "    </tr>\n",
       "  </tbody>\n",
       "</table>\n",
       "</div>"
      ],
      "text/plain": [
       "                      Domain  Format Loads  Impressions  Format Fill Rate  \\\n",
       "0                 rediff.com    97496012.0      9816423         11.468696   \n",
       "1               missyusa.com    97473418.0      6128716          7.545385   \n",
       "2       mundopositivo.com.br    94053928.0      2171544          2.446739   \n",
       "3             chinatimes.com    87913744.0     17022099         19.283913   \n",
       "4  correiobraziliense.com.br    77352838.0     12626361         17.077391   \n",
       "\n",
       "   Viewability Rate  Efficiency Rate       CPM  Clicks    CTR  25% View Rate  \\\n",
       "0         76.979457        98.149565  1.674130   36582  36.37      71.908587   \n",
       "1         75.436538        95.649231  1.621923    5167   2.32      73.578462   \n",
       "2         69.167391        99.418261  1.812391     352   2.09      84.740978   \n",
       "3         88.242065        99.628478  1.762065  160360  83.92      79.241304   \n",
       "4         77.046196        99.761630  1.659674   54502  45.22      83.972065   \n",
       "\n",
       "   50% View Rate  75% View Rate  100% View Rate              Category  \\\n",
       "0      59.999565      52.975000       47.585761       News & Portals    \n",
       "1      60.050769      50.964615       43.687308       News & Portals    \n",
       "2      87.405652      85.409674       81.476522  Community & Culture    \n",
       "3      69.383478      62.438043       56.185978       News & Portals    \n",
       "4      78.116957      73.168913       67.466413       News & Portals    \n",
       "\n",
       "   Category importance  \n",
       "0             0.586079  \n",
       "1             0.586079  \n",
       "2             0.066138  \n",
       "3             0.586079  \n",
       "4             0.586079  "
      ]
     },
     "metadata": {},
     "output_type": "display_data"
    }
   ],
   "source": [
    "display(report.head(5))\n",
    "display(groupby_domains.head(5))"
   ]
  },
  {
   "cell_type": "markdown",
   "metadata": {},
   "source": [
    "Relative frequences of the categories: "
   ]
  },
  {
   "cell_type": "code",
   "execution_count": 7,
   "metadata": {},
   "outputs": [
    {
     "data": {
      "text/plain": [
       "Category\n",
       "Autos                   0.003618\n",
       "B-to-B                  0.006256\n",
       "Casual Games            0.011673\n",
       "Community & Culture     0.070594\n",
       "Education & Careers     0.019036\n",
       "Family & Parenting      0.003158\n",
       "Food                    0.006565\n",
       "Glamour                 0.045803\n",
       "Health & Wellness       0.020524\n",
       "Home                    0.001752\n",
       "Leisure                 0.001088\n",
       "Money & Investing       0.017465\n",
       "Movies & Television     0.017978\n",
       "Music & Radio           0.022481\n",
       "News & Portals          0.655753\n",
       "Shopping                0.004013\n",
       "Sports                  0.061483\n",
       "Tech & Gaming           0.030181\n",
       "Travel                  0.000013\n",
       "Name: Format Loads, dtype: float64"
      ]
     },
     "execution_count": 7,
     "metadata": {},
     "output_type": "execute_result"
    }
   ],
   "source": [
    "groupby_domains.groupby('Category')['Format Loads'].sum()/groupby_domains['Format Loads'].sum()"
   ]
  },
  {
   "cell_type": "markdown",
   "metadata": {},
   "source": [
    "We can see that tere are not big differences comparing with the first time we calculate this, before modifying the NULL categories, so for the moment we are going to work with the column that I already had"
   ]
  },
  {
   "cell_type": "markdown",
   "metadata": {},
   "source": [
    "### Adding a new variable that tell us if it´s a recurrent Domain (if it´s available more than 50% of the days)"
   ]
  },
  {
   "cell_type": "code",
   "execution_count": 8,
   "metadata": {},
   "outputs": [],
   "source": [
    "#New DataFrame with the Domain and the recurrence:\n",
    "recurrence = pd.DataFrame(report['Domain'].value_counts()).reset_index()\n",
    "recurrence.columns = ['Domain', 'Recurrence']\n",
    "\n",
    "#Adding the bynary column: 1 means that the Domain is available more than the 50% of the days:\n",
    "recurrence['Domain Recurrence'] = list(map(lambda x: 1 if x>45 else 0 ,recurrence['Recurrence']))\n",
    "recurrence = recurrence[['Domain', 'Domain Recurrence']]\n",
    "recurrence = recurrence[recurrence['Domain Recurrence']==1] #I only keep the recurrent domains\n",
    "\n",
    "#Adding the Domain Recurrence column to the main Dataframes\n",
    "report['Domain Recurrence'] = report['Domain'].isin(recurrence['Domain'])\n",
    "report['Domain Recurrence']= report['Domain Recurrence'].replace({True:1,False:0}) \n",
    "\n",
    "groupby_domains['Domain Recurrence'] = groupby_domains['Domain'].isin(recurrence['Domain'])\n",
    "groupby_domains['Domain Recurrence']= groupby_domains['Domain Recurrence'].replace({True:1,False:0}) \n"
   ]
  },
  {
   "cell_type": "markdown",
   "metadata": {},
   "source": [
    "## RELATIONSHIP BETWEEN VARIABLES"
   ]
  },
  {
   "cell_type": "code",
   "execution_count": 46,
   "metadata": {},
   "outputs": [
    {
     "data": {
      "text/plain": [
       "<matplotlib.axes._subplots.AxesSubplot at 0x2d6d56d2ec8>"
      ]
     },
     "execution_count": 46,
     "metadata": {},
     "output_type": "execute_result"
    },
    {
     "data": {
      "image/png": "[encoded data removed]",
      "text/plain": [
       "<Figure size 720x720 with 2 Axes>"
      ]
     },
     "metadata": {
      "needs_background": "light"
     },
     "output_type": "display_data"
    }
   ],
   "source": [
    "sns.heatmap(groupby_domains.corr(), annot = True)"
   ]
  },
  {
   "cell_type": "markdown",
   "metadata": {},
   "source": [
    "### UNDERSTANDING THE DATA WITH GRAPHS"
   ]
  },
  {
   "cell_type": "code",
   "execution_count": 47,
   "metadata": {},
   "outputs": [],
   "source": [
    "plt.rcParams['figure.figsize']=(10,10)\n"
   ]
  },
  {
   "cell_type": "markdown",
   "metadata": {},
   "source": [
    "### General shape of the Format Loads and Impressions over the 3 months:"
   ]
  },
  {
   "cell_type": "code",
   "execution_count": 48,
   "metadata": {},
   "outputs": [
    {
     "data": {
      "image/png": "[encoded data removed]",
      "text/plain": [
       "<Figure size 720x720 with 2 Axes>"
      ]
     },
     "metadata": {
      "needs_background": "light"
     },
     "output_type": "display_data"
    }
   ],
   "source": [
    "col_graf = ['Impressions', 'Format Loads'] \n",
    "ejes = report[col_graf].plot(marker='.', linestyle='None',figsize=(10,10),subplots=True)\n",
    "for eje in ejes:\n",
    "  eje.set_ylabel('Number')"
   ]
  },
  {
   "cell_type": "markdown",
   "metadata": {},
   "source": [
    "### Distribution of the categories"
   ]
  },
  {
   "cell_type": "code",
   "execution_count": 49,
   "metadata": {},
   "outputs": [
    {
     "data": {
      "image/png": "[encoded data removed]",
      "text/plain": [
       "<Figure size 720x720 with 1 Axes>"
      ]
     },
     "metadata": {
      "needs_background": "light"
     },
     "output_type": "display_data"
    }
   ],
   "source": [
    "categories=groupby_domains['Category'].value_counts()\n",
    "categories.plot(kind='bar');"
   ]
  },
  {
   "cell_type": "markdown",
   "metadata": {},
   "source": [
    "### Impressions evolution through the three months"
   ]
  },
  {
   "cell_type": "code",
   "execution_count": 50,
   "metadata": {},
   "outputs": [
    {
     "data": {
      "text/plain": [
       "<matplotlib.axes._subplots.AxesSubplot at 0x2d6d65a4488>"
      ]
     },
     "execution_count": 50,
     "metadata": {},
     "output_type": "execute_result"
    },
    {
     "data": {
      "image/png": "[encoded data removed]",
      "text/plain": [
       "<Figure size 720x720 with 1 Axes>"
      ]
     },
     "metadata": {
      "needs_background": "light"
     },
     "output_type": "display_data"
    }
   ],
   "source": [
    "report.groupby(report.index)['Impressions'].sum().plot(kind='line', rot = 0)"
   ]
  },
  {
   "cell_type": "markdown",
   "metadata": {},
   "source": [
    "### Number of recurrent Domains"
   ]
  },
  {
   "cell_type": "code",
   "execution_count": 51,
   "metadata": {},
   "outputs": [
    {
     "data": {
      "image/png": "[encoded data removed]",
      "text/plain": [
       "<Figure size 720x720 with 1 Axes>"
      ]
     },
     "metadata": {
      "needs_background": "light"
     },
     "output_type": "display_data"
    }
   ],
   "source": [
    "sns.distplot(groupby_domains['Domain Recurrence'], kde = False);"
   ]
  },
  {
   "cell_type": "code",
   "execution_count": 52,
   "metadata": {},
   "outputs": [
    {
     "data": {
      "text/plain": [
       "[<matplotlib.lines.Line2D at 0x2d6d6843d48>]"
      ]
     },
     "execution_count": 52,
     "metadata": {},
     "output_type": "execute_result"
    },
    {
     "data": {
      "image/png": "[encoded data removed]",
      "text/plain": [
       "<Figure size 720x720 with 1 Axes>"
      ]
     },
     "metadata": {
      "needs_background": "light"
     },
     "output_type": "display_data"
    }
   ],
   "source": [
    "plt.plot(report.Clicks)"
   ]
  },
  {
   "cell_type": "code",
   "execution_count": 242,
   "metadata": {},
   "outputs": [],
   "source": [
    "report = report.reset_index()"
   ]
  },
  {
   "cell_type": "code",
   "execution_count": 53,
   "metadata": {},
   "outputs": [],
   "source": [
    "ffr_bycategories = pd.DataFrame(report.groupby(['Time', 'Category'])['Format Fill Rate'].mean()).reset_index()"
   ]
  },
  {
   "cell_type": "code",
   "execution_count": 54,
   "metadata": {},
   "outputs": [
    {
     "data": {
      "text/plain": [
       "<seaborn.axisgrid.FacetGrid at 0x2d6d6e0ba48>"
      ]
     },
     "execution_count": 54,
     "metadata": {},
     "output_type": "execute_result"
    },
    {
     "data": {
      "image/png": "[encoded data removed]",
      "text/plain": [
       "<Figure size 360x360 with 1 Axes>"
      ]
     },
     "metadata": {
      "needs_background": "light"
     },
     "output_type": "display_data"
    }
   ],
   "source": [
    "sns.relplot(x=\"Time\", y='Format Fill Rate', kind=\"line\", data=ffr_bycategories)"
   ]
  }
 ],
 "metadata": {
  "colab": {
   "collapsed_sections": [],
   "name": "Initial Data Interpretation.ipynb",
   "provenance": [
    {
     "file_id": "17jDVuhpxbq4YIyo03eMq20Tbf46lapO6",
     "timestamp": 1595270919852
    }
   ]
  },
  "kernelspec": {
   "display_name": "Python 3",
   "language": "python",
   "name": "python3"
  },
  "language_info": {
   "codemirror_mode": {
    "name": "ipython",
    "version": 3
   },
   "file_extension": ".py",
   "mimetype": "text/x-python",
   "name": "python",
   "nbconvert_exporter": "python",
   "pygments_lexer": "ipython3",
   "version": "3.7.6"
  }
 },
 "nbformat": 4,
 "nbformat_minor": 4
}
