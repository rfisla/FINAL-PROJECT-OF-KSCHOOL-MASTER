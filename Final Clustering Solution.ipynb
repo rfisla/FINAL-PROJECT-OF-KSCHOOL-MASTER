{
 "cells": [
  {
   "cell_type": "markdown",
   "metadata": {},
   "source": [
    "POSIBLES SOLUCIONES AL PROBLEMA:\n",
    "\n",
    "- ELIMINAR LOS OUTLIERS Y STANDARIZAR LOS DATOS CLASIFICAR LOS OUTLIERS COMO POSITIVOS O NEGATIVOS PARA EL CUESTIONARIO FINAL\n",
    "OJO LAS VARIABLES FORMAT FILL RATE Y OTROS %, VER SI SE QUITAN\n",
    "\n",
    "- PARA EL CUESTIONARIO FINAL, DEFINIR RANGOS DE LAS VARIABLES DE UN CLUSTER, POR EJEMPLO, CPM CLUSTER 1 ENTRE 1 Y 3, PARA RECOMENDAR UNO U OTRO\n",
    "\n",
    "- TRANSFORMACIÓN LOGARITIMICA"
   ]
  },
  {
   "cell_type": "code",
   "execution_count": 1,
   "metadata": {},
   "outputs": [
    {
     "name": "stderr",
     "output_type": "stream",
     "text": [
      "C:\\Users\\Usuario\\anaconda3\\lib\\site-packages\\sklearn\\utils\\deprecation.py:144: FutureWarning: The sklearn.metrics.classification module is  deprecated in version 0.22 and will be removed in version 0.24. The corresponding classes / functions should instead be imported from sklearn.metrics. Anything that cannot be imported from sklearn.metrics is now part of the private API.\n",
      "  warnings.warn(message, FutureWarning)\n"
     ]
    }
   ],
   "source": [
    "import pandas as pd\n",
    "import numpy as np\n",
    "import matplotlib.pyplot as plt\n",
    "\n",
    "import seaborn as sns\n",
    "import pickle\n",
    "from sklearn.cluster import KMeans\n",
    "\n",
    "from sklearn.preprocessing import StandardScaler\n",
    "from sklearn.preprocessing import RobustScaler\n",
    "from sklearn.preprocessing import MinMaxScaler\n",
    "\n",
    "from sklearn.model_selection import GridSearchCV\n",
    "\n",
    "from sklearn.decomposition import PCA\n",
    "\n",
    "from sklearn.metrics import silhouette_samples, silhouette_score\n",
    "from sklearn.metrics import silhouette_score, calinski_harabasz_score, davies_bouldin_score\n",
    "from yellowbrick.cluster import KElbowVisualizer, SilhouetteVisualizer\n",
    "\n",
    "\n",
    "\n",
    "pd.options.display.float_format = '{:.2f}'.format #So the numbers will not appear in a scientific format\n",
    "\n",
    "# !pip install pyclustertend\n",
    "# !pip install kmodes\n",
    "# !pip install gower\n",
    "# !pip install prince\n",
    "#!pip install --user mca\n",
    "#!pip install apyori"
   ]
  },
  {
   "cell_type": "code",
   "execution_count": 62,
   "metadata": {},
   "outputs": [],
   "source": [
    "def results_evaluation(model, data):\n",
    "\n",
    "    #This function has 2 arguments:\n",
    "    #-model: to define de Clusters and the scores\n",
    "    #-data: the data I´m working with, to calculate the scores\n",
    "  \n",
    "\n",
    "    print('CLUSTERING DIVISION:\\n', pd.DataFrame(model.labels_)[0].value_counts())\n",
    "    \n",
    "    new_df = groupby_domains.copy()\n",
    "    new_df['Cluster'] = model.labels_\n",
    "    display(new_df.groupby('Cluster').mean())\n",
    "    \n",
    "    print('The Silhouette Score is: ', silhouette_score(data, model.labels_, metric='euclidean'))\n",
    "    print('The Calinski Harabasz Score is: ', calinski_harabasz_score(data, model.labels_))\n",
    "    print('The Davies Douldin Score is: ', davies_bouldin_score(data, model.labels_))\n"
   ]
  },
  {
   "cell_type": "code",
   "execution_count": 47,
   "metadata": {},
   "outputs": [
    {
     "data": {
      "text/html": [
       "<div>\n",
       "<style scoped>\n",
       "    .dataframe tbody tr th:only-of-type {\n",
       "        vertical-align: middle;\n",
       "    }\n",
       "\n",
       "    .dataframe tbody tr th {\n",
       "        vertical-align: top;\n",
       "    }\n",
       "\n",
       "    .dataframe thead th {\n",
       "        text-align: right;\n",
       "    }\n",
       "</style>\n",
       "<table border=\"1\" class=\"dataframe\">\n",
       "  <thead>\n",
       "    <tr style=\"text-align: right;\">\n",
       "      <th></th>\n",
       "      <th>Format Fill Rate</th>\n",
       "      <th>CPM</th>\n",
       "      <th>CTR</th>\n",
       "      <th>Category</th>\n",
       "      <th>Country</th>\n",
       "      <th>Geographical zone</th>\n",
       "    </tr>\n",
       "  </thead>\n",
       "  <tbody>\n",
       "    <tr>\n",
       "      <th>0</th>\n",
       "      <td>0.60</td>\n",
       "      <td>1.59</td>\n",
       "      <td>0.46</td>\n",
       "      <td>Health &amp; Wellness</td>\n",
       "      <td>Turkey</td>\n",
       "      <td>West Europe</td>\n",
       "    </tr>\n",
       "    <tr>\n",
       "      <th>1</th>\n",
       "      <td>10.81</td>\n",
       "      <td>1.71</td>\n",
       "      <td>0.07</td>\n",
       "      <td>News &amp; Portals</td>\n",
       "      <td>United States</td>\n",
       "      <td>North America</td>\n",
       "    </tr>\n",
       "    <tr>\n",
       "      <th>2</th>\n",
       "      <td>3.77</td>\n",
       "      <td>1.44</td>\n",
       "      <td>0.39</td>\n",
       "      <td>Sports</td>\n",
       "      <td>Peru</td>\n",
       "      <td>South America</td>\n",
       "    </tr>\n",
       "    <tr>\n",
       "      <th>3</th>\n",
       "      <td>1.14</td>\n",
       "      <td>1.73</td>\n",
       "      <td>0.40</td>\n",
       "      <td>News &amp; Portals</td>\n",
       "      <td>Egypt</td>\n",
       "      <td>Africa</td>\n",
       "    </tr>\n",
       "    <tr>\n",
       "      <th>4</th>\n",
       "      <td>19.54</td>\n",
       "      <td>1.80</td>\n",
       "      <td>0.79</td>\n",
       "      <td>News &amp; Portals</td>\n",
       "      <td>Taiwan</td>\n",
       "      <td>Asia</td>\n",
       "    </tr>\n",
       "    <tr>\n",
       "      <th>...</th>\n",
       "      <td>...</td>\n",
       "      <td>...</td>\n",
       "      <td>...</td>\n",
       "      <td>...</td>\n",
       "      <td>...</td>\n",
       "      <td>...</td>\n",
       "    </tr>\n",
       "    <tr>\n",
       "      <th>896</th>\n",
       "      <td>0.13</td>\n",
       "      <td>1.89</td>\n",
       "      <td>0.10</td>\n",
       "      <td>News &amp; Portals</td>\n",
       "      <td>Nicaragua</td>\n",
       "      <td>South America</td>\n",
       "    </tr>\n",
       "    <tr>\n",
       "      <th>897</th>\n",
       "      <td>0.20</td>\n",
       "      <td>1.25</td>\n",
       "      <td>0.05</td>\n",
       "      <td>Money &amp; Investing</td>\n",
       "      <td>United States</td>\n",
       "      <td>North America</td>\n",
       "    </tr>\n",
       "    <tr>\n",
       "      <th>898</th>\n",
       "      <td>13.72</td>\n",
       "      <td>1.70</td>\n",
       "      <td>0.20</td>\n",
       "      <td>News &amp; Portals</td>\n",
       "      <td>United Kingdom</td>\n",
       "      <td>West Europe</td>\n",
       "    </tr>\n",
       "    <tr>\n",
       "      <th>899</th>\n",
       "      <td>1.14</td>\n",
       "      <td>1.59</td>\n",
       "      <td>0.00</td>\n",
       "      <td>Leisure</td>\n",
       "      <td>Germany</td>\n",
       "      <td>West Europe</td>\n",
       "    </tr>\n",
       "    <tr>\n",
       "      <th>900</th>\n",
       "      <td>2.55</td>\n",
       "      <td>0.62</td>\n",
       "      <td>0.36</td>\n",
       "      <td>News &amp; Portals</td>\n",
       "      <td>Poland</td>\n",
       "      <td>East Europe</td>\n",
       "    </tr>\n",
       "  </tbody>\n",
       "</table>\n",
       "<p>901 rows × 6 columns</p>\n",
       "</div>"
      ],
      "text/plain": [
       "     Format Fill Rate  CPM  CTR           Category         Country  \\\n",
       "0                0.60 1.59 0.46  Health & Wellness          Turkey   \n",
       "1               10.81 1.71 0.07     News & Portals   United States   \n",
       "2                3.77 1.44 0.39             Sports            Peru   \n",
       "3                1.14 1.73 0.40     News & Portals           Egypt   \n",
       "4               19.54 1.80 0.79     News & Portals          Taiwan   \n",
       "..                ...  ...  ...                ...             ...   \n",
       "896              0.13 1.89 0.10     News & Portals       Nicaragua   \n",
       "897              0.20 1.25 0.05  Money & Investing   United States   \n",
       "898             13.72 1.70 0.20     News & Portals  United Kingdom   \n",
       "899              1.14 1.59 0.00            Leisure         Germany   \n",
       "900              2.55 0.62 0.36     News & Portals          Poland   \n",
       "\n",
       "    Geographical zone  \n",
       "0         West Europe  \n",
       "1       North America  \n",
       "2       South America  \n",
       "3              Africa  \n",
       "4                Asia  \n",
       "..                ...  \n",
       "896     South America  \n",
       "897     North America  \n",
       "898       West Europe  \n",
       "899       West Europe  \n",
       "900       East Europe  \n",
       "\n",
       "[901 rows x 6 columns]"
      ]
     },
     "execution_count": 47,
     "metadata": {},
     "output_type": "execute_result"
    }
   ],
   "source": [
    "groupby_domains.drop(['Domain','Format Loads', 'Impressions', 'Clicks',\n",
    "                                                   'Viewability Rate', 'Efficiency Rate', 'Category importance',\n",
    "                                                         '50% View Rate', 'Country'], 1)"
   ]
  },
  {
   "cell_type": "code",
   "execution_count": null,
   "metadata": {},
   "outputs": [],
   "source": []
  },
  {
   "cell_type": "code",
   "execution_count": 59,
   "metadata": {},
   "outputs": [],
   "source": [
    "famd = prince.FAMD(n_components=6)\n",
    "famd = famd.fit_transform(groupby_domains.drop(['Domain','Format Loads', 'Impressions', 'Clicks',\n",
    "                                                   'Viewability Rate', 'Efficiency Rate', 'Category importance',\n",
    "                                                         '50% View Rate'], 1))"
   ]
  },
  {
   "cell_type": "code",
   "execution_count": 64,
   "metadata": {},
   "outputs": [
    {
     "name": "stdout",
     "output_type": "stream",
     "text": [
      "CLUSTERING DIVISION:\n",
      " 2    303\n",
      "1    286\n",
      "0    194\n",
      "3    118\n",
      "Name: 0, dtype: int64\n"
     ]
    },
    {
     "data": {
      "text/html": [
       "<div>\n",
       "<style scoped>\n",
       "    .dataframe tbody tr th:only-of-type {\n",
       "        vertical-align: middle;\n",
       "    }\n",
       "\n",
       "    .dataframe tbody tr th {\n",
       "        vertical-align: top;\n",
       "    }\n",
       "\n",
       "    .dataframe thead th {\n",
       "        text-align: right;\n",
       "    }\n",
       "</style>\n",
       "<table border=\"1\" class=\"dataframe\">\n",
       "  <thead>\n",
       "    <tr style=\"text-align: right;\">\n",
       "      <th></th>\n",
       "      <th>Format Loads</th>\n",
       "      <th>Impressions</th>\n",
       "      <th>Format Fill Rate</th>\n",
       "      <th>Viewability Rate</th>\n",
       "      <th>Efficiency Rate</th>\n",
       "      <th>CPM</th>\n",
       "      <th>Clicks</th>\n",
       "      <th>CTR</th>\n",
       "      <th>50% View Rate</th>\n",
       "      <th>Category importance</th>\n",
       "    </tr>\n",
       "    <tr>\n",
       "      <th>Cluster</th>\n",
       "      <th></th>\n",
       "      <th></th>\n",
       "      <th></th>\n",
       "      <th></th>\n",
       "      <th></th>\n",
       "      <th></th>\n",
       "      <th></th>\n",
       "      <th></th>\n",
       "      <th></th>\n",
       "      <th></th>\n",
       "    </tr>\n",
       "  </thead>\n",
       "  <tbody>\n",
       "    <tr>\n",
       "      <th>0</th>\n",
       "      <td>112384.32</td>\n",
       "      <td>13421.98</td>\n",
       "      <td>12.35</td>\n",
       "      <td>72.54</td>\n",
       "      <td>84.25</td>\n",
       "      <td>1.49</td>\n",
       "      <td>74.47</td>\n",
       "      <td>0.56</td>\n",
       "      <td>66.38</td>\n",
       "      <td>4.36</td>\n",
       "    </tr>\n",
       "    <tr>\n",
       "      <th>1</th>\n",
       "      <td>120915.15</td>\n",
       "      <td>11953.75</td>\n",
       "      <td>10.59</td>\n",
       "      <td>78.76</td>\n",
       "      <td>87.37</td>\n",
       "      <td>1.57</td>\n",
       "      <td>86.98</td>\n",
       "      <td>0.69</td>\n",
       "      <td>71.12</td>\n",
       "      <td>58.61</td>\n",
       "    </tr>\n",
       "    <tr>\n",
       "      <th>2</th>\n",
       "      <td>118352.98</td>\n",
       "      <td>8909.71</td>\n",
       "      <td>9.52</td>\n",
       "      <td>68.49</td>\n",
       "      <td>79.60</td>\n",
       "      <td>1.40</td>\n",
       "      <td>46.48</td>\n",
       "      <td>0.47</td>\n",
       "      <td>59.55</td>\n",
       "      <td>25.53</td>\n",
       "    </tr>\n",
       "    <tr>\n",
       "      <th>3</th>\n",
       "      <td>145497.76</td>\n",
       "      <td>8255.16</td>\n",
       "      <td>7.47</td>\n",
       "      <td>72.26</td>\n",
       "      <td>84.67</td>\n",
       "      <td>1.53</td>\n",
       "      <td>44.54</td>\n",
       "      <td>0.39</td>\n",
       "      <td>61.15</td>\n",
       "      <td>27.91</td>\n",
       "    </tr>\n",
       "  </tbody>\n",
       "</table>\n",
       "</div>"
      ],
      "text/plain": [
       "         Format Loads  Impressions  Format Fill Rate  Viewability Rate  \\\n",
       "Cluster                                                                  \n",
       "0           112384.32     13421.98             12.35             72.54   \n",
       "1           120915.15     11953.75             10.59             78.76   \n",
       "2           118352.98      8909.71              9.52             68.49   \n",
       "3           145497.76      8255.16              7.47             72.26   \n",
       "\n",
       "         Efficiency Rate  CPM  Clicks  CTR  50% View Rate  Category importance  \n",
       "Cluster                                                                         \n",
       "0                  84.25 1.49   74.47 0.56          66.38                 4.36  \n",
       "1                  87.37 1.57   86.98 0.69          71.12                58.61  \n",
       "2                  79.60 1.40   46.48 0.47          59.55                25.53  \n",
       "3                  84.67 1.53   44.54 0.39          61.15                27.91  "
      ]
     },
     "metadata": {},
     "output_type": "display_data"
    },
    {
     "name": "stdout",
     "output_type": "stream",
     "text": [
      "The Silhouette Score is:  0.42652640749916704\n",
      "The Calinski Harabasz Score is:  396.3460544668657\n",
      "The Davies Douldin Score is:  1.1196203443057529\n"
     ]
    }
   ],
   "source": [
    "kmeans_pca_minmax= KMeans(n_clusters=4, init='k-means++', max_iter=1000, n_init=5, algorithm='auto')\n",
    "kmeans_pca_minmax.fit(famd)\n",
    "results_evaluation(kmeans_pca_minmax, famd)"
   ]
  },
  {
   "cell_type": "markdown",
   "metadata": {},
   "source": [
    "# MCA"
   ]
  },
  {
   "cell_type": "code",
   "execution_count": null,
   "metadata": {},
   "outputs": [],
   "source": [
    "mca.exp"
   ]
  },
  {
   "cell_type": "code",
   "execution_count": 17,
   "metadata": {},
   "outputs": [
    {
     "data": {
      "text/html": [
       "<div>\n",
       "<style scoped>\n",
       "    .dataframe tbody tr th:only-of-type {\n",
       "        vertical-align: middle;\n",
       "    }\n",
       "\n",
       "    .dataframe tbody tr th {\n",
       "        vertical-align: top;\n",
       "    }\n",
       "\n",
       "    .dataframe thead th {\n",
       "        text-align: right;\n",
       "    }\n",
       "</style>\n",
       "<table border=\"1\" class=\"dataframe\">\n",
       "  <thead>\n",
       "    <tr style=\"text-align: right;\">\n",
       "      <th></th>\n",
       "      <th>Category</th>\n",
       "      <th>Country</th>\n",
       "      <th>Geographical zone</th>\n",
       "    </tr>\n",
       "  </thead>\n",
       "  <tbody>\n",
       "    <tr>\n",
       "      <th>0</th>\n",
       "      <td>Health &amp; Wellness</td>\n",
       "      <td>Turkey</td>\n",
       "      <td>West Europe</td>\n",
       "    </tr>\n",
       "    <tr>\n",
       "      <th>1</th>\n",
       "      <td>News &amp; Portals</td>\n",
       "      <td>United States</td>\n",
       "      <td>North America</td>\n",
       "    </tr>\n",
       "    <tr>\n",
       "      <th>2</th>\n",
       "      <td>Sports</td>\n",
       "      <td>Peru</td>\n",
       "      <td>South America</td>\n",
       "    </tr>\n",
       "    <tr>\n",
       "      <th>3</th>\n",
       "      <td>News &amp; Portals</td>\n",
       "      <td>Egypt</td>\n",
       "      <td>Africa</td>\n",
       "    </tr>\n",
       "    <tr>\n",
       "      <th>4</th>\n",
       "      <td>News &amp; Portals</td>\n",
       "      <td>Taiwan</td>\n",
       "      <td>Asia</td>\n",
       "    </tr>\n",
       "    <tr>\n",
       "      <th>...</th>\n",
       "      <td>...</td>\n",
       "      <td>...</td>\n",
       "      <td>...</td>\n",
       "    </tr>\n",
       "    <tr>\n",
       "      <th>896</th>\n",
       "      <td>News &amp; Portals</td>\n",
       "      <td>Nicaragua</td>\n",
       "      <td>South America</td>\n",
       "    </tr>\n",
       "    <tr>\n",
       "      <th>897</th>\n",
       "      <td>Money &amp; Investing</td>\n",
       "      <td>United States</td>\n",
       "      <td>North America</td>\n",
       "    </tr>\n",
       "    <tr>\n",
       "      <th>898</th>\n",
       "      <td>News &amp; Portals</td>\n",
       "      <td>United Kingdom</td>\n",
       "      <td>West Europe</td>\n",
       "    </tr>\n",
       "    <tr>\n",
       "      <th>899</th>\n",
       "      <td>Leisure</td>\n",
       "      <td>Germany</td>\n",
       "      <td>West Europe</td>\n",
       "    </tr>\n",
       "    <tr>\n",
       "      <th>900</th>\n",
       "      <td>News &amp; Portals</td>\n",
       "      <td>Poland</td>\n",
       "      <td>East Europe</td>\n",
       "    </tr>\n",
       "  </tbody>\n",
       "</table>\n",
       "<p>901 rows × 3 columns</p>\n",
       "</div>"
      ],
      "text/plain": [
       "              Category         Country Geographical zone\n",
       "0    Health & Wellness          Turkey       West Europe\n",
       "1       News & Portals   United States     North America\n",
       "2               Sports            Peru     South America\n",
       "3       News & Portals           Egypt            Africa\n",
       "4       News & Portals          Taiwan              Asia\n",
       "..                 ...             ...               ...\n",
       "896     News & Portals       Nicaragua     South America\n",
       "897  Money & Investing   United States     North America\n",
       "898     News & Portals  United Kingdom       West Europe\n",
       "899            Leisure         Germany       West Europe\n",
       "900     News & Portals          Poland       East Europe\n",
       "\n",
       "[901 rows x 3 columns]"
      ]
     },
     "execution_count": 17,
     "metadata": {},
     "output_type": "execute_result"
    }
   ],
   "source": [
    "groupby_domains[['Category', 'Country', 'Geographical zone']]"
   ]
  },
  {
   "cell_type": "code",
   "execution_count": null,
   "metadata": {},
   "outputs": [],
   "source": [
    "groupby_domains[['Country', 'Geographical zone']]"
   ]
  },
  {
   "cell_type": "code",
   "execution_count": 102,
   "metadata": {},
   "outputs": [
    {
     "name": "stdout",
     "output_type": "stream",
     "text": [
      "        0     1     2\n",
      "0    0.90 -0.36 -1.45\n",
      "1   -0.87 -0.44  1.18\n",
      "2   -0.22 -0.39  0.22\n",
      "3    1.35  0.21 -5.73\n",
      "4    1.36  0.06  0.73\n",
      "..    ...   ...   ...\n",
      "896 -0.22 -0.40  0.19\n",
      "897 -0.87 -0.44  1.18\n",
      "898  0.91 -0.34 -1.51\n",
      "899  0.93 -0.35 -1.50\n",
      "900 -1.52  2.30 -0.64\n",
      "\n",
      "[901 rows x 3 columns]\n"
     ]
    }
   ],
   "source": [
    "import prince\n",
    "\n",
    "X = groupby_domains[['Country', 'Geographical zone', 'Country']]\n",
    "mca = prince.MCA(n_components=3)\n",
    "\n",
    "mca = pd.DataFrame(mca.fit_transform(X))\n",
    "\n",
    "print(mca)\n"
   ]
  },
  {
   "cell_type": "code",
   "execution_count": 99,
   "metadata": {},
   "outputs": [],
   "source": [
    "groupby_domains_clustering= groupby_domains.drop(['Domain','Format Loads', 'Impressions', 'Clicks',\n",
    "                                                   'Viewability Rate', 'Efficiency Rate', 'Category importance',\n",
    "                                                         '50% View Rate', 'Country', 'Geographical zone', 'Country','Category'], 1)"
   ]
  },
  {
   "cell_type": "code",
   "execution_count": 109,
   "metadata": {},
   "outputs": [],
   "source": [
    "X = groupby_domains_clustering.merge(mca,how='outer', left_index=True, right_index=True )\n"
   ]
  },
  {
   "cell_type": "code",
   "execution_count": 111,
   "metadata": {},
   "outputs": [
    {
     "name": "stdout",
     "output_type": "stream",
     "text": [
      "CLUSTERING DIVISION:\n",
      " 4    339\n",
      "0    264\n",
      "3    164\n",
      "1    105\n",
      "5     27\n",
      "2      2\n",
      "Name: 0, dtype: int64\n"
     ]
    },
    {
     "data": {
      "text/html": [
       "<div>\n",
       "<style scoped>\n",
       "    .dataframe tbody tr th:only-of-type {\n",
       "        vertical-align: middle;\n",
       "    }\n",
       "\n",
       "    .dataframe tbody tr th {\n",
       "        vertical-align: top;\n",
       "    }\n",
       "\n",
       "    .dataframe thead th {\n",
       "        text-align: right;\n",
       "    }\n",
       "</style>\n",
       "<table border=\"1\" class=\"dataframe\">\n",
       "  <thead>\n",
       "    <tr style=\"text-align: right;\">\n",
       "      <th></th>\n",
       "      <th>Format Loads</th>\n",
       "      <th>Impressions</th>\n",
       "      <th>Format Fill Rate</th>\n",
       "      <th>Viewability Rate</th>\n",
       "      <th>Efficiency Rate</th>\n",
       "      <th>CPM</th>\n",
       "      <th>Clicks</th>\n",
       "      <th>CTR</th>\n",
       "      <th>50% View Rate</th>\n",
       "      <th>Category importance</th>\n",
       "    </tr>\n",
       "    <tr>\n",
       "      <th>Cluster</th>\n",
       "      <th></th>\n",
       "      <th></th>\n",
       "      <th></th>\n",
       "      <th></th>\n",
       "      <th></th>\n",
       "      <th></th>\n",
       "      <th></th>\n",
       "      <th></th>\n",
       "      <th></th>\n",
       "      <th></th>\n",
       "    </tr>\n",
       "  </thead>\n",
       "  <tbody>\n",
       "    <tr>\n",
       "      <th>0</th>\n",
       "      <td>121702.25</td>\n",
       "      <td>9111.96</td>\n",
       "      <td>7.55</td>\n",
       "      <td>74.68</td>\n",
       "      <td>85.98</td>\n",
       "      <td>1.52</td>\n",
       "      <td>57.34</td>\n",
       "      <td>0.57</td>\n",
       "      <td>67.03</td>\n",
       "      <td>32.74</td>\n",
       "    </tr>\n",
       "    <tr>\n",
       "      <th>1</th>\n",
       "      <td>115865.09</td>\n",
       "      <td>24447.23</td>\n",
       "      <td>24.73</td>\n",
       "      <td>77.54</td>\n",
       "      <td>91.48</td>\n",
       "      <td>1.56</td>\n",
       "      <td>157.02</td>\n",
       "      <td>0.53</td>\n",
       "      <td>71.92</td>\n",
       "      <td>31.36</td>\n",
       "    </tr>\n",
       "    <tr>\n",
       "      <th>2</th>\n",
       "      <td>31505.03</td>\n",
       "      <td>31582.52</td>\n",
       "      <td>98.81</td>\n",
       "      <td>79.93</td>\n",
       "      <td>96.84</td>\n",
       "      <td>1.77</td>\n",
       "      <td>127.98</td>\n",
       "      <td>0.48</td>\n",
       "      <td>78.93</td>\n",
       "      <td>30.29</td>\n",
       "    </tr>\n",
       "    <tr>\n",
       "      <th>3</th>\n",
       "      <td>121288.94</td>\n",
       "      <td>14740.74</td>\n",
       "      <td>15.11</td>\n",
       "      <td>77.67</td>\n",
       "      <td>91.18</td>\n",
       "      <td>1.56</td>\n",
       "      <td>97.50</td>\n",
       "      <td>0.64</td>\n",
       "      <td>70.43</td>\n",
       "      <td>34.21</td>\n",
       "    </tr>\n",
       "    <tr>\n",
       "      <th>4</th>\n",
       "      <td>123297.04</td>\n",
       "      <td>2594.90</td>\n",
       "      <td>2.03</td>\n",
       "      <td>67.88</td>\n",
       "      <td>75.25</td>\n",
       "      <td>1.40</td>\n",
       "      <td>16.42</td>\n",
       "      <td>0.50</td>\n",
       "      <td>57.49</td>\n",
       "      <td>29.81</td>\n",
       "    </tr>\n",
       "    <tr>\n",
       "      <th>5</th>\n",
       "      <td>124691.07</td>\n",
       "      <td>50501.85</td>\n",
       "      <td>45.81</td>\n",
       "      <td>78.23</td>\n",
       "      <td>91.87</td>\n",
       "      <td>1.64</td>\n",
       "      <td>193.67</td>\n",
       "      <td>0.41</td>\n",
       "      <td>75.35</td>\n",
       "      <td>34.23</td>\n",
       "    </tr>\n",
       "  </tbody>\n",
       "</table>\n",
       "</div>"
      ],
      "text/plain": [
       "         Format Loads  Impressions  Format Fill Rate  Viewability Rate  \\\n",
       "Cluster                                                                  \n",
       "0           121702.25      9111.96              7.55             74.68   \n",
       "1           115865.09     24447.23             24.73             77.54   \n",
       "2            31505.03     31582.52             98.81             79.93   \n",
       "3           121288.94     14740.74             15.11             77.67   \n",
       "4           123297.04      2594.90              2.03             67.88   \n",
       "5           124691.07     50501.85             45.81             78.23   \n",
       "\n",
       "         Efficiency Rate  CPM  Clicks  CTR  50% View Rate  Category importance  \n",
       "Cluster                                                                         \n",
       "0                  85.98 1.52   57.34 0.57          67.03                32.74  \n",
       "1                  91.48 1.56  157.02 0.53          71.92                31.36  \n",
       "2                  96.84 1.77  127.98 0.48          78.93                30.29  \n",
       "3                  91.18 1.56   97.50 0.64          70.43                34.21  \n",
       "4                  75.25 1.40   16.42 0.50          57.49                29.81  \n",
       "5                  91.87 1.64  193.67 0.41          75.35                34.23  "
      ]
     },
     "metadata": {},
     "output_type": "display_data"
    },
    {
     "name": "stdout",
     "output_type": "stream",
     "text": [
      "The Silhouette Score is:  0.4448029553401215\n",
      "The Calinski Harabasz Score is:  1904.834792011066\n",
      "The Davies Douldin Score is:  0.6237785352798612\n"
     ]
    }
   ],
   "source": [
    "kmeans_pca_minmax= KMeans(n_clusters=6, init='k-means++', max_iter=1000, n_init=5, algorithm='auto')\n",
    "kmeans_pca_minmax.fit(X)\n",
    "results_evaluation(kmeans_pca_minmax, X)"
   ]
  },
  {
   "cell_type": "markdown",
   "metadata": {},
   "source": [
    "# K MEANS WITH ONE HOT ENCODING"
   ]
  },
  {
   "cell_type": "code",
   "execution_count": 3,
   "metadata": {},
   "outputs": [],
   "source": [
    "groupby_domains = pd.read_csv('DATA/Global groupby_domains.csv')"
   ]
  },
  {
   "cell_type": "code",
   "execution_count": 34,
   "metadata": {},
   "outputs": [],
   "source": [
    "groupby_domains_one_hot =pd.get_dummies(groupby_domains,columns=['Category','Geographical zone'])"
   ]
  },
  {
   "cell_type": "code",
   "execution_count": 4,
   "metadata": {},
   "outputs": [
    {
     "data": {
      "text/html": [
       "<div>\n",
       "<style scoped>\n",
       "    .dataframe tbody tr th:only-of-type {\n",
       "        vertical-align: middle;\n",
       "    }\n",
       "\n",
       "    .dataframe tbody tr th {\n",
       "        vertical-align: top;\n",
       "    }\n",
       "\n",
       "    .dataframe thead th {\n",
       "        text-align: right;\n",
       "    }\n",
       "</style>\n",
       "<table border=\"1\" class=\"dataframe\">\n",
       "  <thead>\n",
       "    <tr style=\"text-align: right;\">\n",
       "      <th></th>\n",
       "      <th>Domain</th>\n",
       "      <th>Format Loads</th>\n",
       "      <th>Impressions</th>\n",
       "      <th>Format Fill Rate</th>\n",
       "      <th>Viewability Rate</th>\n",
       "      <th>Efficiency Rate</th>\n",
       "      <th>CPM</th>\n",
       "      <th>Clicks</th>\n",
       "      <th>CTR</th>\n",
       "      <th>25% View Rate</th>\n",
       "      <th>50% View Rate</th>\n",
       "      <th>75% View Rate</th>\n",
       "      <th>100% View Rate</th>\n",
       "      <th>Category</th>\n",
       "      <th>Category importance</th>\n",
       "      <th>Country</th>\n",
       "    </tr>\n",
       "  </thead>\n",
       "  <tbody>\n",
       "    <tr>\n",
       "      <th>0</th>\n",
       "      <td>memurlar.net</td>\n",
       "      <td>2739246.93</td>\n",
       "      <td>8942.44</td>\n",
       "      <td>0.60</td>\n",
       "      <td>83.80</td>\n",
       "      <td>92.72</td>\n",
       "      <td>1.59</td>\n",
       "      <td>46.82</td>\n",
       "      <td>0.46</td>\n",
       "      <td>79.04</td>\n",
       "      <td>67.91</td>\n",
       "      <td>59.93</td>\n",
       "      <td>53.49</td>\n",
       "      <td>Health &amp; Wellness</td>\n",
       "      <td>2.08</td>\n",
       "      <td>Turkey</td>\n",
       "    </tr>\n",
       "  </tbody>\n",
       "</table>\n",
       "</div>"
      ],
      "text/plain": [
       "         Domain  Format Loads  Impressions  Format Fill Rate  \\\n",
       "0  memurlar.net    2739246.93      8942.44              0.60   \n",
       "\n",
       "   Viewability Rate  Efficiency Rate  CPM  Clicks  CTR  25% View Rate  \\\n",
       "0             83.80            92.72 1.59   46.82 0.46          79.04   \n",
       "\n",
       "   50% View Rate  75% View Rate  100% View Rate           Category  \\\n",
       "0          67.91          59.93           53.49  Health & Wellness   \n",
       "\n",
       "   Category importance Country  \n",
       "0                 2.08  Turkey  "
      ]
     },
     "execution_count": 4,
     "metadata": {},
     "output_type": "execute_result"
    }
   ],
   "source": [
    "groupby_domains.head(1)"
   ]
  },
  {
   "cell_type": "code",
   "execution_count": 38,
   "metadata": {},
   "outputs": [],
   "source": [
    "groupby_domains_clustering= groupby_domains_one_hot.drop(['Domain','Format Loads', 'Impressions', 'Clicks',\n",
    "                                                   'Viewability Rate', 'Efficiency Rate', 'Category importance', 'Country',\n",
    "                                                         '50% View Rate'], 1)\n"
   ]
  },
  {
   "cell_type": "code",
   "execution_count": 40,
   "metadata": {},
   "outputs": [],
   "source": [
    "robust = pd.DataFrame(RobustScaler().fit_transform(groupby_domains_clustering))\n",
    "pca_2_robust = pd.DataFrame(PCA(n_components = 2).fit_transform(robust))\n",
    "standardscaler = pd.DataFrame(StandardScaler().fit_transform(groupby_domains_clustering))\n",
    "minmax = pd.DataFrame(MinMaxScaler().fit_transform(groupby_domains_clustering))\n",
    "pca_2_groupby_domains = pd.DataFrame(PCA(n_components = 2).fit_transform(groupby_domains_clustering))\n"
   ]
  },
  {
   "cell_type": "code",
   "execution_count": 46,
   "metadata": {},
   "outputs": [],
   "source": [
    "minmax = pd.DataFrame(MinMaxScaler().fit_transform(groupby_domains_clustering.drop(['Category', 'Country'], 1)))\n",
    "minmax['Country'] = groupby_domains_clustering['Country'].copy()\n",
    "minmax['Category'] = groupby_domains_clustering['Category'].copy()\n",
    "\n"
   ]
  },
  {
   "cell_type": "code",
   "execution_count": 42,
   "metadata": {},
   "outputs": [
    {
     "data": {
      "text/plain": [
       "Text(0, 0.5, 'Cumulative explained variance')"
      ]
     },
     "execution_count": 42,
     "metadata": {},
     "output_type": "execute_result"
    },
    {
     "data": {
      "image/png": "[encoded data removed]",
      "text/plain": [
       "<Figure size 576x396 with 1 Axes>"
      ]
     },
     "metadata": {},
     "output_type": "display_data"
    }
   ],
   "source": [
    "pca = PCA()\n",
    "pca.fit(minmax)\n",
    "plt.plot(range(1,31), pca.explained_variance_ratio_.cumsum(), marker= 'o' , linestyle = '--')\n",
    "plt.title('Explained variance by components')\n",
    "plt.xlabel('Number of components')\n",
    "plt.ylabel('Cumulative explained variance')"
   ]
  },
  {
   "cell_type": "markdown",
   "metadata": {},
   "source": [
    " A rule of thumb is to preserve around 80 % of the variance. So, in this instance, I decide to keep 4 components. I´ll perform PCA with the chosen number of components."
   ]
  },
  {
   "cell_type": "code",
   "execution_count": 43,
   "metadata": {},
   "outputs": [],
   "source": [
    "pca_minmax = PCA(n_components=10)\n",
    "pca_minmax = pca_minmax.fit_transform(minmax)"
   ]
  },
  {
   "cell_type": "code",
   "execution_count": 44,
   "metadata": {},
   "outputs": [
    {
     "data": {
      "image/png": "[encoded data removed]",
      "text/plain": [
       "<Figure size 576x396 with 1 Axes>"
      ]
     },
     "metadata": {},
     "output_type": "display_data"
    },
    {
     "data": {
      "image/png": "[encoded data removed]",
      "text/plain": [
       "<Figure size 576x396 with 1 Axes>"
      ]
     },
     "metadata": {},
     "output_type": "display_data"
    },
    {
     "data": {
      "image/png": "[encoded data removed]",
      "text/plain": [
       "<Figure size 576x396 with 1 Axes>"
      ]
     },
     "metadata": {},
     "output_type": "display_data"
    }
   ],
   "source": [
    "model = KMeans(init='k-means++', max_iter=1000, n_init=5, algorithm='auto')\n",
    "visualization_clusters(pca_minmax, model)"
   ]
  },
  {
   "cell_type": "markdown",
   "metadata": {},
   "source": [
    "- Initializing the KElbowVisualizer several times with the 3 kind of metrics (distortion, Silhouette and calinski_harabasz) the optimal number of clusters is between 5-7"
   ]
  },
  {
   "cell_type": "code",
   "execution_count": 54,
   "metadata": {},
   "outputs": [
    {
     "name": "stdout",
     "output_type": "stream",
     "text": [
      "CLUSTERING DIVISION:\n",
      " 1    308\n",
      "4    195\n",
      "3    118\n",
      "0    108\n",
      "5     94\n",
      "2     78\n",
      "Name: 0, dtype: int64\n"
     ]
    },
    {
     "data": {
      "text/html": [
       "<div>\n",
       "<style scoped>\n",
       "    .dataframe tbody tr th:only-of-type {\n",
       "        vertical-align: middle;\n",
       "    }\n",
       "\n",
       "    .dataframe tbody tr th {\n",
       "        vertical-align: top;\n",
       "    }\n",
       "\n",
       "    .dataframe thead th {\n",
       "        text-align: right;\n",
       "    }\n",
       "</style>\n",
       "<table border=\"1\" class=\"dataframe\">\n",
       "  <thead>\n",
       "    <tr style=\"text-align: right;\">\n",
       "      <th></th>\n",
       "      <th>Format Loads</th>\n",
       "      <th>Impressions</th>\n",
       "      <th>Format Fill Rate</th>\n",
       "      <th>Viewability Rate</th>\n",
       "      <th>Efficiency Rate</th>\n",
       "      <th>CPM</th>\n",
       "      <th>Clicks</th>\n",
       "      <th>CTR</th>\n",
       "      <th>50% View Rate</th>\n",
       "      <th>Category importance</th>\n",
       "    </tr>\n",
       "    <tr>\n",
       "      <th>Cluster</th>\n",
       "      <th></th>\n",
       "      <th></th>\n",
       "      <th></th>\n",
       "      <th></th>\n",
       "      <th></th>\n",
       "      <th></th>\n",
       "      <th></th>\n",
       "      <th></th>\n",
       "      <th></th>\n",
       "      <th></th>\n",
       "    </tr>\n",
       "  </thead>\n",
       "  <tbody>\n",
       "    <tr>\n",
       "      <th>0</th>\n",
       "      <td>122016.61</td>\n",
       "      <td>7989.56</td>\n",
       "      <td>10.10</td>\n",
       "      <td>72.09</td>\n",
       "      <td>83.66</td>\n",
       "      <td>1.46</td>\n",
       "      <td>56.09</td>\n",
       "      <td>0.54</td>\n",
       "      <td>62.94</td>\n",
       "      <td>25.69</td>\n",
       "    </tr>\n",
       "    <tr>\n",
       "      <th>1</th>\n",
       "      <td>127470.05</td>\n",
       "      <td>11543.74</td>\n",
       "      <td>10.17</td>\n",
       "      <td>78.19</td>\n",
       "      <td>86.93</td>\n",
       "      <td>1.56</td>\n",
       "      <td>83.74</td>\n",
       "      <td>0.68</td>\n",
       "      <td>70.49</td>\n",
       "      <td>58.61</td>\n",
       "    </tr>\n",
       "    <tr>\n",
       "      <th>2</th>\n",
       "      <td>120713.43</td>\n",
       "      <td>15860.85</td>\n",
       "      <td>15.12</td>\n",
       "      <td>65.77</td>\n",
       "      <td>79.01</td>\n",
       "      <td>1.48</td>\n",
       "      <td>55.89</td>\n",
       "      <td>0.35</td>\n",
       "      <td>57.92</td>\n",
       "      <td>19.30</td>\n",
       "    </tr>\n",
       "    <tr>\n",
       "      <th>3</th>\n",
       "      <td>145497.76</td>\n",
       "      <td>8255.16</td>\n",
       "      <td>7.47</td>\n",
       "      <td>72.26</td>\n",
       "      <td>84.67</td>\n",
       "      <td>1.53</td>\n",
       "      <td>44.54</td>\n",
       "      <td>0.39</td>\n",
       "      <td>61.15</td>\n",
       "      <td>27.91</td>\n",
       "    </tr>\n",
       "    <tr>\n",
       "      <th>4</th>\n",
       "      <td>112489.49</td>\n",
       "      <td>13355.89</td>\n",
       "      <td>12.29</td>\n",
       "      <td>72.60</td>\n",
       "      <td>84.30</td>\n",
       "      <td>1.49</td>\n",
       "      <td>74.11</td>\n",
       "      <td>0.56</td>\n",
       "      <td>66.35</td>\n",
       "      <td>4.37</td>\n",
       "    </tr>\n",
       "    <tr>\n",
       "      <th>5</th>\n",
       "      <td>89952.96</td>\n",
       "      <td>4919.02</td>\n",
       "      <td>5.42</td>\n",
       "      <td>65.91</td>\n",
       "      <td>74.91</td>\n",
       "      <td>1.26</td>\n",
       "      <td>29.22</td>\n",
       "      <td>0.47</td>\n",
       "      <td>56.37</td>\n",
       "      <td>22.97</td>\n",
       "    </tr>\n",
       "  </tbody>\n",
       "</table>\n",
       "</div>"
      ],
      "text/plain": [
       "         Format Loads  Impressions  Format Fill Rate  Viewability Rate  \\\n",
       "Cluster                                                                  \n",
       "0           122016.61      7989.56             10.10             72.09   \n",
       "1           127470.05     11543.74             10.17             78.19   \n",
       "2           120713.43     15860.85             15.12             65.77   \n",
       "3           145497.76      8255.16              7.47             72.26   \n",
       "4           112489.49     13355.89             12.29             72.60   \n",
       "5            89952.96      4919.02              5.42             65.91   \n",
       "\n",
       "         Efficiency Rate  CPM  Clicks  CTR  50% View Rate  Category importance  \n",
       "Cluster                                                                         \n",
       "0                  83.66 1.46   56.09 0.54          62.94                25.69  \n",
       "1                  86.93 1.56   83.74 0.68          70.49                58.61  \n",
       "2                  79.01 1.48   55.89 0.35          57.92                19.30  \n",
       "3                  84.67 1.53   44.54 0.39          61.15                27.91  \n",
       "4                  84.30 1.49   74.11 0.56          66.35                 4.37  \n",
       "5                  74.91 1.26   29.22 0.47          56.37                22.97  "
      ]
     },
     "metadata": {},
     "output_type": "display_data"
    },
    {
     "name": "stdout",
     "output_type": "stream",
     "text": [
      "The Silhouette Score is:  0.5290886675806757\n",
      "The Calinski Harabasz Score is:  325.2226290541741\n",
      "The Davies Douldin Score is:  1.0698072411076278\n"
     ]
    }
   ],
   "source": [
    "kmeans_pca_minmax= KMeans(n_clusters=6, init='k-means++', max_iter=1000, n_init=5, algorithm='auto')\n",
    "kmeans_pca_minmax.fit(pca_minmax)\n",
    "results_evaluation(kmeans_pca_minmax, pca_minmax)"
   ]
  },
  {
   "cell_type": "code",
   "execution_count": 60,
   "metadata": {},
   "outputs": [],
   "source": [
    "pca_minmax_onehot= groupby_domains.copy()\n",
    "pca_minmax_onehot['Cluster'] = kmeans_pca_minmax.labels_\n"
   ]
  },
  {
   "cell_type": "code",
   "execution_count": null,
   "metadata": {},
   "outputs": [],
   "source": [
    "sv = SilhouetteVisualizer(kmeans_pca_robustscaler)\n",
    "sv.fit(pca_robustscaler)\n",
    "sv.show()"
   ]
  },
  {
   "cell_type": "markdown",
   "metadata": {},
   "source": [
    "# K MEDOIDS ONE HOT ENCODING"
   ]
  },
  {
   "cell_type": "code",
   "execution_count": 119,
   "metadata": {},
   "outputs": [],
   "source": [
    "%run KMEDOIDS.py"
   ]
  },
  {
   "cell_type": "code",
   "execution_count": 113,
   "metadata": {},
   "outputs": [],
   "source": [
    "groupby_domains_one_hot =pd.get_dummies(groupby_domains,columns=['Category','Geographical zone'])"
   ]
  },
  {
   "cell_type": "code",
   "execution_count": 114,
   "metadata": {},
   "outputs": [],
   "source": [
    "groupby_domains_clustering= groupby_domains_one_hot.drop(['Domain','Format Loads', 'Impressions', 'Clicks',\n",
    "                                                   'Viewability Rate', 'Efficiency Rate', 'Category importance', 'Country',\n",
    "                                                         '50% View Rate'], 1)\n"
   ]
  },
  {
   "cell_type": "code",
   "execution_count": 115,
   "metadata": {},
   "outputs": [
    {
     "data": {
      "text/html": [
       "<div>\n",
       "<style scoped>\n",
       "    .dataframe tbody tr th:only-of-type {\n",
       "        vertical-align: middle;\n",
       "    }\n",
       "\n",
       "    .dataframe tbody tr th {\n",
       "        vertical-align: top;\n",
       "    }\n",
       "\n",
       "    .dataframe thead th {\n",
       "        text-align: right;\n",
       "    }\n",
       "</style>\n",
       "<table border=\"1\" class=\"dataframe\">\n",
       "  <thead>\n",
       "    <tr style=\"text-align: right;\">\n",
       "      <th></th>\n",
       "      <th>Format Fill Rate</th>\n",
       "      <th>CPM</th>\n",
       "      <th>CTR</th>\n",
       "      <th>Category_Autos</th>\n",
       "      <th>Category_B-to-B</th>\n",
       "      <th>Category_Casual Games</th>\n",
       "      <th>Category_Community &amp; Culture</th>\n",
       "      <th>Category_Education &amp; Careers</th>\n",
       "      <th>Category_Family &amp; Parenting</th>\n",
       "      <th>Category_Food</th>\n",
       "      <th>...</th>\n",
       "      <th>Category_Tech &amp; Gaming</th>\n",
       "      <th>Category_Travel</th>\n",
       "      <th>Geographical zone_Africa</th>\n",
       "      <th>Geographical zone_Arabia</th>\n",
       "      <th>Geographical zone_Asia</th>\n",
       "      <th>Geographical zone_Australia</th>\n",
       "      <th>Geographical zone_East Europe</th>\n",
       "      <th>Geographical zone_North America</th>\n",
       "      <th>Geographical zone_South America</th>\n",
       "      <th>Geographical zone_West Europe</th>\n",
       "    </tr>\n",
       "  </thead>\n",
       "  <tbody>\n",
       "    <tr>\n",
       "      <th>0</th>\n",
       "      <td>0.60</td>\n",
       "      <td>1.59</td>\n",
       "      <td>0.46</td>\n",
       "      <td>0</td>\n",
       "      <td>0</td>\n",
       "      <td>0</td>\n",
       "      <td>0</td>\n",
       "      <td>0</td>\n",
       "      <td>0</td>\n",
       "      <td>0</td>\n",
       "      <td>...</td>\n",
       "      <td>0</td>\n",
       "      <td>0</td>\n",
       "      <td>0</td>\n",
       "      <td>0</td>\n",
       "      <td>0</td>\n",
       "      <td>0</td>\n",
       "      <td>0</td>\n",
       "      <td>0</td>\n",
       "      <td>0</td>\n",
       "      <td>1</td>\n",
       "    </tr>\n",
       "    <tr>\n",
       "      <th>1</th>\n",
       "      <td>10.81</td>\n",
       "      <td>1.71</td>\n",
       "      <td>0.07</td>\n",
       "      <td>0</td>\n",
       "      <td>0</td>\n",
       "      <td>0</td>\n",
       "      <td>0</td>\n",
       "      <td>0</td>\n",
       "      <td>0</td>\n",
       "      <td>0</td>\n",
       "      <td>...</td>\n",
       "      <td>0</td>\n",
       "      <td>0</td>\n",
       "      <td>0</td>\n",
       "      <td>0</td>\n",
       "      <td>0</td>\n",
       "      <td>0</td>\n",
       "      <td>0</td>\n",
       "      <td>1</td>\n",
       "      <td>0</td>\n",
       "      <td>0</td>\n",
       "    </tr>\n",
       "    <tr>\n",
       "      <th>2</th>\n",
       "      <td>3.77</td>\n",
       "      <td>1.44</td>\n",
       "      <td>0.39</td>\n",
       "      <td>0</td>\n",
       "      <td>0</td>\n",
       "      <td>0</td>\n",
       "      <td>0</td>\n",
       "      <td>0</td>\n",
       "      <td>0</td>\n",
       "      <td>0</td>\n",
       "      <td>...</td>\n",
       "      <td>0</td>\n",
       "      <td>0</td>\n",
       "      <td>0</td>\n",
       "      <td>0</td>\n",
       "      <td>0</td>\n",
       "      <td>0</td>\n",
       "      <td>0</td>\n",
       "      <td>0</td>\n",
       "      <td>1</td>\n",
       "      <td>0</td>\n",
       "    </tr>\n",
       "    <tr>\n",
       "      <th>3</th>\n",
       "      <td>1.14</td>\n",
       "      <td>1.73</td>\n",
       "      <td>0.40</td>\n",
       "      <td>0</td>\n",
       "      <td>0</td>\n",
       "      <td>0</td>\n",
       "      <td>0</td>\n",
       "      <td>0</td>\n",
       "      <td>0</td>\n",
       "      <td>0</td>\n",
       "      <td>...</td>\n",
       "      <td>0</td>\n",
       "      <td>0</td>\n",
       "      <td>1</td>\n",
       "      <td>0</td>\n",
       "      <td>0</td>\n",
       "      <td>0</td>\n",
       "      <td>0</td>\n",
       "      <td>0</td>\n",
       "      <td>0</td>\n",
       "      <td>0</td>\n",
       "    </tr>\n",
       "    <tr>\n",
       "      <th>4</th>\n",
       "      <td>19.54</td>\n",
       "      <td>1.80</td>\n",
       "      <td>0.79</td>\n",
       "      <td>0</td>\n",
       "      <td>0</td>\n",
       "      <td>0</td>\n",
       "      <td>0</td>\n",
       "      <td>0</td>\n",
       "      <td>0</td>\n",
       "      <td>0</td>\n",
       "      <td>...</td>\n",
       "      <td>0</td>\n",
       "      <td>0</td>\n",
       "      <td>0</td>\n",
       "      <td>0</td>\n",
       "      <td>1</td>\n",
       "      <td>0</td>\n",
       "      <td>0</td>\n",
       "      <td>0</td>\n",
       "      <td>0</td>\n",
       "      <td>0</td>\n",
       "    </tr>\n",
       "    <tr>\n",
       "      <th>...</th>\n",
       "      <td>...</td>\n",
       "      <td>...</td>\n",
       "      <td>...</td>\n",
       "      <td>...</td>\n",
       "      <td>...</td>\n",
       "      <td>...</td>\n",
       "      <td>...</td>\n",
       "      <td>...</td>\n",
       "      <td>...</td>\n",
       "      <td>...</td>\n",
       "      <td>...</td>\n",
       "      <td>...</td>\n",
       "      <td>...</td>\n",
       "      <td>...</td>\n",
       "      <td>...</td>\n",
       "      <td>...</td>\n",
       "      <td>...</td>\n",
       "      <td>...</td>\n",
       "      <td>...</td>\n",
       "      <td>...</td>\n",
       "      <td>...</td>\n",
       "    </tr>\n",
       "    <tr>\n",
       "      <th>896</th>\n",
       "      <td>0.13</td>\n",
       "      <td>1.89</td>\n",
       "      <td>0.10</td>\n",
       "      <td>0</td>\n",
       "      <td>0</td>\n",
       "      <td>0</td>\n",
       "      <td>0</td>\n",
       "      <td>0</td>\n",
       "      <td>0</td>\n",
       "      <td>0</td>\n",
       "      <td>...</td>\n",
       "      <td>0</td>\n",
       "      <td>0</td>\n",
       "      <td>0</td>\n",
       "      <td>0</td>\n",
       "      <td>0</td>\n",
       "      <td>0</td>\n",
       "      <td>0</td>\n",
       "      <td>0</td>\n",
       "      <td>1</td>\n",
       "      <td>0</td>\n",
       "    </tr>\n",
       "    <tr>\n",
       "      <th>897</th>\n",
       "      <td>0.20</td>\n",
       "      <td>1.25</td>\n",
       "      <td>0.05</td>\n",
       "      <td>0</td>\n",
       "      <td>0</td>\n",
       "      <td>0</td>\n",
       "      <td>0</td>\n",
       "      <td>0</td>\n",
       "      <td>0</td>\n",
       "      <td>0</td>\n",
       "      <td>...</td>\n",
       "      <td>0</td>\n",
       "      <td>0</td>\n",
       "      <td>0</td>\n",
       "      <td>0</td>\n",
       "      <td>0</td>\n",
       "      <td>0</td>\n",
       "      <td>0</td>\n",
       "      <td>1</td>\n",
       "      <td>0</td>\n",
       "      <td>0</td>\n",
       "    </tr>\n",
       "    <tr>\n",
       "      <th>898</th>\n",
       "      <td>13.72</td>\n",
       "      <td>1.70</td>\n",
       "      <td>0.20</td>\n",
       "      <td>0</td>\n",
       "      <td>0</td>\n",
       "      <td>0</td>\n",
       "      <td>0</td>\n",
       "      <td>0</td>\n",
       "      <td>0</td>\n",
       "      <td>0</td>\n",
       "      <td>...</td>\n",
       "      <td>0</td>\n",
       "      <td>0</td>\n",
       "      <td>0</td>\n",
       "      <td>0</td>\n",
       "      <td>0</td>\n",
       "      <td>0</td>\n",
       "      <td>0</td>\n",
       "      <td>0</td>\n",
       "      <td>0</td>\n",
       "      <td>1</td>\n",
       "    </tr>\n",
       "    <tr>\n",
       "      <th>899</th>\n",
       "      <td>1.14</td>\n",
       "      <td>1.59</td>\n",
       "      <td>0.00</td>\n",
       "      <td>0</td>\n",
       "      <td>0</td>\n",
       "      <td>0</td>\n",
       "      <td>0</td>\n",
       "      <td>0</td>\n",
       "      <td>0</td>\n",
       "      <td>0</td>\n",
       "      <td>...</td>\n",
       "      <td>0</td>\n",
       "      <td>0</td>\n",
       "      <td>0</td>\n",
       "      <td>0</td>\n",
       "      <td>0</td>\n",
       "      <td>0</td>\n",
       "      <td>0</td>\n",
       "      <td>0</td>\n",
       "      <td>0</td>\n",
       "      <td>1</td>\n",
       "    </tr>\n",
       "    <tr>\n",
       "      <th>900</th>\n",
       "      <td>2.55</td>\n",
       "      <td>0.62</td>\n",
       "      <td>0.36</td>\n",
       "      <td>0</td>\n",
       "      <td>0</td>\n",
       "      <td>0</td>\n",
       "      <td>0</td>\n",
       "      <td>0</td>\n",
       "      <td>0</td>\n",
       "      <td>0</td>\n",
       "      <td>...</td>\n",
       "      <td>0</td>\n",
       "      <td>0</td>\n",
       "      <td>0</td>\n",
       "      <td>0</td>\n",
       "      <td>0</td>\n",
       "      <td>0</td>\n",
       "      <td>1</td>\n",
       "      <td>0</td>\n",
       "      <td>0</td>\n",
       "      <td>0</td>\n",
       "    </tr>\n",
       "  </tbody>\n",
       "</table>\n",
       "<p>901 rows × 30 columns</p>\n",
       "</div>"
      ],
      "text/plain": [
       "     Format Fill Rate  CPM  CTR  Category_Autos  Category_B-to-B  \\\n",
       "0                0.60 1.59 0.46               0                0   \n",
       "1               10.81 1.71 0.07               0                0   \n",
       "2                3.77 1.44 0.39               0                0   \n",
       "3                1.14 1.73 0.40               0                0   \n",
       "4               19.54 1.80 0.79               0                0   \n",
       "..                ...  ...  ...             ...              ...   \n",
       "896              0.13 1.89 0.10               0                0   \n",
       "897              0.20 1.25 0.05               0                0   \n",
       "898             13.72 1.70 0.20               0                0   \n",
       "899              1.14 1.59 0.00               0                0   \n",
       "900              2.55 0.62 0.36               0                0   \n",
       "\n",
       "     Category_Casual Games  Category_Community & Culture  \\\n",
       "0                        0                             0   \n",
       "1                        0                             0   \n",
       "2                        0                             0   \n",
       "3                        0                             0   \n",
       "4                        0                             0   \n",
       "..                     ...                           ...   \n",
       "896                      0                             0   \n",
       "897                      0                             0   \n",
       "898                      0                             0   \n",
       "899                      0                             0   \n",
       "900                      0                             0   \n",
       "\n",
       "     Category_Education & Careers  Category_Family & Parenting  Category_Food  \\\n",
       "0                               0                            0              0   \n",
       "1                               0                            0              0   \n",
       "2                               0                            0              0   \n",
       "3                               0                            0              0   \n",
       "4                               0                            0              0   \n",
       "..                            ...                          ...            ...   \n",
       "896                             0                            0              0   \n",
       "897                             0                            0              0   \n",
       "898                             0                            0              0   \n",
       "899                             0                            0              0   \n",
       "900                             0                            0              0   \n",
       "\n",
       "     ...  Category_Tech & Gaming  Category_Travel  Geographical zone_Africa  \\\n",
       "0    ...                       0                0                         0   \n",
       "1    ...                       0                0                         0   \n",
       "2    ...                       0                0                         0   \n",
       "3    ...                       0                0                         1   \n",
       "4    ...                       0                0                         0   \n",
       "..   ...                     ...              ...                       ...   \n",
       "896  ...                       0                0                         0   \n",
       "897  ...                       0                0                         0   \n",
       "898  ...                       0                0                         0   \n",
       "899  ...                       0                0                         0   \n",
       "900  ...                       0                0                         0   \n",
       "\n",
       "     Geographical zone_Arabia  Geographical zone_Asia  \\\n",
       "0                           0                       0   \n",
       "1                           0                       0   \n",
       "2                           0                       0   \n",
       "3                           0                       0   \n",
       "4                           0                       1   \n",
       "..                        ...                     ...   \n",
       "896                         0                       0   \n",
       "897                         0                       0   \n",
       "898                         0                       0   \n",
       "899                         0                       0   \n",
       "900                         0                       0   \n",
       "\n",
       "     Geographical zone_Australia  Geographical zone_East Europe  \\\n",
       "0                              0                              0   \n",
       "1                              0                              0   \n",
       "2                              0                              0   \n",
       "3                              0                              0   \n",
       "4                              0                              0   \n",
       "..                           ...                            ...   \n",
       "896                            0                              0   \n",
       "897                            0                              0   \n",
       "898                            0                              0   \n",
       "899                            0                              0   \n",
       "900                            0                              1   \n",
       "\n",
       "     Geographical zone_North America  Geographical zone_South America  \\\n",
       "0                                  0                                0   \n",
       "1                                  1                                0   \n",
       "2                                  0                                1   \n",
       "3                                  0                                0   \n",
       "4                                  0                                0   \n",
       "..                               ...                              ...   \n",
       "896                                0                                1   \n",
       "897                                1                                0   \n",
       "898                                0                                0   \n",
       "899                                0                                0   \n",
       "900                                0                                0   \n",
       "\n",
       "     Geographical zone_West Europe  \n",
       "0                                1  \n",
       "1                                0  \n",
       "2                                0  \n",
       "3                                0  \n",
       "4                                0  \n",
       "..                             ...  \n",
       "896                              0  \n",
       "897                              0  \n",
       "898                              1  \n",
       "899                              1  \n",
       "900                              0  \n",
       "\n",
       "[901 rows x 30 columns]"
      ]
     },
     "execution_count": 115,
     "metadata": {},
     "output_type": "execute_result"
    }
   ],
   "source": [
    "groupby_domains_clustering"
   ]
  },
  {
   "cell_type": "code",
   "execution_count": 121,
   "metadata": {},
   "outputs": [],
   "source": [
    "def visualization_clusters(data, clustering_model):\n",
    "\n",
    "    # calinski_harabasz and silhouette scores visualization\n",
    "    visualizer1 = KElbowVisualizer(\n",
    "        clustering_model, k=(3,17), metric='calinski_harabasz', timings=False\n",
    "    )\n",
    "\n",
    "    visualizer1.fit(data)        # Fit the data to the visualizer\n",
    "    visualizer1.show()        # Finalize and render the figure\n",
    "\n",
    "    visualizer2 = KElbowVisualizer(\n",
    "        clustering_model, k=(3,17), metric='silhouette', timings=False\n",
    "    )\n",
    "\n",
    "    visualizer2.fit(data)        # Fit the data to the visualizer\n",
    "    visualizer2.show()        # Finalize and render the figure\n",
    "    \n",
    "    visualizer3 = KElbowVisualizer(\n",
    "    clustering_model, k=(3,17), metric='distortion', timings=False\n",
    "    )\n",
    "\n",
    "    visualizer3.fit(data)        # Fit the data to the visualizer\n",
    "    visualizer3.show()        # Finalize and render the figure"
   ]
  },
  {
   "cell_type": "code",
   "execution_count": 134,
   "metadata": {},
   "outputs": [
    {
     "data": {
      "text/html": [
       "<div>\n",
       "<style scoped>\n",
       "    .dataframe tbody tr th:only-of-type {\n",
       "        vertical-align: middle;\n",
       "    }\n",
       "\n",
       "    .dataframe tbody tr th {\n",
       "        vertical-align: top;\n",
       "    }\n",
       "\n",
       "    .dataframe thead th {\n",
       "        text-align: right;\n",
       "    }\n",
       "</style>\n",
       "<table border=\"1\" class=\"dataframe\">\n",
       "  <thead>\n",
       "    <tr style=\"text-align: right;\">\n",
       "      <th></th>\n",
       "      <th>Format Fill Rate</th>\n",
       "      <th>CPM</th>\n",
       "      <th>CTR</th>\n",
       "      <th>Category_Autos</th>\n",
       "      <th>Category_B-to-B</th>\n",
       "      <th>Category_Casual Games</th>\n",
       "      <th>Category_Community &amp; Culture</th>\n",
       "      <th>Category_Education &amp; Careers</th>\n",
       "      <th>Category_Family &amp; Parenting</th>\n",
       "      <th>Category_Food</th>\n",
       "      <th>...</th>\n",
       "      <th>Category_Tech &amp; Gaming</th>\n",
       "      <th>Category_Travel</th>\n",
       "      <th>Geographical zone_Africa</th>\n",
       "      <th>Geographical zone_Arabia</th>\n",
       "      <th>Geographical zone_Asia</th>\n",
       "      <th>Geographical zone_Australia</th>\n",
       "      <th>Geographical zone_East Europe</th>\n",
       "      <th>Geographical zone_North America</th>\n",
       "      <th>Geographical zone_South America</th>\n",
       "      <th>Geographical zone_West Europe</th>\n",
       "    </tr>\n",
       "  </thead>\n",
       "  <tbody>\n",
       "    <tr>\n",
       "      <th>0</th>\n",
       "      <td>0.60</td>\n",
       "      <td>1.59</td>\n",
       "      <td>0.46</td>\n",
       "      <td>0</td>\n",
       "      <td>0</td>\n",
       "      <td>0</td>\n",
       "      <td>0</td>\n",
       "      <td>0</td>\n",
       "      <td>0</td>\n",
       "      <td>0</td>\n",
       "      <td>...</td>\n",
       "      <td>0</td>\n",
       "      <td>0</td>\n",
       "      <td>0</td>\n",
       "      <td>0</td>\n",
       "      <td>0</td>\n",
       "      <td>0</td>\n",
       "      <td>0</td>\n",
       "      <td>0</td>\n",
       "      <td>0</td>\n",
       "      <td>1</td>\n",
       "    </tr>\n",
       "    <tr>\n",
       "      <th>1</th>\n",
       "      <td>10.81</td>\n",
       "      <td>1.71</td>\n",
       "      <td>0.07</td>\n",
       "      <td>0</td>\n",
       "      <td>0</td>\n",
       "      <td>0</td>\n",
       "      <td>0</td>\n",
       "      <td>0</td>\n",
       "      <td>0</td>\n",
       "      <td>0</td>\n",
       "      <td>...</td>\n",
       "      <td>0</td>\n",
       "      <td>0</td>\n",
       "      <td>0</td>\n",
       "      <td>0</td>\n",
       "      <td>0</td>\n",
       "      <td>0</td>\n",
       "      <td>0</td>\n",
       "      <td>1</td>\n",
       "      <td>0</td>\n",
       "      <td>0</td>\n",
       "    </tr>\n",
       "    <tr>\n",
       "      <th>2</th>\n",
       "      <td>3.77</td>\n",
       "      <td>1.44</td>\n",
       "      <td>0.39</td>\n",
       "      <td>0</td>\n",
       "      <td>0</td>\n",
       "      <td>0</td>\n",
       "      <td>0</td>\n",
       "      <td>0</td>\n",
       "      <td>0</td>\n",
       "      <td>0</td>\n",
       "      <td>...</td>\n",
       "      <td>0</td>\n",
       "      <td>0</td>\n",
       "      <td>0</td>\n",
       "      <td>0</td>\n",
       "      <td>0</td>\n",
       "      <td>0</td>\n",
       "      <td>0</td>\n",
       "      <td>0</td>\n",
       "      <td>1</td>\n",
       "      <td>0</td>\n",
       "    </tr>\n",
       "    <tr>\n",
       "      <th>3</th>\n",
       "      <td>1.14</td>\n",
       "      <td>1.73</td>\n",
       "      <td>0.40</td>\n",
       "      <td>0</td>\n",
       "      <td>0</td>\n",
       "      <td>0</td>\n",
       "      <td>0</td>\n",
       "      <td>0</td>\n",
       "      <td>0</td>\n",
       "      <td>0</td>\n",
       "      <td>...</td>\n",
       "      <td>0</td>\n",
       "      <td>0</td>\n",
       "      <td>1</td>\n",
       "      <td>0</td>\n",
       "      <td>0</td>\n",
       "      <td>0</td>\n",
       "      <td>0</td>\n",
       "      <td>0</td>\n",
       "      <td>0</td>\n",
       "      <td>0</td>\n",
       "    </tr>\n",
       "    <tr>\n",
       "      <th>4</th>\n",
       "      <td>19.54</td>\n",
       "      <td>1.80</td>\n",
       "      <td>0.79</td>\n",
       "      <td>0</td>\n",
       "      <td>0</td>\n",
       "      <td>0</td>\n",
       "      <td>0</td>\n",
       "      <td>0</td>\n",
       "      <td>0</td>\n",
       "      <td>0</td>\n",
       "      <td>...</td>\n",
       "      <td>0</td>\n",
       "      <td>0</td>\n",
       "      <td>0</td>\n",
       "      <td>0</td>\n",
       "      <td>1</td>\n",
       "      <td>0</td>\n",
       "      <td>0</td>\n",
       "      <td>0</td>\n",
       "      <td>0</td>\n",
       "      <td>0</td>\n",
       "    </tr>\n",
       "    <tr>\n",
       "      <th>...</th>\n",
       "      <td>...</td>\n",
       "      <td>...</td>\n",
       "      <td>...</td>\n",
       "      <td>...</td>\n",
       "      <td>...</td>\n",
       "      <td>...</td>\n",
       "      <td>...</td>\n",
       "      <td>...</td>\n",
       "      <td>...</td>\n",
       "      <td>...</td>\n",
       "      <td>...</td>\n",
       "      <td>...</td>\n",
       "      <td>...</td>\n",
       "      <td>...</td>\n",
       "      <td>...</td>\n",
       "      <td>...</td>\n",
       "      <td>...</td>\n",
       "      <td>...</td>\n",
       "      <td>...</td>\n",
       "      <td>...</td>\n",
       "      <td>...</td>\n",
       "    </tr>\n",
       "    <tr>\n",
       "      <th>896</th>\n",
       "      <td>0.13</td>\n",
       "      <td>1.89</td>\n",
       "      <td>0.10</td>\n",
       "      <td>0</td>\n",
       "      <td>0</td>\n",
       "      <td>0</td>\n",
       "      <td>0</td>\n",
       "      <td>0</td>\n",
       "      <td>0</td>\n",
       "      <td>0</td>\n",
       "      <td>...</td>\n",
       "      <td>0</td>\n",
       "      <td>0</td>\n",
       "      <td>0</td>\n",
       "      <td>0</td>\n",
       "      <td>0</td>\n",
       "      <td>0</td>\n",
       "      <td>0</td>\n",
       "      <td>0</td>\n",
       "      <td>1</td>\n",
       "      <td>0</td>\n",
       "    </tr>\n",
       "    <tr>\n",
       "      <th>897</th>\n",
       "      <td>0.20</td>\n",
       "      <td>1.25</td>\n",
       "      <td>0.05</td>\n",
       "      <td>0</td>\n",
       "      <td>0</td>\n",
       "      <td>0</td>\n",
       "      <td>0</td>\n",
       "      <td>0</td>\n",
       "      <td>0</td>\n",
       "      <td>0</td>\n",
       "      <td>...</td>\n",
       "      <td>0</td>\n",
       "      <td>0</td>\n",
       "      <td>0</td>\n",
       "      <td>0</td>\n",
       "      <td>0</td>\n",
       "      <td>0</td>\n",
       "      <td>0</td>\n",
       "      <td>1</td>\n",
       "      <td>0</td>\n",
       "      <td>0</td>\n",
       "    </tr>\n",
       "    <tr>\n",
       "      <th>898</th>\n",
       "      <td>13.72</td>\n",
       "      <td>1.70</td>\n",
       "      <td>0.20</td>\n",
       "      <td>0</td>\n",
       "      <td>0</td>\n",
       "      <td>0</td>\n",
       "      <td>0</td>\n",
       "      <td>0</td>\n",
       "      <td>0</td>\n",
       "      <td>0</td>\n",
       "      <td>...</td>\n",
       "      <td>0</td>\n",
       "      <td>0</td>\n",
       "      <td>0</td>\n",
       "      <td>0</td>\n",
       "      <td>0</td>\n",
       "      <td>0</td>\n",
       "      <td>0</td>\n",
       "      <td>0</td>\n",
       "      <td>0</td>\n",
       "      <td>1</td>\n",
       "    </tr>\n",
       "    <tr>\n",
       "      <th>899</th>\n",
       "      <td>1.14</td>\n",
       "      <td>1.59</td>\n",
       "      <td>0.00</td>\n",
       "      <td>0</td>\n",
       "      <td>0</td>\n",
       "      <td>0</td>\n",
       "      <td>0</td>\n",
       "      <td>0</td>\n",
       "      <td>0</td>\n",
       "      <td>0</td>\n",
       "      <td>...</td>\n",
       "      <td>0</td>\n",
       "      <td>0</td>\n",
       "      <td>0</td>\n",
       "      <td>0</td>\n",
       "      <td>0</td>\n",
       "      <td>0</td>\n",
       "      <td>0</td>\n",
       "      <td>0</td>\n",
       "      <td>0</td>\n",
       "      <td>1</td>\n",
       "    </tr>\n",
       "    <tr>\n",
       "      <th>900</th>\n",
       "      <td>2.55</td>\n",
       "      <td>0.62</td>\n",
       "      <td>0.36</td>\n",
       "      <td>0</td>\n",
       "      <td>0</td>\n",
       "      <td>0</td>\n",
       "      <td>0</td>\n",
       "      <td>0</td>\n",
       "      <td>0</td>\n",
       "      <td>0</td>\n",
       "      <td>...</td>\n",
       "      <td>0</td>\n",
       "      <td>0</td>\n",
       "      <td>0</td>\n",
       "      <td>0</td>\n",
       "      <td>0</td>\n",
       "      <td>0</td>\n",
       "      <td>1</td>\n",
       "      <td>0</td>\n",
       "      <td>0</td>\n",
       "      <td>0</td>\n",
       "    </tr>\n",
       "  </tbody>\n",
       "</table>\n",
       "<p>901 rows × 30 columns</p>\n",
       "</div>"
      ],
      "text/plain": [
       "     Format Fill Rate  CPM  CTR  Category_Autos  Category_B-to-B  \\\n",
       "0                0.60 1.59 0.46               0                0   \n",
       "1               10.81 1.71 0.07               0                0   \n",
       "2                3.77 1.44 0.39               0                0   \n",
       "3                1.14 1.73 0.40               0                0   \n",
       "4               19.54 1.80 0.79               0                0   \n",
       "..                ...  ...  ...             ...              ...   \n",
       "896              0.13 1.89 0.10               0                0   \n",
       "897              0.20 1.25 0.05               0                0   \n",
       "898             13.72 1.70 0.20               0                0   \n",
       "899              1.14 1.59 0.00               0                0   \n",
       "900              2.55 0.62 0.36               0                0   \n",
       "\n",
       "     Category_Casual Games  Category_Community & Culture  \\\n",
       "0                        0                             0   \n",
       "1                        0                             0   \n",
       "2                        0                             0   \n",
       "3                        0                             0   \n",
       "4                        0                             0   \n",
       "..                     ...                           ...   \n",
       "896                      0                             0   \n",
       "897                      0                             0   \n",
       "898                      0                             0   \n",
       "899                      0                             0   \n",
       "900                      0                             0   \n",
       "\n",
       "     Category_Education & Careers  Category_Family & Parenting  Category_Food  \\\n",
       "0                               0                            0              0   \n",
       "1                               0                            0              0   \n",
       "2                               0                            0              0   \n",
       "3                               0                            0              0   \n",
       "4                               0                            0              0   \n",
       "..                            ...                          ...            ...   \n",
       "896                             0                            0              0   \n",
       "897                             0                            0              0   \n",
       "898                             0                            0              0   \n",
       "899                             0                            0              0   \n",
       "900                             0                            0              0   \n",
       "\n",
       "     ...  Category_Tech & Gaming  Category_Travel  Geographical zone_Africa  \\\n",
       "0    ...                       0                0                         0   \n",
       "1    ...                       0                0                         0   \n",
       "2    ...                       0                0                         0   \n",
       "3    ...                       0                0                         1   \n",
       "4    ...                       0                0                         0   \n",
       "..   ...                     ...              ...                       ...   \n",
       "896  ...                       0                0                         0   \n",
       "897  ...                       0                0                         0   \n",
       "898  ...                       0                0                         0   \n",
       "899  ...                       0                0                         0   \n",
       "900  ...                       0                0                         0   \n",
       "\n",
       "     Geographical zone_Arabia  Geographical zone_Asia  \\\n",
       "0                           0                       0   \n",
       "1                           0                       0   \n",
       "2                           0                       0   \n",
       "3                           0                       0   \n",
       "4                           0                       1   \n",
       "..                        ...                     ...   \n",
       "896                         0                       0   \n",
       "897                         0                       0   \n",
       "898                         0                       0   \n",
       "899                         0                       0   \n",
       "900                         0                       0   \n",
       "\n",
       "     Geographical zone_Australia  Geographical zone_East Europe  \\\n",
       "0                              0                              0   \n",
       "1                              0                              0   \n",
       "2                              0                              0   \n",
       "3                              0                              0   \n",
       "4                              0                              0   \n",
       "..                           ...                            ...   \n",
       "896                            0                              0   \n",
       "897                            0                              0   \n",
       "898                            0                              0   \n",
       "899                            0                              0   \n",
       "900                            0                              1   \n",
       "\n",
       "     Geographical zone_North America  Geographical zone_South America  \\\n",
       "0                                  0                                0   \n",
       "1                                  1                                0   \n",
       "2                                  0                                1   \n",
       "3                                  0                                0   \n",
       "4                                  0                                0   \n",
       "..                               ...                              ...   \n",
       "896                                0                                1   \n",
       "897                                1                                0   \n",
       "898                                0                                0   \n",
       "899                                0                                0   \n",
       "900                                0                                0   \n",
       "\n",
       "     Geographical zone_West Europe  \n",
       "0                                1  \n",
       "1                                0  \n",
       "2                                0  \n",
       "3                                0  \n",
       "4                                0  \n",
       "..                             ...  \n",
       "896                              0  \n",
       "897                              0  \n",
       "898                              1  \n",
       "899                              1  \n",
       "900                              0  \n",
       "\n",
       "[901 rows x 30 columns]"
      ]
     },
     "execution_count": 134,
     "metadata": {},
     "output_type": "execute_result"
    }
   ],
   "source": [
    "groupby_domains_clustering"
   ]
  },
  {
   "cell_type": "code",
   "execution_count": 133,
   "metadata": {},
   "outputs": [
    {
     "data": {
      "image/png": "[encoded data removed]",
      "text/plain": [
       "<Figure size 576x396 with 1 Axes>"
      ]
     },
     "metadata": {},
     "output_type": "display_data"
    },
    {
     "data": {
      "image/png": "[encoded data removed]",
      "text/plain": [
       "<Figure size 576x396 with 1 Axes>"
      ]
     },
     "metadata": {},
     "output_type": "display_data"
    },
    {
     "data": {
      "image/png": "[encoded data removed]",
      "text/plain": [
       "<Figure size 576x396 with 1 Axes>"
      ]
     },
     "metadata": {},
     "output_type": "display_data"
    }
   ],
   "source": [
    "# Instantiate the clustering model and visualizer\n",
    "model = KMedoids(init= 'k-medoids++')\n",
    "\n",
    "visualization_clusters(minmax,model)"
   ]
  },
  {
   "cell_type": "code",
   "execution_count": 132,
   "metadata": {},
   "outputs": [
    {
     "name": "stdout",
     "output_type": "stream",
     "text": [
      "CLUSTERING DIVISION:\n",
      " 4    334\n",
      "0    247\n",
      "2    155\n",
      "5    120\n",
      "1     37\n",
      "3      8\n",
      "Name: 0, dtype: int64\n"
     ]
    },
    {
     "data": {
      "text/html": [
       "<div>\n",
       "<style scoped>\n",
       "    .dataframe tbody tr th:only-of-type {\n",
       "        vertical-align: middle;\n",
       "    }\n",
       "\n",
       "    .dataframe tbody tr th {\n",
       "        vertical-align: top;\n",
       "    }\n",
       "\n",
       "    .dataframe thead th {\n",
       "        text-align: right;\n",
       "    }\n",
       "</style>\n",
       "<table border=\"1\" class=\"dataframe\">\n",
       "  <thead>\n",
       "    <tr style=\"text-align: right;\">\n",
       "      <th></th>\n",
       "      <th>Format Loads</th>\n",
       "      <th>Impressions</th>\n",
       "      <th>Format Fill Rate</th>\n",
       "      <th>Viewability Rate</th>\n",
       "      <th>Efficiency Rate</th>\n",
       "      <th>CPM</th>\n",
       "      <th>Clicks</th>\n",
       "      <th>CTR</th>\n",
       "      <th>50% View Rate</th>\n",
       "      <th>Category importance</th>\n",
       "    </tr>\n",
       "    <tr>\n",
       "      <th>Cluster</th>\n",
       "      <th></th>\n",
       "      <th></th>\n",
       "      <th></th>\n",
       "      <th></th>\n",
       "      <th></th>\n",
       "      <th></th>\n",
       "      <th></th>\n",
       "      <th></th>\n",
       "      <th></th>\n",
       "      <th></th>\n",
       "    </tr>\n",
       "  </thead>\n",
       "  <tbody>\n",
       "    <tr>\n",
       "      <th>0</th>\n",
       "      <td>116578.70</td>\n",
       "      <td>8527.32</td>\n",
       "      <td>7.21</td>\n",
       "      <td>74.64</td>\n",
       "      <td>85.73</td>\n",
       "      <td>1.52</td>\n",
       "      <td>56.55</td>\n",
       "      <td>0.58</td>\n",
       "      <td>66.79</td>\n",
       "      <td>32.71</td>\n",
       "    </tr>\n",
       "    <tr>\n",
       "      <th>1</th>\n",
       "      <td>147137.91</td>\n",
       "      <td>43087.97</td>\n",
       "      <td>37.55</td>\n",
       "      <td>77.94</td>\n",
       "      <td>92.68</td>\n",
       "      <td>1.63</td>\n",
       "      <td>146.53</td>\n",
       "      <td>0.41</td>\n",
       "      <td>75.22</td>\n",
       "      <td>32.37</td>\n",
       "    </tr>\n",
       "    <tr>\n",
       "      <th>2</th>\n",
       "      <td>125931.87</td>\n",
       "      <td>13324.00</td>\n",
       "      <td>13.70</td>\n",
       "      <td>76.83</td>\n",
       "      <td>90.52</td>\n",
       "      <td>1.56</td>\n",
       "      <td>83.10</td>\n",
       "      <td>0.63</td>\n",
       "      <td>69.98</td>\n",
       "      <td>33.81</td>\n",
       "    </tr>\n",
       "    <tr>\n",
       "      <th>3</th>\n",
       "      <td>88868.39</td>\n",
       "      <td>57536.09</td>\n",
       "      <td>69.70</td>\n",
       "      <td>84.98</td>\n",
       "      <td>97.55</td>\n",
       "      <td>1.76</td>\n",
       "      <td>363.08</td>\n",
       "      <td>0.60</td>\n",
       "      <td>80.95</td>\n",
       "      <td>30.90</td>\n",
       "    </tr>\n",
       "    <tr>\n",
       "      <th>4</th>\n",
       "      <td>123641.25</td>\n",
       "      <td>2554.23</td>\n",
       "      <td>1.99</td>\n",
       "      <td>67.86</td>\n",
       "      <td>75.15</td>\n",
       "      <td>1.40</td>\n",
       "      <td>16.08</td>\n",
       "      <td>0.50</td>\n",
       "      <td>57.37</td>\n",
       "      <td>29.87</td>\n",
       "    </tr>\n",
       "    <tr>\n",
       "      <th>5</th>\n",
       "      <td>113736.44</td>\n",
       "      <td>21810.52</td>\n",
       "      <td>22.31</td>\n",
       "      <td>77.54</td>\n",
       "      <td>91.04</td>\n",
       "      <td>1.53</td>\n",
       "      <td>151.00</td>\n",
       "      <td>0.56</td>\n",
       "      <td>71.17</td>\n",
       "      <td>32.45</td>\n",
       "    </tr>\n",
       "  </tbody>\n",
       "</table>\n",
       "</div>"
      ],
      "text/plain": [
       "         Format Loads  Impressions  Format Fill Rate  Viewability Rate  \\\n",
       "Cluster                                                                  \n",
       "0           116578.70      8527.32              7.21             74.64   \n",
       "1           147137.91     43087.97             37.55             77.94   \n",
       "2           125931.87     13324.00             13.70             76.83   \n",
       "3            88868.39     57536.09             69.70             84.98   \n",
       "4           123641.25      2554.23              1.99             67.86   \n",
       "5           113736.44     21810.52             22.31             77.54   \n",
       "\n",
       "         Efficiency Rate  CPM  Clicks  CTR  50% View Rate  Category importance  \n",
       "Cluster                                                                         \n",
       "0                  85.73 1.52   56.55 0.58          66.79                32.71  \n",
       "1                  92.68 1.63  146.53 0.41          75.22                32.37  \n",
       "2                  90.52 1.56   83.10 0.63          69.98                33.81  \n",
       "3                  97.55 1.76  363.08 0.60          80.95                30.90  \n",
       "4                  75.15 1.40   16.08 0.50          57.37                29.87  \n",
       "5                  91.04 1.53  151.00 0.56          71.17                32.45  "
      ]
     },
     "metadata": {},
     "output_type": "display_data"
    },
    {
     "name": "stdout",
     "output_type": "stream",
     "text": [
      "The Silhouette Score is:  0.4694102664119379\n",
      "The Calinski Harabasz Score is:  2145.8809618173464\n",
      "The Davies Douldin Score is:  0.6483269644592421\n"
     ]
    }
   ],
   "source": [
    "kmedoids_robust = KMedoids(n_clusters = 6, init= 'k-medoids++')\n",
    "kmedoids_robust.fit(groupby_domains_clustering)\n",
    "results_evaluation(kmedoids_robust, groupby_domains_clustering )"
   ]
  },
  {
   "cell_type": "code",
   "execution_count": null,
   "metadata": {},
   "outputs": [],
   "source": []
  },
  {
   "cell_type": "code",
   "execution_count": null,
   "metadata": {},
   "outputs": [],
   "source": []
  },
  {
   "cell_type": "code",
   "execution_count": null,
   "metadata": {},
   "outputs": [],
   "source": []
  },
  {
   "cell_type": "markdown",
   "metadata": {},
   "source": [
    "## KPrototypes"
   ]
  },
  {
   "cell_type": "code",
   "execution_count": 13,
   "metadata": {},
   "outputs": [],
   "source": [
    "def visualization_clusters(data, clustering_model):\n",
    "\n",
    "    # calinski_harabasz and silhouette scores visualization\n",
    "    visualizer1 = KElbowVisualizer(\n",
    "        clustering_model, k=(3,17), metric='calinski_harabasz', timings=False\n",
    "    )\n",
    "\n",
    "    visualizer1.fit(data)        # Fit the data to the visualizer\n",
    "    visualizer1.show()        # Finalize and render the figure\n",
    "\n",
    "    visualizer2 = KElbowVisualizer(\n",
    "        clustering_model, k=(3,17), metric='silhouette', timings=False\n",
    "    )\n",
    "\n",
    "    visualizer2.fit(data)        # Fit the data to the visualizer\n",
    "    visualizer2.show()        # Finalize and render the figure\n",
    "    \n",
    "    visualizer3 = KElbowVisualizer(\n",
    "    clustering_model, k=(3,17), metric='distortion', timings=False\n",
    "    )\n",
    "\n",
    "    visualizer3.fit(data)        # Fit the data to the visualizer\n",
    "    visualizer3.show()        # Finalize and render the figure"
   ]
  },
  {
   "cell_type": "code",
   "execution_count": 51,
   "metadata": {},
   "outputs": [],
   "source": [
    "def results_evaluation(model, data):\n",
    "\n",
    "    #This function has 2 arguments:\n",
    "    #-model: to define de Clusters and the scores\n",
    "    #-data: the data I´m working with, to calculate the scores\n",
    "  \n",
    "\n",
    "    print('CLUSTERING DIVISION:\\n', pd.DataFrame(model.labels_)[0].value_counts())\n",
    "    \n",
    "    new_df = groupby_domains.copy()\n",
    "    new_df['Cluster'] = model.labels_\n",
    "    display(new_df.groupby('Cluster').mean())\n",
    "    \n",
    "    print('The Silhouette Score is: ', silhouette_score(data, model.labels_, metric='euclidean'))\n",
    "    print('The Calinski Harabasz Score is: ', calinski_harabasz_score(data, model.labels_))\n",
    "    print('The Davies Douldin Score is: ', davies_bouldin_score(data, model.labels_))\n"
   ]
  },
  {
   "cell_type": "code",
   "execution_count": 135,
   "metadata": {},
   "outputs": [],
   "source": [
    "from kmodes.kprototypes import KPrototypes"
   ]
  },
  {
   "cell_type": "markdown",
   "metadata": {},
   "source": [
    "- With PCA\n"
   ]
  },
  {
   "cell_type": "code",
   "execution_count": 255,
   "metadata": {},
   "outputs": [
    {
     "data": {
      "text/plain": [
       "<function matplotlib.pyplot.show(*args, **kw)>"
      ]
     },
     "execution_count": 255,
     "metadata": {},
     "output_type": "execute_result"
    },
    {
     "data": {
      "image/png": "[encoded data removed]",
      "text/plain": [
       "<Figure size 576x396 with 1 Axes>"
      ]
     },
     "metadata": {},
     "output_type": "display_data"
    }
   ],
   "source": [
    "pca = pd.DataFrame(PCA(n_components=1).fit_transform(groupby_domains[['Format Fill Rate', 'CPM', 'CTR' ]]))\n",
    "pca['Geographical zone'] = groupby_domains['Geographical zone'].copy()\n",
    "pca['Category'] = groupby_domains['Category'].copy()\n",
    "\n",
    "#Choosing optimal K value\n",
    "cost = []\n",
    "for num_clusters in list(range(3,8)):\n",
    "    kproto = KPrototypes(n_clusters=num_clusters) \n",
    "    kproto.fit_predict(pca, categorical=[1,2])\n",
    "    cost.append(kproto.cost_)\n",
    "\n",
    "plt.plot(cost)\n",
    "plt.xlabel('K')\n",
    "plt.ylabel('cost')\n",
    "plt.show"
   ]
  },
  {
   "cell_type": "code",
   "execution_count": 261,
   "metadata": {},
   "outputs": [
    {
     "name": "stdout",
     "output_type": "stream",
     "text": [
      "CLUSTERING DIVISION:\n",
      " 3    452\n",
      "0    268\n",
      "2    153\n",
      "1     28\n",
      "Name: 0, dtype: int64\n"
     ]
    },
    {
     "data": {
      "text/html": [
       "<div>\n",
       "<style scoped>\n",
       "    .dataframe tbody tr th:only-of-type {\n",
       "        vertical-align: middle;\n",
       "    }\n",
       "\n",
       "    .dataframe tbody tr th {\n",
       "        vertical-align: top;\n",
       "    }\n",
       "\n",
       "    .dataframe thead th {\n",
       "        text-align: right;\n",
       "    }\n",
       "</style>\n",
       "<table border=\"1\" class=\"dataframe\">\n",
       "  <thead>\n",
       "    <tr style=\"text-align: right;\">\n",
       "      <th></th>\n",
       "      <th>Format Loads</th>\n",
       "      <th>Impressions</th>\n",
       "      <th>Format Fill Rate</th>\n",
       "      <th>Viewability Rate</th>\n",
       "      <th>Efficiency Rate</th>\n",
       "      <th>CPM</th>\n",
       "      <th>Clicks</th>\n",
       "      <th>CTR</th>\n",
       "      <th>50% View Rate</th>\n",
       "      <th>Category importance</th>\n",
       "    </tr>\n",
       "    <tr>\n",
       "      <th>Cluster</th>\n",
       "      <th></th>\n",
       "      <th></th>\n",
       "      <th></th>\n",
       "      <th></th>\n",
       "      <th></th>\n",
       "      <th></th>\n",
       "      <th></th>\n",
       "      <th></th>\n",
       "      <th></th>\n",
       "      <th></th>\n",
       "    </tr>\n",
       "  </thead>\n",
       "  <tbody>\n",
       "    <tr>\n",
       "      <th>0</th>\n",
       "      <td>126170.56</td>\n",
       "      <td>11934.21</td>\n",
       "      <td>11.00</td>\n",
       "      <td>77.17</td>\n",
       "      <td>89.60</td>\n",
       "      <td>1.56</td>\n",
       "      <td>69.53</td>\n",
       "      <td>0.59</td>\n",
       "      <td>69.80</td>\n",
       "      <td>35.07</td>\n",
       "    </tr>\n",
       "    <tr>\n",
       "      <th>1</th>\n",
       "      <td>118932.96</td>\n",
       "      <td>49550.68</td>\n",
       "      <td>49.95</td>\n",
       "      <td>78.45</td>\n",
       "      <td>91.97</td>\n",
       "      <td>1.65</td>\n",
       "      <td>191.31</td>\n",
       "      <td>0.42</td>\n",
       "      <td>75.47</td>\n",
       "      <td>33.08</td>\n",
       "    </tr>\n",
       "    <tr>\n",
       "      <th>2</th>\n",
       "      <td>123439.42</td>\n",
       "      <td>23110.23</td>\n",
       "      <td>22.90</td>\n",
       "      <td>78.06</td>\n",
       "      <td>91.76</td>\n",
       "      <td>1.55</td>\n",
       "      <td>155.22</td>\n",
       "      <td>0.58</td>\n",
       "      <td>71.59</td>\n",
       "      <td>31.42</td>\n",
       "    </tr>\n",
       "    <tr>\n",
       "      <th>3</th>\n",
       "      <td>118106.01</td>\n",
       "      <td>3483.92</td>\n",
       "      <td>2.97</td>\n",
       "      <td>68.71</td>\n",
       "      <td>77.03</td>\n",
       "      <td>1.42</td>\n",
       "      <td>24.17</td>\n",
       "      <td>0.52</td>\n",
       "      <td>59.08</td>\n",
       "      <td>29.87</td>\n",
       "    </tr>\n",
       "  </tbody>\n",
       "</table>\n",
       "</div>"
      ],
      "text/plain": [
       "         Format Loads  Impressions  Format Fill Rate  Viewability Rate  \\\n",
       "Cluster                                                                  \n",
       "0           126170.56     11934.21             11.00             77.17   \n",
       "1           118932.96     49550.68             49.95             78.45   \n",
       "2           123439.42     23110.23             22.90             78.06   \n",
       "3           118106.01      3483.92              2.97             68.71   \n",
       "\n",
       "         Efficiency Rate  CPM  Clicks  CTR  50% View Rate  Category importance  \n",
       "Cluster                                                                         \n",
       "0                  89.60 1.56   69.53 0.59          69.80                35.07  \n",
       "1                  91.97 1.65  191.31 0.42          75.47                33.08  \n",
       "2                  91.76 1.55  155.22 0.58          71.59                31.42  \n",
       "3                  77.03 1.42   24.17 0.52          59.08                29.87  "
      ]
     },
     "metadata": {},
     "output_type": "display_data"
    },
    {
     "name": "stdout",
     "output_type": "stream",
     "text": [
      "The Silhouette Score is:  0.5946316282361219\n",
      "The Calinski Harabasz Score is:  1921.0732601723917\n",
      "The Davies Douldin Score is:  0.5316162889823579\n"
     ]
    }
   ],
   "source": [
    "k_pro_pca = KPrototypes(n_clusters=4)\n",
    "k_pro_pca.fit(pca, categorical = [1,2])\n",
    "results_evaluation_kpro(k_pro_pca, pca)\n",
    "\n",
    "print('The Silhouette Score is: ', silhouette_score(pca.drop(['Category','Geographical zone'],1), k_pro_pca.labels_, metric='euclidean'))\n",
    "print('The Calinski Harabasz Score is: ', calinski_harabasz_score(pca.drop(['Category','Geographical zone'],1), k_pro_pca.labels_))\n",
    "print('The Davies Douldin Score is: ', davies_bouldin_score(pca.drop(['Category','Geographical zone'],1), k_pro_pca.labels_))"
   ]
  },
  {
   "cell_type": "code",
   "execution_count": null,
   "metadata": {},
   "outputs": [],
   "source": [
    "df_k_pro_pca = groupby_domains.copy()\n",
    "df_k_pro_pca['Cluster'] = k_pro_pca.labels_\n",
    "df_k_pro_pca.groupby('Cluster').mean()"
   ]
  },
  {
   "cell_type": "markdown",
   "metadata": {},
   "source": [
    "- With MINMAX"
   ]
  },
  {
   "cell_type": "code",
   "execution_count": 136,
   "metadata": {},
   "outputs": [],
   "source": [
    "k_pro= groupby_domains.drop(['Domain','Format Loads', 'Impressions', 'Clicks',\n",
    "                                                   'Viewability Rate', 'Efficiency Rate', 'Category importance',\n",
    "                                                         '50% View Rate', 'Country'], 1)"
   ]
  },
  {
   "cell_type": "code",
   "execution_count": 181,
   "metadata": {},
   "outputs": [
    {
     "data": {
      "text/html": [
       "<div>\n",
       "<style scoped>\n",
       "    .dataframe tbody tr th:only-of-type {\n",
       "        vertical-align: middle;\n",
       "    }\n",
       "\n",
       "    .dataframe tbody tr th {\n",
       "        vertical-align: top;\n",
       "    }\n",
       "\n",
       "    .dataframe thead th {\n",
       "        text-align: right;\n",
       "    }\n",
       "</style>\n",
       "<table border=\"1\" class=\"dataframe\">\n",
       "  <thead>\n",
       "    <tr style=\"text-align: right;\">\n",
       "      <th></th>\n",
       "      <th>Domain</th>\n",
       "      <th>Format Loads</th>\n",
       "      <th>Impressions</th>\n",
       "      <th>Format Fill Rate</th>\n",
       "      <th>Viewability Rate</th>\n",
       "      <th>Efficiency Rate</th>\n",
       "      <th>CPM</th>\n",
       "      <th>Clicks</th>\n",
       "      <th>CTR</th>\n",
       "      <th>50% View Rate</th>\n",
       "      <th>Category</th>\n",
       "      <th>Category importance</th>\n",
       "      <th>Country</th>\n",
       "      <th>Geographical zone</th>\n",
       "    </tr>\n",
       "  </thead>\n",
       "  <tbody>\n",
       "    <tr>\n",
       "      <th>0</th>\n",
       "      <td>memurlar.net</td>\n",
       "      <td>2739246.93</td>\n",
       "      <td>8942.44</td>\n",
       "      <td>0.60</td>\n",
       "      <td>83.80</td>\n",
       "      <td>92.72</td>\n",
       "      <td>1.59</td>\n",
       "      <td>46.82</td>\n",
       "      <td>0.46</td>\n",
       "      <td>67.91</td>\n",
       "      <td>Health &amp; Wellness</td>\n",
       "      <td>2.08</td>\n",
       "      <td>Turkey</td>\n",
       "      <td>West Europe</td>\n",
       "    </tr>\n",
       "  </tbody>\n",
       "</table>\n",
       "</div>"
      ],
      "text/plain": [
       "         Domain  Format Loads  Impressions  Format Fill Rate  \\\n",
       "0  memurlar.net    2739246.93      8942.44              0.60   \n",
       "\n",
       "   Viewability Rate  Efficiency Rate  CPM  Clicks  CTR  50% View Rate  \\\n",
       "0             83.80            92.72 1.59   46.82 0.46          67.91   \n",
       "\n",
       "            Category  Category importance Country Geographical zone  \n",
       "0  Health & Wellness                 2.08  Turkey       West Europe  "
      ]
     },
     "execution_count": 181,
     "metadata": {},
     "output_type": "execute_result"
    }
   ],
   "source": [
    "groupby_domains.head(1)"
   ]
  },
  {
   "cell_type": "code",
   "execution_count": 188,
   "metadata": {},
   "outputs": [
    {
     "data": {
      "text/plain": [
       "(901, 5)"
      ]
     },
     "execution_count": 188,
     "metadata": {},
     "output_type": "execute_result"
    }
   ],
   "source": [
    "minmax_kpro = pd.DataFrame(MinMaxScaler().fit_transform(groupby_domains[['Format Fill Rate', 'CPM', 'CTR']]))\n",
    "minmax_kpro = minmax_kpro.merge(groupby_domains[['Category','Geographical zone']],how='outer', left_index=True,right_index=True)\n",
    "minmax_kpro.shape"
   ]
  },
  {
   "cell_type": "code",
   "execution_count": 191,
   "metadata": {},
   "outputs": [
    {
     "data": {
      "text/plain": [
       "<function matplotlib.pyplot.show(*args, **kw)>"
      ]
     },
     "execution_count": 191,
     "metadata": {},
     "output_type": "execute_result"
    },
    {
     "data": {
      "image/png": "[encoded data removed]",
      "text/plain": [
       "<Figure size 576x396 with 1 Axes>"
      ]
     },
     "metadata": {},
     "output_type": "display_data"
    }
   ],
   "source": [
    "#Choosing optimal K value\n",
    "cost = []\n",
    "for num_clusters in list(range(3,8)):\n",
    "    kproto = KPrototypes(n_clusters=num_clusters) \n",
    "    kproto.fit_predict(minmax_kpro, categorical=[3,4])\n",
    "    cost.append(kproto.cost_)\n",
    "\n",
    "plt.plot(cost)\n",
    "plt.xlabel('K')\n",
    "plt.ylabel('cost')\n",
    "plt.show"
   ]
  },
  {
   "cell_type": "code",
   "execution_count": 244,
   "metadata": {},
   "outputs": [
    {
     "name": "stdout",
     "output_type": "stream",
     "text": [
      "CLUSTERING DIVISION:\n",
      " 0    514\n",
      "1    150\n",
      "2    119\n",
      "3    118\n",
      "Name: 0, dtype: int64\n"
     ]
    },
    {
     "data": {
      "text/html": [
       "<div>\n",
       "<style scoped>\n",
       "    .dataframe tbody tr th:only-of-type {\n",
       "        vertical-align: middle;\n",
       "    }\n",
       "\n",
       "    .dataframe tbody tr th {\n",
       "        vertical-align: top;\n",
       "    }\n",
       "\n",
       "    .dataframe thead th {\n",
       "        text-align: right;\n",
       "    }\n",
       "</style>\n",
       "<table border=\"1\" class=\"dataframe\">\n",
       "  <thead>\n",
       "    <tr style=\"text-align: right;\">\n",
       "      <th></th>\n",
       "      <th>Format Loads</th>\n",
       "      <th>Impressions</th>\n",
       "      <th>Format Fill Rate</th>\n",
       "      <th>Viewability Rate</th>\n",
       "      <th>Efficiency Rate</th>\n",
       "      <th>CPM</th>\n",
       "      <th>Clicks</th>\n",
       "      <th>CTR</th>\n",
       "      <th>50% View Rate</th>\n",
       "      <th>Category importance</th>\n",
       "    </tr>\n",
       "    <tr>\n",
       "      <th>Cluster</th>\n",
       "      <th></th>\n",
       "      <th></th>\n",
       "      <th></th>\n",
       "      <th></th>\n",
       "      <th></th>\n",
       "      <th></th>\n",
       "      <th></th>\n",
       "      <th></th>\n",
       "      <th></th>\n",
       "      <th></th>\n",
       "    </tr>\n",
       "  </thead>\n",
       "  <tbody>\n",
       "    <tr>\n",
       "      <th>0</th>\n",
       "      <td>121550.45</td>\n",
       "      <td>13541.09</td>\n",
       "      <td>12.24</td>\n",
       "      <td>77.30</td>\n",
       "      <td>87.32</td>\n",
       "      <td>1.56</td>\n",
       "      <td>89.88</td>\n",
       "      <td>0.66</td>\n",
       "      <td>69.92</td>\n",
       "      <td>38.08</td>\n",
       "    </tr>\n",
       "    <tr>\n",
       "      <th>1</th>\n",
       "      <td>159086.94</td>\n",
       "      <td>9239.22</td>\n",
       "      <td>7.81</td>\n",
       "      <td>74.99</td>\n",
       "      <td>88.24</td>\n",
       "      <td>1.63</td>\n",
       "      <td>39.52</td>\n",
       "      <td>0.36</td>\n",
       "      <td>64.65</td>\n",
       "      <td>32.06</td>\n",
       "    </tr>\n",
       "    <tr>\n",
       "      <th>2</th>\n",
       "      <td>90213.41</td>\n",
       "      <td>5021.16</td>\n",
       "      <td>5.21</td>\n",
       "      <td>57.41</td>\n",
       "      <td>65.85</td>\n",
       "      <td>1.11</td>\n",
       "      <td>29.36</td>\n",
       "      <td>0.43</td>\n",
       "      <td>49.69</td>\n",
       "      <td>29.71</td>\n",
       "    </tr>\n",
       "    <tr>\n",
       "      <th>3</th>\n",
       "      <td>104564.50</td>\n",
       "      <td>6380.20</td>\n",
       "      <td>9.40</td>\n",
       "      <td>68.34</td>\n",
       "      <td>80.40</td>\n",
       "      <td>1.41</td>\n",
       "      <td>25.80</td>\n",
       "      <td>0.42</td>\n",
       "      <td>58.71</td>\n",
       "      <td>6.08</td>\n",
       "    </tr>\n",
       "  </tbody>\n",
       "</table>\n",
       "</div>"
      ],
      "text/plain": [
       "         Format Loads  Impressions  Format Fill Rate  Viewability Rate  \\\n",
       "Cluster                                                                  \n",
       "0           121550.45     13541.09             12.24             77.30   \n",
       "1           159086.94      9239.22              7.81             74.99   \n",
       "2            90213.41      5021.16              5.21             57.41   \n",
       "3           104564.50      6380.20              9.40             68.34   \n",
       "\n",
       "         Efficiency Rate  CPM  Clicks  CTR  50% View Rate  Category importance  \n",
       "Cluster                                                                         \n",
       "0                  87.32 1.56   89.88 0.66          69.92                38.08  \n",
       "1                  88.24 1.63   39.52 0.36          64.65                32.06  \n",
       "2                  65.85 1.11   29.36 0.43          49.69                29.71  \n",
       "3                  80.40 1.41   25.80 0.42          58.71                 6.08  "
      ]
     },
     "metadata": {},
     "output_type": "display_data"
    },
    {
     "name": "stdout",
     "output_type": "stream",
     "text": [
      "The Silhouette Score is:  0.04416171861131309\n",
      "The Calinski Harabasz Score is:  91.40698882964739\n",
      "The Davies Douldin Score is:  2.2402139222175173\n"
     ]
    }
   ],
   "source": [
    "k_pro_minmax = KPrototypes(n_clusters=4)\n",
    "k_pro_minmax.fit(minmax_kpro, categorical = [3,4])\n",
    "results_evaluation_kpro(k_pro_minmax, minmax_kpro)\n",
    "\n",
    "print('The Silhouette Score is: ', silhouette_score(minmax_kpro.drop(['Category','Geographical zone'],1), k_pro_a.labels_, metric='euclidean'))\n",
    "print('The Calinski Harabasz Score is: ', calinski_harabasz_score(minmax_kpro.drop(['Category','Geographical zone'],1), k_pro_a.labels_))\n",
    "print('The Davies Douldin Score is: ', davies_bouldin_score(minmax_kpro.drop(['Category','Geographical zone'],1), k_pro_a.labels_))"
   ]
  },
  {
   "cell_type": "code",
   "execution_count": 245,
   "metadata": {},
   "outputs": [
    {
     "data": {
      "text/html": [
       "<div>\n",
       "<style scoped>\n",
       "    .dataframe tbody tr th:only-of-type {\n",
       "        vertical-align: middle;\n",
       "    }\n",
       "\n",
       "    .dataframe tbody tr th {\n",
       "        vertical-align: top;\n",
       "    }\n",
       "\n",
       "    .dataframe thead th {\n",
       "        text-align: right;\n",
       "    }\n",
       "</style>\n",
       "<table border=\"1\" class=\"dataframe\">\n",
       "  <thead>\n",
       "    <tr style=\"text-align: right;\">\n",
       "      <th></th>\n",
       "      <th>Format Loads</th>\n",
       "      <th>Impressions</th>\n",
       "      <th>Format Fill Rate</th>\n",
       "      <th>Viewability Rate</th>\n",
       "      <th>Efficiency Rate</th>\n",
       "      <th>CPM</th>\n",
       "      <th>Clicks</th>\n",
       "      <th>CTR</th>\n",
       "      <th>50% View Rate</th>\n",
       "      <th>Category importance</th>\n",
       "    </tr>\n",
       "    <tr>\n",
       "      <th>Cluster</th>\n",
       "      <th></th>\n",
       "      <th></th>\n",
       "      <th></th>\n",
       "      <th></th>\n",
       "      <th></th>\n",
       "      <th></th>\n",
       "      <th></th>\n",
       "      <th></th>\n",
       "      <th></th>\n",
       "      <th></th>\n",
       "    </tr>\n",
       "  </thead>\n",
       "  <tbody>\n",
       "    <tr>\n",
       "      <th>0</th>\n",
       "      <td>122866.51</td>\n",
       "      <td>25346.56</td>\n",
       "      <td>23.93</td>\n",
       "      <td>77.89</td>\n",
       "      <td>91.77</td>\n",
       "      <td>1.56</td>\n",
       "      <td>156.08</td>\n",
       "      <td>0.54</td>\n",
       "      <td>72.01</td>\n",
       "      <td>32.18</td>\n",
       "    </tr>\n",
       "    <tr>\n",
       "      <th>1</th>\n",
       "      <td>116712.77</td>\n",
       "      <td>3531.41</td>\n",
       "      <td>3.11</td>\n",
       "      <td>69.20</td>\n",
       "      <td>77.49</td>\n",
       "      <td>1.42</td>\n",
       "      <td>24.64</td>\n",
       "      <td>0.52</td>\n",
       "      <td>59.56</td>\n",
       "      <td>30.63</td>\n",
       "    </tr>\n",
       "    <tr>\n",
       "      <th>2</th>\n",
       "      <td>103301.85</td>\n",
       "      <td>45747.52</td>\n",
       "      <td>52.12</td>\n",
       "      <td>78.57</td>\n",
       "      <td>91.45</td>\n",
       "      <td>1.63</td>\n",
       "      <td>184.94</td>\n",
       "      <td>0.42</td>\n",
       "      <td>75.73</td>\n",
       "      <td>33.42</td>\n",
       "    </tr>\n",
       "    <tr>\n",
       "      <th>3</th>\n",
       "      <td>130555.89</td>\n",
       "      <td>12581.64</td>\n",
       "      <td>11.61</td>\n",
       "      <td>76.95</td>\n",
       "      <td>89.70</td>\n",
       "      <td>1.56</td>\n",
       "      <td>77.18</td>\n",
       "      <td>0.61</td>\n",
       "      <td>69.52</td>\n",
       "      <td>33.44</td>\n",
       "    </tr>\n",
       "  </tbody>\n",
       "</table>\n",
       "</div>"
      ],
      "text/plain": [
       "         Format Loads  Impressions  Format Fill Rate  Viewability Rate  \\\n",
       "Cluster                                                                  \n",
       "0           122866.51     25346.56             23.93             77.89   \n",
       "1           116712.77      3531.41              3.11             69.20   \n",
       "2           103301.85     45747.52             52.12             78.57   \n",
       "3           130555.89     12581.64             11.61             76.95   \n",
       "\n",
       "         Efficiency Rate  CPM  Clicks  CTR  50% View Rate  Category importance  \n",
       "Cluster                                                                         \n",
       "0                  91.77 1.56  156.08 0.54          72.01                32.18  \n",
       "1                  77.49 1.42   24.64 0.52          59.56                30.63  \n",
       "2                  91.45 1.63  184.94 0.42          75.73                33.42  \n",
       "3                  89.70 1.56   77.18 0.61          69.52                33.44  "
      ]
     },
     "execution_count": 245,
     "metadata": {},
     "output_type": "execute_result"
    }
   ],
   "source": [
    "df_k_pro_minmax = groupby_domains.copy()\n",
    "df_k_pro_minmax['Cluster'] = k_pro_a.labels_\n",
    "df_k_pro_minmax.groupby('Cluster').mean()"
   ]
  },
  {
   "cell_type": "code",
   "execution_count": 249,
   "metadata": {},
   "outputs": [
    {
     "data": {
      "text/plain": [
       "South America    168\n",
       "West Europe       35\n",
       "Asia              34\n",
       "North America     16\n",
       "East Europe       11\n",
       "Arabia             3\n",
       "Australia          1\n",
       "Name: Geographical zone, dtype: int64"
      ]
     },
     "execution_count": 249,
     "metadata": {},
     "output_type": "execute_result"
    }
   ],
   "source": [
    "df_k_pro_minmax[df_k_pro_minmax['Cluster']==3]['Geographical zone'].value_counts()"
   ]
  },
  {
   "cell_type": "markdown",
   "metadata": {},
   "source": [
    "- Without MINMAX"
   ]
  },
  {
   "cell_type": "code",
   "execution_count": 138,
   "metadata": {},
   "outputs": [
    {
     "data": {
      "text/plain": [
       "<function matplotlib.pyplot.show(*args, **kw)>"
      ]
     },
     "execution_count": 138,
     "metadata": {},
     "output_type": "execute_result"
    },
    {
     "data": {
      "image/png": "[encoded data removed]",
      "text/plain": [
       "<Figure size 576x396 with 1 Axes>"
      ]
     },
     "metadata": {},
     "output_type": "display_data"
    }
   ],
   "source": [
    "#Choosing optimal K value\n",
    "cost = []\n",
    "for num_clusters in list(range(3,8)):\n",
    "    kproto = KPrototypes(n_clusters=num_clusters) \n",
    "    kproto.fit_predict(k_pro, categorical=[3,4])\n",
    "    cost.append(kproto.cost_)\n",
    "\n",
    "plt.plot(cost)\n",
    "plt.xlabel('K')\n",
    "plt.ylabel('cost')\n",
    "plt.show"
   ]
  },
  {
   "cell_type": "code",
   "execution_count": 263,
   "metadata": {},
   "outputs": [
    {
     "name": "stdout",
     "output_type": "stream",
     "text": [
      "CLUSTERING DIVISION:\n",
      " 2    335\n",
      "1    254\n",
      "0    148\n",
      "4    121\n",
      "5     37\n",
      "3      6\n",
      "Name: 0, dtype: int64\n"
     ]
    },
    {
     "data": {
      "text/html": [
       "<div>\n",
       "<style scoped>\n",
       "    .dataframe tbody tr th:only-of-type {\n",
       "        vertical-align: middle;\n",
       "    }\n",
       "\n",
       "    .dataframe tbody tr th {\n",
       "        vertical-align: top;\n",
       "    }\n",
       "\n",
       "    .dataframe thead th {\n",
       "        text-align: right;\n",
       "    }\n",
       "</style>\n",
       "<table border=\"1\" class=\"dataframe\">\n",
       "  <thead>\n",
       "    <tr style=\"text-align: right;\">\n",
       "      <th></th>\n",
       "      <th>Format Loads</th>\n",
       "      <th>Impressions</th>\n",
       "      <th>Format Fill Rate</th>\n",
       "      <th>Viewability Rate</th>\n",
       "      <th>Efficiency Rate</th>\n",
       "      <th>CPM</th>\n",
       "      <th>Clicks</th>\n",
       "      <th>CTR</th>\n",
       "      <th>50% View Rate</th>\n",
       "      <th>Category importance</th>\n",
       "    </tr>\n",
       "    <tr>\n",
       "      <th>Cluster</th>\n",
       "      <th></th>\n",
       "      <th></th>\n",
       "      <th></th>\n",
       "      <th></th>\n",
       "      <th></th>\n",
       "      <th></th>\n",
       "      <th></th>\n",
       "      <th></th>\n",
       "      <th></th>\n",
       "      <th></th>\n",
       "    </tr>\n",
       "  </thead>\n",
       "  <tbody>\n",
       "    <tr>\n",
       "      <th>0</th>\n",
       "      <td>128853.22</td>\n",
       "      <td>13631.02</td>\n",
       "      <td>13.90</td>\n",
       "      <td>77.21</td>\n",
       "      <td>90.84</td>\n",
       "      <td>1.56</td>\n",
       "      <td>85.82</td>\n",
       "      <td>0.64</td>\n",
       "      <td>70.16</td>\n",
       "      <td>35.20</td>\n",
       "    </tr>\n",
       "    <tr>\n",
       "      <th>1</th>\n",
       "      <td>114590.60</td>\n",
       "      <td>8459.18</td>\n",
       "      <td>7.32</td>\n",
       "      <td>74.58</td>\n",
       "      <td>85.80</td>\n",
       "      <td>1.52</td>\n",
       "      <td>55.53</td>\n",
       "      <td>0.57</td>\n",
       "      <td>66.84</td>\n",
       "      <td>32.15</td>\n",
       "    </tr>\n",
       "    <tr>\n",
       "      <th>2</th>\n",
       "      <td>123755.30</td>\n",
       "      <td>2575.88</td>\n",
       "      <td>1.99</td>\n",
       "      <td>67.84</td>\n",
       "      <td>75.13</td>\n",
       "      <td>1.40</td>\n",
       "      <td>16.28</td>\n",
       "      <td>0.50</td>\n",
       "      <td>57.37</td>\n",
       "      <td>29.79</td>\n",
       "    </tr>\n",
       "    <tr>\n",
       "      <th>3</th>\n",
       "      <td>105959.55</td>\n",
       "      <td>70623.67</td>\n",
       "      <td>75.31</td>\n",
       "      <td>84.62</td>\n",
       "      <td>97.09</td>\n",
       "      <td>1.78</td>\n",
       "      <td>415.33</td>\n",
       "      <td>0.50</td>\n",
       "      <td>80.12</td>\n",
       "      <td>31.08</td>\n",
       "    </tr>\n",
       "    <tr>\n",
       "      <th>4</th>\n",
       "      <td>116179.03</td>\n",
       "      <td>22011.74</td>\n",
       "      <td>22.48</td>\n",
       "      <td>77.63</td>\n",
       "      <td>91.11</td>\n",
       "      <td>1.54</td>\n",
       "      <td>152.00</td>\n",
       "      <td>0.56</td>\n",
       "      <td>71.30</td>\n",
       "      <td>32.24</td>\n",
       "    </tr>\n",
       "    <tr>\n",
       "      <th>5</th>\n",
       "      <td>137466.08</td>\n",
       "      <td>42710.30</td>\n",
       "      <td>38.78</td>\n",
       "      <td>77.86</td>\n",
       "      <td>92.72</td>\n",
       "      <td>1.64</td>\n",
       "      <td>149.20</td>\n",
       "      <td>0.42</td>\n",
       "      <td>75.30</td>\n",
       "      <td>32.25</td>\n",
       "    </tr>\n",
       "  </tbody>\n",
       "</table>\n",
       "</div>"
      ],
      "text/plain": [
       "         Format Loads  Impressions  Format Fill Rate  Viewability Rate  \\\n",
       "Cluster                                                                  \n",
       "0           128853.22     13631.02             13.90             77.21   \n",
       "1           114590.60      8459.18              7.32             74.58   \n",
       "2           123755.30      2575.88              1.99             67.84   \n",
       "3           105959.55     70623.67             75.31             84.62   \n",
       "4           116179.03     22011.74             22.48             77.63   \n",
       "5           137466.08     42710.30             38.78             77.86   \n",
       "\n",
       "         Efficiency Rate  CPM  Clicks  CTR  50% View Rate  Category importance  \n",
       "Cluster                                                                         \n",
       "0                  90.84 1.56   85.82 0.64          70.16                35.20  \n",
       "1                  85.80 1.52   55.53 0.57          66.84                32.15  \n",
       "2                  75.13 1.40   16.28 0.50          57.37                29.79  \n",
       "3                  97.09 1.78  415.33 0.50          80.12                31.08  \n",
       "4                  91.11 1.54  152.00 0.56          71.30                32.24  \n",
       "5                  92.72 1.64  149.20 0.42          75.30                32.25  "
      ]
     },
     "metadata": {},
     "output_type": "display_data"
    },
    {
     "name": "stdout",
     "output_type": "stream",
     "text": [
      "The Silhouette Score is:  0.5574264131953095\n",
      "The Calinski Harabasz Score is:  2647.302413162133\n",
      "The Davies Douldin Score is:  0.5414520075033886\n"
     ]
    }
   ],
   "source": [
    "k_pro_a = KPrototypes(n_clusters=6)\n",
    "k_pro_a.fit(k_pro, categorical = [3,4])\n",
    "results_evaluation_kpro(k_pro_a, k_pro)\n",
    "\n",
    "print('The Silhouette Score is: ', silhouette_score(k_pro.drop(['Category','Geographical zone'],1), k_pro_a.labels_, metric='euclidean'))\n",
    "print('The Calinski Harabasz Score is: ', calinski_harabasz_score(k_pro.drop(['Category','Geographical zone'],1), k_pro_a.labels_))\n",
    "print('The Davies Douldin Score is: ', davies_bouldin_score(k_pro.drop(['Category','Geographical zone'],1), k_pro_a.labels_))"
   ]
  },
  {
   "cell_type": "code",
   "execution_count": 145,
   "metadata": {},
   "outputs": [],
   "source": [
    "def results_evaluation_kpro(model, data):\n",
    "\n",
    "    #This function has 2 arguments:\n",
    "    #-model: to define de Clusters and the scores\n",
    "    #-data: the data I´m working with, to calculate the scores\n",
    "  \n",
    "\n",
    "    print('CLUSTERING DIVISION:\\n', pd.DataFrame(model.labels_)[0].value_counts())\n",
    "    \n",
    "    new_df = groupby_domains.copy()\n",
    "    new_df['Cluster'] = model.labels_\n",
    "    display(new_df.groupby('Cluster').mean())"
   ]
  },
  {
   "cell_type": "markdown",
   "metadata": {},
   "source": [
    "CLUSTERING DIVISION:\n",
    " 1    468\n",
    "3    268\n",
    "0    141\n",
    "2     24"
   ]
  },
  {
   "cell_type": "code",
   "execution_count": 264,
   "metadata": {},
   "outputs": [
    {
     "data": {
      "text/html": [
       "<div>\n",
       "<style scoped>\n",
       "    .dataframe tbody tr th:only-of-type {\n",
       "        vertical-align: middle;\n",
       "    }\n",
       "\n",
       "    .dataframe tbody tr th {\n",
       "        vertical-align: top;\n",
       "    }\n",
       "\n",
       "    .dataframe thead th {\n",
       "        text-align: right;\n",
       "    }\n",
       "</style>\n",
       "<table border=\"1\" class=\"dataframe\">\n",
       "  <thead>\n",
       "    <tr style=\"text-align: right;\">\n",
       "      <th></th>\n",
       "      <th>Format Loads</th>\n",
       "      <th>Impressions</th>\n",
       "      <th>Format Fill Rate</th>\n",
       "      <th>Viewability Rate</th>\n",
       "      <th>Efficiency Rate</th>\n",
       "      <th>CPM</th>\n",
       "      <th>Clicks</th>\n",
       "      <th>CTR</th>\n",
       "      <th>50% View Rate</th>\n",
       "      <th>Category importance</th>\n",
       "    </tr>\n",
       "    <tr>\n",
       "      <th>Cluster</th>\n",
       "      <th></th>\n",
       "      <th></th>\n",
       "      <th></th>\n",
       "      <th></th>\n",
       "      <th></th>\n",
       "      <th></th>\n",
       "      <th></th>\n",
       "      <th></th>\n",
       "      <th></th>\n",
       "      <th></th>\n",
       "    </tr>\n",
       "  </thead>\n",
       "  <tbody>\n",
       "    <tr>\n",
       "      <th>0</th>\n",
       "      <td>128853.22</td>\n",
       "      <td>13631.02</td>\n",
       "      <td>13.90</td>\n",
       "      <td>77.21</td>\n",
       "      <td>90.84</td>\n",
       "      <td>1.56</td>\n",
       "      <td>85.82</td>\n",
       "      <td>0.64</td>\n",
       "      <td>70.16</td>\n",
       "      <td>35.20</td>\n",
       "    </tr>\n",
       "    <tr>\n",
       "      <th>1</th>\n",
       "      <td>114590.60</td>\n",
       "      <td>8459.18</td>\n",
       "      <td>7.32</td>\n",
       "      <td>74.58</td>\n",
       "      <td>85.80</td>\n",
       "      <td>1.52</td>\n",
       "      <td>55.53</td>\n",
       "      <td>0.57</td>\n",
       "      <td>66.84</td>\n",
       "      <td>32.15</td>\n",
       "    </tr>\n",
       "    <tr>\n",
       "      <th>2</th>\n",
       "      <td>123755.30</td>\n",
       "      <td>2575.88</td>\n",
       "      <td>1.99</td>\n",
       "      <td>67.84</td>\n",
       "      <td>75.13</td>\n",
       "      <td>1.40</td>\n",
       "      <td>16.28</td>\n",
       "      <td>0.50</td>\n",
       "      <td>57.37</td>\n",
       "      <td>29.79</td>\n",
       "    </tr>\n",
       "    <tr>\n",
       "      <th>3</th>\n",
       "      <td>105959.55</td>\n",
       "      <td>70623.67</td>\n",
       "      <td>75.31</td>\n",
       "      <td>84.62</td>\n",
       "      <td>97.09</td>\n",
       "      <td>1.78</td>\n",
       "      <td>415.33</td>\n",
       "      <td>0.50</td>\n",
       "      <td>80.12</td>\n",
       "      <td>31.08</td>\n",
       "    </tr>\n",
       "    <tr>\n",
       "      <th>4</th>\n",
       "      <td>116179.03</td>\n",
       "      <td>22011.74</td>\n",
       "      <td>22.48</td>\n",
       "      <td>77.63</td>\n",
       "      <td>91.11</td>\n",
       "      <td>1.54</td>\n",
       "      <td>152.00</td>\n",
       "      <td>0.56</td>\n",
       "      <td>71.30</td>\n",
       "      <td>32.24</td>\n",
       "    </tr>\n",
       "    <tr>\n",
       "      <th>5</th>\n",
       "      <td>137466.08</td>\n",
       "      <td>42710.30</td>\n",
       "      <td>38.78</td>\n",
       "      <td>77.86</td>\n",
       "      <td>92.72</td>\n",
       "      <td>1.64</td>\n",
       "      <td>149.20</td>\n",
       "      <td>0.42</td>\n",
       "      <td>75.30</td>\n",
       "      <td>32.25</td>\n",
       "    </tr>\n",
       "  </tbody>\n",
       "</table>\n",
       "</div>"
      ],
      "text/plain": [
       "         Format Loads  Impressions  Format Fill Rate  Viewability Rate  \\\n",
       "Cluster                                                                  \n",
       "0           128853.22     13631.02             13.90             77.21   \n",
       "1           114590.60      8459.18              7.32             74.58   \n",
       "2           123755.30      2575.88              1.99             67.84   \n",
       "3           105959.55     70623.67             75.31             84.62   \n",
       "4           116179.03     22011.74             22.48             77.63   \n",
       "5           137466.08     42710.30             38.78             77.86   \n",
       "\n",
       "         Efficiency Rate  CPM  Clicks  CTR  50% View Rate  Category importance  \n",
       "Cluster                                                                         \n",
       "0                  90.84 1.56   85.82 0.64          70.16                35.20  \n",
       "1                  85.80 1.52   55.53 0.57          66.84                32.15  \n",
       "2                  75.13 1.40   16.28 0.50          57.37                29.79  \n",
       "3                  97.09 1.78  415.33 0.50          80.12                31.08  \n",
       "4                  91.11 1.54  152.00 0.56          71.30                32.24  \n",
       "5                  92.72 1.64  149.20 0.42          75.30                32.25  "
      ]
     },
     "execution_count": 264,
     "metadata": {},
     "output_type": "execute_result"
    }
   ],
   "source": [
    "new_df_k_pro = groupby_domains.copy()\n",
    "new_df_k_pro['Cluster'] = k_pro_a.labels_\n",
    "new_df_k_pro.groupby('Cluster').mean()"
   ]
  },
  {
   "cell_type": "code",
   "execution_count": 278,
   "metadata": {},
   "outputs": [
    {
     "data": {
      "text/plain": [
       "South America    90\n",
       "Asia             20\n",
       "West Europe      20\n",
       "North America     9\n",
       "East Europe       7\n",
       "Arabia            1\n",
       "Australia         1\n",
       "Name: Geographical zone, dtype: int64"
      ]
     },
     "execution_count": 278,
     "metadata": {},
     "output_type": "execute_result"
    }
   ],
   "source": [
    "new_df_k_pro[new_df_k_pro['Cluster']==0]['Geographical zone'].value_counts()"
   ]
  },
  {
   "cell_type": "code",
   "execution_count": 168,
   "metadata": {},
   "outputs": [
    {
     "data": {
      "text/html": [
       "<div>\n",
       "<style scoped>\n",
       "    .dataframe tbody tr th:only-of-type {\n",
       "        vertical-align: middle;\n",
       "    }\n",
       "\n",
       "    .dataframe tbody tr th {\n",
       "        vertical-align: top;\n",
       "    }\n",
       "\n",
       "    .dataframe thead th {\n",
       "        text-align: right;\n",
       "    }\n",
       "</style>\n",
       "<table border=\"1\" class=\"dataframe\">\n",
       "  <thead>\n",
       "    <tr style=\"text-align: right;\">\n",
       "      <th></th>\n",
       "      <th>Format Loads</th>\n",
       "      <th>Impressions</th>\n",
       "      <th>Format Fill Rate</th>\n",
       "      <th>Viewability Rate</th>\n",
       "      <th>Efficiency Rate</th>\n",
       "      <th>CPM</th>\n",
       "      <th>Clicks</th>\n",
       "      <th>CTR</th>\n",
       "      <th>50% View Rate</th>\n",
       "      <th>Category importance</th>\n",
       "      <th>Cluster</th>\n",
       "    </tr>\n",
       "  </thead>\n",
       "  <tbody>\n",
       "    <tr>\n",
       "      <th>count</th>\n",
       "      <td>260.00</td>\n",
       "      <td>260.00</td>\n",
       "      <td>260.00</td>\n",
       "      <td>260.00</td>\n",
       "      <td>260.00</td>\n",
       "      <td>260.00</td>\n",
       "      <td>260.00</td>\n",
       "      <td>260.00</td>\n",
       "      <td>260.00</td>\n",
       "      <td>260.00</td>\n",
       "      <td>260.00</td>\n",
       "    </tr>\n",
       "    <tr>\n",
       "      <th>mean</th>\n",
       "      <td>126011.47</td>\n",
       "      <td>12094.68</td>\n",
       "      <td>11.78</td>\n",
       "      <td>77.11</td>\n",
       "      <td>89.84</td>\n",
       "      <td>1.56</td>\n",
       "      <td>75.69</td>\n",
       "      <td>0.61</td>\n",
       "      <td>69.54</td>\n",
       "      <td>33.28</td>\n",
       "      <td>3.00</td>\n",
       "    </tr>\n",
       "    <tr>\n",
       "      <th>std</th>\n",
       "      <td>180763.42</td>\n",
       "      <td>14882.14</td>\n",
       "      <td>2.94</td>\n",
       "      <td>12.44</td>\n",
       "      <td>11.85</td>\n",
       "      <td>0.23</td>\n",
       "      <td>98.92</td>\n",
       "      <td>0.35</td>\n",
       "      <td>11.22</td>\n",
       "      <td>27.25</td>\n",
       "      <td>0.00</td>\n",
       "    </tr>\n",
       "    <tr>\n",
       "      <th>min</th>\n",
       "      <td>20220.81</td>\n",
       "      <td>271.86</td>\n",
       "      <td>7.59</td>\n",
       "      <td>15.39</td>\n",
       "      <td>20.05</td>\n",
       "      <td>0.34</td>\n",
       "      <td>0.29</td>\n",
       "      <td>0.00</td>\n",
       "      <td>14.59</td>\n",
       "      <td>0.15</td>\n",
       "      <td>3.00</td>\n",
       "    </tr>\n",
       "    <tr>\n",
       "      <th>25%</th>\n",
       "      <td>36385.42</td>\n",
       "      <td>3932.90</td>\n",
       "      <td>9.10</td>\n",
       "      <td>72.09</td>\n",
       "      <td>87.28</td>\n",
       "      <td>1.51</td>\n",
       "      <td>18.11</td>\n",
       "      <td>0.36</td>\n",
       "      <td>63.61</td>\n",
       "      <td>3.57</td>\n",
       "      <td>3.00</td>\n",
       "    </tr>\n",
       "    <tr>\n",
       "      <th>50%</th>\n",
       "      <td>64317.94</td>\n",
       "      <td>7177.87</td>\n",
       "      <td>11.61</td>\n",
       "      <td>80.89</td>\n",
       "      <td>94.83</td>\n",
       "      <td>1.60</td>\n",
       "      <td>37.36</td>\n",
       "      <td>0.57</td>\n",
       "      <td>72.30</td>\n",
       "      <td>58.61</td>\n",
       "      <td>3.00</td>\n",
       "    </tr>\n",
       "    <tr>\n",
       "      <th>75%</th>\n",
       "      <td>134062.57</td>\n",
       "      <td>13680.68</td>\n",
       "      <td>13.94</td>\n",
       "      <td>85.47</td>\n",
       "      <td>97.12</td>\n",
       "      <td>1.69</td>\n",
       "      <td>95.44</td>\n",
       "      <td>0.84</td>\n",
       "      <td>77.20</td>\n",
       "      <td>58.61</td>\n",
       "      <td>3.00</td>\n",
       "    </tr>\n",
       "    <tr>\n",
       "      <th>max</th>\n",
       "      <td>1732798.15</td>\n",
       "      <td>124798.83</td>\n",
       "      <td>17.84</td>\n",
       "      <td>95.24</td>\n",
       "      <td>99.98</td>\n",
       "      <td>2.21</td>\n",
       "      <td>895.53</td>\n",
       "      <td>1.81</td>\n",
       "      <td>91.83</td>\n",
       "      <td>58.61</td>\n",
       "      <td>3.00</td>\n",
       "    </tr>\n",
       "  </tbody>\n",
       "</table>\n",
       "</div>"
      ],
      "text/plain": [
       "       Format Loads  Impressions  Format Fill Rate  Viewability Rate  \\\n",
       "count        260.00       260.00            260.00            260.00   \n",
       "mean      126011.47     12094.68             11.78             77.11   \n",
       "std       180763.42     14882.14              2.94             12.44   \n",
       "min        20220.81       271.86              7.59             15.39   \n",
       "25%        36385.42      3932.90              9.10             72.09   \n",
       "50%        64317.94      7177.87             11.61             80.89   \n",
       "75%       134062.57     13680.68             13.94             85.47   \n",
       "max      1732798.15    124798.83             17.84             95.24   \n",
       "\n",
       "       Efficiency Rate    CPM  Clicks    CTR  50% View Rate  \\\n",
       "count           260.00 260.00  260.00 260.00         260.00   \n",
       "mean             89.84   1.56   75.69   0.61          69.54   \n",
       "std              11.85   0.23   98.92   0.35          11.22   \n",
       "min              20.05   0.34    0.29   0.00          14.59   \n",
       "25%              87.28   1.51   18.11   0.36          63.61   \n",
       "50%              94.83   1.60   37.36   0.57          72.30   \n",
       "75%              97.12   1.69   95.44   0.84          77.20   \n",
       "max              99.98   2.21  895.53   1.81          91.83   \n",
       "\n",
       "       Category importance  Cluster  \n",
       "count               260.00   260.00  \n",
       "mean                 33.28     3.00  \n",
       "std                  27.25     0.00  \n",
       "min                   0.15     3.00  \n",
       "25%                   3.57     3.00  \n",
       "50%                  58.61     3.00  \n",
       "75%                  58.61     3.00  \n",
       "max                  58.61     3.00  "
      ]
     },
     "execution_count": 168,
     "metadata": {},
     "output_type": "execute_result"
    }
   ],
   "source": [
    "new_df_k_pro[new_df_k_pro['Cluster']==3].describe()"
   ]
  },
  {
   "cell_type": "code",
   "execution_count": 251,
   "metadata": {},
   "outputs": [
    {
     "name": "stdout",
     "output_type": "stream",
     "text": [
      "CLUSTERING DIVISION:\n",
      " 1    468\n",
      "3    268\n",
      "0    141\n",
      "2     24\n",
      "Name: 0, dtype: int64\n"
     ]
    },
    {
     "data": {
      "text/html": [
       "<div>\n",
       "<style scoped>\n",
       "    .dataframe tbody tr th:only-of-type {\n",
       "        vertical-align: middle;\n",
       "    }\n",
       "\n",
       "    .dataframe tbody tr th {\n",
       "        vertical-align: top;\n",
       "    }\n",
       "\n",
       "    .dataframe thead th {\n",
       "        text-align: right;\n",
       "    }\n",
       "</style>\n",
       "<table border=\"1\" class=\"dataframe\">\n",
       "  <thead>\n",
       "    <tr style=\"text-align: right;\">\n",
       "      <th></th>\n",
       "      <th>Format Loads</th>\n",
       "      <th>Impressions</th>\n",
       "      <th>Format Fill Rate</th>\n",
       "      <th>Viewability Rate</th>\n",
       "      <th>Efficiency Rate</th>\n",
       "      <th>CPM</th>\n",
       "      <th>Clicks</th>\n",
       "      <th>CTR</th>\n",
       "      <th>50% View Rate</th>\n",
       "      <th>Category importance</th>\n",
       "    </tr>\n",
       "    <tr>\n",
       "      <th>Cluster</th>\n",
       "      <th></th>\n",
       "      <th></th>\n",
       "      <th></th>\n",
       "      <th></th>\n",
       "      <th></th>\n",
       "      <th></th>\n",
       "      <th></th>\n",
       "      <th></th>\n",
       "      <th></th>\n",
       "      <th></th>\n",
       "    </tr>\n",
       "  </thead>\n",
       "  <tbody>\n",
       "    <tr>\n",
       "      <th>0</th>\n",
       "      <td>122866.51</td>\n",
       "      <td>25346.56</td>\n",
       "      <td>23.93</td>\n",
       "      <td>77.89</td>\n",
       "      <td>91.77</td>\n",
       "      <td>1.56</td>\n",
       "      <td>156.08</td>\n",
       "      <td>0.54</td>\n",
       "      <td>72.01</td>\n",
       "      <td>32.18</td>\n",
       "    </tr>\n",
       "    <tr>\n",
       "      <th>1</th>\n",
       "      <td>116712.77</td>\n",
       "      <td>3531.41</td>\n",
       "      <td>3.11</td>\n",
       "      <td>69.20</td>\n",
       "      <td>77.49</td>\n",
       "      <td>1.42</td>\n",
       "      <td>24.64</td>\n",
       "      <td>0.52</td>\n",
       "      <td>59.56</td>\n",
       "      <td>30.63</td>\n",
       "    </tr>\n",
       "    <tr>\n",
       "      <th>2</th>\n",
       "      <td>103301.85</td>\n",
       "      <td>45747.52</td>\n",
       "      <td>52.12</td>\n",
       "      <td>78.57</td>\n",
       "      <td>91.45</td>\n",
       "      <td>1.63</td>\n",
       "      <td>184.94</td>\n",
       "      <td>0.42</td>\n",
       "      <td>75.73</td>\n",
       "      <td>33.42</td>\n",
       "    </tr>\n",
       "    <tr>\n",
       "      <th>3</th>\n",
       "      <td>130555.89</td>\n",
       "      <td>12581.64</td>\n",
       "      <td>11.61</td>\n",
       "      <td>76.95</td>\n",
       "      <td>89.70</td>\n",
       "      <td>1.56</td>\n",
       "      <td>77.18</td>\n",
       "      <td>0.61</td>\n",
       "      <td>69.52</td>\n",
       "      <td>33.44</td>\n",
       "    </tr>\n",
       "  </tbody>\n",
       "</table>\n",
       "</div>"
      ],
      "text/plain": [
       "         Format Loads  Impressions  Format Fill Rate  Viewability Rate  \\\n",
       "Cluster                                                                  \n",
       "0           122866.51     25346.56             23.93             77.89   \n",
       "1           116712.77      3531.41              3.11             69.20   \n",
       "2           103301.85     45747.52             52.12             78.57   \n",
       "3           130555.89     12581.64             11.61             76.95   \n",
       "\n",
       "         Efficiency Rate  CPM  Clicks  CTR  50% View Rate  Category importance  \n",
       "Cluster                                                                         \n",
       "0                  91.77 1.56  156.08 0.54          72.01                32.18  \n",
       "1                  77.49 1.42   24.64 0.52          59.56                30.63  \n",
       "2                  91.45 1.63  184.94 0.42          75.73                33.42  \n",
       "3                  89.70 1.56   77.18 0.61          69.52                33.44  "
      ]
     },
     "metadata": {},
     "output_type": "display_data"
    },
    {
     "name": "stdout",
     "output_type": "stream",
     "text": [
      "The Silhouette Score is:  0.529161273346998\n",
      "The Calinski Harabasz Score is:  1753.8111869207519\n",
      "The Davies Douldin Score is:  0.592600065065219\n"
     ]
    }
   ],
   "source": [
    "results_evaluation(k_pro_a, groupby_domains_clustering)\n"
   ]
  },
  {
   "cell_type": "code",
   "execution_count": 24,
   "metadata": {},
   "outputs": [
    {
     "name": "stdout",
     "output_type": "stream",
     "text": [
      "CLUSTERING DIVISION:\n",
      " 0    380\n",
      "2    318\n",
      "1    125\n",
      "3     78\n",
      "Name: 0, dtype: int64\n"
     ]
    },
    {
     "data": {
      "text/html": [
       "<div>\n",
       "<style scoped>\n",
       "    .dataframe tbody tr th:only-of-type {\n",
       "        vertical-align: middle;\n",
       "    }\n",
       "\n",
       "    .dataframe tbody tr th {\n",
       "        vertical-align: top;\n",
       "    }\n",
       "\n",
       "    .dataframe thead th {\n",
       "        text-align: right;\n",
       "    }\n",
       "</style>\n",
       "<table border=\"1\" class=\"dataframe\">\n",
       "  <thead>\n",
       "    <tr style=\"text-align: right;\">\n",
       "      <th></th>\n",
       "      <th>Format Loads</th>\n",
       "      <th>Impressions</th>\n",
       "      <th>Format Fill Rate</th>\n",
       "      <th>Viewability Rate</th>\n",
       "      <th>Efficiency Rate</th>\n",
       "      <th>CPM</th>\n",
       "      <th>Clicks</th>\n",
       "      <th>CTR</th>\n",
       "      <th>50% View Rate</th>\n",
       "      <th>Category importance</th>\n",
       "    </tr>\n",
       "    <tr>\n",
       "      <th>Cluster</th>\n",
       "      <th></th>\n",
       "      <th></th>\n",
       "      <th></th>\n",
       "      <th></th>\n",
       "      <th></th>\n",
       "      <th></th>\n",
       "      <th></th>\n",
       "      <th></th>\n",
       "      <th></th>\n",
       "      <th></th>\n",
       "    </tr>\n",
       "  </thead>\n",
       "  <tbody>\n",
       "    <tr>\n",
       "      <th>0</th>\n",
       "      <td>136841.69</td>\n",
       "      <td>13041.48</td>\n",
       "      <td>11.58</td>\n",
       "      <td>81.86</td>\n",
       "      <td>91.64</td>\n",
       "      <td>1.63</td>\n",
       "      <td>90.37</td>\n",
       "      <td>0.68</td>\n",
       "      <td>73.53</td>\n",
       "      <td>58.61</td>\n",
       "    </tr>\n",
       "    <tr>\n",
       "      <th>1</th>\n",
       "      <td>72883.27</td>\n",
       "      <td>3361.34</td>\n",
       "      <td>4.51</td>\n",
       "      <td>46.95</td>\n",
       "      <td>56.99</td>\n",
       "      <td>1.05</td>\n",
       "      <td>16.93</td>\n",
       "      <td>0.32</td>\n",
       "      <td>37.47</td>\n",
       "      <td>3.55</td>\n",
       "    </tr>\n",
       "    <tr>\n",
       "      <th>2</th>\n",
       "      <td>124922.81</td>\n",
       "      <td>12025.03</td>\n",
       "      <td>12.08</td>\n",
       "      <td>78.45</td>\n",
       "      <td>90.87</td>\n",
       "      <td>1.60</td>\n",
       "      <td>61.03</td>\n",
       "      <td>0.52</td>\n",
       "      <td>70.73</td>\n",
       "      <td>4.24</td>\n",
       "    </tr>\n",
       "    <tr>\n",
       "      <th>3</th>\n",
       "      <td>109977.88</td>\n",
       "      <td>6365.35</td>\n",
       "      <td>4.92</td>\n",
       "      <td>50.74</td>\n",
       "      <td>58.94</td>\n",
       "      <td>1.10</td>\n",
       "      <td>35.89</td>\n",
       "      <td>0.40</td>\n",
       "      <td>43.05</td>\n",
       "      <td>58.61</td>\n",
       "    </tr>\n",
       "  </tbody>\n",
       "</table>\n",
       "</div>"
      ],
      "text/plain": [
       "         Format Loads  Impressions  Format Fill Rate  Viewability Rate  \\\n",
       "Cluster                                                                  \n",
       "0           136841.69     13041.48             11.58             81.86   \n",
       "1            72883.27      3361.34              4.51             46.95   \n",
       "2           124922.81     12025.03             12.08             78.45   \n",
       "3           109977.88      6365.35              4.92             50.74   \n",
       "\n",
       "         Efficiency Rate  CPM  Clicks  CTR  50% View Rate  Category importance  \n",
       "Cluster                                                                         \n",
       "0                  91.64 1.63   90.37 0.68          73.53                58.61  \n",
       "1                  56.99 1.05   16.93 0.32          37.47                 3.55  \n",
       "2                  90.87 1.60   61.03 0.52          70.73                 4.24  \n",
       "3                  58.94 1.10   35.89 0.40          43.05                58.61  "
      ]
     },
     "metadata": {},
     "output_type": "display_data"
    }
   ],
   "source": [
    "results_evaluation(k_pro, groupby_domains_clustering)\n"
   ]
  },
  {
   "cell_type": "code",
   "execution_count": 29,
   "metadata": {},
   "outputs": [
    {
     "name": "stdout",
     "output_type": "stream",
     "text": [
      "The Silhouette Score is:  0.5108028489299699\n",
      "The Calinski Harabasz Score is:  1420.7893598808778\n",
      "The Davies Douldin Score is:  0.7444640661182405\n"
     ]
    }
   ],
   "source": [
    "print('The Silhouette Score is: ', silhouette_score(groupby_domains_clustering.drop(['Category','Country'],1), k_pro.labels_, metric='euclidean'))\n",
    "print('The Calinski Harabasz Score is: ', calinski_harabasz_score(groupby_domains_clustering.drop(['Category','Country'],1), k_pro.labels_))\n",
    "print('The Davies Douldin Score is: ', davies_bouldin_score(groupby_domains_clustering.drop(['Category','Country'],1), k_pro.labels_))"
   ]
  },
  {
   "cell_type": "code",
   "execution_count": 19,
   "metadata": {},
   "outputs": [
    {
     "data": {
      "text/plain": [
       "0    380\n",
       "2    318\n",
       "1    125\n",
       "3     78\n",
       "Name: 0, dtype: int64"
      ]
     },
     "execution_count": 19,
     "metadata": {},
     "output_type": "execute_result"
    }
   ],
   "source": [
    "pd.DataFrame(k_pro.labels_)[0].value_counts()"
   ]
  },
  {
   "cell_type": "code",
   "execution_count": 32,
   "metadata": {},
   "outputs": [
    {
     "data": {
      "text/html": [
       "<div>\n",
       "<style scoped>\n",
       "    .dataframe tbody tr th:only-of-type {\n",
       "        vertical-align: middle;\n",
       "    }\n",
       "\n",
       "    .dataframe tbody tr th {\n",
       "        vertical-align: top;\n",
       "    }\n",
       "\n",
       "    .dataframe thead th {\n",
       "        text-align: right;\n",
       "    }\n",
       "</style>\n",
       "<table border=\"1\" class=\"dataframe\">\n",
       "  <thead>\n",
       "    <tr style=\"text-align: right;\">\n",
       "      <th></th>\n",
       "      <th>Format Fill Rate</th>\n",
       "      <th>CPM</th>\n",
       "      <th>CTR</th>\n",
       "      <th>50% View Rate</th>\n",
       "      <th>Category importance</th>\n",
       "    </tr>\n",
       "    <tr>\n",
       "      <th>Cluster</th>\n",
       "      <th></th>\n",
       "      <th></th>\n",
       "      <th></th>\n",
       "      <th></th>\n",
       "      <th></th>\n",
       "    </tr>\n",
       "  </thead>\n",
       "  <tbody>\n",
       "    <tr>\n",
       "      <th>0</th>\n",
       "      <td>11.58</td>\n",
       "      <td>1.63</td>\n",
       "      <td>0.68</td>\n",
       "      <td>73.53</td>\n",
       "      <td>58.61</td>\n",
       "    </tr>\n",
       "    <tr>\n",
       "      <th>1</th>\n",
       "      <td>4.51</td>\n",
       "      <td>1.05</td>\n",
       "      <td>0.32</td>\n",
       "      <td>37.47</td>\n",
       "      <td>3.55</td>\n",
       "    </tr>\n",
       "    <tr>\n",
       "      <th>2</th>\n",
       "      <td>12.08</td>\n",
       "      <td>1.60</td>\n",
       "      <td>0.52</td>\n",
       "      <td>70.73</td>\n",
       "      <td>4.24</td>\n",
       "    </tr>\n",
       "    <tr>\n",
       "      <th>3</th>\n",
       "      <td>4.92</td>\n",
       "      <td>1.10</td>\n",
       "      <td>0.40</td>\n",
       "      <td>43.05</td>\n",
       "      <td>58.61</td>\n",
       "    </tr>\n",
       "  </tbody>\n",
       "</table>\n",
       "</div>"
      ],
      "text/plain": [
       "         Format Fill Rate  CPM  CTR  50% View Rate  Category importance\n",
       "Cluster                                                                \n",
       "0                   11.58 1.63 0.68          73.53                58.61\n",
       "1                    4.51 1.05 0.32          37.47                 3.55\n",
       "2                   12.08 1.60 0.52          70.73                 4.24\n",
       "3                    4.92 1.10 0.40          43.05                58.61"
      ]
     },
     "metadata": {},
     "output_type": "display_data"
    }
   ],
   "source": [
    "new_df = groupby_domains_clustering.copy()\n",
    "new_df['Cluster'] = k_pro.labels_\n",
    "display(new_df.groupby('Cluster').mean())"
   ]
  },
  {
   "cell_type": "code",
   "execution_count": 41,
   "metadata": {},
   "outputs": [
    {
     "data": {
      "text/plain": [
       "array(['News & Portals'], dtype=object)"
      ]
     },
     "execution_count": 41,
     "metadata": {},
     "output_type": "execute_result"
    }
   ],
   "source": [
    "new_df[new_df['Cluster']==3]['Category'].unique()"
   ]
  },
  {
   "cell_type": "code",
   "execution_count": 19,
   "metadata": {},
   "outputs": [
    {
     "data": {
      "text/plain": [
       "<seaborn.axisgrid.PairGrid at 0x1de911dde48>"
      ]
     },
     "execution_count": 19,
     "metadata": {},
     "output_type": "execute_result"
    },
    {
     "data": {
      "image/png": "[encoded data removed]",
      "text/plain": [
       "<Figure size 417.75x360 with 6 Axes>"
      ]
     },
     "metadata": {
      "needs_background": "light"
     },
     "output_type": "display_data"
    }
   ],
   "source": [
    "groupby_domains_kprototypes = pd.DataFrame(pca_2_robust)\n",
    "groupby_domains_kprototypes['Cluster_id']=k_pro.labels_\n",
    "sns.pairplot(groupby_domains_kprototypes,hue='Cluster_id',palette='Dark2',diag_kind='kde')"
   ]
  },
  {
   "cell_type": "code",
   "execution_count": null,
   "metadata": {},
   "outputs": [],
   "source": []
  },
  {
   "cell_type": "code",
   "execution_count": null,
   "metadata": {},
   "outputs": [],
   "source": []
  },
  {
   "cell_type": "code",
   "execution_count": 23,
   "metadata": {},
   "outputs": [
    {
     "data": {
      "text/plain": [
       "<matplotlib.axes._subplots.AxesSubplot at 0x1de9090fc08>"
      ]
     },
     "execution_count": 23,
     "metadata": {},
     "output_type": "execute_result"
    },
    {
     "data": {
      "image/png": "[encoded data removed]",
      "text/plain": [
       "<Figure size 432x288 with 1 Axes>"
      ]
     },
     "metadata": {
      "needs_background": "light"
     },
     "output_type": "display_data"
    }
   ],
   "source": [
    "sns.scatterplot(groupby_domains_kprototypes[0], groupby_domains_kprototypes[1], hue = groupby_domains_kprototypes['Cluster_id'], palette='Dark2')"
   ]
  },
  {
   "cell_type": "code",
   "execution_count": 24,
   "metadata": {},
   "outputs": [
    {
     "name": "stdout",
     "output_type": "stream",
     "text": [
      "The Silhouette Score is: 0.3045945135858173\n",
      "The Calinski Harabasz Score is: 176.55445241902606\n"
     ]
    }
   ],
   "source": [
    "print('The Silhouette Score is:', silhouette_score(robust, k_pro.labels_))\n",
    "print('The Calinski Harabasz Score is:', calinski_harabasz_score(robust, k_pro.labels_))"
   ]
  },
  {
   "cell_type": "markdown",
   "metadata": {},
   "source": [
    "## DETECTING OUTLIERS"
   ]
  },
  {
   "cell_type": "code",
   "execution_count": 169,
   "metadata": {},
   "outputs": [
    {
     "name": "stdout",
     "output_type": "stream",
     "text": [
      "94953.21536796537\n"
     ]
    }
   ],
   "source": [
    "Q1 = groupby_domains['Format Loads'].quantile(0.25)\n",
    "Q3 = groupby_domains['Format Loads'].quantile(0.75)\n",
    "IQR = Q3 - Q1\n",
    "print(IQR)"
   ]
  },
  {
   "cell_type": "code",
   "execution_count": 173,
   "metadata": {},
   "outputs": [],
   "source": [
    "no_outliers = groupby_domains.copy()[~((groupby_domains['Format Loads']< (Q1 - 1.5 * IQR)) |(groupby_domains['Format Loads']> (Q3 + 1.5 * IQR)))]\n",
    "no_outliers.dropna(inplace=True)\n",
    "no_outliers['Outlier']=0"
   ]
  },
  {
   "cell_type": "code",
   "execution_count": null,
   "metadata": {},
   "outputs": [],
   "source": []
  },
  {
   "cell_type": "code",
   "execution_count": 174,
   "metadata": {},
   "outputs": [],
   "source": [
    "outliers = groupby_domains.merge(no_outliers,how='left').fillna(value=1)\n",
    "outliers = outliers[outliers['Outlier']==1]\n",
    "outliers.drop('Outlier',1,inplace=True)\n",
    "no_outliers.drop('Outlier',1,inplace=True)"
   ]
  },
  {
   "cell_type": "code",
   "execution_count": 179,
   "metadata": {},
   "outputs": [
    {
     "data": {
      "text/plain": [
       "(809, 14)"
      ]
     },
     "execution_count": 179,
     "metadata": {},
     "output_type": "execute_result"
    }
   ],
   "source": [
    "no_outliers.shape"
   ]
  },
  {
   "cell_type": "code",
   "execution_count": 178,
   "metadata": {},
   "outputs": [
    {
     "data": {
      "text/plain": [
       "(92, 14)"
      ]
     },
     "execution_count": 178,
     "metadata": {},
     "output_type": "execute_result"
    }
   ],
   "source": [
    "outliers.shape"
   ]
  },
  {
   "cell_type": "code",
   "execution_count": 8,
   "metadata": {},
   "outputs": [],
   "source": [
    "#from sklearn import manifold\n",
    "#from sklearn.metrics import euclidean_distances\n",
    "\n",
    "#similarities = euclidean_distances(groupby_domains)\n",
    "\n",
    "#mds = manifold.MDS(n_components=2, max_iter=3000, eps=1e-9, dissimilarity=\"precomputed\", n_jobs=1)\n",
    "\n",
    "#pos = mds.fit(similarities).embedding_"
   ]
  },
  {
   "cell_type": "code",
   "execution_count": 132,
   "metadata": {},
   "outputs": [
    {
     "data": {
      "text/plain": [
       "<matplotlib.axes._subplots.AxesSubplot at 0x29624993488>"
      ]
     },
     "execution_count": 132,
     "metadata": {},
     "output_type": "execute_result"
    },
    {
     "data": {
      "image/png": "[encoded data removed]",
      "text/plain": [
       "<Figure size 432x288 with 1 Axes>"
      ]
     },
     "metadata": {
      "needs_background": "light"
     },
     "output_type": "display_data"
    }
   ],
   "source": [
    "sns.scatterplot(no_outliers['Impressions'], no_outliers['Clicks'])"
   ]
  },
  {
   "cell_type": "code",
   "execution_count": 125,
   "metadata": {},
   "outputs": [
    {
     "data": {
      "text/plain": [
       "<matplotlib.axes._subplots.AxesSubplot at 0x29624486488>"
      ]
     },
     "execution_count": 125,
     "metadata": {},
     "output_type": "execute_result"
    },
    {
     "data": {
      "image/png": "[encoded data removed]",
      "text/plain": [
       "<Figure size 432x288 with 2 Axes>"
      ]
     },
     "metadata": {
      "needs_background": "light"
     },
     "output_type": "display_data"
    }
   ],
   "source": [
    "sns.heatmap(no_outliers.corr(), annot=True)"
   ]
  },
  {
   "cell_type": "code",
   "execution_count": 153,
   "metadata": {},
   "outputs": [
    {
     "data": {
      "text/plain": [
       "(563, 1)"
      ]
     },
     "execution_count": 153,
     "metadata": {},
     "output_type": "execute_result"
    }
   ],
   "source": [
    "new_variable.shape"
   ]
  },
  {
   "cell_type": "code",
   "execution_count": 188,
   "metadata": {},
   "outputs": [
    {
     "name": "stdout",
     "output_type": "stream",
     "text": [
      "[0.9999749]\n"
     ]
    }
   ],
   "source": [
    "pca=PCA(n_components=1)\n",
    "new_variable = pca.fit_transform(no_outliers[['Impressions','Clicks']])\n",
    "print(pca.explained_variance_ratio_)\n",
    "no_outliers_modified = no_outliers.copy()\n",
    "no_outliers_modified['PCA: Impressions/Clicks'] = new_variable\n",
    "no_outliers_modified.drop(['Impressions', 'Clicks'], 1, inplace=True)"
   ]
  },
  {
   "cell_type": "code",
   "execution_count": 126,
   "metadata": {},
   "outputs": [
    {
     "data": {
      "text/plain": [
       "<matplotlib.axes._subplots.AxesSubplot at 0x296248e24c8>"
      ]
     },
     "execution_count": 126,
     "metadata": {},
     "output_type": "execute_result"
    },
    {
     "data": {
      "image/png": "[encoded data removed]",
      "text/plain": [
       "<Figure size 432x288 with 2 Axes>"
      ]
     },
     "metadata": {
      "needs_background": "light"
     },
     "output_type": "display_data"
    }
   ],
   "source": [
    "sns.heatmap(groupby_domains.corr(), annot=True)"
   ]
  },
  {
   "cell_type": "code",
   "execution_count": 260,
   "metadata": {},
   "outputs": [],
   "source": [
    "groupby_domains_one_hot =pd.get_dummies(groupby_domains,columns=['Category','Geographical zone'])\n",
    "groupby_domains_clustering= groupby_domains.drop(['Domain','Format Loads', 'Impressions', 'Clicks',\n",
    "                                                   'Geographical zone importance','Viewability Rate', 'Efficiency Rate', 'Category importance', 'Country',\n",
    "                                                         '50% View Rate'], 1)\n",
    "minmax = MinMaxScaler().fit_transform(groupby_domains_clustering)\n"
   ]
  },
  {
   "cell_type": "code",
   "execution_count": 278,
   "metadata": {},
   "outputs": [],
   "source": [
    "from kmodes.kmodes import KModes\n",
    "modes = pd.get_dummies(groupby_domains,columns=['Category','Geographical zone']).iloc[:,13:]\n",
    "kmodes=KModes()"
   ]
  },
  {
   "cell_type": "code",
   "execution_count": 271,
   "metadata": {},
   "outputs": [],
   "source": [
    "groupby_domains_clustering= groupby_domains.drop(['Domain','Format Loads', 'Impressions', 'Clicks',\n",
    "                                                   'Viewability Rate', 'Efficiency Rate', 'Country','Category', 'Geographical zone',  \n",
    "                                                         '50% View Rate'], 1)\n",
    "minmax = MinMaxScaler().fit_transform(groupby_domains_clustering)\n"
   ]
  },
  {
   "cell_type": "code",
   "execution_count": 280,
   "metadata": {},
   "outputs": [
    {
     "data": {
      "image/png": "[encoded data removed]",
      "text/plain": [
       "<Figure size 576x396 with 1 Axes>"
      ]
     },
     "metadata": {},
     "output_type": "display_data"
    }
   ],
   "source": [
    "cost = []\n",
    "K = range(1,9)\n",
    "for num_clusters in list(K):\n",
    "    kmode = KModes(n_clusters=num_clusters, init = \"Cao\", n_init = 1)\n",
    "    kmode.fit_predict(modes)\n",
    "    cost.append(kmode.cost_)\n",
    "    \n",
    "plt.plot(K, cost, 'bx-')\n",
    "plt.xlabel('k clusters')\n",
    "plt.ylabel('Cost')\n",
    "plt.title('Elbow Method For Optimal k')\n",
    "plt.show()"
   ]
  },
  {
   "cell_type": "code",
   "execution_count": 272,
   "metadata": {},
   "outputs": [
    {
     "data": {
      "image/png": "[encoded data removed]",
      "text/plain": [
       "<Figure size 576x396 with 1 Axes>"
      ]
     },
     "metadata": {},
     "output_type": "display_data"
    },
    {
     "name": "stderr",
     "output_type": "stream",
     "text": [
      "C:\\Users\\Usuario\\anaconda3\\lib\\site-packages\\yellowbrick\\utils\\kneed.py:182: YellowbrickWarning: No \"knee\" or \"elbow point\" detected This could be due to bad clustering, no actual clusters being formed etc.\n",
      "  warnings.warn(warning_message, YellowbrickWarning)\n",
      "C:\\Users\\Usuario\\anaconda3\\lib\\site-packages\\yellowbrick\\utils\\kneed.py:140: YellowbrickWarning: No 'knee' or 'elbow point' detected This could be due to bad clustering, no actual clusters being formed etc.\n",
      "  warnings.warn(warning_message, YellowbrickWarning)\n",
      "C:\\Users\\Usuario\\anaconda3\\lib\\site-packages\\yellowbrick\\cluster\\elbow.py:343: YellowbrickWarning: No 'knee' or 'elbow' point detected, pass `locate_elbow=False` to remove the warning\n",
      "  warnings.warn(warning_message, YellowbrickWarning)\n"
     ]
    },
    {
     "data": {
      "image/png": "[encoded data removed]",
      "text/plain": [
       "<Figure size 576x396 with 1 Axes>"
      ]
     },
     "metadata": {},
     "output_type": "display_data"
    },
    {
     "data": {
      "image/png": "[encoded data removed]",
      "text/plain": [
       "<Figure size 576x396 with 1 Axes>"
      ]
     },
     "metadata": {},
     "output_type": "display_data"
    }
   ],
   "source": [
    "kmodes=KModes()\n",
    "visualization_clusters(minmax, kmodes)"
   ]
  },
  {
   "cell_type": "code",
   "execution_count": 266,
   "metadata": {},
   "outputs": [
    {
     "name": "stdout",
     "output_type": "stream",
     "text": [
      "CLUSTERING DIVISION:\n",
      " 0    502\n",
      "1    122\n",
      "2    108\n",
      "3     94\n",
      "4     75\n",
      "Name: 0, dtype: int64\n"
     ]
    },
    {
     "data": {
      "text/html": [
       "<div>\n",
       "<style scoped>\n",
       "    .dataframe tbody tr th:only-of-type {\n",
       "        vertical-align: middle;\n",
       "    }\n",
       "\n",
       "    .dataframe tbody tr th {\n",
       "        vertical-align: top;\n",
       "    }\n",
       "\n",
       "    .dataframe thead th {\n",
       "        text-align: right;\n",
       "    }\n",
       "</style>\n",
       "<table border=\"1\" class=\"dataframe\">\n",
       "  <thead>\n",
       "    <tr style=\"text-align: right;\">\n",
       "      <th></th>\n",
       "      <th>Format Loads</th>\n",
       "      <th>Impressions</th>\n",
       "      <th>Format Fill Rate</th>\n",
       "      <th>Viewability Rate</th>\n",
       "      <th>Efficiency Rate</th>\n",
       "      <th>CPM</th>\n",
       "      <th>Clicks</th>\n",
       "      <th>CTR</th>\n",
       "      <th>50% View Rate</th>\n",
       "      <th>Category importance</th>\n",
       "      <th>Geographical zone importance</th>\n",
       "    </tr>\n",
       "    <tr>\n",
       "      <th>Cluster</th>\n",
       "      <th></th>\n",
       "      <th></th>\n",
       "      <th></th>\n",
       "      <th></th>\n",
       "      <th></th>\n",
       "      <th></th>\n",
       "      <th></th>\n",
       "      <th></th>\n",
       "      <th></th>\n",
       "      <th></th>\n",
       "      <th></th>\n",
       "    </tr>\n",
       "  </thead>\n",
       "  <tbody>\n",
       "    <tr>\n",
       "      <th>0</th>\n",
       "      <td>121640.10</td>\n",
       "      <td>12269.59</td>\n",
       "      <td>11.01</td>\n",
       "      <td>76.01</td>\n",
       "      <td>85.89</td>\n",
       "      <td>1.54</td>\n",
       "      <td>80.16</td>\n",
       "      <td>0.63</td>\n",
       "      <td>68.90</td>\n",
       "      <td>37.64</td>\n",
       "      <td>50.99</td>\n",
       "    </tr>\n",
       "    <tr>\n",
       "      <th>1</th>\n",
       "      <td>146157.13</td>\n",
       "      <td>8143.74</td>\n",
       "      <td>7.31</td>\n",
       "      <td>71.46</td>\n",
       "      <td>83.82</td>\n",
       "      <td>1.51</td>\n",
       "      <td>43.86</td>\n",
       "      <td>0.40</td>\n",
       "      <td>60.37</td>\n",
       "      <td>27.14</td>\n",
       "      <td>12.71</td>\n",
       "    </tr>\n",
       "    <tr>\n",
       "      <th>2</th>\n",
       "      <td>122016.61</td>\n",
       "      <td>7989.56</td>\n",
       "      <td>10.10</td>\n",
       "      <td>72.09</td>\n",
       "      <td>83.66</td>\n",
       "      <td>1.46</td>\n",
       "      <td>56.09</td>\n",
       "      <td>0.54</td>\n",
       "      <td>62.94</td>\n",
       "      <td>25.69</td>\n",
       "      <td>11.98</td>\n",
       "    </tr>\n",
       "    <tr>\n",
       "      <th>3</th>\n",
       "      <td>89952.96</td>\n",
       "      <td>4919.02</td>\n",
       "      <td>5.42</td>\n",
       "      <td>65.91</td>\n",
       "      <td>74.91</td>\n",
       "      <td>1.26</td>\n",
       "      <td>29.22</td>\n",
       "      <td>0.47</td>\n",
       "      <td>56.37</td>\n",
       "      <td>22.97</td>\n",
       "      <td>10.43</td>\n",
       "    </tr>\n",
       "    <tr>\n",
       "      <th>4</th>\n",
       "      <td>118481.39</td>\n",
       "      <td>16243.39</td>\n",
       "      <td>15.59</td>\n",
       "      <td>66.97</td>\n",
       "      <td>80.30</td>\n",
       "      <td>1.50</td>\n",
       "      <td>56.89</td>\n",
       "      <td>0.35</td>\n",
       "      <td>59.04</td>\n",
       "      <td>19.93</td>\n",
       "      <td>8.32</td>\n",
       "    </tr>\n",
       "  </tbody>\n",
       "</table>\n",
       "</div>"
      ],
      "text/plain": [
       "         Format Loads  Impressions  Format Fill Rate  Viewability Rate  \\\n",
       "Cluster                                                                  \n",
       "0           121640.10     12269.59             11.01             76.01   \n",
       "1           146157.13      8143.74              7.31             71.46   \n",
       "2           122016.61      7989.56             10.10             72.09   \n",
       "3            89952.96      4919.02              5.42             65.91   \n",
       "4           118481.39     16243.39             15.59             66.97   \n",
       "\n",
       "         Efficiency Rate  CPM  Clicks  CTR  50% View Rate  \\\n",
       "Cluster                                                     \n",
       "0                  85.89 1.54   80.16 0.63          68.90   \n",
       "1                  83.82 1.51   43.86 0.40          60.37   \n",
       "2                  83.66 1.46   56.09 0.54          62.94   \n",
       "3                  74.91 1.26   29.22 0.47          56.37   \n",
       "4                  80.30 1.50   56.89 0.35          59.04   \n",
       "\n",
       "         Category importance  Geographical zone importance  \n",
       "Cluster                                                     \n",
       "0                      37.64                         50.99  \n",
       "1                      27.14                         12.71  \n",
       "2                      25.69                         11.98  \n",
       "3                      22.97                         10.43  \n",
       "4                      19.93                          8.32  "
      ]
     },
     "metadata": {},
     "output_type": "display_data"
    },
    {
     "name": "stdout",
     "output_type": "stream",
     "text": [
      "The Silhouette Score is:  -0.16153293109161806\n",
      "The Calinski Harabasz Score is:  13.717450653656867\n",
      "The Davies Douldin Score is:  6.331232457893733\n"
     ]
    }
   ],
   "source": [
    "km =  KModes(n_clusters=5) \n",
    "km.fit(modes)\n",
    "results_evaluation(km, groupby_domains_clustering)\n"
   ]
  },
  {
   "cell_type": "code",
   "execution_count": 244,
   "metadata": {},
   "outputs": [],
   "source": [
    "kmdf = groupby_domains[['Category','Geographical zone']].copy()\n",
    "kmdf['Cluster'] = km.labels_\n"
   ]
  },
  {
   "cell_type": "code",
   "execution_count": 254,
   "metadata": {},
   "outputs": [
    {
     "data": {
      "text/plain": [
       "News & Portals         33\n",
       "Tech & Gaming          12\n",
       "Sports                 10\n",
       "Community & Culture     9\n",
       "Glamour                 5\n",
       "Education & Careers     4\n",
       "Movies & Television     4\n",
       "Health & Wellness       3\n",
       "Travel                  3\n",
       "Autos                   3\n",
       "Family & Parenting      2\n",
       "Leisure                 2\n",
       "Money & Investing       1\n",
       "Food                    1\n",
       "Casual Games            1\n",
       "Music & Radio           1\n",
       "Name: Category, dtype: int64"
      ]
     },
     "execution_count": 254,
     "metadata": {},
     "output_type": "execute_result"
    }
   ],
   "source": [
    "kmdf[kmdf['Cluster']==3]['Category'].value_counts()"
   ]
  },
  {
   "cell_type": "code",
   "execution_count": 247,
   "metadata": {},
   "outputs": [
    {
     "data": {
      "text/html": [
       "<div>\n",
       "<style scoped>\n",
       "    .dataframe tbody tr th:only-of-type {\n",
       "        vertical-align: middle;\n",
       "    }\n",
       "\n",
       "    .dataframe tbody tr th {\n",
       "        vertical-align: top;\n",
       "    }\n",
       "\n",
       "    .dataframe thead th {\n",
       "        text-align: right;\n",
       "    }\n",
       "</style>\n",
       "<table border=\"1\" class=\"dataframe\">\n",
       "  <thead>\n",
       "    <tr style=\"text-align: right;\">\n",
       "      <th></th>\n",
       "      <th></th>\n",
       "      <th>Category</th>\n",
       "    </tr>\n",
       "    <tr>\n",
       "      <th>Cluster</th>\n",
       "      <th>Geographical zone</th>\n",
       "      <th></th>\n",
       "    </tr>\n",
       "  </thead>\n",
       "  <tbody>\n",
       "    <tr>\n",
       "      <th rowspan=\"4\" valign=\"top\">0</th>\n",
       "      <th>Africa</th>\n",
       "      <td>9</td>\n",
       "    </tr>\n",
       "    <tr>\n",
       "      <th>Arabia</th>\n",
       "      <td>11</td>\n",
       "    </tr>\n",
       "    <tr>\n",
       "      <th>Australia</th>\n",
       "      <td>2</td>\n",
       "    </tr>\n",
       "    <tr>\n",
       "      <th>South America</th>\n",
       "      <td>480</td>\n",
       "    </tr>\n",
       "    <tr>\n",
       "      <th rowspan=\"3\" valign=\"top\">1</th>\n",
       "      <th>Africa</th>\n",
       "      <td>1</td>\n",
       "    </tr>\n",
       "    <tr>\n",
       "      <th>Arabia</th>\n",
       "      <td>3</td>\n",
       "    </tr>\n",
       "    <tr>\n",
       "      <th>Asia</th>\n",
       "      <td>118</td>\n",
       "    </tr>\n",
       "    <tr>\n",
       "      <th>2</th>\n",
       "      <th>West Europe</th>\n",
       "      <td>108</td>\n",
       "    </tr>\n",
       "    <tr>\n",
       "      <th>3</th>\n",
       "      <th>East Europe</th>\n",
       "      <td>94</td>\n",
       "    </tr>\n",
       "    <tr>\n",
       "      <th>4</th>\n",
       "      <th>North America</th>\n",
       "      <td>75</td>\n",
       "    </tr>\n",
       "  </tbody>\n",
       "</table>\n",
       "</div>"
      ],
      "text/plain": [
       "                           Category\n",
       "Cluster Geographical zone          \n",
       "0       Africa                    9\n",
       "        Arabia                   11\n",
       "        Australia                 2\n",
       "        South America           480\n",
       "1       Africa                    1\n",
       "        Arabia                    3\n",
       "        Asia                    118\n",
       "2       West Europe             108\n",
       "3       East Europe              94\n",
       "4       North America            75"
      ]
     },
     "execution_count": 247,
     "metadata": {},
     "output_type": "execute_result"
    }
   ],
   "source": [
    "kmdf.groupby(['Cluster','Geographical zone']).count()"
   ]
  },
  {
   "cell_type": "markdown",
   "metadata": {},
   "source": [
    "# KMEDOIDS"
   ]
  },
  {
   "cell_type": "code",
   "execution_count": 190,
   "metadata": {},
   "outputs": [],
   "source": [
    "from pyclustering.cluster.kmedoids import kmedoids\n"
   ]
  },
  {
   "cell_type": "code",
   "execution_count": 206,
   "metadata": {},
   "outputs": [],
   "source": [
    "initial_medoids = [1, 100, 200,500]\n",
    "kmedoids_instance=kmedoids(minmax,initial_medoids)\n",
    "kmedoids_instance.process()\n",
    "clusters = kmedoids_instance.get_clusters()"
   ]
  },
  {
   "cell_type": "code",
   "execution_count": 292,
   "metadata": {},
   "outputs": [
    {
     "data": {
      "text/plain": [
       "<type_encoding.CLUSTER_INDEX_LIST_SEPARATION: 1>"
      ]
     },
     "execution_count": 292,
     "metadata": {},
     "output_type": "execute_result"
    }
   ],
   "source": [
    "kmedoids_instance.get_cluster_encoding()"
   ]
  },
  {
   "cell_type": "code",
   "execution_count": 286,
   "metadata": {},
   "outputs": [
    {
     "data": {
      "text/plain": [
       "148"
      ]
     },
     "execution_count": 286,
     "metadata": {},
     "output_type": "execute_result"
    }
   ],
   "source": [
    "len(clusters[3])"
   ]
  },
  {
   "cell_type": "code",
   "execution_count": 148,
   "metadata": {},
   "outputs": [],
   "source": [
    "from pyclustering.cluster.clarans import clarans;\n",
    "from pyclustering.utils import timedcall;"
   ]
  },
  {
   "cell_type": "code",
   "execution_count": 181,
   "metadata": {},
   "outputs": [
    {
     "data": {
      "text/plain": [
       "172"
      ]
     },
     "execution_count": 181,
     "metadata": {},
     "output_type": "execute_result"
    }
   ],
   "source": [
    "len(clusters[3])"
   ]
  },
  {
   "cell_type": "markdown",
   "metadata": {},
   "source": [
    "# CLARANS"
   ]
  },
  {
   "cell_type": "code",
   "execution_count": 166,
   "metadata": {},
   "outputs": [
    {
     "name": "stdout",
     "output_type": "stream",
     "text": [
      "Sample:  [[0.00531574 0.6266675  0.11818078 0.03427846 0.22167766]\n",
      " [0.09631269 0.67689075 0.01833266 1.         0.15268615]\n",
      " [0.03353766 0.56930228 0.10104283 0.12907321 1.        ]\n",
      " ...\n",
      " [0.12216116 0.66973984 0.0526736  1.         0.22167766]\n",
      " [0.01016783 0.62998477 0.         0.00677105 0.22167766]\n",
      " [0.02270891 0.24307086 0.09295147 1.         0.19245994]] \t\tExecution time:  194.3906532000001 \n",
      "\n"
     ]
    },
    {
     "ename": "NameError",
     "evalue": "Drawer supports only 2d and 3d data representation",
     "output_type": "error",
     "traceback": [
      "\u001b[1;31m---------------------------------------------------------------------------\u001b[0m",
      "\u001b[1;31mNameError\u001b[0m                                 Traceback (most recent call last)",
      "\u001b[1;32m<ipython-input-166-777bab386e3d>\u001b[0m in \u001b[0;36m<module>\u001b[1;34m\u001b[0m\n\u001b[0;32m     11\u001b[0m \u001b[1;33m\u001b[0m\u001b[0m\n\u001b[0;32m     12\u001b[0m \u001b[0mclusters\u001b[0m \u001b[1;33m=\u001b[0m \u001b[0mclarans_instance\u001b[0m\u001b[1;33m.\u001b[0m\u001b[0mget_clusters\u001b[0m\u001b[1;33m(\u001b[0m\u001b[1;33m)\u001b[0m\u001b[1;33m;\u001b[0m\u001b[1;33m\u001b[0m\u001b[1;33m\u001b[0m\u001b[0m\n\u001b[1;32m---> 13\u001b[1;33m \u001b[0mdraw_clusters\u001b[0m\u001b[1;33m(\u001b[0m\u001b[0msample\u001b[0m\u001b[1;33m,\u001b[0m \u001b[0mclusters\u001b[0m\u001b[1;33m)\u001b[0m\u001b[1;33m;\u001b[0m\u001b[1;33m\u001b[0m\u001b[1;33m\u001b[0m\u001b[0m\n\u001b[0m",
      "\u001b[1;32m~\\anaconda3\\lib\\site-packages\\pyclustering\\utils\\__init__.py\u001b[0m in \u001b[0;36mdraw_clusters\u001b[1;34m(data, clusters, noise, marker_descr, hide_axes, axes, display_result)\u001b[0m\n\u001b[0;32m    791\u001b[0m             \u001b[0maxes\u001b[0m \u001b[1;33m=\u001b[0m \u001b[0mfig\u001b[0m\u001b[1;33m.\u001b[0m\u001b[0mgca\u001b[0m\u001b[1;33m(\u001b[0m\u001b[0mprojection\u001b[0m\u001b[1;33m=\u001b[0m\u001b[1;34m'3d'\u001b[0m\u001b[1;33m)\u001b[0m\u001b[1;33m;\u001b[0m\u001b[1;33m\u001b[0m\u001b[1;33m\u001b[0m\u001b[0m\n\u001b[0;32m    792\u001b[0m         \u001b[1;32melse\u001b[0m\u001b[1;33m:\u001b[0m\u001b[1;33m\u001b[0m\u001b[1;33m\u001b[0m\u001b[0m\n\u001b[1;32m--> 793\u001b[1;33m             \u001b[1;32mraise\u001b[0m \u001b[0mNameError\u001b[0m\u001b[1;33m(\u001b[0m\u001b[1;34m'Drawer supports only 2d and 3d data representation'\u001b[0m\u001b[1;33m)\u001b[0m\u001b[1;33m;\u001b[0m\u001b[1;33m\u001b[0m\u001b[1;33m\u001b[0m\u001b[0m\n\u001b[0m\u001b[0;32m    794\u001b[0m \u001b[1;33m\u001b[0m\u001b[0m\n\u001b[0;32m    795\u001b[0m     \u001b[0mcolor_index\u001b[0m \u001b[1;33m=\u001b[0m \u001b[1;36m0\u001b[0m\u001b[1;33m;\u001b[0m\u001b[1;33m\u001b[0m\u001b[1;33m\u001b[0m\u001b[0m\n",
      "\u001b[1;31mNameError\u001b[0m: Drawer supports only 2d and 3d data representation"
     ]
    },
    {
     "data": {
      "text/plain": [
       "<Figure size 576x396 with 0 Axes>"
      ]
     },
     "metadata": {},
     "output_type": "display_data"
    }
   ],
   "source": [
    "from pyclustering.cluster.clarans import clarans;\n",
    "\n",
    "from pyclustering.utils import read_sample;\n",
    "from pyclustering.utils import draw_clusters;\n",
    "from pyclustering.utils import timedcall;\n",
    "\n",
    "clarans_instance = clarans(minmax, 4, 5, 8);\n",
    "(ticks, result) = timedcall(clarans_instance.process);\n",
    "\n",
    "print(\"Sample: \", minmax, \"\\t\\tExecution time: \", ticks, \"\\n\");\n",
    "\n",
    "clusters = clarans_instance.get_clusters();\n",
    "draw_clusters(sample, clusters);"
   ]
  },
  {
   "cell_type": "markdown",
   "metadata": {},
   "source": [
    "### EXTERNAL VALIDATION"
   ]
  },
  {
   "cell_type": "code",
   "execution_count": 172,
   "metadata": {},
   "outputs": [],
   "source": [
    "train = groupby_domains.copy()\n",
    "train['Cluster'] = clusters['Cluster']\n",
    "train.drop(['Domain', 'Category', 'Country','Geographical zone'],1, inplace=True)"
   ]
  },
  {
   "cell_type": "code",
   "execution_count": 173,
   "metadata": {},
   "outputs": [],
   "source": [
    "X = train.drop('Cluster', 1)\n",
    "y = train['Cluster']\n",
    "\n",
    "from sklearn.model_selection import train_test_split\n",
    "X_train,X_test,y_train,y_test=train_test_split(X,y,test_size=0.4)\n",
    "\n",
    "robustscaler = RobustScaler()\n",
    "X_train_robust = robustscaler.fit_transform(X_train)\n",
    "X_test_robust = robustscaler.fit_transform(X_test)\n"
   ]
  },
  {
   "cell_type": "code",
   "execution_count": 174,
   "metadata": {},
   "outputs": [
    {
     "name": "stdout",
     "output_type": "stream",
     "text": [
      "TRAIN SCORES: 0.6944444444444444 TEST SCORE: 0.3185595567867036\n",
      "CLASSIFICATION REPORT:\n",
      "               precision    recall  f1-score   support\n",
      "\n",
      "           1       0.16      0.36      0.22        61\n",
      "           2       0.42      0.80      0.55       116\n",
      "           3       0.00      0.00      0.00       107\n",
      "           4       0.00      0.00      0.00        77\n",
      "\n",
      "    accuracy                           0.32       361\n",
      "   macro avg       0.14      0.29      0.19       361\n",
      "weighted avg       0.16      0.32      0.21       361\n",
      "\n",
      "CONFUSION MATRIX:\n",
      " col_0     1   2\n",
      "Cluster        \n",
      "1        22  39\n",
      "2        23  93\n",
      "3        68  39\n",
      "4        27  50\n"
     ]
    },
    {
     "name": "stderr",
     "output_type": "stream",
     "text": [
      "C:\\Users\\Usuario\\anaconda3\\lib\\site-packages\\sklearn\\metrics\\_classification.py:1272: UndefinedMetricWarning: Precision and F-score are ill-defined and being set to 0.0 in labels with no predicted samples. Use `zero_division` parameter to control this behavior.\n",
      "  _warn_prf(average, modifier, msg_start, len(result))\n"
     ]
    }
   ],
   "source": [
    "from sklearn.tree import DecisionTreeClassifier\n",
    "from sklearn.metrics import classification_report\n",
    "from sklearn.metrics import recall_score\n",
    "\n",
    "tree=DecisionTreeClassifier(max_depth=2).fit(X_train_robust,y_train)\n",
    "y_pred=tree.predict(X_test_robust)\n",
    "print('TRAIN SCORES:',tree.score(X_train_robust,y_train), 'TEST SCORE:', tree.score(X_test_robust,y_test))\n",
    "print('CLASSIFICATION REPORT:\\n', classification_report(y_test,y_pred))\n",
    "print('CONFUSION MATRIX:\\n', pd.crosstab(y_test,y_pred))"
   ]
  }
 ],
 "metadata": {
  "kernelspec": {
   "display_name": "Python 3",
   "language": "python",
   "name": "python3"
  },
  "language_info": {
   "codemirror_mode": {
    "name": "ipython",
    "version": 3
   },
   "file_extension": ".py",
   "mimetype": "text/x-python",
   "name": "python",
   "nbconvert_exporter": "python",
   "pygments_lexer": "ipython3",
   "version": "3.7.6"
  }
 },
 "nbformat": 4,
 "nbformat_minor": 4
}
