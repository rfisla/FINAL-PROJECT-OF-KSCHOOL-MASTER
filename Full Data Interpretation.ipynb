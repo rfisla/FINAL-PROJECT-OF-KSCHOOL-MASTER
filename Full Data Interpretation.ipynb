{
 "cells": [
  {
   "cell_type": "markdown",
   "metadata": {},
   "source": [
    "# FULL DATA INTERPRETATION"
   ]
  },
  {
   "cell_type": "markdown",
   "metadata": {},
   "source": [
    "### In this notebook I´ll apply the code that I tested in the Initial Data interpretation notebook, with the whole dataset "
   ]
  },
  {
   "cell_type": "code",
   "execution_count": 5,
   "metadata": {},
   "outputs": [],
   "source": [
    "import pandas as pd\n",
    "import numpy as np\n",
    "import matplotlib.pyplot as plt\n",
    "import seaborn as sns\n",
    "\n",
    "pd.options.display.float_format = '{:.2f}'.format #So the numbers will not appear in a scientific format"
   ]
  },
  {
   "cell_type": "markdown",
   "metadata": {},
   "source": [
    "- Concatenation of the 3 datasets that shows the data of the last 9 months, from October to July. \n",
    "\n",
    "*It´ll be updated with the data until September later on"
   ]
  },
  {
   "cell_type": "code",
   "execution_count": 7,
   "metadata": {},
   "outputs": [
    {
     "name": "stdout",
     "output_type": "stream",
     "text": [
      "(185523, 22) (222676, 22) (241940, 22)\n"
     ]
    }
   ],
   "source": [
    "chunk1=pd.read_csv(\"Data From October 2019 to Jan 2020.csv\", thousands='.',parse_dates=['Time'])\n",
    "chunk2=pd.read_csv(\"Data From Jan to April 2020.csv\", thousands='.',parse_dates=['Time'])\n",
    "chunk3=pd.read_csv(\"Data From April to July 2020.csv\", thousands='.',parse_dates=['Time'])\n",
    "print(chunk1.shape, chunk2.shape, chunk3.shape)"
   ]
  },
  {
   "cell_type": "code",
   "execution_count": 8,
   "metadata": {},
   "outputs": [
    {
     "data": {
      "text/plain": [
       "(650139, 22)"
      ]
     },
     "execution_count": 8,
     "metadata": {},
     "output_type": "execute_result"
    }
   ],
   "source": [
    "data = pd.concat([chunk1,chunk2,chunk3])\n",
    "data.shape"
   ]
  },
  {
   "cell_type": "code",
   "execution_count": 9,
   "metadata": {},
   "outputs": [
    {
     "data": {
      "text/plain": [
       "Time                                     0\n",
       "Domain                                 275\n",
       "Opportunities                            0\n",
       "Format Loads                         28164\n",
       "Format Fill Rate                     28164\n",
       "Impressions                              0\n",
       "Viewable Impressions                     0\n",
       "Viewability Measured Impressions         0\n",
       "Viewability Rate                    334524\n",
       "Fill Rate                                0\n",
       "Efficiency Rate                          0\n",
       "CPM                                      0\n",
       "Cost                                     0\n",
       "Profit                                   0\n",
       "Revenue                                  0\n",
       "Profit Margin                            0\n",
       "Clicks                                   0\n",
       "CTR                                      0\n",
       "25% View Rate                            0\n",
       "50% View Rate                            0\n",
       "75% View Rate                            0\n",
       "100% View Rate                           0\n",
       "dtype: int64"
      ]
     },
     "execution_count": 9,
     "metadata": {},
     "output_type": "execute_result"
    }
   ],
   "source": [
    "data.isnull().sum()"
   ]
  },
  {
   "cell_type": "markdown",
   "metadata": {},
   "source": [
    "I drop all the Domains that don´t have info about the format Loads and the Domain. With the filters I´ll apply later the\n",
    "Null values of the Viewability Rate will be rejected"
   ]
  },
  {
   "cell_type": "code",
   "execution_count": 10,
   "metadata": {},
   "outputs": [],
   "source": [
    "data = data.dropna(subset =['Format Loads','Format Fill Rate', 'Domain'])"
   ]
  },
  {
   "cell_type": "markdown",
   "metadata": {},
   "source": [
    "- 1: Dropping the columns that don´t add value to the advertisers\n",
    "- 2: Converting numeric columns with ' , ' into integers\n",
    "- 3: Converting columns with '%' , '$' and ',' into floats"
   ]
  },
  {
   "cell_type": "code",
   "execution_count": 11,
   "metadata": {},
   "outputs": [],
   "source": [
    "#1\n",
    "data.drop(['Opportunities','Viewable Impressions','Viewability Measured Impressions','Fill Rate', 'Cost','Profit',\n",
    "           'Revenue','Profit Margin'],axis=1, inplace=True)\n",
    "\n",
    "#2\n",
    "data['Format Loads'] = data['Format Loads'].str.replace(\",\", \"\").astype(int)\n",
    "data['Impressions'] = data['Impressions'].str.replace(\",\", \"\").astype(int)\n",
    "data['Clicks'] = data['Clicks'].str.replace(\",\", \"\").astype(int)\n",
    "\n",
    "#3\n",
    "data['Format Fill Rate'] = data['Format Fill Rate'].str.replace(\"%\", \"\").astype(float)\n",
    "data['Viewability Rate'] = data['Viewability Rate'].str.replace(\"%\", \"\").astype(float).fillna(0)\n",
    "data['Efficiency Rate'] = data['Efficiency Rate'].str.replace(\"%\", \"\").astype(float)\n",
    "data['CPM'] = data['CPM'].str.replace(\"$\", \"\").astype(float)\n",
    "data['CTR'] = data['CTR'].str.replace(\"%\", \"\").astype(float)\n",
    "data['25% View Rate'] = data['25% View Rate'].str.replace(\"%\", \"\").astype(float)\n",
    "data['50% View Rate'] = data['50% View Rate'].str.replace(\"%\", \"\").astype(float)\n",
    "data['75% View Rate'] = data['75% View Rate'].str.replace(\"%\", \"\").astype(float)\n",
    "data['100% View Rate'] = data['100% View Rate'].str.replace(\"%\", \"\").astype(float)"
   ]
  },
  {
   "cell_type": "code",
   "execution_count": 12,
   "metadata": {},
   "outputs": [
    {
     "data": {
      "text/plain": [
       "Time                0\n",
       "Domain              0\n",
       "Format Loads        0\n",
       "Format Fill Rate    0\n",
       "Impressions         0\n",
       "Viewability Rate    0\n",
       "Efficiency Rate     0\n",
       "CPM                 0\n",
       "Clicks              0\n",
       "CTR                 0\n",
       "25% View Rate       0\n",
       "50% View Rate       0\n",
       "75% View Rate       0\n",
       "100% View Rate      0\n",
       "dtype: int64"
      ]
     },
     "execution_count": 12,
     "metadata": {},
     "output_type": "execute_result"
    }
   ],
   "source": [
    "data.isnull().sum()"
   ]
  },
  {
   "cell_type": "code",
   "execution_count": 13,
   "metadata": {},
   "outputs": [
    {
     "name": "stdout",
     "output_type": "stream",
     "text": [
      "19129\n",
      "(621700, 14)\n"
     ]
    }
   ],
   "source": [
    "print(len(data['Domain'].unique()))\n",
    "print(data.shape)\n"
   ]
  },
  {
   "cell_type": "markdown",
   "metadata": {},
   "source": [
    "### **I´ll keep the rows with more than 70000 Format Loads. It´s the filter to consider a domain representative**\n"
   ]
  },
  {
   "cell_type": "code",
   "execution_count": 14,
   "metadata": {},
   "outputs": [
    {
     "name": "stdout",
     "output_type": "stream",
     "text": [
      "818\n",
      "(60637, 14)\n"
     ]
    }
   ],
   "source": [
    "data = data[data['Format Loads']>70000]\n",
    "print(len(data['Domain'].unique()))\n",
    "print(data.shape)"
   ]
  },
  {
   "cell_type": "markdown",
   "metadata": {},
   "source": [
    "- **We have 818 Domains**"
   ]
  },
  {
   "cell_type": "markdown",
   "metadata": {},
   "source": [
    "- I´m going to create the DataFrame that I´ll use later to apply the K-Means Algorithm and divide the Domains into differente clusters, grouping by Domain, and calculating the mean of each variable based on the daily data of the last 9 months"
   ]
  },
  {
   "cell_type": "code",
   "execution_count": 15,
   "metadata": {},
   "outputs": [
    {
     "name": "stdout",
     "output_type": "stream",
     "text": [
      "(818, 13)\n"
     ]
    }
   ],
   "source": [
    "groupby_domains = data.groupby(['Domain']).agg({'Format Loads':np.mean,\n",
    "                                'Impressions':np.mean,\n",
    "                                'Format Fill Rate':np.mean,\n",
    "                                'Viewability Rate':np.mean,\n",
    "                                'Efficiency Rate':np.mean,\n",
    "                                'CPM':np.mean,\n",
    "                                'Clicks':np.mean,\n",
    "                                'CTR':np.mean,\n",
    "                                '25% View Rate':np.mean,\n",
    "                                '50% View Rate':np.mean,\n",
    "                                '75% View Rate':np.mean,\n",
    "                                '100% View Rate':np.mean\n",
    "                                }).sort_values( by= 'Format Loads',ascending=False).reset_index()\n",
    "print(groupby_domains.shape)"
   ]
  },
  {
   "cell_type": "markdown",
   "metadata": {},
   "source": [
    "# NEW VARIABLES"
   ]
  },
  {
   "cell_type": "markdown",
   "metadata": {},
   "source": [
    "### ADDING THE CATEGORY OF THE DOMAIN THROUGH A NEW TABLE"
   ]
  },
  {
   "cell_type": "code",
   "execution_count": 16,
   "metadata": {},
   "outputs": [
    {
     "name": "stdout",
     "output_type": "stream",
     "text": [
      "52 categories\n",
      "19\n"
     ]
    }
   ],
   "source": [
    "categories = pd.read_csv('Index Exchange Quality Inventory Mapping - Existing Acccount-Reseller-Domains - Compliance (1).csv')\n",
    "categories.columns = ['Unnamed: 0', 'Partner/Seller Name', 'Partner/Seller ID',\n",
    "       'Inventory Relationship\\n(select from dropdown)', 'Domain',\n",
    "       'Category', 'Monthly Volume', 'Ad Formats',\n",
    "       'Banner/Player Dimensions']\n",
    "\n",
    "print(len(categories['Category'].unique()), 'categories')\n",
    "\n",
    "import re\n",
    "pattern = '>'\n",
    "renamed_categories = []\n",
    "for string in categories['Category']:\n",
    "    text = string\n",
    "    match = re.search(pattern, text)\n",
    "    s = match.start()\n",
    "    renamed_categories.append(string[:s])\n",
    "categories['Category'] = categories['Category'].replace(categories['Category'].values, renamed_categories )\n",
    "categories['Category'] = categories['Category'].map(lambda x: x.strip()) # to reomve the blank space in the end of the strings\n",
    "\n",
    "print(len(categories['Category'].unique()))"
   ]
  },
  {
   "cell_type": "code",
   "execution_count": 17,
   "metadata": {},
   "outputs": [],
   "source": [
    "categories_importance = pd.DataFrame(categories.groupby('Category')['Monthly Volume'].sum().sort_values(ascending=False).reset_index())\n",
    "\n",
    "total_formatloads = categories_importance['Monthly Volume'].sum()\n",
    "categories_importance['Category importance'] = categories_importance['Monthly Volume'].apply(lambda x: x/total_formatloads)\n",
    "\n",
    "domains_categories_importance = categories.merge(categories_importance, on='Category')\n",
    "domains_categories_importance = domains_categories_importance[['Domain','Category','Category importance']]"
   ]
  },
  {
   "cell_type": "code",
   "execution_count": 15,
   "metadata": {},
   "outputs": [
    {
     "data": {
      "text/html": [
       "<div>\n",
       "<style scoped>\n",
       "    .dataframe tbody tr th:only-of-type {\n",
       "        vertical-align: middle;\n",
       "    }\n",
       "\n",
       "    .dataframe tbody tr th {\n",
       "        vertical-align: top;\n",
       "    }\n",
       "\n",
       "    .dataframe thead th {\n",
       "        text-align: right;\n",
       "    }\n",
       "</style>\n",
       "<table border=\"1\" class=\"dataframe\">\n",
       "  <thead>\n",
       "    <tr style=\"text-align: right;\">\n",
       "      <th></th>\n",
       "      <th>Time</th>\n",
       "      <th>Domain</th>\n",
       "      <th>Format Loads</th>\n",
       "      <th>Format Fill Rate</th>\n",
       "      <th>Impressions</th>\n",
       "      <th>Viewability Rate</th>\n",
       "      <th>Efficiency Rate</th>\n",
       "      <th>CPM</th>\n",
       "      <th>Clicks</th>\n",
       "      <th>CTR</th>\n",
       "      <th>25% View Rate</th>\n",
       "      <th>50% View Rate</th>\n",
       "      <th>75% View Rate</th>\n",
       "      <th>100% View Rate</th>\n",
       "      <th>Category</th>\n",
       "      <th>Category importance</th>\n",
       "    </tr>\n",
       "  </thead>\n",
       "  <tbody>\n",
       "    <tr>\n",
       "      <th>0</th>\n",
       "      <td>2019-10-01</td>\n",
       "      <td>riovagas.com.br</td>\n",
       "      <td>617493</td>\n",
       "      <td>0.57</td>\n",
       "      <td>3524</td>\n",
       "      <td>52.04</td>\n",
       "      <td>99.66</td>\n",
       "      <td>1.62</td>\n",
       "      <td>11</td>\n",
       "      <td>0.31</td>\n",
       "      <td>65.55</td>\n",
       "      <td>58.20</td>\n",
       "      <td>53.63</td>\n",
       "      <td>48.86</td>\n",
       "      <td>News &amp; Portals</td>\n",
       "      <td>0.59</td>\n",
       "    </tr>\n",
       "    <tr>\n",
       "      <th>1</th>\n",
       "      <td>2019-10-01</td>\n",
       "      <td>ilustrado.cl</td>\n",
       "      <td>111369</td>\n",
       "      <td>16.50</td>\n",
       "      <td>18375</td>\n",
       "      <td>93.24</td>\n",
       "      <td>99.74</td>\n",
       "      <td>1.60</td>\n",
       "      <td>523</td>\n",
       "      <td>2.85</td>\n",
       "      <td>81.12</td>\n",
       "      <td>71.43</td>\n",
       "      <td>63.59</td>\n",
       "      <td>56.15</td>\n",
       "      <td>News &amp; Portals</td>\n",
       "      <td>0.59</td>\n",
       "    </tr>\n",
       "    <tr>\n",
       "      <th>2</th>\n",
       "      <td>2019-10-01</td>\n",
       "      <td>limanowa.in</td>\n",
       "      <td>75407</td>\n",
       "      <td>0.95</td>\n",
       "      <td>718</td>\n",
       "      <td>88.24</td>\n",
       "      <td>98.63</td>\n",
       "      <td>1.58</td>\n",
       "      <td>2</td>\n",
       "      <td>0.28</td>\n",
       "      <td>82.31</td>\n",
       "      <td>71.73</td>\n",
       "      <td>63.93</td>\n",
       "      <td>58.77</td>\n",
       "      <td>NaN</td>\n",
       "      <td>nan</td>\n",
       "    </tr>\n",
       "    <tr>\n",
       "      <th>3</th>\n",
       "      <td>2019-10-01</td>\n",
       "      <td>applealmond.com</td>\n",
       "      <td>97442</td>\n",
       "      <td>15.07</td>\n",
       "      <td>14681</td>\n",
       "      <td>80.93</td>\n",
       "      <td>99.98</td>\n",
       "      <td>1.98</td>\n",
       "      <td>33</td>\n",
       "      <td>0.22</td>\n",
       "      <td>82.89</td>\n",
       "      <td>71.53</td>\n",
       "      <td>64.37</td>\n",
       "      <td>58.64</td>\n",
       "      <td>NaN</td>\n",
       "      <td>nan</td>\n",
       "    </tr>\n",
       "    <tr>\n",
       "      <th>4</th>\n",
       "      <td>2019-10-01</td>\n",
       "      <td>tempo.co</td>\n",
       "      <td>818259</td>\n",
       "      <td>0.36</td>\n",
       "      <td>2926</td>\n",
       "      <td>84.68</td>\n",
       "      <td>97.02</td>\n",
       "      <td>1.72</td>\n",
       "      <td>19</td>\n",
       "      <td>0.65</td>\n",
       "      <td>81.34</td>\n",
       "      <td>73.86</td>\n",
       "      <td>68.11</td>\n",
       "      <td>63.09</td>\n",
       "      <td>News &amp; Portals</td>\n",
       "      <td>0.59</td>\n",
       "    </tr>\n",
       "  </tbody>\n",
       "</table>\n",
       "</div>"
      ],
      "text/plain": [
       "        Time           Domain  Format Loads  Format Fill Rate  Impressions  \\\n",
       "0 2019-10-01  riovagas.com.br        617493              0.57         3524   \n",
       "1 2019-10-01     ilustrado.cl        111369             16.50        18375   \n",
       "2 2019-10-01      limanowa.in         75407              0.95          718   \n",
       "3 2019-10-01  applealmond.com         97442             15.07        14681   \n",
       "4 2019-10-01         tempo.co        818259              0.36         2926   \n",
       "\n",
       "   Viewability Rate  Efficiency Rate  CPM  Clicks  CTR  25% View Rate  \\\n",
       "0             52.04            99.66 1.62      11 0.31          65.55   \n",
       "1             93.24            99.74 1.60     523 2.85          81.12   \n",
       "2             88.24            98.63 1.58       2 0.28          82.31   \n",
       "3             80.93            99.98 1.98      33 0.22          82.89   \n",
       "4             84.68            97.02 1.72      19 0.65          81.34   \n",
       "\n",
       "   50% View Rate  75% View Rate  100% View Rate        Category  \\\n",
       "0          58.20          53.63           48.86  News & Portals   \n",
       "1          71.43          63.59           56.15  News & Portals   \n",
       "2          71.73          63.93           58.77             NaN   \n",
       "3          71.53          64.37           58.64             NaN   \n",
       "4          73.86          68.11           63.09  News & Portals   \n",
       "\n",
       "   Category importance  \n",
       "0                 0.59  \n",
       "1                 0.59  \n",
       "2                  nan  \n",
       "3                  nan  \n",
       "4                 0.59  "
      ]
     },
     "metadata": {},
     "output_type": "display_data"
    },
    {
     "data": {
      "text/plain": [
       "Time                       0\n",
       "Domain                     0\n",
       "Format Loads               0\n",
       "Format Fill Rate           0\n",
       "Impressions                0\n",
       "Viewability Rate           0\n",
       "Efficiency Rate            0\n",
       "CPM                        0\n",
       "Clicks                     0\n",
       "CTR                        0\n",
       "25% View Rate              0\n",
       "50% View Rate              0\n",
       "75% View Rate              0\n",
       "100% View Rate             0\n",
       "Category               16001\n",
       "Category importance    16001\n",
       "dtype: int64"
      ]
     },
     "execution_count": 15,
     "metadata": {},
     "output_type": "execute_result"
    }
   ],
   "source": [
    "data = data.merge(domains_categories_importance, on='Domain', how='left')\n",
    "display(data.head(5))\n",
    "data.isnull().sum()"
   ]
  },
  {
   "cell_type": "code",
   "execution_count": 16,
   "metadata": {},
   "outputs": [
    {
     "data": {
      "text/html": [
       "<div>\n",
       "<style scoped>\n",
       "    .dataframe tbody tr th:only-of-type {\n",
       "        vertical-align: middle;\n",
       "    }\n",
       "\n",
       "    .dataframe tbody tr th {\n",
       "        vertical-align: top;\n",
       "    }\n",
       "\n",
       "    .dataframe thead th {\n",
       "        text-align: right;\n",
       "    }\n",
       "</style>\n",
       "<table border=\"1\" class=\"dataframe\">\n",
       "  <thead>\n",
       "    <tr style=\"text-align: right;\">\n",
       "      <th></th>\n",
       "      <th>Domain</th>\n",
       "      <th>Format Loads</th>\n",
       "      <th>Impressions</th>\n",
       "      <th>Format Fill Rate</th>\n",
       "      <th>Viewability Rate</th>\n",
       "      <th>Efficiency Rate</th>\n",
       "      <th>CPM</th>\n",
       "      <th>Clicks</th>\n",
       "      <th>CTR</th>\n",
       "      <th>25% View Rate</th>\n",
       "      <th>50% View Rate</th>\n",
       "      <th>75% View Rate</th>\n",
       "      <th>100% View Rate</th>\n",
       "      <th>Category</th>\n",
       "      <th>Category importance</th>\n",
       "    </tr>\n",
       "  </thead>\n",
       "  <tbody>\n",
       "    <tr>\n",
       "      <th>0</th>\n",
       "      <td>memurlar.net</td>\n",
       "      <td>2849893.77</td>\n",
       "      <td>9517.08</td>\n",
       "      <td>0.72</td>\n",
       "      <td>83.57</td>\n",
       "      <td>91.96</td>\n",
       "      <td>1.58</td>\n",
       "      <td>48.92</td>\n",
       "      <td>0.49</td>\n",
       "      <td>78.32</td>\n",
       "      <td>66.98</td>\n",
       "      <td>59.03</td>\n",
       "      <td>52.54</td>\n",
       "      <td>Health &amp; Wellness</td>\n",
       "      <td>0.02</td>\n",
       "    </tr>\n",
       "    <tr>\n",
       "      <th>1</th>\n",
       "      <td>missyusa.com</td>\n",
       "      <td>2421029.77</td>\n",
       "      <td>152692.65</td>\n",
       "      <td>8.35</td>\n",
       "      <td>77.46</td>\n",
       "      <td>98.25</td>\n",
       "      <td>1.71</td>\n",
       "      <td>125.82</td>\n",
       "      <td>0.08</td>\n",
       "      <td>74.68</td>\n",
       "      <td>60.76</td>\n",
       "      <td>51.52</td>\n",
       "      <td>44.55</td>\n",
       "      <td>News &amp; Portals</td>\n",
       "      <td>0.59</td>\n",
       "    </tr>\n",
       "    <tr>\n",
       "      <th>2</th>\n",
       "      <td>1news.com.br</td>\n",
       "      <td>2149754.21</td>\n",
       "      <td>301154.43</td>\n",
       "      <td>13.62</td>\n",
       "      <td>88.50</td>\n",
       "      <td>99.56</td>\n",
       "      <td>1.62</td>\n",
       "      <td>1278.98</td>\n",
       "      <td>0.44</td>\n",
       "      <td>91.91</td>\n",
       "      <td>87.12</td>\n",
       "      <td>82.62</td>\n",
       "      <td>74.32</td>\n",
       "      <td>NaN</td>\n",
       "      <td>nan</td>\n",
       "    </tr>\n",
       "    <tr>\n",
       "      <th>3</th>\n",
       "      <td>bitbol.la</td>\n",
       "      <td>1186814.67</td>\n",
       "      <td>38132.18</td>\n",
       "      <td>3.70</td>\n",
       "      <td>90.56</td>\n",
       "      <td>93.34</td>\n",
       "      <td>1.50</td>\n",
       "      <td>162.41</td>\n",
       "      <td>0.40</td>\n",
       "      <td>81.16</td>\n",
       "      <td>70.75</td>\n",
       "      <td>62.21</td>\n",
       "      <td>53.26</td>\n",
       "      <td>NaN</td>\n",
       "      <td>nan</td>\n",
       "    </tr>\n",
       "    <tr>\n",
       "      <th>4</th>\n",
       "      <td>plantaoaovivo.com.br</td>\n",
       "      <td>1171509.48</td>\n",
       "      <td>37095.63</td>\n",
       "      <td>2.89</td>\n",
       "      <td>91.65</td>\n",
       "      <td>96.04</td>\n",
       "      <td>1.62</td>\n",
       "      <td>241.97</td>\n",
       "      <td>1.06</td>\n",
       "      <td>84.00</td>\n",
       "      <td>75.06</td>\n",
       "      <td>67.18</td>\n",
       "      <td>60.36</td>\n",
       "      <td>Community &amp; Culture</td>\n",
       "      <td>0.07</td>\n",
       "    </tr>\n",
       "  </tbody>\n",
       "</table>\n",
       "</div>"
      ],
      "text/plain": [
       "                 Domain  Format Loads  Impressions  Format Fill Rate  \\\n",
       "0          memurlar.net    2849893.77      9517.08              0.72   \n",
       "1          missyusa.com    2421029.77    152692.65              8.35   \n",
       "2          1news.com.br    2149754.21    301154.43             13.62   \n",
       "3             bitbol.la    1186814.67     38132.18              3.70   \n",
       "4  plantaoaovivo.com.br    1171509.48     37095.63              2.89   \n",
       "\n",
       "   Viewability Rate  Efficiency Rate  CPM  Clicks  CTR  25% View Rate  \\\n",
       "0             83.57            91.96 1.58   48.92 0.49          78.32   \n",
       "1             77.46            98.25 1.71  125.82 0.08          74.68   \n",
       "2             88.50            99.56 1.62 1278.98 0.44          91.91   \n",
       "3             90.56            93.34 1.50  162.41 0.40          81.16   \n",
       "4             91.65            96.04 1.62  241.97 1.06          84.00   \n",
       "\n",
       "   50% View Rate  75% View Rate  100% View Rate             Category  \\\n",
       "0          66.98          59.03           52.54    Health & Wellness   \n",
       "1          60.76          51.52           44.55       News & Portals   \n",
       "2          87.12          82.62           74.32                  NaN   \n",
       "3          70.75          62.21           53.26                  NaN   \n",
       "4          75.06          67.18           60.36  Community & Culture   \n",
       "\n",
       "   Category importance  \n",
       "0                 0.02  \n",
       "1                 0.59  \n",
       "2                  nan  \n",
       "3                  nan  \n",
       "4                 0.07  "
      ]
     },
     "metadata": {},
     "output_type": "display_data"
    },
    {
     "data": {
      "text/plain": [
       "Domain                   0\n",
       "Format Loads             0\n",
       "Impressions              0\n",
       "Format Fill Rate         0\n",
       "Viewability Rate         0\n",
       "Efficiency Rate          0\n",
       "CPM                      0\n",
       "Clicks                   0\n",
       "CTR                      0\n",
       "25% View Rate            0\n",
       "50% View Rate            0\n",
       "75% View Rate            0\n",
       "100% View Rate           0\n",
       "Category               393\n",
       "Category importance    393\n",
       "dtype: int64"
      ]
     },
     "execution_count": 16,
     "metadata": {},
     "output_type": "execute_result"
    }
   ],
   "source": [
    "groupby_domains = groupby_domains.merge(domains_categories_importance, on='Domain', how ='left')\n",
    "display(groupby_domains.head(5))\n",
    "groupby_domains.isnull().sum()"
   ]
  },
  {
   "cell_type": "markdown",
   "metadata": {},
   "source": [
    "## **The new table is not updated and there are 393 domains that are not on it. I consider the Category column could add value to the final model, so I don´t want NANs on it. Because of that I´m gonna manually introduce the category in the Domains without it to have this column filled, and then I´ll merge this with the main DataFrame**"
   ]
  },
  {
   "cell_type": "markdown",
   "metadata": {},
   "source": [
    "- 1: Reading the dataframe with the Nans manually added\n",
    "- 2: Adding to this dataframe the category importance columns\n",
    "- 3: Merging with the dataframe with the domains that didn´t have null category"
   ]
  },
  {
   "cell_type": "code",
   "execution_count": 18,
   "metadata": {},
   "outputs": [],
   "source": [
    "#1 \n",
    "groupby_domains_NANs_corrected = pd.read_csv('groupby_domains_NANs_allcorrected.csv')\n",
    "groupby_domains_NANs_corrected.drop('Unnamed: 0', axis=1, inplace=True)\n",
    "\n",
    "#2\n",
    "groupby_domains_NANs_corrected = groupby_domains_NANs_corrected.merge(categories_importance, on='Category')\n",
    "groupby_domains_NANs_corrected = groupby_domains_NANs_corrected[['Domain','Category','Category importance']]\n",
    "\n",
    "#3\n",
    "categories_by_importance_complete = domains_categories_importance.merge(groupby_domains_NANs_corrected, how = 'outer')\n"
   ]
  },
  {
   "cell_type": "code",
   "execution_count": 19,
   "metadata": {},
   "outputs": [
    {
     "data": {
      "text/html": [
       "<div>\n",
       "<style scoped>\n",
       "    .dataframe tbody tr th:only-of-type {\n",
       "        vertical-align: middle;\n",
       "    }\n",
       "\n",
       "    .dataframe tbody tr th {\n",
       "        vertical-align: top;\n",
       "    }\n",
       "\n",
       "    .dataframe thead th {\n",
       "        text-align: right;\n",
       "    }\n",
       "</style>\n",
       "<table border=\"1\" class=\"dataframe\">\n",
       "  <thead>\n",
       "    <tr style=\"text-align: right;\">\n",
       "      <th></th>\n",
       "      <th>Domain</th>\n",
       "      <th>Format Loads</th>\n",
       "      <th>Format Fill Rate</th>\n",
       "      <th>Impressions</th>\n",
       "      <th>Viewability Rate</th>\n",
       "      <th>Efficiency Rate</th>\n",
       "      <th>CPM</th>\n",
       "      <th>Clicks</th>\n",
       "      <th>CTR</th>\n",
       "      <th>25% View Rate</th>\n",
       "      <th>50% View Rate</th>\n",
       "      <th>75% View Rate</th>\n",
       "      <th>100% View Rate</th>\n",
       "      <th>Category</th>\n",
       "      <th>Category importance</th>\n",
       "    </tr>\n",
       "    <tr>\n",
       "      <th>Time</th>\n",
       "      <th></th>\n",
       "      <th></th>\n",
       "      <th></th>\n",
       "      <th></th>\n",
       "      <th></th>\n",
       "      <th></th>\n",
       "      <th></th>\n",
       "      <th></th>\n",
       "      <th></th>\n",
       "      <th></th>\n",
       "      <th></th>\n",
       "      <th></th>\n",
       "      <th></th>\n",
       "      <th></th>\n",
       "      <th></th>\n",
       "    </tr>\n",
       "  </thead>\n",
       "  <tbody>\n",
       "    <tr>\n",
       "      <th>2019-10-01</th>\n",
       "      <td>riovagas.com.br</td>\n",
       "      <td>617493</td>\n",
       "      <td>0.57</td>\n",
       "      <td>3524</td>\n",
       "      <td>52.04</td>\n",
       "      <td>99.66</td>\n",
       "      <td>1.62</td>\n",
       "      <td>11</td>\n",
       "      <td>0.31</td>\n",
       "      <td>65.55</td>\n",
       "      <td>58.20</td>\n",
       "      <td>53.63</td>\n",
       "      <td>48.86</td>\n",
       "      <td>News &amp; Portals</td>\n",
       "      <td>0.59</td>\n",
       "    </tr>\n",
       "    <tr>\n",
       "      <th>2019-10-01</th>\n",
       "      <td>ilustrado.cl</td>\n",
       "      <td>111369</td>\n",
       "      <td>16.50</td>\n",
       "      <td>18375</td>\n",
       "      <td>93.24</td>\n",
       "      <td>99.74</td>\n",
       "      <td>1.60</td>\n",
       "      <td>523</td>\n",
       "      <td>2.85</td>\n",
       "      <td>81.12</td>\n",
       "      <td>71.43</td>\n",
       "      <td>63.59</td>\n",
       "      <td>56.15</td>\n",
       "      <td>News &amp; Portals</td>\n",
       "      <td>0.59</td>\n",
       "    </tr>\n",
       "    <tr>\n",
       "      <th>2019-10-01</th>\n",
       "      <td>limanowa.in</td>\n",
       "      <td>75407</td>\n",
       "      <td>0.95</td>\n",
       "      <td>718</td>\n",
       "      <td>88.24</td>\n",
       "      <td>98.63</td>\n",
       "      <td>1.58</td>\n",
       "      <td>2</td>\n",
       "      <td>0.28</td>\n",
       "      <td>82.31</td>\n",
       "      <td>71.73</td>\n",
       "      <td>63.93</td>\n",
       "      <td>58.77</td>\n",
       "      <td>News &amp; Portals</td>\n",
       "      <td>0.59</td>\n",
       "    </tr>\n",
       "    <tr>\n",
       "      <th>2019-10-01</th>\n",
       "      <td>applealmond.com</td>\n",
       "      <td>97442</td>\n",
       "      <td>15.07</td>\n",
       "      <td>14681</td>\n",
       "      <td>80.93</td>\n",
       "      <td>99.98</td>\n",
       "      <td>1.98</td>\n",
       "      <td>33</td>\n",
       "      <td>0.22</td>\n",
       "      <td>82.89</td>\n",
       "      <td>71.53</td>\n",
       "      <td>64.37</td>\n",
       "      <td>58.64</td>\n",
       "      <td>Tech &amp; Gaming</td>\n",
       "      <td>0.02</td>\n",
       "    </tr>\n",
       "    <tr>\n",
       "      <th>2019-10-01</th>\n",
       "      <td>tempo.co</td>\n",
       "      <td>818259</td>\n",
       "      <td>0.36</td>\n",
       "      <td>2926</td>\n",
       "      <td>84.68</td>\n",
       "      <td>97.02</td>\n",
       "      <td>1.72</td>\n",
       "      <td>19</td>\n",
       "      <td>0.65</td>\n",
       "      <td>81.34</td>\n",
       "      <td>73.86</td>\n",
       "      <td>68.11</td>\n",
       "      <td>63.09</td>\n",
       "      <td>News &amp; Portals</td>\n",
       "      <td>0.59</td>\n",
       "    </tr>\n",
       "  </tbody>\n",
       "</table>\n",
       "</div>"
      ],
      "text/plain": [
       "                     Domain  Format Loads  Format Fill Rate  Impressions  \\\n",
       "Time                                                                       \n",
       "2019-10-01  riovagas.com.br        617493              0.57         3524   \n",
       "2019-10-01     ilustrado.cl        111369             16.50        18375   \n",
       "2019-10-01      limanowa.in         75407              0.95          718   \n",
       "2019-10-01  applealmond.com         97442             15.07        14681   \n",
       "2019-10-01         tempo.co        818259              0.36         2926   \n",
       "\n",
       "            Viewability Rate  Efficiency Rate  CPM  Clicks  CTR  \\\n",
       "Time                                                              \n",
       "2019-10-01             52.04            99.66 1.62      11 0.31   \n",
       "2019-10-01             93.24            99.74 1.60     523 2.85   \n",
       "2019-10-01             88.24            98.63 1.58       2 0.28   \n",
       "2019-10-01             80.93            99.98 1.98      33 0.22   \n",
       "2019-10-01             84.68            97.02 1.72      19 0.65   \n",
       "\n",
       "            25% View Rate  50% View Rate  75% View Rate  100% View Rate  \\\n",
       "Time                                                                      \n",
       "2019-10-01          65.55          58.20          53.63           48.86   \n",
       "2019-10-01          81.12          71.43          63.59           56.15   \n",
       "2019-10-01          82.31          71.73          63.93           58.77   \n",
       "2019-10-01          82.89          71.53          64.37           58.64   \n",
       "2019-10-01          81.34          73.86          68.11           63.09   \n",
       "\n",
       "                  Category  Category importance  \n",
       "Time                                             \n",
       "2019-10-01  News & Portals                 0.59  \n",
       "2019-10-01  News & Portals                 0.59  \n",
       "2019-10-01  News & Portals                 0.59  \n",
       "2019-10-01   Tech & Gaming                 0.02  \n",
       "2019-10-01  News & Portals                 0.59  "
      ]
     },
     "metadata": {},
     "output_type": "display_data"
    },
    {
     "data": {
      "text/plain": [
       "Domain                 0\n",
       "Format Loads           0\n",
       "Format Fill Rate       0\n",
       "Impressions            0\n",
       "Viewability Rate       0\n",
       "Efficiency Rate        0\n",
       "CPM                    0\n",
       "Clicks                 0\n",
       "CTR                    0\n",
       "25% View Rate          0\n",
       "50% View Rate          0\n",
       "75% View Rate          0\n",
       "100% View Rate         0\n",
       "Category               0\n",
       "Category importance    0\n",
       "dtype: int64"
      ]
     },
     "execution_count": 19,
     "metadata": {},
     "output_type": "execute_result"
    }
   ],
   "source": [
    "data = data.merge(categories_by_importance_complete, on='Domain', how='left')\n",
    "data = data.set_index('Time')\n",
    "display(data.head(5))\n",
    "data.isnull().sum()"
   ]
  },
  {
   "cell_type": "code",
   "execution_count": 20,
   "metadata": {},
   "outputs": [
    {
     "data": {
      "text/html": [
       "<div>\n",
       "<style scoped>\n",
       "    .dataframe tbody tr th:only-of-type {\n",
       "        vertical-align: middle;\n",
       "    }\n",
       "\n",
       "    .dataframe tbody tr th {\n",
       "        vertical-align: top;\n",
       "    }\n",
       "\n",
       "    .dataframe thead th {\n",
       "        text-align: right;\n",
       "    }\n",
       "</style>\n",
       "<table border=\"1\" class=\"dataframe\">\n",
       "  <thead>\n",
       "    <tr style=\"text-align: right;\">\n",
       "      <th></th>\n",
       "      <th>Domain</th>\n",
       "      <th>Format Loads</th>\n",
       "      <th>Impressions</th>\n",
       "      <th>Format Fill Rate</th>\n",
       "      <th>Viewability Rate</th>\n",
       "      <th>Efficiency Rate</th>\n",
       "      <th>CPM</th>\n",
       "      <th>Clicks</th>\n",
       "      <th>CTR</th>\n",
       "      <th>25% View Rate</th>\n",
       "      <th>50% View Rate</th>\n",
       "      <th>75% View Rate</th>\n",
       "      <th>100% View Rate</th>\n",
       "      <th>Category</th>\n",
       "      <th>Category importance</th>\n",
       "    </tr>\n",
       "  </thead>\n",
       "  <tbody>\n",
       "    <tr>\n",
       "      <th>0</th>\n",
       "      <td>memurlar.net</td>\n",
       "      <td>2849893.77</td>\n",
       "      <td>9517.08</td>\n",
       "      <td>0.72</td>\n",
       "      <td>83.57</td>\n",
       "      <td>91.96</td>\n",
       "      <td>1.58</td>\n",
       "      <td>48.92</td>\n",
       "      <td>0.49</td>\n",
       "      <td>78.32</td>\n",
       "      <td>66.98</td>\n",
       "      <td>59.03</td>\n",
       "      <td>52.54</td>\n",
       "      <td>Health &amp; Wellness</td>\n",
       "      <td>0.02</td>\n",
       "    </tr>\n",
       "    <tr>\n",
       "      <th>1</th>\n",
       "      <td>missyusa.com</td>\n",
       "      <td>2421029.77</td>\n",
       "      <td>152692.65</td>\n",
       "      <td>8.35</td>\n",
       "      <td>77.46</td>\n",
       "      <td>98.25</td>\n",
       "      <td>1.71</td>\n",
       "      <td>125.82</td>\n",
       "      <td>0.08</td>\n",
       "      <td>74.68</td>\n",
       "      <td>60.76</td>\n",
       "      <td>51.52</td>\n",
       "      <td>44.55</td>\n",
       "      <td>News &amp; Portals</td>\n",
       "      <td>0.59</td>\n",
       "    </tr>\n",
       "    <tr>\n",
       "      <th>2</th>\n",
       "      <td>1news.com.br</td>\n",
       "      <td>2149754.21</td>\n",
       "      <td>301154.43</td>\n",
       "      <td>13.62</td>\n",
       "      <td>88.50</td>\n",
       "      <td>99.56</td>\n",
       "      <td>1.62</td>\n",
       "      <td>1278.98</td>\n",
       "      <td>0.44</td>\n",
       "      <td>91.91</td>\n",
       "      <td>87.12</td>\n",
       "      <td>82.62</td>\n",
       "      <td>74.32</td>\n",
       "      <td>News &amp; Portals</td>\n",
       "      <td>0.59</td>\n",
       "    </tr>\n",
       "    <tr>\n",
       "      <th>3</th>\n",
       "      <td>bitbol.la</td>\n",
       "      <td>1186814.67</td>\n",
       "      <td>38132.18</td>\n",
       "      <td>3.70</td>\n",
       "      <td>90.56</td>\n",
       "      <td>93.34</td>\n",
       "      <td>1.50</td>\n",
       "      <td>162.41</td>\n",
       "      <td>0.40</td>\n",
       "      <td>81.16</td>\n",
       "      <td>70.75</td>\n",
       "      <td>62.21</td>\n",
       "      <td>53.26</td>\n",
       "      <td>Sports</td>\n",
       "      <td>0.08</td>\n",
       "    </tr>\n",
       "    <tr>\n",
       "      <th>4</th>\n",
       "      <td>plantaoaovivo.com.br</td>\n",
       "      <td>1171509.48</td>\n",
       "      <td>37095.63</td>\n",
       "      <td>2.89</td>\n",
       "      <td>91.65</td>\n",
       "      <td>96.04</td>\n",
       "      <td>1.62</td>\n",
       "      <td>241.97</td>\n",
       "      <td>1.06</td>\n",
       "      <td>84.00</td>\n",
       "      <td>75.06</td>\n",
       "      <td>67.18</td>\n",
       "      <td>60.36</td>\n",
       "      <td>Community &amp; Culture</td>\n",
       "      <td>0.07</td>\n",
       "    </tr>\n",
       "  </tbody>\n",
       "</table>\n",
       "</div>"
      ],
      "text/plain": [
       "                 Domain  Format Loads  Impressions  Format Fill Rate  \\\n",
       "0          memurlar.net    2849893.77      9517.08              0.72   \n",
       "1          missyusa.com    2421029.77    152692.65              8.35   \n",
       "2          1news.com.br    2149754.21    301154.43             13.62   \n",
       "3             bitbol.la    1186814.67     38132.18              3.70   \n",
       "4  plantaoaovivo.com.br    1171509.48     37095.63              2.89   \n",
       "\n",
       "   Viewability Rate  Efficiency Rate  CPM  Clicks  CTR  25% View Rate  \\\n",
       "0             83.57            91.96 1.58   48.92 0.49          78.32   \n",
       "1             77.46            98.25 1.71  125.82 0.08          74.68   \n",
       "2             88.50            99.56 1.62 1278.98 0.44          91.91   \n",
       "3             90.56            93.34 1.50  162.41 0.40          81.16   \n",
       "4             91.65            96.04 1.62  241.97 1.06          84.00   \n",
       "\n",
       "   50% View Rate  75% View Rate  100% View Rate             Category  \\\n",
       "0          66.98          59.03           52.54    Health & Wellness   \n",
       "1          60.76          51.52           44.55       News & Portals   \n",
       "2          87.12          82.62           74.32       News & Portals   \n",
       "3          70.75          62.21           53.26               Sports   \n",
       "4          75.06          67.18           60.36  Community & Culture   \n",
       "\n",
       "   Category importance  \n",
       "0                 0.02  \n",
       "1                 0.59  \n",
       "2                 0.59  \n",
       "3                 0.08  \n",
       "4                 0.07  "
      ]
     },
     "metadata": {},
     "output_type": "display_data"
    },
    {
     "data": {
      "text/plain": [
       "Domain                 0\n",
       "Format Loads           0\n",
       "Impressions            0\n",
       "Format Fill Rate       0\n",
       "Viewability Rate       0\n",
       "Efficiency Rate        0\n",
       "CPM                    0\n",
       "Clicks                 0\n",
       "CTR                    0\n",
       "25% View Rate          0\n",
       "50% View Rate          0\n",
       "75% View Rate          0\n",
       "100% View Rate         0\n",
       "Category               0\n",
       "Category importance    0\n",
       "dtype: int64"
      ]
     },
     "execution_count": 20,
     "metadata": {},
     "output_type": "execute_result"
    }
   ],
   "source": [
    "groupby_domains = groupby_domains.merge(categories_by_importance_complete, on='Domain', how ='left')\n",
    "display(groupby_domains.head(5))\n",
    "groupby_domains.isnull().sum()"
   ]
  },
  {
   "cell_type": "code",
   "execution_count": 24,
   "metadata": {},
   "outputs": [
    {
     "data": {
      "text/plain": [
       "(818, 15)"
      ]
     },
     "execution_count": 24,
     "metadata": {},
     "output_type": "execute_result"
    }
   ],
   "source": [
    "groupby_domains = groupby_domains.drop_duplicates(subset=['Domain'], keep='first').reset_index(drop=True)\n",
    "groupby_domains.shape"
   ]
  },
  {
   "cell_type": "markdown",
   "metadata": {},
   "source": [
    "- **Correction** : The Category importance column is not in the same scale than the rest of percentages i the dataframe,  I have to multiply it by 100.  "
   ]
  },
  {
   "cell_type": "code",
   "execution_count": 10,
   "metadata": {},
   "outputs": [],
   "source": [
    "groupby_domains['Category importance']= groupby_domains['Category importance']*100\n",
    "report['Category importance']= report['Category importance']*100"
   ]
  },
  {
   "cell_type": "code",
   "execution_count": 11,
   "metadata": {},
   "outputs": [],
   "source": [
    "report.to_csv('Global Report.csv', index=True)\n",
    "groupby_domains.to_csv('Global groupby_domains.csv', index=False)"
   ]
  },
  {
   "cell_type": "code",
   "execution_count": null,
   "metadata": {},
   "outputs": [],
   "source": []
  },
  {
   "cell_type": "markdown",
   "metadata": {},
   "source": [
    "### ADDING A COLUMN TO REPRESENT THE RECURRENCE OF THE DOMAIN \n",
    "\n",
    "We have 9 months available, 275 days. Of course it´s not the same a Domain with great rates which is available 5 days, that  a Domain with the same rates but available 50% of the days, so I´m gonna represent this with a percentage, available days divided by the available days\n",
    "\n"
   ]
  },
  {
   "cell_type": "code",
   "execution_count": 6,
   "metadata": {},
   "outputs": [],
   "source": [
    "report = pd.read_csv('Global Report.csv',index_col =['Time'])\n",
    "groupby_domains = pd.read_csv('Global groupby_domains.csv')"
   ]
  },
  {
   "cell_type": "code",
   "execution_count": 65,
   "metadata": {},
   "outputs": [
    {
     "data": {
      "text/html": [
       "<div>\n",
       "<style scoped>\n",
       "    .dataframe tbody tr th:only-of-type {\n",
       "        vertical-align: middle;\n",
       "    }\n",
       "\n",
       "    .dataframe tbody tr th {\n",
       "        vertical-align: top;\n",
       "    }\n",
       "\n",
       "    .dataframe thead th {\n",
       "        text-align: right;\n",
       "    }\n",
       "</style>\n",
       "<table border=\"1\" class=\"dataframe\">\n",
       "  <thead>\n",
       "    <tr style=\"text-align: right;\">\n",
       "      <th></th>\n",
       "      <th>index</th>\n",
       "      <th>Domain</th>\n",
       "    </tr>\n",
       "  </thead>\n",
       "  <tbody>\n",
       "    <tr>\n",
       "      <th>0</th>\n",
       "      <td>elespanol.com</td>\n",
       "      <td>825</td>\n",
       "    </tr>\n",
       "    <tr>\n",
       "      <th>1</th>\n",
       "      <td>correiobraziliense.com.br</td>\n",
       "      <td>275</td>\n",
       "    </tr>\n",
       "    <tr>\n",
       "      <th>2</th>\n",
       "      <td>lostiempos.com</td>\n",
       "      <td>275</td>\n",
       "    </tr>\n",
       "    <tr>\n",
       "      <th>3</th>\n",
       "      <td>rediff.com</td>\n",
       "      <td>275</td>\n",
       "    </tr>\n",
       "    <tr>\n",
       "      <th>4</th>\n",
       "      <td>laverdadnoticias.com</td>\n",
       "      <td>275</td>\n",
       "    </tr>\n",
       "    <tr>\n",
       "      <th>...</th>\n",
       "      <td>...</td>\n",
       "      <td>...</td>\n",
       "    </tr>\n",
       "    <tr>\n",
       "      <th>813</th>\n",
       "      <td>tresinteressant.com</td>\n",
       "      <td>1</td>\n",
       "    </tr>\n",
       "    <tr>\n",
       "      <th>814</th>\n",
       "      <td>ederluiz.com.vc</td>\n",
       "      <td>1</td>\n",
       "    </tr>\n",
       "    <tr>\n",
       "      <th>815</th>\n",
       "      <td>alertabogota.com</td>\n",
       "      <td>1</td>\n",
       "    </tr>\n",
       "    <tr>\n",
       "      <th>816</th>\n",
       "      <td>autonocion.com</td>\n",
       "      <td>1</td>\n",
       "    </tr>\n",
       "    <tr>\n",
       "      <th>817</th>\n",
       "      <td>jaenoticia.com.br</td>\n",
       "      <td>1</td>\n",
       "    </tr>\n",
       "  </tbody>\n",
       "</table>\n",
       "<p>818 rows × 2 columns</p>\n",
       "</div>"
      ],
      "text/plain": [
       "                         index  Domain\n",
       "0                elespanol.com     825\n",
       "1    correiobraziliense.com.br     275\n",
       "2               lostiempos.com     275\n",
       "3                   rediff.com     275\n",
       "4         laverdadnoticias.com     275\n",
       "..                         ...     ...\n",
       "813        tresinteressant.com       1\n",
       "814            ederluiz.com.vc       1\n",
       "815           alertabogota.com       1\n",
       "816             autonocion.com       1\n",
       "817          jaenoticia.com.br       1\n",
       "\n",
       "[818 rows x 2 columns]"
      ]
     },
     "execution_count": 65,
     "metadata": {},
     "output_type": "execute_result"
    }
   ],
   "source": [
    "pd.DataFrame(report['Domain'].value_counts()).reset_index()"
   ]
  },
  {
   "cell_type": "code",
   "execution_count": 66,
   "metadata": {},
   "outputs": [],
   "source": [
    "#Creating a Dataframe with the number of days that each domain appears\n",
    "recurrence = pd.DataFrame(report['Domain'].value_counts()).reset_index()\n",
    "recurrence.columns = ['Domain', 'Recurrence']\n",
    "\n",
    "#List comprehension to assign the levels based on the number of days\n",
    "recurrence['Domain Recurrence'] = [(x/275)*100 for x in recurrence['Recurrence']]\n",
    "recurrence = recurrence[['Domain', 'Domain Recurrence']]\n",
    "\n",
    "#Adding the column to the main Dataframe\n",
    "report = report.reset_index().merge(recurrence, on='Domain', how='left').set_index('Time') \n",
    "groupby_domains = groupby_domains.merge(recurrence, on='Domain', how='left')"
   ]
  },
  {
   "cell_type": "markdown",
   "metadata": {},
   "source": [
    "- For some reason elespanol.com repeteadly appears 3 times every day. As is the same data ecah day it doesn´t affect to its row in the groupby domain dataframe (based on the variable means) but I have to correct it in the report dataframe because it affects in this new variable I´m creating. So I´m gonna manually set the number 100 for this Domain, because it´s available 100% of the days"
   ]
  },
  {
   "cell_type": "code",
   "execution_count": 68,
   "metadata": {},
   "outputs": [],
   "source": [
    "groupby_domains['Domain Recurrence'].replace(300,100,inplace=True)"
   ]
  },
  {
   "cell_type": "code",
   "execution_count": 71,
   "metadata": {},
   "outputs": [],
   "source": [
    "report.to_csv('Global Report.csv',index=True)\n",
    "groupby_domains.to_csv('Global groupby_domains.csv', index=False)"
   ]
  },
  {
   "cell_type": "code",
   "execution_count": 36,
   "metadata": {},
   "outputs": [],
   "source": [
    "report = pd.read_csv('Global Report.csv', index_col=['Time'])\n",
    "groupby_domains = pd.read_csv('Global groupby_domains.csv')"
   ]
  },
  {
   "cell_type": "markdown",
   "metadata": {},
   "source": [
    "## RELATIONSHIP BETWEEN VARIABLES"
   ]
  },
  {
   "cell_type": "code",
   "execution_count": 72,
   "metadata": {},
   "outputs": [
    {
     "data": {
      "text/plain": [
       "<matplotlib.axes._subplots.AxesSubplot at 0x2481c1ac888>"
      ]
     },
     "execution_count": 72,
     "metadata": {},
     "output_type": "execute_result"
    },
    {
     "data": {
      "image/png": "[encoded data removed]",
      "text/plain": [
       "<Figure size 720x720 with 2 Axes>"
      ]
     },
     "metadata": {
      "needs_background": "light"
     },
     "output_type": "display_data"
    }
   ],
   "source": [
    "plt.rcParams['figure.figsize']=(10,10)\n",
    "sns.heatmap(groupby_domains.corr(), annot = True)"
   ]
  },
  {
   "cell_type": "markdown",
   "metadata": {},
   "source": [
    "- **Only the variables about the View Rate percentages are strongly correlated (more than 90%). I´ll  convert these 4 variables into only one**\n",
    "- I decide to only keep the 50% View Rate column. The reason is that the mean variation between the 25% View Rate column and the 50% View Rate column is around 8%, and the mean variation between the 25% View Rate column and the 50% View Rate column is around 11%, so the 50% View Rate column gives the best representation to know in which View Rate ranges the domains are"
   ]
  },
  {
   "cell_type": "code",
   "execution_count": null,
   "metadata": {},
   "outputs": [],
   "source": [
    "report.drop(['25% View Rate','75% View Rate','100% View Rate'],axis=1, inplace=True)\n",
    "groupby_domains.drop(['25% View Rate','75% View Rate','100% View Rate'],axis=1, inplace = True)"
   ]
  },
  {
   "cell_type": "code",
   "execution_count": 40,
   "metadata": {},
   "outputs": [],
   "source": [
    "report.to_csv('Global Report.csv',index=True)\n",
    "groupby_domains.to_csv('Global groupby_domains.csv', index=False)"
   ]
  },
  {
   "cell_type": "markdown",
   "metadata": {},
   "source": [
    "# ANALIZING EACH VARIABLE"
   ]
  },
  {
   "cell_type": "markdown",
   "metadata": {},
   "source": [
    "### Format Loads: traffic generated by each domain"
   ]
  },
  {
   "cell_type": "code",
   "execution_count": 9,
   "metadata": {},
   "outputs": [
    {
     "data": {
      "text/plain": [
       "(array([726.,  64.,  17.,   7.,   1.,   0.,   0.,   1.,   1.,   1.]),\n",
       " array([  70783.        ,  348694.07717391,  626605.15434783,\n",
       "         904516.23152174, 1182427.30869565, 1460338.38586957,\n",
       "        1738249.46304348, 2016160.54021739, 2294071.6173913 ,\n",
       "        2571982.69456522, 2849893.77173913]),\n",
       " <a list of 10 Patch objects>)"
      ]
     },
     "execution_count": 9,
     "metadata": {},
     "output_type": "execute_result"
    },
    {
     "data": {
      "image/png": "[encoded data removed]",
      "text/plain": [
       "<Figure size 432x288 with 1 Axes>"
      ]
     },
     "metadata": {
      "needs_background": "light"
     },
     "output_type": "display_data"
    }
   ],
   "source": [
    "plt.hist(groupby_domains['Format Loads'])"
   ]
  },
  {
   "cell_type": "code",
   "execution_count": null,
   "metadata": {},
   "outputs": [],
   "source": [
    "plt.scatter(groupby_domains['Domain'], groupby_domains['Format Loads'])"
   ]
  },
  {
   "cell_type": "code",
   "execution_count": 11,
   "metadata": {},
   "outputs": [
    {
     "data": {
      "image/png": "[encoded data removed]",
      "text/plain": [
       "<Figure size 432x288 with 1 Axes>"
      ]
     },
     "metadata": {
      "needs_background": "light"
     },
     "output_type": "display_data"
    }
   ],
   "source": [
    "plt.scatter(groupby_domains['Efficiency Rate'], groupby_domains['Format Loads']);"
   ]
  },
  {
   "cell_type": "code",
   "execution_count": 34,
   "metadata": {},
   "outputs": [
    {
     "data": {
      "text/plain": [
       "<matplotlib.axes._subplots.AxesSubplot at 0x1c92112edc8>"
      ]
     },
     "execution_count": 34,
     "metadata": {},
     "output_type": "execute_result"
    },
    {
     "data": {
      "image/png": "[encoded data removed]",
      "text/plain": [
       "<Figure size 432x288 with 1 Axes>"
      ]
     },
     "metadata": {
      "needs_background": "light"
     },
     "output_type": "display_data"
    }
   ],
   "source": [
    "sns.boxplot(groupby_domains['Format Loads'])"
   ]
  },
  {
   "cell_type": "code",
   "execution_count": 35,
   "metadata": {},
   "outputs": [
    {
     "data": {
      "text/plain": [
       "count       825.00\n",
       "mean     190562.66\n",
       "std      214457.35\n",
       "min       70783.00\n",
       "25%       92107.93\n",
       "50%      119842.00\n",
       "75%      197790.17\n",
       "max     2849893.77\n",
       "Name: Format Loads, dtype: float64"
      ]
     },
     "execution_count": 35,
     "metadata": {},
     "output_type": "execute_result"
    }
   ],
   "source": [
    "groupby_domains['Format Loads'].describe()"
   ]
  },
  {
   "cell_type": "code",
   "execution_count": 36,
   "metadata": {},
   "outputs": [
    {
     "data": {
      "text/html": [
       "<div>\n",
       "<style scoped>\n",
       "    .dataframe tbody tr th:only-of-type {\n",
       "        vertical-align: middle;\n",
       "    }\n",
       "\n",
       "    .dataframe tbody tr th {\n",
       "        vertical-align: top;\n",
       "    }\n",
       "\n",
       "    .dataframe thead th {\n",
       "        text-align: right;\n",
       "    }\n",
       "</style>\n",
       "<table border=\"1\" class=\"dataframe\">\n",
       "  <thead>\n",
       "    <tr style=\"text-align: right;\">\n",
       "      <th></th>\n",
       "      <th>Format Loads</th>\n",
       "      <th>Format Fill Rate</th>\n",
       "      <th>Impressions</th>\n",
       "      <th>Viewability Rate</th>\n",
       "      <th>Efficiency Rate</th>\n",
       "      <th>CPM</th>\n",
       "      <th>Clicks</th>\n",
       "      <th>CTR</th>\n",
       "      <th>25% View Rate</th>\n",
       "      <th>50% View Rate</th>\n",
       "      <th>75% View Rate</th>\n",
       "      <th>100% View Rate</th>\n",
       "      <th>Category importance</th>\n",
       "      <th>Domain Recurrence</th>\n",
       "    </tr>\n",
       "  </thead>\n",
       "  <tbody>\n",
       "    <tr>\n",
       "      <th>count</th>\n",
       "      <td>275.00</td>\n",
       "      <td>275.00</td>\n",
       "      <td>275.00</td>\n",
       "      <td>275.00</td>\n",
       "      <td>275.00</td>\n",
       "      <td>275.00</td>\n",
       "      <td>275.00</td>\n",
       "      <td>275.00</td>\n",
       "      <td>275.00</td>\n",
       "      <td>275.00</td>\n",
       "      <td>275.00</td>\n",
       "      <td>275.00</td>\n",
       "      <td>275.00</td>\n",
       "      <td>275.00</td>\n",
       "    </tr>\n",
       "    <tr>\n",
       "      <th>mean</th>\n",
       "      <td>1039078.48</td>\n",
       "      <td>14.70</td>\n",
       "      <td>81984.35</td>\n",
       "      <td>73.54</td>\n",
       "      <td>97.84</td>\n",
       "      <td>1.81</td>\n",
       "      <td>9.39</td>\n",
       "      <td>0.03</td>\n",
       "      <td>87.24</td>\n",
       "      <td>91.12</td>\n",
       "      <td>89.25</td>\n",
       "      <td>85.10</td>\n",
       "      <td>0.07</td>\n",
       "      <td>3.00</td>\n",
       "    </tr>\n",
       "    <tr>\n",
       "      <th>std</th>\n",
       "      <td>428414.59</td>\n",
       "      <td>38.59</td>\n",
       "      <td>159343.40</td>\n",
       "      <td>8.12</td>\n",
       "      <td>6.06</td>\n",
       "      <td>0.42</td>\n",
       "      <td>16.64</td>\n",
       "      <td>0.04</td>\n",
       "      <td>7.59</td>\n",
       "      <td>5.71</td>\n",
       "      <td>6.21</td>\n",
       "      <td>6.83</td>\n",
       "      <td>0.00</td>\n",
       "      <td>0.00</td>\n",
       "    </tr>\n",
       "    <tr>\n",
       "      <th>min</th>\n",
       "      <td>129272.00</td>\n",
       "      <td>0.02</td>\n",
       "      <td>255.00</td>\n",
       "      <td>49.51</td>\n",
       "      <td>37.85</td>\n",
       "      <td>1.50</td>\n",
       "      <td>0.00</td>\n",
       "      <td>0.00</td>\n",
       "      <td>62.47</td>\n",
       "      <td>61.47</td>\n",
       "      <td>59.41</td>\n",
       "      <td>57.36</td>\n",
       "      <td>0.07</td>\n",
       "      <td>3.00</td>\n",
       "    </tr>\n",
       "    <tr>\n",
       "      <th>25%</th>\n",
       "      <td>797419.00</td>\n",
       "      <td>0.94</td>\n",
       "      <td>11037.50</td>\n",
       "      <td>68.36</td>\n",
       "      <td>98.93</td>\n",
       "      <td>1.59</td>\n",
       "      <td>1.00</td>\n",
       "      <td>0.00</td>\n",
       "      <td>81.94</td>\n",
       "      <td>90.43</td>\n",
       "      <td>87.74</td>\n",
       "      <td>82.80</td>\n",
       "      <td>0.07</td>\n",
       "      <td>3.00</td>\n",
       "    </tr>\n",
       "    <tr>\n",
       "      <th>50%</th>\n",
       "      <td>1006485.00</td>\n",
       "      <td>2.54</td>\n",
       "      <td>26991.00</td>\n",
       "      <td>73.00</td>\n",
       "      <td>99.72</td>\n",
       "      <td>1.64</td>\n",
       "      <td>4.00</td>\n",
       "      <td>0.01</td>\n",
       "      <td>89.97</td>\n",
       "      <td>92.39</td>\n",
       "      <td>90.33</td>\n",
       "      <td>86.40</td>\n",
       "      <td>0.07</td>\n",
       "      <td>3.00</td>\n",
       "    </tr>\n",
       "    <tr>\n",
       "      <th>75%</th>\n",
       "      <td>1302226.50</td>\n",
       "      <td>8.94</td>\n",
       "      <td>68202.50</td>\n",
       "      <td>78.88</td>\n",
       "      <td>99.91</td>\n",
       "      <td>1.85</td>\n",
       "      <td>10.00</td>\n",
       "      <td>0.03</td>\n",
       "      <td>93.53</td>\n",
       "      <td>93.89</td>\n",
       "      <td>92.78</td>\n",
       "      <td>89.30</td>\n",
       "      <td>0.07</td>\n",
       "      <td>3.00</td>\n",
       "    </tr>\n",
       "    <tr>\n",
       "      <th>max</th>\n",
       "      <td>1935633.00</td>\n",
       "      <td>294.20</td>\n",
       "      <td>1101867.00</td>\n",
       "      <td>90.53</td>\n",
       "      <td>100.00</td>\n",
       "      <td>4.98</td>\n",
       "      <td>139.00</td>\n",
       "      <td>0.26</td>\n",
       "      <td>98.03</td>\n",
       "      <td>97.58</td>\n",
       "      <td>97.45</td>\n",
       "      <td>96.45</td>\n",
       "      <td>0.07</td>\n",
       "      <td>3.00</td>\n",
       "    </tr>\n",
       "  </tbody>\n",
       "</table>\n",
       "</div>"
      ],
      "text/plain": [
       "       Format Loads  Format Fill Rate  Impressions  Viewability Rate  \\\n",
       "count        275.00            275.00       275.00            275.00   \n",
       "mean     1039078.48             14.70     81984.35             73.54   \n",
       "std       428414.59             38.59    159343.40              8.12   \n",
       "min       129272.00              0.02       255.00             49.51   \n",
       "25%       797419.00              0.94     11037.50             68.36   \n",
       "50%      1006485.00              2.54     26991.00             73.00   \n",
       "75%      1302226.50              8.94     68202.50             78.88   \n",
       "max      1935633.00            294.20   1101867.00             90.53   \n",
       "\n",
       "       Efficiency Rate    CPM  Clicks    CTR  25% View Rate  50% View Rate  \\\n",
       "count           275.00 275.00  275.00 275.00         275.00         275.00   \n",
       "mean             97.84   1.81    9.39   0.03          87.24          91.12   \n",
       "std               6.06   0.42   16.64   0.04           7.59           5.71   \n",
       "min              37.85   1.50    0.00   0.00          62.47          61.47   \n",
       "25%              98.93   1.59    1.00   0.00          81.94          90.43   \n",
       "50%              99.72   1.64    4.00   0.01          89.97          92.39   \n",
       "75%              99.91   1.85   10.00   0.03          93.53          93.89   \n",
       "max             100.00   4.98  139.00   0.26          98.03          97.58   \n",
       "\n",
       "       75% View Rate  100% View Rate  Category importance  Domain Recurrence  \n",
       "count         275.00          275.00               275.00             275.00  \n",
       "mean           89.25           85.10                 0.07               3.00  \n",
       "std             6.21            6.83                 0.00               0.00  \n",
       "min            59.41           57.36                 0.07               3.00  \n",
       "25%            87.74           82.80                 0.07               3.00  \n",
       "50%            90.33           86.40                 0.07               3.00  \n",
       "75%            92.78           89.30                 0.07               3.00  \n",
       "max            97.45           96.45                 0.07               3.00  "
      ]
     },
     "execution_count": 36,
     "metadata": {},
     "output_type": "execute_result"
    }
   ],
   "source": [
    "report[report['Domain']=='mundopositivo.com.br'].describe()"
   ]
  },
  {
   "cell_type": "markdown",
   "metadata": {},
   "source": [
    "### Impressions: times that the add had appeared to any user in each domain"
   ]
  },
  {
   "cell_type": "code",
   "execution_count": 37,
   "metadata": {},
   "outputs": [
    {
     "data": {
      "text/plain": [
       "<matplotlib.axes._subplots.AxesSubplot at 0x1c9207e4c48>"
      ]
     },
     "execution_count": 37,
     "metadata": {},
     "output_type": "execute_result"
    },
    {
     "data": {
      "image/png": "[encoded data removed]",
      "text/plain": [
       "<Figure size 432x288 with 1 Axes>"
      ]
     },
     "metadata": {
      "needs_background": "light"
     },
     "output_type": "display_data"
    }
   ],
   "source": [
    "sns.boxplot(groupby_domains['Impressions'])"
   ]
  },
  {
   "cell_type": "code",
   "execution_count": 38,
   "metadata": {},
   "outputs": [
    {
     "data": {
      "text/plain": [
       "count      825.00\n",
       "mean     15396.50\n",
       "std      26181.17\n",
       "min          0.00\n",
       "25%       2519.07\n",
       "50%       7761.33\n",
       "75%      17929.50\n",
       "max     301154.43\n",
       "Name: Impressions, dtype: float64"
      ]
     },
     "execution_count": 38,
     "metadata": {},
     "output_type": "execute_result"
    }
   ],
   "source": [
    "groupby_domains['Impressions'].describe()"
   ]
  },
  {
   "cell_type": "code",
   "execution_count": 39,
   "metadata": {},
   "outputs": [
    {
     "data": {
      "text/html": [
       "<div>\n",
       "<style scoped>\n",
       "    .dataframe tbody tr th:only-of-type {\n",
       "        vertical-align: middle;\n",
       "    }\n",
       "\n",
       "    .dataframe tbody tr th {\n",
       "        vertical-align: top;\n",
       "    }\n",
       "\n",
       "    .dataframe thead th {\n",
       "        text-align: right;\n",
       "    }\n",
       "</style>\n",
       "<table border=\"1\" class=\"dataframe\">\n",
       "  <thead>\n",
       "    <tr style=\"text-align: right;\">\n",
       "      <th></th>\n",
       "      <th>Domain</th>\n",
       "      <th>Format Loads</th>\n",
       "      <th>Impressions</th>\n",
       "      <th>Format Fill Rate</th>\n",
       "      <th>Viewability Rate</th>\n",
       "      <th>Efficiency Rate</th>\n",
       "      <th>CPM</th>\n",
       "      <th>Clicks</th>\n",
       "      <th>CTR</th>\n",
       "      <th>25% View Rate</th>\n",
       "      <th>50% View Rate</th>\n",
       "      <th>75% View Rate</th>\n",
       "      <th>100% View Rate</th>\n",
       "      <th>Category</th>\n",
       "      <th>Category importance</th>\n",
       "      <th>Domain Recurrence</th>\n",
       "    </tr>\n",
       "  </thead>\n",
       "  <tbody>\n",
       "    <tr>\n",
       "      <th>0</th>\n",
       "      <td>memurlar.net</td>\n",
       "      <td>2849893.77</td>\n",
       "      <td>9517.08</td>\n",
       "      <td>0.72</td>\n",
       "      <td>83.57</td>\n",
       "      <td>91.96</td>\n",
       "      <td>1.58</td>\n",
       "      <td>48.92</td>\n",
       "      <td>0.49</td>\n",
       "      <td>78.32</td>\n",
       "      <td>66.98</td>\n",
       "      <td>59.03</td>\n",
       "      <td>52.54</td>\n",
       "      <td>Health &amp; Wellness</td>\n",
       "      <td>0.02</td>\n",
       "      <td>1</td>\n",
       "    </tr>\n",
       "    <tr>\n",
       "      <th>16</th>\n",
       "      <td>bgr.in</td>\n",
       "      <td>825563.60</td>\n",
       "      <td>6948.47</td>\n",
       "      <td>1.15</td>\n",
       "      <td>81.77</td>\n",
       "      <td>87.05</td>\n",
       "      <td>1.63</td>\n",
       "      <td>5.43</td>\n",
       "      <td>0.28</td>\n",
       "      <td>81.49</td>\n",
       "      <td>73.03</td>\n",
       "      <td>65.91</td>\n",
       "      <td>57.05</td>\n",
       "      <td>Tech &amp; Gaming</td>\n",
       "      <td>0.02</td>\n",
       "      <td>0</td>\n",
       "    </tr>\n",
       "    <tr>\n",
       "      <th>26</th>\n",
       "      <td>ask.fm</td>\n",
       "      <td>648093.09</td>\n",
       "      <td>6729.94</td>\n",
       "      <td>1.03</td>\n",
       "      <td>64.47</td>\n",
       "      <td>93.11</td>\n",
       "      <td>1.83</td>\n",
       "      <td>4.01</td>\n",
       "      <td>0.07</td>\n",
       "      <td>78.42</td>\n",
       "      <td>70.36</td>\n",
       "      <td>64.77</td>\n",
       "      <td>60.23</td>\n",
       "      <td>News &amp; Portals</td>\n",
       "      <td>0.59</td>\n",
       "      <td>3</td>\n",
       "    </tr>\n",
       "    <tr>\n",
       "      <th>27</th>\n",
       "      <td>botasot.info</td>\n",
       "      <td>644915.34</td>\n",
       "      <td>4711.15</td>\n",
       "      <td>0.72</td>\n",
       "      <td>91.55</td>\n",
       "      <td>95.50</td>\n",
       "      <td>1.67</td>\n",
       "      <td>49.30</td>\n",
       "      <td>1.05</td>\n",
       "      <td>87.14</td>\n",
       "      <td>78.95</td>\n",
       "      <td>72.77</td>\n",
       "      <td>63.73</td>\n",
       "      <td>News &amp; Portals</td>\n",
       "      <td>0.59</td>\n",
       "      <td>1</td>\n",
       "    </tr>\n",
       "    <tr>\n",
       "      <th>30</th>\n",
       "      <td>lebanonfiles.com</td>\n",
       "      <td>596280.31</td>\n",
       "      <td>3038.63</td>\n",
       "      <td>0.49</td>\n",
       "      <td>73.14</td>\n",
       "      <td>90.43</td>\n",
       "      <td>1.78</td>\n",
       "      <td>17.62</td>\n",
       "      <td>0.52</td>\n",
       "      <td>79.92</td>\n",
       "      <td>70.98</td>\n",
       "      <td>65.24</td>\n",
       "      <td>60.55</td>\n",
       "      <td>News &amp; Portals</td>\n",
       "      <td>0.59</td>\n",
       "      <td>1</td>\n",
       "    </tr>\n",
       "    <tr>\n",
       "      <th>...</th>\n",
       "      <td>...</td>\n",
       "      <td>...</td>\n",
       "      <td>...</td>\n",
       "      <td>...</td>\n",
       "      <td>...</td>\n",
       "      <td>...</td>\n",
       "      <td>...</td>\n",
       "      <td>...</td>\n",
       "      <td>...</td>\n",
       "      <td>...</td>\n",
       "      <td>...</td>\n",
       "      <td>...</td>\n",
       "      <td>...</td>\n",
       "      <td>...</td>\n",
       "      <td>...</td>\n",
       "      <td>...</td>\n",
       "    </tr>\n",
       "    <tr>\n",
       "      <th>819</th>\n",
       "      <td>rawicz24.pl</td>\n",
       "      <td>71956.00</td>\n",
       "      <td>8.00</td>\n",
       "      <td>0.01</td>\n",
       "      <td>100.00</td>\n",
       "      <td>100.00</td>\n",
       "      <td>1.52</td>\n",
       "      <td>0.00</td>\n",
       "      <td>0.00</td>\n",
       "      <td>100.00</td>\n",
       "      <td>87.50</td>\n",
       "      <td>87.50</td>\n",
       "      <td>75.00</td>\n",
       "      <td>News &amp; Portals</td>\n",
       "      <td>0.59</td>\n",
       "      <td>0</td>\n",
       "    </tr>\n",
       "    <tr>\n",
       "      <th>820</th>\n",
       "      <td>dondeir.com</td>\n",
       "      <td>71861.00</td>\n",
       "      <td>3841.00</td>\n",
       "      <td>5.35</td>\n",
       "      <td>82.83</td>\n",
       "      <td>100.00</td>\n",
       "      <td>1.88</td>\n",
       "      <td>45.00</td>\n",
       "      <td>1.17</td>\n",
       "      <td>76.44</td>\n",
       "      <td>61.83</td>\n",
       "      <td>53.19</td>\n",
       "      <td>46.00</td>\n",
       "      <td>Travel</td>\n",
       "      <td>0.00</td>\n",
       "      <td>0</td>\n",
       "    </tr>\n",
       "    <tr>\n",
       "      <th>821</th>\n",
       "      <td>quinto-poder.mx</td>\n",
       "      <td>71386.00</td>\n",
       "      <td>224.00</td>\n",
       "      <td>0.31</td>\n",
       "      <td>88.29</td>\n",
       "      <td>94.12</td>\n",
       "      <td>2.24</td>\n",
       "      <td>1.00</td>\n",
       "      <td>0.45</td>\n",
       "      <td>81.25</td>\n",
       "      <td>74.55</td>\n",
       "      <td>67.41</td>\n",
       "      <td>62.95</td>\n",
       "      <td>News &amp; Portals</td>\n",
       "      <td>0.59</td>\n",
       "      <td>0</td>\n",
       "    </tr>\n",
       "    <tr>\n",
       "      <th>822</th>\n",
       "      <td>cn7.com.br</td>\n",
       "      <td>71366.00</td>\n",
       "      <td>6115.00</td>\n",
       "      <td>8.57</td>\n",
       "      <td>82.32</td>\n",
       "      <td>99.87</td>\n",
       "      <td>1.63</td>\n",
       "      <td>89.00</td>\n",
       "      <td>1.46</td>\n",
       "      <td>83.65</td>\n",
       "      <td>72.40</td>\n",
       "      <td>64.58</td>\n",
       "      <td>58.41</td>\n",
       "      <td>News &amp; Portals</td>\n",
       "      <td>0.59</td>\n",
       "      <td>0</td>\n",
       "    </tr>\n",
       "    <tr>\n",
       "      <th>823</th>\n",
       "      <td>everyeye.it</td>\n",
       "      <td>71282.00</td>\n",
       "      <td>6569.00</td>\n",
       "      <td>9.22</td>\n",
       "      <td>87.07</td>\n",
       "      <td>89.16</td>\n",
       "      <td>0.11</td>\n",
       "      <td>48.00</td>\n",
       "      <td>0.73</td>\n",
       "      <td>70.73</td>\n",
       "      <td>59.28</td>\n",
       "      <td>49.99</td>\n",
       "      <td>43.05</td>\n",
       "      <td>Tech &amp; Gaming</td>\n",
       "      <td>0.02</td>\n",
       "      <td>0</td>\n",
       "    </tr>\n",
       "  </tbody>\n",
       "</table>\n",
       "<p>479 rows × 16 columns</p>\n",
       "</div>"
      ],
      "text/plain": [
       "               Domain  Format Loads  Impressions  Format Fill Rate  \\\n",
       "0        memurlar.net    2849893.77      9517.08              0.72   \n",
       "16             bgr.in     825563.60      6948.47              1.15   \n",
       "26             ask.fm     648093.09      6729.94              1.03   \n",
       "27       botasot.info     644915.34      4711.15              0.72   \n",
       "30   lebanonfiles.com     596280.31      3038.63              0.49   \n",
       "..                ...           ...          ...               ...   \n",
       "819       rawicz24.pl      71956.00         8.00              0.01   \n",
       "820       dondeir.com      71861.00      3841.00              5.35   \n",
       "821   quinto-poder.mx      71386.00       224.00              0.31   \n",
       "822        cn7.com.br      71366.00      6115.00              8.57   \n",
       "823       everyeye.it      71282.00      6569.00              9.22   \n",
       "\n",
       "     Viewability Rate  Efficiency Rate  CPM  Clicks  CTR  25% View Rate  \\\n",
       "0               83.57            91.96 1.58   48.92 0.49          78.32   \n",
       "16              81.77            87.05 1.63    5.43 0.28          81.49   \n",
       "26              64.47            93.11 1.83    4.01 0.07          78.42   \n",
       "27              91.55            95.50 1.67   49.30 1.05          87.14   \n",
       "30              73.14            90.43 1.78   17.62 0.52          79.92   \n",
       "..                ...              ...  ...     ...  ...            ...   \n",
       "819            100.00           100.00 1.52    0.00 0.00         100.00   \n",
       "820             82.83           100.00 1.88   45.00 1.17          76.44   \n",
       "821             88.29            94.12 2.24    1.00 0.45          81.25   \n",
       "822             82.32            99.87 1.63   89.00 1.46          83.65   \n",
       "823             87.07            89.16 0.11   48.00 0.73          70.73   \n",
       "\n",
       "     50% View Rate  75% View Rate  100% View Rate           Category  \\\n",
       "0            66.98          59.03           52.54  Health & Wellness   \n",
       "16           73.03          65.91           57.05      Tech & Gaming   \n",
       "26           70.36          64.77           60.23     News & Portals   \n",
       "27           78.95          72.77           63.73     News & Portals   \n",
       "30           70.98          65.24           60.55     News & Portals   \n",
       "..             ...            ...             ...                ...   \n",
       "819          87.50          87.50           75.00     News & Portals   \n",
       "820          61.83          53.19           46.00             Travel   \n",
       "821          74.55          67.41           62.95     News & Portals   \n",
       "822          72.40          64.58           58.41     News & Portals   \n",
       "823          59.28          49.99           43.05      Tech & Gaming   \n",
       "\n",
       "     Category importance  Domain Recurrence  \n",
       "0                   0.02                  1  \n",
       "16                  0.02                  0  \n",
       "26                  0.59                  3  \n",
       "27                  0.59                  1  \n",
       "30                  0.59                  1  \n",
       "..                   ...                ...  \n",
       "819                 0.59                  0  \n",
       "820                 0.00                  0  \n",
       "821                 0.59                  0  \n",
       "822                 0.59                  0  \n",
       "823                 0.02                  0  \n",
       "\n",
       "[479 rows x 16 columns]"
      ]
     },
     "execution_count": 39,
     "metadata": {},
     "output_type": "execute_result"
    }
   ],
   "source": [
    "groupby_domains[groupby_domains['Impressions']<10000] "
   ]
  },
  {
   "cell_type": "markdown",
   "metadata": {},
   "source": [
    "### Format Fill Rate"
   ]
  },
  {
   "cell_type": "code",
   "execution_count": 40,
   "metadata": {},
   "outputs": [
    {
     "data": {
      "text/plain": [
       "<matplotlib.axes._subplots.AxesSubplot at 0x1c92139f888>"
      ]
     },
     "execution_count": 40,
     "metadata": {},
     "output_type": "execute_result"
    },
    {
     "data": {
      "image/png": "[encoded data removed]",
      "text/plain": [
       "<Figure size 432x288 with 1 Axes>"
      ]
     },
     "metadata": {
      "needs_background": "light"
     },
     "output_type": "display_data"
    }
   ],
   "source": [
    "sns.boxplot(groupby_domains['Format Fill Rate'])"
   ]
  },
  {
   "cell_type": "code",
   "execution_count": 41,
   "metadata": {},
   "outputs": [
    {
     "data": {
      "text/plain": [
       "count   825.00\n",
       "mean      9.04\n",
       "std      10.78\n",
       "min       0.00\n",
       "25%       1.95\n",
       "50%       5.78\n",
       "75%      11.94\n",
       "max      88.77\n",
       "Name: Format Fill Rate, dtype: float64"
      ]
     },
     "execution_count": 41,
     "metadata": {},
     "output_type": "execute_result"
    }
   ],
   "source": [
    "groupby_domains['Format Fill Rate'].describe()"
   ]
  },
  {
   "cell_type": "code",
   "execution_count": 42,
   "metadata": {},
   "outputs": [
    {
     "data": {
      "text/html": [
       "<div>\n",
       "<style scoped>\n",
       "    .dataframe tbody tr th:only-of-type {\n",
       "        vertical-align: middle;\n",
       "    }\n",
       "\n",
       "    .dataframe tbody tr th {\n",
       "        vertical-align: top;\n",
       "    }\n",
       "\n",
       "    .dataframe thead th {\n",
       "        text-align: right;\n",
       "    }\n",
       "</style>\n",
       "<table border=\"1\" class=\"dataframe\">\n",
       "  <thead>\n",
       "    <tr style=\"text-align: right;\">\n",
       "      <th></th>\n",
       "      <th>Domain</th>\n",
       "      <th>Format Loads</th>\n",
       "      <th>Impressions</th>\n",
       "      <th>Format Fill Rate</th>\n",
       "      <th>Viewability Rate</th>\n",
       "      <th>Efficiency Rate</th>\n",
       "      <th>CPM</th>\n",
       "      <th>Clicks</th>\n",
       "      <th>CTR</th>\n",
       "      <th>25% View Rate</th>\n",
       "      <th>50% View Rate</th>\n",
       "      <th>75% View Rate</th>\n",
       "      <th>100% View Rate</th>\n",
       "      <th>Category</th>\n",
       "      <th>Category importance</th>\n",
       "      <th>Domain Recurrence</th>\n",
       "    </tr>\n",
       "  </thead>\n",
       "  <tbody>\n",
       "    <tr>\n",
       "      <th>81</th>\n",
       "      <td>mundohispanico.com</td>\n",
       "      <td>371914.32</td>\n",
       "      <td>219450.27</td>\n",
       "      <td>61.48</td>\n",
       "      <td>85.15</td>\n",
       "      <td>98.52</td>\n",
       "      <td>1.66</td>\n",
       "      <td>1638.63</td>\n",
       "      <td>0.79</td>\n",
       "      <td>87.18</td>\n",
       "      <td>80.58</td>\n",
       "      <td>75.04</td>\n",
       "      <td>69.99</td>\n",
       "      <td>News &amp; Portals</td>\n",
       "      <td>0.59</td>\n",
       "      <td>3</td>\n",
       "    </tr>\n",
       "    <tr>\n",
       "      <th>181</th>\n",
       "      <td>minhavida.com.br</td>\n",
       "      <td>221929.52</td>\n",
       "      <td>164143.81</td>\n",
       "      <td>73.85</td>\n",
       "      <td>87.40</td>\n",
       "      <td>99.91</td>\n",
       "      <td>1.75</td>\n",
       "      <td>897.36</td>\n",
       "      <td>0.56</td>\n",
       "      <td>88.29</td>\n",
       "      <td>82.77</td>\n",
       "      <td>78.33</td>\n",
       "      <td>73.10</td>\n",
       "      <td>Health &amp; Wellness</td>\n",
       "      <td>0.02</td>\n",
       "      <td>2</td>\n",
       "    </tr>\n",
       "    <tr>\n",
       "      <th>301</th>\n",
       "      <td>ibtimes.co.in</td>\n",
       "      <td>146522.00</td>\n",
       "      <td>114621.00</td>\n",
       "      <td>78.23</td>\n",
       "      <td>92.81</td>\n",
       "      <td>99.57</td>\n",
       "      <td>2.30</td>\n",
       "      <td>2.00</td>\n",
       "      <td>0.00</td>\n",
       "      <td>97.54</td>\n",
       "      <td>97.07</td>\n",
       "      <td>96.60</td>\n",
       "      <td>96.19</td>\n",
       "      <td>News &amp; Portals</td>\n",
       "      <td>0.59</td>\n",
       "      <td>0</td>\n",
       "    </tr>\n",
       "    <tr>\n",
       "      <th>429</th>\n",
       "      <td>viomundo.com.br</td>\n",
       "      <td>116427.19</td>\n",
       "      <td>78444.25</td>\n",
       "      <td>58.37</td>\n",
       "      <td>93.96</td>\n",
       "      <td>99.92</td>\n",
       "      <td>1.64</td>\n",
       "      <td>281.81</td>\n",
       "      <td>0.72</td>\n",
       "      <td>90.95</td>\n",
       "      <td>86.74</td>\n",
       "      <td>82.59</td>\n",
       "      <td>75.83</td>\n",
       "      <td>News &amp; Portals</td>\n",
       "      <td>0.59</td>\n",
       "      <td>0</td>\n",
       "    </tr>\n",
       "    <tr>\n",
       "      <th>464</th>\n",
       "      <td>guiadacozinha.com.br</td>\n",
       "      <td>111043.97</td>\n",
       "      <td>67352.38</td>\n",
       "      <td>60.41</td>\n",
       "      <td>82.45</td>\n",
       "      <td>99.07</td>\n",
       "      <td>1.62</td>\n",
       "      <td>426.85</td>\n",
       "      <td>0.74</td>\n",
       "      <td>84.11</td>\n",
       "      <td>76.36</td>\n",
       "      <td>70.65</td>\n",
       "      <td>65.46</td>\n",
       "      <td>Food</td>\n",
       "      <td>0.01</td>\n",
       "      <td>1</td>\n",
       "    </tr>\n",
       "    <tr>\n",
       "      <th>465</th>\n",
       "      <td>guiadacozinha.com.br</td>\n",
       "      <td>111043.97</td>\n",
       "      <td>67352.38</td>\n",
       "      <td>60.41</td>\n",
       "      <td>82.45</td>\n",
       "      <td>99.07</td>\n",
       "      <td>1.62</td>\n",
       "      <td>426.85</td>\n",
       "      <td>0.74</td>\n",
       "      <td>84.11</td>\n",
       "      <td>76.36</td>\n",
       "      <td>70.65</td>\n",
       "      <td>65.46</td>\n",
       "      <td>Food</td>\n",
       "      <td>0.01</td>\n",
       "      <td>1</td>\n",
       "    </tr>\n",
       "    <tr>\n",
       "      <th>540</th>\n",
       "      <td>designyoutrust.com</td>\n",
       "      <td>100762.20</td>\n",
       "      <td>67126.40</td>\n",
       "      <td>65.39</td>\n",
       "      <td>89.72</td>\n",
       "      <td>95.38</td>\n",
       "      <td>1.72</td>\n",
       "      <td>323.50</td>\n",
       "      <td>0.51</td>\n",
       "      <td>82.79</td>\n",
       "      <td>74.87</td>\n",
       "      <td>69.91</td>\n",
       "      <td>65.94</td>\n",
       "      <td>Community &amp; Culture</td>\n",
       "      <td>0.07</td>\n",
       "      <td>0</td>\n",
       "    </tr>\n",
       "    <tr>\n",
       "      <th>626</th>\n",
       "      <td>finanzmarktwelt.de</td>\n",
       "      <td>91277.28</td>\n",
       "      <td>53839.06</td>\n",
       "      <td>59.38</td>\n",
       "      <td>89.57</td>\n",
       "      <td>98.61</td>\n",
       "      <td>1.57</td>\n",
       "      <td>319.46</td>\n",
       "      <td>0.60</td>\n",
       "      <td>89.89</td>\n",
       "      <td>83.41</td>\n",
       "      <td>78.13</td>\n",
       "      <td>72.79</td>\n",
       "      <td>Money &amp; Investing</td>\n",
       "      <td>0.01</td>\n",
       "      <td>0</td>\n",
       "    </tr>\n",
       "    <tr>\n",
       "      <th>634</th>\n",
       "      <td>nsctotal.com.br</td>\n",
       "      <td>90639.00</td>\n",
       "      <td>80220.00</td>\n",
       "      <td>88.77</td>\n",
       "      <td>91.98</td>\n",
       "      <td>99.97</td>\n",
       "      <td>1.59</td>\n",
       "      <td>248.50</td>\n",
       "      <td>0.32</td>\n",
       "      <td>89.38</td>\n",
       "      <td>84.69</td>\n",
       "      <td>80.28</td>\n",
       "      <td>75.14</td>\n",
       "      <td>News &amp; Portals</td>\n",
       "      <td>0.59</td>\n",
       "      <td>0</td>\n",
       "    </tr>\n",
       "  </tbody>\n",
       "</table>\n",
       "</div>"
      ],
      "text/plain": [
       "                   Domain  Format Loads  Impressions  Format Fill Rate  \\\n",
       "81     mundohispanico.com     371914.32    219450.27             61.48   \n",
       "181      minhavida.com.br     221929.52    164143.81             73.85   \n",
       "301         ibtimes.co.in     146522.00    114621.00             78.23   \n",
       "429       viomundo.com.br     116427.19     78444.25             58.37   \n",
       "464  guiadacozinha.com.br     111043.97     67352.38             60.41   \n",
       "465  guiadacozinha.com.br     111043.97     67352.38             60.41   \n",
       "540    designyoutrust.com     100762.20     67126.40             65.39   \n",
       "626    finanzmarktwelt.de      91277.28     53839.06             59.38   \n",
       "634       nsctotal.com.br      90639.00     80220.00             88.77   \n",
       "\n",
       "     Viewability Rate  Efficiency Rate  CPM  Clicks  CTR  25% View Rate  \\\n",
       "81              85.15            98.52 1.66 1638.63 0.79          87.18   \n",
       "181             87.40            99.91 1.75  897.36 0.56          88.29   \n",
       "301             92.81            99.57 2.30    2.00 0.00          97.54   \n",
       "429             93.96            99.92 1.64  281.81 0.72          90.95   \n",
       "464             82.45            99.07 1.62  426.85 0.74          84.11   \n",
       "465             82.45            99.07 1.62  426.85 0.74          84.11   \n",
       "540             89.72            95.38 1.72  323.50 0.51          82.79   \n",
       "626             89.57            98.61 1.57  319.46 0.60          89.89   \n",
       "634             91.98            99.97 1.59  248.50 0.32          89.38   \n",
       "\n",
       "     50% View Rate  75% View Rate  100% View Rate             Category  \\\n",
       "81           80.58          75.04           69.99       News & Portals   \n",
       "181          82.77          78.33           73.10    Health & Wellness   \n",
       "301          97.07          96.60           96.19       News & Portals   \n",
       "429          86.74          82.59           75.83       News & Portals   \n",
       "464          76.36          70.65           65.46                 Food   \n",
       "465          76.36          70.65           65.46                 Food   \n",
       "540          74.87          69.91           65.94  Community & Culture   \n",
       "626          83.41          78.13           72.79    Money & Investing   \n",
       "634          84.69          80.28           75.14       News & Portals   \n",
       "\n",
       "     Category importance  Domain Recurrence  \n",
       "81                  0.59                  3  \n",
       "181                 0.02                  2  \n",
       "301                 0.59                  0  \n",
       "429                 0.59                  0  \n",
       "464                 0.01                  1  \n",
       "465                 0.01                  1  \n",
       "540                 0.07                  0  \n",
       "626                 0.01                  0  \n",
       "634                 0.59                  0  "
      ]
     },
     "execution_count": 42,
     "metadata": {},
     "output_type": "execute_result"
    }
   ],
   "source": [
    "groupby_domains[groupby_domains['Format Fill Rate']>50]"
   ]
  },
  {
   "cell_type": "code",
   "execution_count": 43,
   "metadata": {},
   "outputs": [
    {
     "data": {
      "text/plain": [
       "(266, 17)"
      ]
     },
     "execution_count": 43,
     "metadata": {},
     "output_type": "execute_result"
    }
   ],
   "source": [
    "report[report['Format Fill Rate']>100].shape"
   ]
  },
  {
   "cell_type": "markdown",
   "metadata": {},
   "source": [
    "There are some cases where the Format Fill Rate can be more than 100%, that means more Impressions than Format Loads. It´s not a mistake, it can happen for example with agressive campaigns"
   ]
  },
  {
   "cell_type": "code",
   "execution_count": 44,
   "metadata": {},
   "outputs": [
    {
     "data": {
      "image/png": "[encoded data removed]",
      "text/plain": [
       "<Figure size 432x288 with 1 Axes>"
      ]
     },
     "metadata": {
      "needs_background": "light"
     },
     "output_type": "display_data"
    }
   ],
   "source": [
    "plt.hist(groupby_domains['Format Fill Rate']);"
   ]
  },
  {
   "cell_type": "markdown",
   "metadata": {},
   "source": [
    "### UNDERSTANDING THE DATA WITH GRAPHS"
   ]
  },
  {
   "cell_type": "markdown",
   "metadata": {},
   "source": [
    "### General shape of the Format Loads and Impressions over the 3 months:"
   ]
  },
  {
   "cell_type": "code",
   "execution_count": 47,
   "metadata": {},
   "outputs": [
    {
     "data": {
      "image/png": "[encoded data removed]",
      "text/plain": [
       "<Figure size 720x720 with 2 Axes>"
      ]
     },
     "metadata": {
      "needs_background": "light"
     },
     "output_type": "display_data"
    }
   ],
   "source": [
    "col_graf = ['Impressions', 'Format Loads'] \n",
    "ejes = report[col_graf].plot(marker='.', linestyle='None',figsize=(10,10),subplots=True)\n",
    "for eje in ejes:\n",
    "  eje.set_ylabel('Number')"
   ]
  },
  {
   "cell_type": "markdown",
   "metadata": {},
   "source": [
    "### Distribution of the categories"
   ]
  },
  {
   "cell_type": "code",
   "execution_count": 48,
   "metadata": {},
   "outputs": [
    {
     "data": {
      "image/png": "[encoded data removed]",
      "text/plain": [
       "<Figure size 720x720 with 1 Axes>"
      ]
     },
     "metadata": {
      "needs_background": "light"
     },
     "output_type": "display_data"
    }
   ],
   "source": [
    "categories=groupby_domains['Category'].value_counts()\n",
    "categories.plot(kind='bar');"
   ]
  },
  {
   "cell_type": "markdown",
   "metadata": {},
   "source": [
    "### Impressions evolution through the three months"
   ]
  },
  {
   "cell_type": "code",
   "execution_count": 49,
   "metadata": {},
   "outputs": [
    {
     "data": {
      "text/plain": [
       "<matplotlib.axes._subplots.AxesSubplot at 0x1c920e0b808>"
      ]
     },
     "execution_count": 49,
     "metadata": {},
     "output_type": "execute_result"
    },
    {
     "data": {
      "image/png": "[encoded data removed]",
      "text/plain": [
       "<Figure size 720x720 with 1 Axes>"
      ]
     },
     "metadata": {
      "needs_background": "light"
     },
     "output_type": "display_data"
    }
   ],
   "source": [
    "report.groupby(report.index)['Impressions'].sum().plot(kind='line', rot = 0)"
   ]
  },
  {
   "cell_type": "markdown",
   "metadata": {},
   "source": [
    "### Number of recurrent Domains"
   ]
  },
  {
   "cell_type": "code",
   "execution_count": 73,
   "metadata": {},
   "outputs": [
    {
     "data": {
      "image/png": "[encoded data removed]",
      "text/plain": [
       "<Figure size 720x720 with 1 Axes>"
      ]
     },
     "metadata": {
      "needs_background": "light"
     },
     "output_type": "display_data"
    }
   ],
   "source": [
    "sns.distplot(groupby_domains['Domain Recurrence'], kde = False);"
   ]
  },
  {
   "cell_type": "code",
   "execution_count": 51,
   "metadata": {},
   "outputs": [
    {
     "data": {
      "text/plain": [
       "<matplotlib.axes._subplots.AxesSubplot at 0x1c9253c0888>"
      ]
     },
     "execution_count": 51,
     "metadata": {},
     "output_type": "execute_result"
    },
    {
     "data": {
      "image/png": "[encoded data removed]",
      "text/plain": [
       "<Figure size 720x720 with 1 Axes>"
      ]
     },
     "metadata": {
      "needs_background": "light"
     },
     "output_type": "display_data"
    }
   ],
   "source": [
    "plt.rcParams['figure.figsize']=(10,10)\n",
    "report.Clicks.plot(kind= 'line')"
   ]
  },
  {
   "cell_type": "code",
   "execution_count": 52,
   "metadata": {},
   "outputs": [],
   "source": [
    "ffr_bycategories = pd.DataFrame(report.groupby(['Time', 'Category'])['Format Fill Rate'].mean()).reset_index()"
   ]
  },
  {
   "cell_type": "code",
   "execution_count": 53,
   "metadata": {},
   "outputs": [
    {
     "data": {
      "text/plain": [
       "<seaborn.axisgrid.FacetGrid at 0x1c92547bf48>"
      ]
     },
     "execution_count": 53,
     "metadata": {},
     "output_type": "execute_result"
    },
    {
     "data": {
      "image/png": "[encoded data removed]",
      "text/plain": [
       "<Figure size 360x360 with 1 Axes>"
      ]
     },
     "metadata": {
      "needs_background": "light"
     },
     "output_type": "display_data"
    }
   ],
   "source": [
    "sns.relplot(x=\"Time\", y='Format Fill Rate', kind=\"line\", data=ffr_bycategories)"
   ]
  }
 ],
 "metadata": {
  "kernelspec": {
   "display_name": "Python 3",
   "language": "python",
   "name": "python3"
  },
  "language_info": {
   "codemirror_mode": {
    "name": "ipython",
    "version": 3
   },
   "file_extension": ".py",
   "mimetype": "text/x-python",
   "name": "python",
   "nbconvert_exporter": "python",
   "pygments_lexer": "ipython3",
   "version": "3.7.6"
  }
 },
 "nbformat": 4,
 "nbformat_minor": 4
}
